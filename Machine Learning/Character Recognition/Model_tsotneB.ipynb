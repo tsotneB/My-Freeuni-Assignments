{
 "cells": [
  {
   "cell_type": "code",
   "execution_count": 1,
   "id": "005211b8",
   "metadata": {},
   "outputs": [],
   "source": [
    "import tensorflow as tf\n",
    "import numpy as np\n",
    "import pandas as pd\n",
    "import os\n",
    "import glob\n",
    "from skimage import io\n",
    "import cv2\n",
    "import math\n",
    "from sklearn.decomposition import PCA"
   ]
  },
  {
   "cell_type": "markdown",
   "id": "f0707a75",
   "metadata": {},
   "source": [
    "# First of all, we need to read images in order to train our model on this data"
   ]
  },
  {
   "cell_type": "code",
   "execution_count": 2,
   "id": "d1fdf0ad",
   "metadata": {},
   "outputs": [],
   "source": [
    "dataRoot = \"DATA\\\\\"\n",
    "letters = ['ა', 'ბ', 'გ', 'დ', 'ე', 'ვ', 'ზ', 'თ', 'ი', 'კ',\n",
    "                   'ლ', 'მ', 'ნ', 'ო', 'პ', 'ჟ', 'რ', 'ს', 'ტ', 'უ', 'ფ', 'ქ', 'ღ',\n",
    "                   'ყ', 'შ', 'ჩ', 'ც', 'ძ', 'წ', 'ჭ', 'ხ', 'ჯ', 'ჰ']\n",
    "\n",
    "images = []\n",
    "answers = []\n",
    "for i in range(33):\n",
    "    img = os.path.join(dataRoot, str(i), '*')\n",
    "    img_path = glob.glob(img)\n",
    "    for path in img_path:\n",
    "        images.append(path)\n",
    "        answers.append(i)"
   ]
  },
  {
   "cell_type": "code",
   "execution_count": 3,
   "id": "4e714cd8",
   "metadata": {},
   "outputs": [
    {
     "data": {
      "text/html": [
       "<div>\n",
       "<style scoped>\n",
       "    .dataframe tbody tr th:only-of-type {\n",
       "        vertical-align: middle;\n",
       "    }\n",
       "\n",
       "    .dataframe tbody tr th {\n",
       "        vertical-align: top;\n",
       "    }\n",
       "\n",
       "    .dataframe thead th {\n",
       "        text-align: right;\n",
       "    }\n",
       "</style>\n",
       "<table border=\"1\" class=\"dataframe\">\n",
       "  <thead>\n",
       "    <tr style=\"text-align: right;\">\n",
       "      <th></th>\n",
       "      <th>Image</th>\n",
       "      <th>Letter</th>\n",
       "    </tr>\n",
       "  </thead>\n",
       "  <tbody>\n",
       "    <tr>\n",
       "      <th>0</th>\n",
       "      <td>DATA\\0\\a_!kolxeti_96.png</td>\n",
       "      <td>0</td>\n",
       "    </tr>\n",
       "    <tr>\n",
       "      <th>1</th>\n",
       "      <td>DATA\\0\\a_!kolxeti_96_15.png</td>\n",
       "      <td>0</td>\n",
       "    </tr>\n",
       "    <tr>\n",
       "      <th>2</th>\n",
       "      <td>DATA\\0\\a_!kolxeti_96_30.png</td>\n",
       "      <td>0</td>\n",
       "    </tr>\n",
       "    <tr>\n",
       "      <th>3</th>\n",
       "      <td>DATA\\0\\a_!kolxeti_bjg_96.png</td>\n",
       "      <td>0</td>\n",
       "    </tr>\n",
       "    <tr>\n",
       "      <th>4</th>\n",
       "      <td>DATA\\0\\a_!kolxeti_bjg_96_15.png</td>\n",
       "      <td>0</td>\n",
       "    </tr>\n",
       "    <tr>\n",
       "      <th>...</th>\n",
       "      <td>...</td>\n",
       "      <td>...</td>\n",
       "    </tr>\n",
       "    <tr>\n",
       "      <th>40159</th>\n",
       "      <td>DATA\\32\\h__kolkhety_15.png</td>\n",
       "      <td>32</td>\n",
       "    </tr>\n",
       "    <tr>\n",
       "      <th>40160</th>\n",
       "      <td>DATA\\32\\h__kolkhety_30.png</td>\n",
       "      <td>32</td>\n",
       "    </tr>\n",
       "    <tr>\n",
       "      <th>40161</th>\n",
       "      <td>DATA\\32\\h_~kolkhety_teletype.png</td>\n",
       "      <td>32</td>\n",
       "    </tr>\n",
       "    <tr>\n",
       "      <th>40162</th>\n",
       "      <td>DATA\\32\\h_~kolkhety_teletype_15.png</td>\n",
       "      <td>32</td>\n",
       "    </tr>\n",
       "    <tr>\n",
       "      <th>40163</th>\n",
       "      <td>DATA\\32\\h_~kolkhety_teletype_30.png</td>\n",
       "      <td>32</td>\n",
       "    </tr>\n",
       "  </tbody>\n",
       "</table>\n",
       "<p>40164 rows × 2 columns</p>\n",
       "</div>"
      ],
      "text/plain": [
       "                                     Image  Letter\n",
       "0                 DATA\\0\\a_!kolxeti_96.png       0\n",
       "1              DATA\\0\\a_!kolxeti_96_15.png       0\n",
       "2              DATA\\0\\a_!kolxeti_96_30.png       0\n",
       "3             DATA\\0\\a_!kolxeti_bjg_96.png       0\n",
       "4          DATA\\0\\a_!kolxeti_bjg_96_15.png       0\n",
       "...                                    ...     ...\n",
       "40159           DATA\\32\\h__kolkhety_15.png      32\n",
       "40160           DATA\\32\\h__kolkhety_30.png      32\n",
       "40161     DATA\\32\\h_~kolkhety_teletype.png      32\n",
       "40162  DATA\\32\\h_~kolkhety_teletype_15.png      32\n",
       "40163  DATA\\32\\h_~kolkhety_teletype_30.png      32\n",
       "\n",
       "[40164 rows x 2 columns]"
      ]
     },
     "execution_count": 3,
     "metadata": {},
     "output_type": "execute_result"
    }
   ],
   "source": [
    "trainingData = {\"Image\":images,\"Letter\": answers}\n",
    "trainingData = pd.DataFrame(trainingData)\n",
    "trainingData"
   ]
  },
  {
   "cell_type": "markdown",
   "id": "d6d2a583",
   "metadata": {},
   "source": [
    "# Dataframe above contains image path in the column 'Image' and the number of letter it corresponds to in Georgian alphabet"
   ]
  },
  {
   "cell_type": "markdown",
   "id": "80e7aba2",
   "metadata": {},
   "source": [
    "# For example, first one is photo of Georgian 'ა', so the value of this row in column 'Letter' is 0, as 'ა' is 0-th (actually 1-st, but I've enumerated from 0) letter in Georgian alphabet"
   ]
  },
  {
   "cell_type": "code",
   "execution_count": 4,
   "id": "9239a7f3",
   "metadata": {},
   "outputs": [],
   "source": [
    "# This method just creates the representation array of the image where the letter is exactly in the center\n",
    "def center(img):\n",
    "    new_img = np.full((100, 100), 255)\n",
    "    maxX = -1\n",
    "    maxY = -1\n",
    "    minX = 101\n",
    "    minY = 101\n",
    "    for i in range(img.shape[0]):\n",
    "        for j in range(img.shape[1]):\n",
    "            if img[i][j] < 255:\n",
    "                maxX = max(maxX, i)\n",
    "                maxY = max(maxY, j)\n",
    "                minX = min(minX, i)\n",
    "                minY = min(minY, j)\n",
    "    letter = pd.DataFrame(img).iloc[minX:maxX+1,minY:maxY+1].to_numpy()\n",
    "    width = maxX-minX+1\n",
    "    height = maxY-minY+1\n",
    "    moveOnX = width//2\n",
    "    moveOnY = height//2\n",
    "    for i in range(width):\n",
    "        for j in range(height):\n",
    "            new_img[50-moveOnX+i][50-moveOnY+j] = letter[i][j]\n",
    "    return new_img"
   ]
  },
  {
   "cell_type": "code",
   "execution_count": 5,
   "id": "ee21297b",
   "metadata": {},
   "outputs": [],
   "source": [
    "# this method gets image path as parameter, resizes the picture so that all of them has same 100x100 dimensions and \n",
    "# returns it written as np.array of pixels\n",
    "def processImage(path):\n",
    "    image = cv2.imread(path,0)\n",
    "    image= cv2.resize(image, (100,100))\n",
    "    return center(np.array(image))"
   ]
  },
  {
   "cell_type": "code",
   "execution_count": 6,
   "id": "2d54cf29",
   "metadata": {},
   "outputs": [],
   "source": [
    "trainingData['Pixels'] = trainingData['Image'].map(processImage)"
   ]
  },
  {
   "cell_type": "code",
   "execution_count": 7,
   "id": "4184e0c0",
   "metadata": {},
   "outputs": [],
   "source": [
    "# I'm going to shuffle the data randomly, in order to split them into training and test set\n",
    "trainingData = trainingData.sample(frac=1).reset_index(drop=True)"
   ]
  },
  {
   "cell_type": "code",
   "execution_count": 8,
   "id": "10aa65e2",
   "metadata": {},
   "outputs": [
    {
     "data": {
      "text/html": [
       "<div>\n",
       "<style scoped>\n",
       "    .dataframe tbody tr th:only-of-type {\n",
       "        vertical-align: middle;\n",
       "    }\n",
       "\n",
       "    .dataframe tbody tr th {\n",
       "        vertical-align: top;\n",
       "    }\n",
       "\n",
       "    .dataframe thead th {\n",
       "        text-align: right;\n",
       "    }\n",
       "</style>\n",
       "<table border=\"1\" class=\"dataframe\">\n",
       "  <thead>\n",
       "    <tr style=\"text-align: right;\">\n",
       "      <th></th>\n",
       "      <th>Image</th>\n",
       "      <th>Letter</th>\n",
       "      <th>Pixels</th>\n",
       "    </tr>\n",
       "  </thead>\n",
       "  <tbody>\n",
       "    <tr>\n",
       "      <th>0</th>\n",
       "      <td>DATA\\10\\l_ge-gorda_-nusx_30.png</td>\n",
       "      <td>10</td>\n",
       "      <td>[[255, 255, 255, 255, 255, 255, 255, 255, 255,...</td>\n",
       "    </tr>\n",
       "    <tr>\n",
       "      <th>1</th>\n",
       "      <td>DATA\\15\\jj_geo_acadnusx_30.png</td>\n",
       "      <td>15</td>\n",
       "      <td>[[255, 255, 255, 255, 255, 255, 255, 255, 255,...</td>\n",
       "    </tr>\n",
       "    <tr>\n",
       "      <th>2</th>\n",
       "      <td>DATA\\18\\t_bpg_paata_caps.png</td>\n",
       "      <td>18</td>\n",
       "      <td>[[255, 255, 255, 255, 255, 255, 255, 255, 255,...</td>\n",
       "    </tr>\n",
       "    <tr>\n",
       "      <th>3</th>\n",
       "      <td>DATA\\20\\f_sggg1.png</td>\n",
       "      <td>20</td>\n",
       "      <td>[[255, 255, 255, 255, 255, 255, 255, 255, 255,...</td>\n",
       "    </tr>\n",
       "    <tr>\n",
       "      <th>4</th>\n",
       "      <td>DATA\\19\\u_sanet.png</td>\n",
       "      <td>19</td>\n",
       "      <td>[[255, 255, 255, 255, 255, 255, 255, 255, 255,...</td>\n",
       "    </tr>\n",
       "    <tr>\n",
       "      <th>...</th>\n",
       "      <td>...</td>\n",
       "      <td>...</td>\n",
       "      <td>...</td>\n",
       "    </tr>\n",
       "    <tr>\n",
       "      <th>40159</th>\n",
       "      <td>DATA\\0\\a_akademiuri_2.png</td>\n",
       "      <td>0</td>\n",
       "      <td>[[255, 255, 255, 255, 255, 255, 255, 255, 255,...</td>\n",
       "    </tr>\n",
       "    <tr>\n",
       "      <th>40160</th>\n",
       "      <td>DATA\\14\\p_geodumba_bold.png</td>\n",
       "      <td>14</td>\n",
       "      <td>[[255, 255, 255, 255, 255, 255, 255, 255, 255,...</td>\n",
       "    </tr>\n",
       "    <tr>\n",
       "      <th>40161</th>\n",
       "      <td>DATA\\11\\m_geo_arial_bold_15.png</td>\n",
       "      <td>11</td>\n",
       "      <td>[[255, 255, 255, 255, 255, 255, 255, 255, 255,...</td>\n",
       "    </tr>\n",
       "    <tr>\n",
       "      <th>40162</th>\n",
       "      <td>DATA\\24\\ss_gf-alaverdi-mt-bold.png</td>\n",
       "      <td>24</td>\n",
       "      <td>[[255, 255, 255, 255, 255, 255, 255, 255, 255,...</td>\n",
       "    </tr>\n",
       "    <tr>\n",
       "      <th>40163</th>\n",
       "      <td>DATA\\19\\u_#_grigolia_mta.png</td>\n",
       "      <td>19</td>\n",
       "      <td>[[255, 255, 255, 255, 255, 255, 255, 255, 255,...</td>\n",
       "    </tr>\n",
       "  </tbody>\n",
       "</table>\n",
       "<p>40164 rows × 3 columns</p>\n",
       "</div>"
      ],
      "text/plain": [
       "                                    Image  Letter  \\\n",
       "0         DATA\\10\\l_ge-gorda_-nusx_30.png      10   \n",
       "1          DATA\\15\\jj_geo_acadnusx_30.png      15   \n",
       "2            DATA\\18\\t_bpg_paata_caps.png      18   \n",
       "3                     DATA\\20\\f_sggg1.png      20   \n",
       "4                     DATA\\19\\u_sanet.png      19   \n",
       "...                                   ...     ...   \n",
       "40159           DATA\\0\\a_akademiuri_2.png       0   \n",
       "40160         DATA\\14\\p_geodumba_bold.png      14   \n",
       "40161     DATA\\11\\m_geo_arial_bold_15.png      11   \n",
       "40162  DATA\\24\\ss_gf-alaverdi-mt-bold.png      24   \n",
       "40163        DATA\\19\\u_#_grigolia_mta.png      19   \n",
       "\n",
       "                                                  Pixels  \n",
       "0      [[255, 255, 255, 255, 255, 255, 255, 255, 255,...  \n",
       "1      [[255, 255, 255, 255, 255, 255, 255, 255, 255,...  \n",
       "2      [[255, 255, 255, 255, 255, 255, 255, 255, 255,...  \n",
       "3      [[255, 255, 255, 255, 255, 255, 255, 255, 255,...  \n",
       "4      [[255, 255, 255, 255, 255, 255, 255, 255, 255,...  \n",
       "...                                                  ...  \n",
       "40159  [[255, 255, 255, 255, 255, 255, 255, 255, 255,...  \n",
       "40160  [[255, 255, 255, 255, 255, 255, 255, 255, 255,...  \n",
       "40161  [[255, 255, 255, 255, 255, 255, 255, 255, 255,...  \n",
       "40162  [[255, 255, 255, 255, 255, 255, 255, 255, 255,...  \n",
       "40163  [[255, 255, 255, 255, 255, 255, 255, 255, 255,...  \n",
       "\n",
       "[40164 rows x 3 columns]"
      ]
     },
     "execution_count": 8,
     "metadata": {},
     "output_type": "execute_result"
    }
   ],
   "source": [
    "trainingData"
   ]
  },
  {
   "cell_type": "code",
   "execution_count": 9,
   "id": "b31ef97c",
   "metadata": {},
   "outputs": [],
   "source": [
    "trainingSet = trainingData.iloc[0:math.trunc(trainingData.shape[0]*0.7), 0:trainingData.shape[1]]\n",
    "testSet = trainingData.iloc[math.trunc(trainingData.shape[0]*0.7):trainingData.shape[0], 0: trainingData.shape[1]]"
   ]
  },
  {
   "cell_type": "code",
   "execution_count": 10,
   "id": "fa9f0528",
   "metadata": {},
   "outputs": [
    {
     "data": {
      "text/html": [
       "<div>\n",
       "<style scoped>\n",
       "    .dataframe tbody tr th:only-of-type {\n",
       "        vertical-align: middle;\n",
       "    }\n",
       "\n",
       "    .dataframe tbody tr th {\n",
       "        vertical-align: top;\n",
       "    }\n",
       "\n",
       "    .dataframe thead th {\n",
       "        text-align: right;\n",
       "    }\n",
       "</style>\n",
       "<table border=\"1\" class=\"dataframe\">\n",
       "  <thead>\n",
       "    <tr style=\"text-align: right;\">\n",
       "      <th></th>\n",
       "      <th>Image</th>\n",
       "      <th>Letter</th>\n",
       "      <th>Pixels</th>\n",
       "    </tr>\n",
       "  </thead>\n",
       "  <tbody>\n",
       "    <tr>\n",
       "      <th>0</th>\n",
       "      <td>DATA\\10\\l_ge-gorda_-nusx_30.png</td>\n",
       "      <td>10</td>\n",
       "      <td>[[255, 255, 255, 255, 255, 255, 255, 255, 255,...</td>\n",
       "    </tr>\n",
       "    <tr>\n",
       "      <th>1</th>\n",
       "      <td>DATA\\15\\jj_geo_acadnusx_30.png</td>\n",
       "      <td>15</td>\n",
       "      <td>[[255, 255, 255, 255, 255, 255, 255, 255, 255,...</td>\n",
       "    </tr>\n",
       "    <tr>\n",
       "      <th>2</th>\n",
       "      <td>DATA\\18\\t_bpg_paata_caps.png</td>\n",
       "      <td>18</td>\n",
       "      <td>[[255, 255, 255, 255, 255, 255, 255, 255, 255,...</td>\n",
       "    </tr>\n",
       "    <tr>\n",
       "      <th>3</th>\n",
       "      <td>DATA\\20\\f_sggg1.png</td>\n",
       "      <td>20</td>\n",
       "      <td>[[255, 255, 255, 255, 255, 255, 255, 255, 255,...</td>\n",
       "    </tr>\n",
       "    <tr>\n",
       "      <th>4</th>\n",
       "      <td>DATA\\19\\u_sanet.png</td>\n",
       "      <td>19</td>\n",
       "      <td>[[255, 255, 255, 255, 255, 255, 255, 255, 255,...</td>\n",
       "    </tr>\n",
       "    <tr>\n",
       "      <th>...</th>\n",
       "      <td>...</td>\n",
       "      <td>...</td>\n",
       "      <td>...</td>\n",
       "    </tr>\n",
       "    <tr>\n",
       "      <th>28109</th>\n",
       "      <td>DATA\\2\\g_gugeshashvili_5_mthavruli.png</td>\n",
       "      <td>2</td>\n",
       "      <td>[[255, 255, 255, 255, 255, 255, 255, 255, 255,...</td>\n",
       "    </tr>\n",
       "    <tr>\n",
       "      <th>28110</th>\n",
       "      <td>DATA\\4\\e_gl-lortkipanidze-bold.png</td>\n",
       "      <td>4</td>\n",
       "      <td>[[255, 255, 255, 255, 255, 255, 255, 255, 255,...</td>\n",
       "    </tr>\n",
       "    <tr>\n",
       "      <th>28111</th>\n",
       "      <td>DATA\\4\\e_#dumbadze_15.png</td>\n",
       "      <td>4</td>\n",
       "      <td>[[255, 255, 255, 255, 255, 255, 255, 255, 255,...</td>\n",
       "    </tr>\n",
       "    <tr>\n",
       "      <th>28112</th>\n",
       "      <td>DATA\\10\\l_geo_balaveri_regular_30.png</td>\n",
       "      <td>10</td>\n",
       "      <td>[[255, 255, 255, 255, 255, 255, 255, 255, 255,...</td>\n",
       "    </tr>\n",
       "    <tr>\n",
       "      <th>28113</th>\n",
       "      <td>DATA\\6\\z_bpg_extrasquare_2009.png</td>\n",
       "      <td>6</td>\n",
       "      <td>[[255, 255, 255, 255, 255, 255, 255, 255, 255,...</td>\n",
       "    </tr>\n",
       "  </tbody>\n",
       "</table>\n",
       "<p>28114 rows × 3 columns</p>\n",
       "</div>"
      ],
      "text/plain": [
       "                                        Image  Letter  \\\n",
       "0             DATA\\10\\l_ge-gorda_-nusx_30.png      10   \n",
       "1              DATA\\15\\jj_geo_acadnusx_30.png      15   \n",
       "2                DATA\\18\\t_bpg_paata_caps.png      18   \n",
       "3                         DATA\\20\\f_sggg1.png      20   \n",
       "4                         DATA\\19\\u_sanet.png      19   \n",
       "...                                       ...     ...   \n",
       "28109  DATA\\2\\g_gugeshashvili_5_mthavruli.png       2   \n",
       "28110      DATA\\4\\e_gl-lortkipanidze-bold.png       4   \n",
       "28111               DATA\\4\\e_#dumbadze_15.png       4   \n",
       "28112   DATA\\10\\l_geo_balaveri_regular_30.png      10   \n",
       "28113       DATA\\6\\z_bpg_extrasquare_2009.png       6   \n",
       "\n",
       "                                                  Pixels  \n",
       "0      [[255, 255, 255, 255, 255, 255, 255, 255, 255,...  \n",
       "1      [[255, 255, 255, 255, 255, 255, 255, 255, 255,...  \n",
       "2      [[255, 255, 255, 255, 255, 255, 255, 255, 255,...  \n",
       "3      [[255, 255, 255, 255, 255, 255, 255, 255, 255,...  \n",
       "4      [[255, 255, 255, 255, 255, 255, 255, 255, 255,...  \n",
       "...                                                  ...  \n",
       "28109  [[255, 255, 255, 255, 255, 255, 255, 255, 255,...  \n",
       "28110  [[255, 255, 255, 255, 255, 255, 255, 255, 255,...  \n",
       "28111  [[255, 255, 255, 255, 255, 255, 255, 255, 255,...  \n",
       "28112  [[255, 255, 255, 255, 255, 255, 255, 255, 255,...  \n",
       "28113  [[255, 255, 255, 255, 255, 255, 255, 255, 255,...  \n",
       "\n",
       "[28114 rows x 3 columns]"
      ]
     },
     "execution_count": 10,
     "metadata": {},
     "output_type": "execute_result"
    }
   ],
   "source": [
    "trainingSet"
   ]
  },
  {
   "cell_type": "code",
   "execution_count": 11,
   "id": "cb3863d7",
   "metadata": {},
   "outputs": [],
   "source": [
    "# Here I just store the above mentioned arrays into the different type of array so that it will be compatible\n",
    "# for the model which we will use in later parts of the assignment will be compatible \n",
    "x_train = np.ones((trainingSet.shape[0],100,100),dtype=int)\n",
    "y_train = np.ones(trainingSet.shape[0],dtype=int)\n",
    "x_test = np.ones((testSet.shape[0],100,100),dtype=int) \n",
    "y_test = np.ones(testSet.shape[0],dtype=int)\n",
    "for i in range(trainingData.shape[0]):\n",
    "    if i<trainingSet.shape[0]:\n",
    "        x_train[i]=trainingData['Pixels'][i]\n",
    "        y_train[i]=trainingData['Letter'][i]\n",
    "    else:\n",
    "        x_test[i-trainingSet.shape[0]] = trainingData['Pixels'][i]\n",
    "        y_test[i-trainingSet.shape[0]] = trainingData['Letter'][i]"
   ]
  },
  {
   "cell_type": "code",
   "execution_count": 12,
   "id": "762702ec",
   "metadata": {},
   "outputs": [
    {
     "data": {
      "text/plain": [
       "array([[[255, 255, 255, ..., 255, 255, 255],\n",
       "        [255, 255, 255, ..., 255, 255, 255],\n",
       "        [255, 255, 255, ..., 255, 255, 255],\n",
       "        ...,\n",
       "        [255, 255, 255, ..., 255, 255, 255],\n",
       "        [255, 255, 255, ..., 255, 255, 255],\n",
       "        [255, 255, 255, ..., 255, 255, 255]],\n",
       "\n",
       "       [[255, 255, 255, ..., 255, 255, 255],\n",
       "        [255, 255, 255, ..., 255, 255, 255],\n",
       "        [255, 255, 255, ..., 255, 255, 255],\n",
       "        ...,\n",
       "        [255, 255, 255, ..., 255, 255, 255],\n",
       "        [255, 255, 255, ..., 255, 255, 255],\n",
       "        [255, 255, 255, ..., 255, 255, 255]],\n",
       "\n",
       "       [[255, 255, 255, ..., 255, 255, 255],\n",
       "        [255, 255, 255, ..., 255, 255, 255],\n",
       "        [255, 255, 255, ..., 255, 255, 255],\n",
       "        ...,\n",
       "        [255, 255, 255, ..., 255, 255, 255],\n",
       "        [255, 255, 255, ..., 255, 255, 255],\n",
       "        [255, 255, 255, ..., 255, 255, 255]],\n",
       "\n",
       "       ...,\n",
       "\n",
       "       [[255, 255, 255, ..., 255, 255, 255],\n",
       "        [255, 255, 255, ..., 255, 255, 255],\n",
       "        [255, 255, 255, ..., 255, 255, 255],\n",
       "        ...,\n",
       "        [255, 255, 255, ..., 255, 255, 255],\n",
       "        [255, 255, 255, ..., 255, 255, 255],\n",
       "        [255, 255, 255, ..., 255, 255, 255]],\n",
       "\n",
       "       [[255, 255, 255, ..., 255, 255, 255],\n",
       "        [255, 255, 255, ..., 255, 255, 255],\n",
       "        [255, 255, 255, ..., 255, 255, 255],\n",
       "        ...,\n",
       "        [255, 255, 255, ..., 255, 255, 255],\n",
       "        [255, 255, 255, ..., 255, 255, 255],\n",
       "        [255, 255, 255, ..., 255, 255, 255]],\n",
       "\n",
       "       [[255, 255, 255, ..., 255, 255, 255],\n",
       "        [255, 255, 255, ..., 255, 255, 255],\n",
       "        [255, 255, 255, ..., 255, 255, 255],\n",
       "        ...,\n",
       "        [255, 255, 255, ..., 255, 255, 255],\n",
       "        [255, 255, 255, ..., 255, 255, 255],\n",
       "        [255, 255, 255, ..., 255, 255, 255]]])"
      ]
     },
     "execution_count": 12,
     "metadata": {},
     "output_type": "execute_result"
    }
   ],
   "source": [
    "x_train"
   ]
  },
  {
   "cell_type": "code",
   "execution_count": 13,
   "id": "d860112e",
   "metadata": {},
   "outputs": [
    {
     "data": {
      "text/plain": [
       "(28114, 100, 100)"
      ]
     },
     "execution_count": 13,
     "metadata": {},
     "output_type": "execute_result"
    }
   ],
   "source": [
    "x_train.shape"
   ]
  },
  {
   "cell_type": "code",
   "execution_count": 14,
   "id": "b2135ce1",
   "metadata": {
    "scrolled": true
   },
   "outputs": [
    {
     "data": {
      "text/plain": [
       "(28114,)"
      ]
     },
     "execution_count": 14,
     "metadata": {},
     "output_type": "execute_result"
    }
   ],
   "source": [
    "y_train.shape"
   ]
  },
  {
   "cell_type": "markdown",
   "id": "3e0b538d",
   "metadata": {},
   "source": [
    "# In this project, I've used tenserflow.keras library for constructing neural network, but also here I use tf.keras.utils.normalize method to normalize the arrays of pixels"
   ]
  },
  {
   "cell_type": "code",
   "execution_count": 15,
   "id": "e8043ca0",
   "metadata": {},
   "outputs": [],
   "source": [
    "x_train = tf.keras.utils.normalize(x_train, axis = 1)\n",
    "x_test = tf.keras.utils.normalize(x_test,axis = 1)"
   ]
  },
  {
   "cell_type": "code",
   "execution_count": 16,
   "id": "1baaf4ef",
   "metadata": {},
   "outputs": [
    {
     "data": {
      "text/plain": [
       "array([[[0.1, 0.1, 0.1, ..., 0.1, 0.1, 0.1],\n",
       "        [0.1, 0.1, 0.1, ..., 0.1, 0.1, 0.1],\n",
       "        [0.1, 0.1, 0.1, ..., 0.1, 0.1, 0.1],\n",
       "        ...,\n",
       "        [0.1, 0.1, 0.1, ..., 0.1, 0.1, 0.1],\n",
       "        [0.1, 0.1, 0.1, ..., 0.1, 0.1, 0.1],\n",
       "        [0.1, 0.1, 0.1, ..., 0.1, 0.1, 0.1]],\n",
       "\n",
       "       [[0.1, 0.1, 0.1, ..., 0.1, 0.1, 0.1],\n",
       "        [0.1, 0.1, 0.1, ..., 0.1, 0.1, 0.1],\n",
       "        [0.1, 0.1, 0.1, ..., 0.1, 0.1, 0.1],\n",
       "        ...,\n",
       "        [0.1, 0.1, 0.1, ..., 0.1, 0.1, 0.1],\n",
       "        [0.1, 0.1, 0.1, ..., 0.1, 0.1, 0.1],\n",
       "        [0.1, 0.1, 0.1, ..., 0.1, 0.1, 0.1]],\n",
       "\n",
       "       [[0.1, 0.1, 0.1, ..., 0.1, 0.1, 0.1],\n",
       "        [0.1, 0.1, 0.1, ..., 0.1, 0.1, 0.1],\n",
       "        [0.1, 0.1, 0.1, ..., 0.1, 0.1, 0.1],\n",
       "        ...,\n",
       "        [0.1, 0.1, 0.1, ..., 0.1, 0.1, 0.1],\n",
       "        [0.1, 0.1, 0.1, ..., 0.1, 0.1, 0.1],\n",
       "        [0.1, 0.1, 0.1, ..., 0.1, 0.1, 0.1]],\n",
       "\n",
       "       ...,\n",
       "\n",
       "       [[0.1, 0.1, 0.1, ..., 0.1, 0.1, 0.1],\n",
       "        [0.1, 0.1, 0.1, ..., 0.1, 0.1, 0.1],\n",
       "        [0.1, 0.1, 0.1, ..., 0.1, 0.1, 0.1],\n",
       "        ...,\n",
       "        [0.1, 0.1, 0.1, ..., 0.1, 0.1, 0.1],\n",
       "        [0.1, 0.1, 0.1, ..., 0.1, 0.1, 0.1],\n",
       "        [0.1, 0.1, 0.1, ..., 0.1, 0.1, 0.1]],\n",
       "\n",
       "       [[0.1, 0.1, 0.1, ..., 0.1, 0.1, 0.1],\n",
       "        [0.1, 0.1, 0.1, ..., 0.1, 0.1, 0.1],\n",
       "        [0.1, 0.1, 0.1, ..., 0.1, 0.1, 0.1],\n",
       "        ...,\n",
       "        [0.1, 0.1, 0.1, ..., 0.1, 0.1, 0.1],\n",
       "        [0.1, 0.1, 0.1, ..., 0.1, 0.1, 0.1],\n",
       "        [0.1, 0.1, 0.1, ..., 0.1, 0.1, 0.1]],\n",
       "\n",
       "       [[0.1, 0.1, 0.1, ..., 0.1, 0.1, 0.1],\n",
       "        [0.1, 0.1, 0.1, ..., 0.1, 0.1, 0.1],\n",
       "        [0.1, 0.1, 0.1, ..., 0.1, 0.1, 0.1],\n",
       "        ...,\n",
       "        [0.1, 0.1, 0.1, ..., 0.1, 0.1, 0.1],\n",
       "        [0.1, 0.1, 0.1, ..., 0.1, 0.1, 0.1],\n",
       "        [0.1, 0.1, 0.1, ..., 0.1, 0.1, 0.1]]])"
      ]
     },
     "execution_count": 16,
     "metadata": {},
     "output_type": "execute_result"
    }
   ],
   "source": [
    "x_train"
   ]
  },
  {
   "cell_type": "code",
   "execution_count": 17,
   "id": "423e5f4b",
   "metadata": {},
   "outputs": [
    {
     "data": {
      "text/plain": [
       "array([[[0.1, 0.1, 0.1, ..., 0.1, 0.1, 0.1],\n",
       "        [0.1, 0.1, 0.1, ..., 0.1, 0.1, 0.1],\n",
       "        [0.1, 0.1, 0.1, ..., 0.1, 0.1, 0.1],\n",
       "        ...,\n",
       "        [0.1, 0.1, 0.1, ..., 0.1, 0.1, 0.1],\n",
       "        [0.1, 0.1, 0.1, ..., 0.1, 0.1, 0.1],\n",
       "        [0.1, 0.1, 0.1, ..., 0.1, 0.1, 0.1]],\n",
       "\n",
       "       [[0.1, 0.1, 0.1, ..., 0.1, 0.1, 0.1],\n",
       "        [0.1, 0.1, 0.1, ..., 0.1, 0.1, 0.1],\n",
       "        [0.1, 0.1, 0.1, ..., 0.1, 0.1, 0.1],\n",
       "        ...,\n",
       "        [0.1, 0.1, 0.1, ..., 0.1, 0.1, 0.1],\n",
       "        [0.1, 0.1, 0.1, ..., 0.1, 0.1, 0.1],\n",
       "        [0.1, 0.1, 0.1, ..., 0.1, 0.1, 0.1]],\n",
       "\n",
       "       [[0.1, 0.1, 0.1, ..., 0.1, 0.1, 0.1],\n",
       "        [0.1, 0.1, 0.1, ..., 0.1, 0.1, 0.1],\n",
       "        [0.1, 0.1, 0.1, ..., 0.1, 0.1, 0.1],\n",
       "        ...,\n",
       "        [0.1, 0.1, 0.1, ..., 0.1, 0.1, 0.1],\n",
       "        [0.1, 0.1, 0.1, ..., 0.1, 0.1, 0.1],\n",
       "        [0.1, 0.1, 0.1, ..., 0.1, 0.1, 0.1]],\n",
       "\n",
       "       ...,\n",
       "\n",
       "       [[0.1, 0.1, 0.1, ..., 0.1, 0.1, 0.1],\n",
       "        [0.1, 0.1, 0.1, ..., 0.1, 0.1, 0.1],\n",
       "        [0.1, 0.1, 0.1, ..., 0.1, 0.1, 0.1],\n",
       "        ...,\n",
       "        [0.1, 0.1, 0.1, ..., 0.1, 0.1, 0.1],\n",
       "        [0.1, 0.1, 0.1, ..., 0.1, 0.1, 0.1],\n",
       "        [0.1, 0.1, 0.1, ..., 0.1, 0.1, 0.1]],\n",
       "\n",
       "       [[0.1, 0.1, 0.1, ..., 0.1, 0.1, 0.1],\n",
       "        [0.1, 0.1, 0.1, ..., 0.1, 0.1, 0.1],\n",
       "        [0.1, 0.1, 0.1, ..., 0.1, 0.1, 0.1],\n",
       "        ...,\n",
       "        [0.1, 0.1, 0.1, ..., 0.1, 0.1, 0.1],\n",
       "        [0.1, 0.1, 0.1, ..., 0.1, 0.1, 0.1],\n",
       "        [0.1, 0.1, 0.1, ..., 0.1, 0.1, 0.1]],\n",
       "\n",
       "       [[0.1, 0.1, 0.1, ..., 0.1, 0.1, 0.1],\n",
       "        [0.1, 0.1, 0.1, ..., 0.1, 0.1, 0.1],\n",
       "        [0.1, 0.1, 0.1, ..., 0.1, 0.1, 0.1],\n",
       "        ...,\n",
       "        [0.1, 0.1, 0.1, ..., 0.1, 0.1, 0.1],\n",
       "        [0.1, 0.1, 0.1, ..., 0.1, 0.1, 0.1],\n",
       "        [0.1, 0.1, 0.1, ..., 0.1, 0.1, 0.1]]])"
      ]
     },
     "execution_count": 17,
     "metadata": {},
     "output_type": "execute_result"
    }
   ],
   "source": [
    "x_test"
   ]
  },
  {
   "cell_type": "markdown",
   "id": "cd6616b7",
   "metadata": {},
   "source": [
    "# So far, each of our picture is represented as an 100x100 array of pixels, but we need them to be one-dimensional  "
   ]
  },
  {
   "cell_type": "code",
   "execution_count": 18,
   "id": "9a3c0fcf",
   "metadata": {},
   "outputs": [],
   "source": [
    "# x_train_f will be the array of length 100000\n",
    "x_train_f = np.ones((trainingSet.shape[0],10000),dtype=float)\n",
    "for i in range(len(x_train)):\n",
    "    x_train_f[i] = x_train[i].flatten()"
   ]
  },
  {
   "cell_type": "code",
   "execution_count": 19,
   "id": "2b4369d0",
   "metadata": {},
   "outputs": [
    {
     "data": {
      "text/plain": [
       "array([[0.1, 0.1, 0.1, ..., 0.1, 0.1, 0.1],\n",
       "       [0.1, 0.1, 0.1, ..., 0.1, 0.1, 0.1],\n",
       "       [0.1, 0.1, 0.1, ..., 0.1, 0.1, 0.1],\n",
       "       ...,\n",
       "       [0.1, 0.1, 0.1, ..., 0.1, 0.1, 0.1],\n",
       "       [0.1, 0.1, 0.1, ..., 0.1, 0.1, 0.1],\n",
       "       [0.1, 0.1, 0.1, ..., 0.1, 0.1, 0.1]])"
      ]
     },
     "execution_count": 19,
     "metadata": {},
     "output_type": "execute_result"
    }
   ],
   "source": [
    "x_train_f"
   ]
  },
  {
   "cell_type": "code",
   "execution_count": 20,
   "id": "89aeaccd",
   "metadata": {},
   "outputs": [],
   "source": [
    "# Here I do the same for test set\n",
    "x_test_f = np.ones((testSet.shape[0],10000),dtype=float)\n",
    "for i in range(len(x_test)):\n",
    "    x_test_f[i] = x_test[i].flatten()"
   ]
  },
  {
   "cell_type": "code",
   "execution_count": 21,
   "id": "1d3a10f3",
   "metadata": {},
   "outputs": [
    {
     "data": {
      "text/plain": [
       "array([[0.1, 0.1, 0.1, ..., 0.1, 0.1, 0.1],\n",
       "       [0.1, 0.1, 0.1, ..., 0.1, 0.1, 0.1],\n",
       "       [0.1, 0.1, 0.1, ..., 0.1, 0.1, 0.1],\n",
       "       ...,\n",
       "       [0.1, 0.1, 0.1, ..., 0.1, 0.1, 0.1],\n",
       "       [0.1, 0.1, 0.1, ..., 0.1, 0.1, 0.1],\n",
       "       [0.1, 0.1, 0.1, ..., 0.1, 0.1, 0.1]])"
      ]
     },
     "execution_count": 21,
     "metadata": {},
     "output_type": "execute_result"
    }
   ],
   "source": [
    "x_test_f"
   ]
  },
  {
   "cell_type": "markdown",
   "id": "2c44828e",
   "metadata": {},
   "source": [
    "# Here we start working with neural networks. I've used tensorflow.keras implementations for them"
   ]
  },
  {
   "cell_type": "markdown",
   "id": "e1f3e769",
   "metadata": {},
   "source": [
    "# Firstly, just out of curiosity, I tried fitting data without using pca. I don't have high expectations, as I think 10000 features are too many for the model to learn effectively"
   ]
  },
  {
   "cell_type": "markdown",
   "id": "5f278870",
   "metadata": {},
   "source": [
    "# Also, I've tried using really simple network for starters. This is the model without any hidden layers"
   ]
  },
  {
   "cell_type": "code",
   "execution_count": 22,
   "id": "6580d64f",
   "metadata": {},
   "outputs": [],
   "source": [
    "NeuralNetwork = tf.keras.models.Sequential()\n",
    "NeuralNetwork.add(tf.keras.layers.Flatten())\n",
    "NeuralNetwork.add(tf.keras.layers.Dense(33, activation = tf.nn.softmax))\n",
    "NeuralNetwork.compile(optimizer='sgd',loss = 'sparse_categorical_crossentropy', metrics = ['accuracy'])"
   ]
  },
  {
   "cell_type": "code",
   "execution_count": 23,
   "id": "5f5f9406",
   "metadata": {},
   "outputs": [
    {
     "name": "stdout",
     "output_type": "stream",
     "text": [
      "Epoch 1/50\n",
      "563/563 [==============================] - 3s 3ms/step - loss: 3.3927 - accuracy: 0.1632\n",
      "Epoch 2/50\n",
      "563/563 [==============================] - 1s 3ms/step - loss: 3.1963 - accuracy: 0.3432\n",
      "Epoch 3/50\n",
      "563/563 [==============================] - 1s 3ms/step - loss: 3.0274 - accuracy: 0.4055\n",
      "Epoch 4/50\n",
      "563/563 [==============================] - 1s 3ms/step - loss: 2.8829 - accuracy: 0.4420\n",
      "Epoch 5/50\n",
      "563/563 [==============================] - 1s 3ms/step - loss: 2.7581 - accuracy: 0.4665\n",
      "Epoch 6/50\n",
      "563/563 [==============================] - 1s 3ms/step - loss: 2.6511 - accuracy: 0.4814\n",
      "Epoch 7/50\n",
      "563/563 [==============================] - 1s 3ms/step - loss: 2.5591 - accuracy: 0.4935\n",
      "Epoch 8/50\n",
      "563/563 [==============================] - 1s 3ms/step - loss: 2.4788 - accuracy: 0.5058\n",
      "Epoch 9/50\n",
      "563/563 [==============================] - 1s 2ms/step - loss: 2.4084 - accuracy: 0.5172\n",
      "Epoch 10/50\n",
      "563/563 [==============================] - 1s 3ms/step - loss: 2.3466 - accuracy: 0.5262\n",
      "Epoch 11/50\n",
      "563/563 [==============================] - 1s 2ms/step - loss: 2.2918 - accuracy: 0.5363\n",
      "Epoch 12/50\n",
      "563/563 [==============================] - 1s 2ms/step - loss: 2.2422 - accuracy: 0.5425\n",
      "Epoch 13/50\n",
      "563/563 [==============================] - 1s 2ms/step - loss: 2.1985 - accuracy: 0.5481\n",
      "Epoch 14/50\n",
      "563/563 [==============================] - 1s 2ms/step - loss: 2.1574 - accuracy: 0.5576\n",
      "Epoch 15/50\n",
      "563/563 [==============================] - 1s 2ms/step - loss: 2.1212 - accuracy: 0.5611\n",
      "Epoch 16/50\n",
      "563/563 [==============================] - 2s 3ms/step - loss: 2.0877 - accuracy: 0.5682\n",
      "Epoch 17/50\n",
      "563/563 [==============================] - 1s 3ms/step - loss: 2.0570 - accuracy: 0.5734\n",
      "Epoch 18/50\n",
      "563/563 [==============================] - 1s 2ms/step - loss: 2.0275 - accuracy: 0.5784\n",
      "Epoch 19/50\n",
      "563/563 [==============================] - 1s 2ms/step - loss: 2.0012 - accuracy: 0.5845\n",
      "Epoch 20/50\n",
      "563/563 [==============================] - 1s 2ms/step - loss: 1.9760 - accuracy: 0.5892\n",
      "Epoch 21/50\n",
      "563/563 [==============================] - 1s 2ms/step - loss: 1.9528 - accuracy: 0.5919\n",
      "Epoch 22/50\n",
      "563/563 [==============================] - 1s 2ms/step - loss: 1.9304 - accuracy: 0.5998\n",
      "Epoch 23/50\n",
      "563/563 [==============================] - 2s 3ms/step - loss: 1.9096 - accuracy: 0.6041\n",
      "Epoch 24/50\n",
      "563/563 [==============================] - 1s 2ms/step - loss: 1.8899 - accuracy: 0.6071\n",
      "Epoch 25/50\n",
      "563/563 [==============================] - 1s 2ms/step - loss: 1.8713 - accuracy: 0.6111\n",
      "Epoch 26/50\n",
      "563/563 [==============================] - 1s 2ms/step - loss: 1.8535 - accuracy: 0.6162\n",
      "Epoch 27/50\n",
      "563/563 [==============================] - 1s 3ms/step - loss: 1.8366 - accuracy: 0.6187\n",
      "Epoch 28/50\n",
      "563/563 [==============================] - 1s 2ms/step - loss: 1.8201 - accuracy: 0.6202\n",
      "Epoch 29/50\n",
      "563/563 [==============================] - 1s 3ms/step - loss: 1.8050 - accuracy: 0.6265\n",
      "Epoch 30/50\n",
      "563/563 [==============================] - 1s 3ms/step - loss: 1.7903 - accuracy: 0.6286\n",
      "Epoch 31/50\n",
      "563/563 [==============================] - 1s 3ms/step - loss: 1.7761 - accuracy: 0.6314\n",
      "Epoch 32/50\n",
      "563/563 [==============================] - 2s 3ms/step - loss: 1.7624 - accuracy: 0.6351\n",
      "Epoch 33/50\n",
      "563/563 [==============================] - 1s 3ms/step - loss: 1.7493 - accuracy: 0.6386\n",
      "Epoch 34/50\n",
      "563/563 [==============================] - 1s 3ms/step - loss: 1.7367 - accuracy: 0.6395\n",
      "Epoch 35/50\n",
      "563/563 [==============================] - 1s 3ms/step - loss: 1.7248 - accuracy: 0.6427\n",
      "Epoch 36/50\n",
      "563/563 [==============================] - 1s 3ms/step - loss: 1.7130 - accuracy: 0.6466\n",
      "Epoch 37/50\n",
      "563/563 [==============================] - 1s 3ms/step - loss: 1.7017 - accuracy: 0.6456\n",
      "Epoch 38/50\n",
      "563/563 [==============================] - 1s 3ms/step - loss: 1.6902 - accuracy: 0.6508\n",
      "Epoch 39/50\n",
      "563/563 [==============================] - 2s 3ms/step - loss: 1.6799 - accuracy: 0.6516\n",
      "Epoch 40/50\n",
      "563/563 [==============================] - 1s 3ms/step - loss: 1.6695 - accuracy: 0.6544\n",
      "Epoch 41/50\n",
      "563/563 [==============================] - 1s 3ms/step - loss: 1.6597 - accuracy: 0.6567\n",
      "Epoch 42/50\n",
      "563/563 [==============================] - 1s 3ms/step - loss: 1.6497 - accuracy: 0.6586\n",
      "Epoch 43/50\n",
      "563/563 [==============================] - 2s 3ms/step - loss: 1.6406 - accuracy: 0.6584\n",
      "Epoch 44/50\n",
      "563/563 [==============================] - 1s 3ms/step - loss: 1.6316 - accuracy: 0.6620\n",
      "Epoch 45/50\n",
      "563/563 [==============================] - 2s 3ms/step - loss: 1.6225 - accuracy: 0.6647\n",
      "Epoch 46/50\n",
      "563/563 [==============================] - 2s 3ms/step - loss: 1.6140 - accuracy: 0.6650\n",
      "Epoch 47/50\n",
      "563/563 [==============================] - 2s 3ms/step - loss: 1.6051 - accuracy: 0.6706\n",
      "Epoch 48/50\n",
      "563/563 [==============================] - 2s 3ms/step - loss: 1.5972 - accuracy: 0.6702\n",
      "Epoch 49/50\n",
      "563/563 [==============================] - 2s 3ms/step - loss: 1.5892 - accuracy: 0.6726\n",
      "Epoch 50/50\n",
      "563/563 [==============================] - 1s 3ms/step - loss: 1.5815 - accuracy: 0.6719\n"
     ]
    },
    {
     "data": {
      "text/plain": [
       "<keras.callbacks.History at 0x169acad3fd0>"
      ]
     },
     "execution_count": 23,
     "metadata": {},
     "output_type": "execute_result"
    }
   ],
   "source": [
    "NeuralNetwork.fit(x_train_f,y_train, batch_size = 50, epochs=50)"
   ]
  },
  {
   "cell_type": "code",
   "execution_count": 24,
   "id": "6441c06a",
   "metadata": {},
   "outputs": [
    {
     "name": "stdout",
     "output_type": "stream",
     "text": [
      "377/377 [==============================] - 1s 911us/step - loss: 1.6140 - accuracy: 0.6671\n",
      "1.6140141487121582 0.6671369075775146\n"
     ]
    }
   ],
   "source": [
    "(loss, acc) = NeuralNetwork.evaluate(x_test_f,y_test)\n",
    "print(loss,acc)"
   ]
  },
  {
   "cell_type": "markdown",
   "id": "bc1b5b7c",
   "metadata": {},
   "source": [
    "# Now I'm starting to use pca to reduce the dimensions for our data"
   ]
  },
  {
   "cell_type": "markdown",
   "id": "d3272db8",
   "metadata": {},
   "source": [
    "# I'm reducing data dimensions to 1000 features"
   ]
  },
  {
   "cell_type": "code",
   "execution_count": 25,
   "id": "57538601",
   "metadata": {},
   "outputs": [],
   "source": [
    "pca = PCA(n_components = 1000)\n",
    "pca.fit(x_train_f)\n",
    "x_train_f = pca.transform(x_train_f)"
   ]
  },
  {
   "cell_type": "code",
   "execution_count": 26,
   "id": "4920b504",
   "metadata": {},
   "outputs": [],
   "source": [
    "x_test_f = pca.transform(x_test_f)"
   ]
  },
  {
   "cell_type": "code",
   "execution_count": 27,
   "id": "f55b73e6",
   "metadata": {},
   "outputs": [],
   "source": [
    "NeuralNetwork = tf.keras.models.Sequential()\n",
    "NeuralNetwork.add(tf.keras.layers.Flatten())\n",
    "NeuralNetwork.add(tf.keras.layers.Dense(33, activation = tf.nn.softmax))\n",
    "NeuralNetwork.compile(optimizer='sgd',loss = 'sparse_categorical_crossentropy', metrics = ['accuracy'])"
   ]
  },
  {
   "cell_type": "code",
   "execution_count": 28,
   "id": "8628f7f1",
   "metadata": {},
   "outputs": [
    {
     "name": "stdout",
     "output_type": "stream",
     "text": [
      "Epoch 1/50\n",
      "563/563 [==============================] - 1s 746us/step - loss: 3.3923 - accuracy: 0.1247\n",
      "Epoch 2/50\n",
      "563/563 [==============================] - 0s 759us/step - loss: 3.1944 - accuracy: 0.3141\n",
      "Epoch 3/50\n",
      "563/563 [==============================] - 1s 886us/step - loss: 3.0245 - accuracy: 0.4010\n",
      "Epoch 4/50\n",
      "563/563 [==============================] - 0s 795us/step - loss: 2.8790 - accuracy: 0.4385\n",
      "Epoch 5/50\n",
      "563/563 [==============================] - 0s 783us/step - loss: 2.7543 - accuracy: 0.4614\n",
      "Epoch 6/50\n",
      "563/563 [==============================] - 0s 796us/step - loss: 2.6474 - accuracy: 0.4780\n",
      "Epoch 7/50\n",
      "563/563 [==============================] - 0s 873us/step - loss: 2.5553 - accuracy: 0.4915\n",
      "Epoch 8/50\n",
      "563/563 [==============================] - 0s 833us/step - loss: 2.4754 - accuracy: 0.5035\n",
      "Epoch 9/50\n",
      "563/563 [==============================] - 1s 947us/step - loss: 2.4056 - accuracy: 0.5132\n",
      "Epoch 10/50\n",
      "563/563 [==============================] - 0s 821us/step - loss: 2.3439 - accuracy: 0.5225\n",
      "Epoch 11/50\n",
      "563/563 [==============================] - 0s 870us/step - loss: 2.2892 - accuracy: 0.5310\n",
      "Epoch 12/50\n",
      "563/563 [==============================] - 0s 792us/step - loss: 2.2403 - accuracy: 0.5393\n",
      "Epoch 13/50\n",
      "563/563 [==============================] - 0s 859us/step - loss: 2.1961 - accuracy: 0.5468\n",
      "Epoch 14/50\n",
      "563/563 [==============================] - 0s 875us/step - loss: 2.1561 - accuracy: 0.5532\n",
      "Epoch 15/50\n",
      "563/563 [==============================] - 0s 872us/step - loss: 2.1196 - accuracy: 0.5604\n",
      "Epoch 16/50\n",
      "563/563 [==============================] - 0s 851us/step - loss: 2.0860 - accuracy: 0.5663\n",
      "Epoch 17/50\n",
      "563/563 [==============================] - 0s 796us/step - loss: 2.0551 - accuracy: 0.5715\n",
      "Epoch 18/50\n",
      "563/563 [==============================] - 1s 917us/step - loss: 2.0264 - accuracy: 0.5770\n",
      "Epoch 19/50\n",
      "563/563 [==============================] - 0s 786us/step - loss: 1.9997 - accuracy: 0.5823\n",
      "Epoch 20/50\n",
      "563/563 [==============================] - 1s 899us/step - loss: 1.9748 - accuracy: 0.5874\n",
      "Epoch 21/50\n",
      "563/563 [==============================] - 0s 795us/step - loss: 1.9514 - accuracy: 0.5916\n",
      "Epoch 22/50\n",
      "563/563 [==============================] - 1s 918us/step - loss: 1.9294 - accuracy: 0.5968\n",
      "Epoch 23/50\n",
      "563/563 [==============================] - 0s 806us/step - loss: 1.9087 - accuracy: 0.6017\n",
      "Epoch 24/50\n",
      "563/563 [==============================] - 1s 908us/step - loss: 1.8890 - accuracy: 0.6063\n",
      "Epoch 25/50\n",
      "563/563 [==============================] - 0s 797us/step - loss: 1.8704 - accuracy: 0.6119\n",
      "Epoch 26/50\n",
      "563/563 [==============================] - 0s 872us/step - loss: 1.8527 - accuracy: 0.6155\n",
      "Epoch 27/50\n",
      "563/563 [==============================] - 0s 799us/step - loss: 1.8359 - accuracy: 0.6187\n",
      "Epoch 28/50\n",
      "563/563 [==============================] - 1s 899us/step - loss: 1.8198 - accuracy: 0.6228\n",
      "Epoch 29/50\n",
      "563/563 [==============================] - 0s 818us/step - loss: 1.8044 - accuracy: 0.6251\n",
      "Epoch 30/50\n",
      "563/563 [==============================] - 0s 845us/step - loss: 1.7897 - accuracy: 0.6283\n",
      "Epoch 31/50\n",
      "563/563 [==============================] - 0s 815us/step - loss: 1.7756 - accuracy: 0.6316\n",
      "Epoch 32/50\n",
      "563/563 [==============================] - 0s 761us/step - loss: 1.7620 - accuracy: 0.6345\n",
      "Epoch 33/50\n",
      "563/563 [==============================] - 0s 854us/step - loss: 1.7490 - accuracy: 0.6372\n",
      "Epoch 34/50\n",
      "563/563 [==============================] - 0s 870us/step - loss: 1.7364 - accuracy: 0.6391\n",
      "Epoch 35/50\n",
      "563/563 [==============================] - 0s 819us/step - loss: 1.7243 - accuracy: 0.6421\n",
      "Epoch 36/50\n",
      "563/563 [==============================] - 0s 844us/step - loss: 1.7126 - accuracy: 0.6435\n",
      "Epoch 37/50\n",
      "563/563 [==============================] - 0s 823us/step - loss: 1.7013 - accuracy: 0.6458\n",
      "Epoch 38/50\n",
      "563/563 [==============================] - 1s 914us/step - loss: 1.6903 - accuracy: 0.6486\n",
      "Epoch 39/50\n",
      "563/563 [==============================] - 0s 824us/step - loss: 1.6798 - accuracy: 0.6505\n",
      "Epoch 40/50\n",
      "563/563 [==============================] - 0s 827us/step - loss: 1.6695 - accuracy: 0.6527\n",
      "Epoch 41/50\n",
      "563/563 [==============================] - 0s 793us/step - loss: 1.6595 - accuracy: 0.6549\n",
      "Epoch 42/50\n",
      "563/563 [==============================] - 0s 786us/step - loss: 1.6499 - accuracy: 0.6575\n",
      "Epoch 43/50\n",
      "563/563 [==============================] - 0s 881us/step - loss: 1.6405 - accuracy: 0.6607\n",
      "Epoch 44/50\n",
      "563/563 [==============================] - 0s 806us/step - loss: 1.6314 - accuracy: 0.6622\n",
      "Epoch 45/50\n",
      "563/563 [==============================] - 1s 937us/step - loss: 1.6225 - accuracy: 0.6641\n",
      "Epoch 46/50\n",
      "563/563 [==============================] - 0s 797us/step - loss: 1.6138 - accuracy: 0.6663\n",
      "Epoch 47/50\n",
      "563/563 [==============================] - 0s 864us/step - loss: 1.6054 - accuracy: 0.6681\n",
      "Epoch 48/50\n",
      "563/563 [==============================] - 0s 780us/step - loss: 1.5972 - accuracy: 0.6709\n",
      "Epoch 49/50\n",
      "563/563 [==============================] - 0s 868us/step - loss: 1.5892 - accuracy: 0.6719\n",
      "Epoch 50/50\n",
      "563/563 [==============================] - 0s 858us/step - loss: 1.5814 - accuracy: 0.6735\n"
     ]
    },
    {
     "data": {
      "text/plain": [
       "<keras.callbacks.History at 0x169ace68b50>"
      ]
     },
     "execution_count": 28,
     "metadata": {},
     "output_type": "execute_result"
    }
   ],
   "source": [
    "NeuralNetwork.fit(x_train_f,y_train, batch_size = 50, epochs=50)"
   ]
  },
  {
   "cell_type": "code",
   "execution_count": 29,
   "id": "864824c6",
   "metadata": {},
   "outputs": [
    {
     "name": "stdout",
     "output_type": "stream",
     "text": [
      "377/377 [==============================] - 0s 754us/step - loss: 1.6142 - accuracy: 0.6599\n",
      "1.6142151355743408 0.6599169969558716\n"
     ]
    }
   ],
   "source": [
    "(loss, acc) = NeuralNetwork.evaluate(x_test_f,y_test)\n",
    "print(loss,acc)"
   ]
  },
  {
   "cell_type": "markdown",
   "id": "85c91f89",
   "metadata": {},
   "source": [
    "# Now I'm going to try different approaches for our model. e.g. using different activation functions, number of hidden layers, and also vary the number of units in them"
   ]
  },
  {
   "cell_type": "markdown",
   "id": "16507b6f",
   "metadata": {},
   "source": [
    "# But the activation function for the last layer (activation layer) should be softmax, as our problem is multiclass, also I'm going to use sparse_categorical_crossentropy for loss function and accuracy as metric"
   ]
  },
  {
   "cell_type": "code",
   "execution_count": 30,
   "id": "716195b2",
   "metadata": {},
   "outputs": [],
   "source": [
    "NeuralNetwork = tf.keras.models.Sequential()\n",
    "NeuralNetwork.add(tf.keras.layers.Flatten())\n",
    "NeuralNetwork.add(tf.keras.layers.Dense(200, activation = tf.nn.relu))\n",
    "NeuralNetwork.add(tf.keras.layers.Dense(33, activation = tf.nn.softmax))\n",
    "NeuralNetwork.compile(optimizer='sgd',loss = 'sparse_categorical_crossentropy', metrics = ['accuracy'])"
   ]
  },
  {
   "cell_type": "code",
   "execution_count": 31,
   "id": "54bae043",
   "metadata": {},
   "outputs": [
    {
     "name": "stdout",
     "output_type": "stream",
     "text": [
      "Epoch 1/50\n",
      "563/563 [==============================] - 1s 1ms/step - loss: 3.4335 - accuracy: 0.1018\n",
      "Epoch 2/50\n",
      "563/563 [==============================] - 1s 1ms/step - loss: 3.2672 - accuracy: 0.2760\n",
      "Epoch 3/50\n",
      "563/563 [==============================] - 1s 1ms/step - loss: 3.0545 - accuracy: 0.3833\n",
      "Epoch 4/50\n",
      "563/563 [==============================] - 1s 1ms/step - loss: 2.8029 - accuracy: 0.4425\n",
      "Epoch 5/50\n",
      "563/563 [==============================] - 1s 1ms/step - loss: 2.5511 - accuracy: 0.4838\n",
      "Epoch 6/50\n",
      "563/563 [==============================] - 1s 1ms/step - loss: 2.3304 - accuracy: 0.5131\n",
      "Epoch 7/50\n",
      "563/563 [==============================] - 1s 1ms/step - loss: 2.1492 - accuracy: 0.5380\n",
      "Epoch 8/50\n",
      "563/563 [==============================] - 1s 2ms/step - loss: 2.0025 - accuracy: 0.5600\n",
      "Epoch 9/50\n",
      "563/563 [==============================] - 1s 2ms/step - loss: 1.8825 - accuracy: 0.5778\n",
      "Epoch 10/50\n",
      "563/563 [==============================] - 1s 2ms/step - loss: 1.7824 - accuracy: 0.5972\n",
      "Epoch 11/50\n",
      "563/563 [==============================] - 1s 2ms/step - loss: 1.6972 - accuracy: 0.6173\n",
      "Epoch 12/50\n",
      "563/563 [==============================] - 1s 1ms/step - loss: 1.6237 - accuracy: 0.6338\n",
      "Epoch 13/50\n",
      "563/563 [==============================] - 1s 1ms/step - loss: 1.5594 - accuracy: 0.6510\n",
      "Epoch 14/50\n",
      "563/563 [==============================] - 1s 1ms/step - loss: 1.5031 - accuracy: 0.6653\n",
      "Epoch 15/50\n",
      "563/563 [==============================] - 1s 1ms/step - loss: 1.4526 - accuracy: 0.6766\n",
      "Epoch 16/50\n",
      "563/563 [==============================] - 1s 1ms/step - loss: 1.4074 - accuracy: 0.6879\n",
      "Epoch 17/50\n",
      "563/563 [==============================] - 1s 1ms/step - loss: 1.3665 - accuracy: 0.6979\n",
      "Epoch 18/50\n",
      "563/563 [==============================] - 1s 1ms/step - loss: 1.3293 - accuracy: 0.7066\n",
      "Epoch 19/50\n",
      "563/563 [==============================] - 1s 1ms/step - loss: 1.2954 - accuracy: 0.7173\n",
      "Epoch 20/50\n",
      "563/563 [==============================] - 1s 1ms/step - loss: 1.2642 - accuracy: 0.7222\n",
      "Epoch 21/50\n",
      "563/563 [==============================] - 1s 1ms/step - loss: 1.2354 - accuracy: 0.7301\n",
      "Epoch 22/50\n",
      "563/563 [==============================] - 1s 1ms/step - loss: 1.2087 - accuracy: 0.7355\n",
      "Epoch 23/50\n",
      "563/563 [==============================] - 1s 1ms/step - loss: 1.1839 - accuracy: 0.7435\n",
      "Epoch 24/50\n",
      "563/563 [==============================] - 1s 1ms/step - loss: 1.1609 - accuracy: 0.7465\n",
      "Epoch 25/50\n",
      "563/563 [==============================] - 1s 1ms/step - loss: 1.1392 - accuracy: 0.7535\n",
      "Epoch 26/50\n",
      "563/563 [==============================] - 1s 1ms/step - loss: 1.1189 - accuracy: 0.7573\n",
      "Epoch 27/50\n",
      "563/563 [==============================] - 1s 1ms/step - loss: 1.0999 - accuracy: 0.7616\n",
      "Epoch 28/50\n",
      "563/563 [==============================] - 1s 1ms/step - loss: 1.0818 - accuracy: 0.7668\n",
      "Epoch 29/50\n",
      "563/563 [==============================] - 1s 1ms/step - loss: 1.0648 - accuracy: 0.7702\n",
      "Epoch 30/50\n",
      "563/563 [==============================] - 1s 1ms/step - loss: 1.0487 - accuracy: 0.7731\n",
      "Epoch 31/50\n",
      "563/563 [==============================] - 1s 1ms/step - loss: 1.0331 - accuracy: 0.7778\n",
      "Epoch 32/50\n",
      "563/563 [==============================] - 1s 1ms/step - loss: 1.0187 - accuracy: 0.7805\n",
      "Epoch 33/50\n",
      "563/563 [==============================] - 1s 1ms/step - loss: 1.0048 - accuracy: 0.7819\n",
      "Epoch 34/50\n",
      "563/563 [==============================] - 1s 1ms/step - loss: 0.9914 - accuracy: 0.7854\n",
      "Epoch 35/50\n",
      "563/563 [==============================] - 1s 1ms/step - loss: 0.9788 - accuracy: 0.7887\n",
      "Epoch 36/50\n",
      "563/563 [==============================] - 1s 1ms/step - loss: 0.9666 - accuracy: 0.7913\n",
      "Epoch 37/50\n",
      "563/563 [==============================] - 1s 1ms/step - loss: 0.9548 - accuracy: 0.7928\n",
      "Epoch 38/50\n",
      "563/563 [==============================] - 1s 1ms/step - loss: 0.9435 - accuracy: 0.7954\n",
      "Epoch 39/50\n",
      "563/563 [==============================] - 1s 1ms/step - loss: 0.9328 - accuracy: 0.7971\n",
      "Epoch 40/50\n",
      "563/563 [==============================] - 1s 1ms/step - loss: 0.9222 - accuracy: 0.7997\n",
      "Epoch 41/50\n",
      "563/563 [==============================] - 1s 1ms/step - loss: 0.9122 - accuracy: 0.8020\n",
      "Epoch 42/50\n",
      "563/563 [==============================] - 1s 1ms/step - loss: 0.9024 - accuracy: 0.8031\n",
      "Epoch 43/50\n",
      "563/563 [==============================] - 1s 1ms/step - loss: 0.8929 - accuracy: 0.8044\n",
      "Epoch 44/50\n",
      "563/563 [==============================] - 1s 1ms/step - loss: 0.8837 - accuracy: 0.8068\n",
      "Epoch 45/50\n",
      "563/563 [==============================] - 1s 1ms/step - loss: 0.8749 - accuracy: 0.8077\n",
      "Epoch 46/50\n",
      "563/563 [==============================] - 1s 1ms/step - loss: 0.8662 - accuracy: 0.8099\n",
      "Epoch 47/50\n",
      "563/563 [==============================] - 1s 1ms/step - loss: 0.8580 - accuracy: 0.8109\n",
      "Epoch 48/50\n",
      "563/563 [==============================] - 1s 1ms/step - loss: 0.8497 - accuracy: 0.8140\n",
      "Epoch 49/50\n",
      "563/563 [==============================] - 1s 1ms/step - loss: 0.8419 - accuracy: 0.8139\n",
      "Epoch 50/50\n",
      "563/563 [==============================] - 1s 1ms/step - loss: 0.8341 - accuracy: 0.8159\n"
     ]
    },
    {
     "data": {
      "text/plain": [
       "<keras.callbacks.History at 0x169aed71eb0>"
      ]
     },
     "execution_count": 31,
     "metadata": {},
     "output_type": "execute_result"
    }
   ],
   "source": [
    "NeuralNetwork.fit(x_train_f,y_train, batch_size = 50, epochs=50)"
   ]
  },
  {
   "cell_type": "code",
   "execution_count": 32,
   "id": "79eced05",
   "metadata": {},
   "outputs": [
    {
     "name": "stdout",
     "output_type": "stream",
     "text": [
      "377/377 [==============================] - 0s 928us/step - loss: 0.9093 - accuracy: 0.7956\n",
      "0.9092722535133362 0.7956016659736633\n"
     ]
    }
   ],
   "source": [
    "(loss, acc) = NeuralNetwork.evaluate(x_test_f,y_test)\n",
    "print(loss,acc)"
   ]
  },
  {
   "cell_type": "code",
   "execution_count": 33,
   "id": "7618eff2",
   "metadata": {},
   "outputs": [],
   "source": [
    "NeuralNetwork = tf.keras.models.Sequential()\n",
    "NeuralNetwork.add(tf.keras.layers.Flatten())\n",
    "NeuralNetwork.add(tf.keras.layers.Dense(200, activation = tf.nn.sigmoid))\n",
    "NeuralNetwork.add(tf.keras.layers.Dense(33, activation = tf.nn.softmax))\n",
    "NeuralNetwork.compile(optimizer='sgd',loss = 'sparse_categorical_crossentropy', metrics = ['accuracy'])"
   ]
  },
  {
   "cell_type": "code",
   "execution_count": 34,
   "id": "a191895e",
   "metadata": {},
   "outputs": [
    {
     "name": "stdout",
     "output_type": "stream",
     "text": [
      "Epoch 1/50\n",
      "563/563 [==============================] - 1s 1ms/step - loss: 3.4947 - accuracy: 0.0410\n",
      "Epoch 2/50\n",
      "563/563 [==============================] - 1s 1ms/step - loss: 3.4591 - accuracy: 0.0771\n",
      "Epoch 3/50\n",
      "563/563 [==============================] - 1s 1ms/step - loss: 3.4306 - accuracy: 0.1247\n",
      "Epoch 4/50\n",
      "563/563 [==============================] - 1s 1ms/step - loss: 3.4010 - accuracy: 0.1742\n",
      "Epoch 5/50\n",
      "563/563 [==============================] - 1s 1ms/step - loss: 3.3693 - accuracy: 0.2213\n",
      "Epoch 6/50\n",
      "563/563 [==============================] - 1s 1ms/step - loss: 3.3346 - accuracy: 0.2643\n",
      "Epoch 7/50\n",
      "563/563 [==============================] - 1s 1ms/step - loss: 3.2974 - accuracy: 0.2992\n",
      "Epoch 8/50\n",
      "563/563 [==============================] - 1s 1ms/step - loss: 3.2561 - accuracy: 0.3240\n",
      "Epoch 9/50\n",
      "563/563 [==============================] - 1s 1ms/step - loss: 3.2118 - accuracy: 0.3427\n",
      "Epoch 10/50\n",
      "563/563 [==============================] - 1s 1ms/step - loss: 3.1633 - accuracy: 0.3587\n",
      "Epoch 11/50\n",
      "563/563 [==============================] - 1s 1ms/step - loss: 3.1120 - accuracy: 0.3721\n",
      "Epoch 12/50\n",
      "563/563 [==============================] - 1s 1ms/step - loss: 3.0565 - accuracy: 0.3844\n",
      "Epoch 13/50\n",
      "563/563 [==============================] - 1s 1ms/step - loss: 2.9993 - accuracy: 0.4043\n",
      "Epoch 14/50\n",
      "563/563 [==============================] - 1s 1ms/step - loss: 2.9397 - accuracy: 0.4070\n",
      "Epoch 15/50\n",
      "563/563 [==============================] - 1s 1ms/step - loss: 2.8788 - accuracy: 0.4134\n",
      "Epoch 16/50\n",
      "563/563 [==============================] - 1s 1ms/step - loss: 2.8181 - accuracy: 0.4322\n",
      "Epoch 17/50\n",
      "563/563 [==============================] - 1s 1ms/step - loss: 2.7577 - accuracy: 0.4443\n",
      "Epoch 18/50\n",
      "563/563 [==============================] - 1s 1ms/step - loss: 2.6977 - accuracy: 0.4505\n",
      "Epoch 19/50\n",
      "563/563 [==============================] - 1s 1ms/step - loss: 2.6392 - accuracy: 0.4672\n",
      "Epoch 20/50\n",
      "563/563 [==============================] - 1s 1ms/step - loss: 2.5825 - accuracy: 0.4780\n",
      "Epoch 21/50\n",
      "563/563 [==============================] - 1s 1ms/step - loss: 2.5269 - accuracy: 0.4850\n",
      "Epoch 22/50\n",
      "563/563 [==============================] - 1s 1ms/step - loss: 2.4741 - accuracy: 0.4951\n",
      "Epoch 23/50\n",
      "563/563 [==============================] - 1s 1ms/step - loss: 2.4231 - accuracy: 0.5033\n",
      "Epoch 24/50\n",
      "563/563 [==============================] - 1s 1ms/step - loss: 2.3738 - accuracy: 0.5106\n",
      "Epoch 25/50\n",
      "563/563 [==============================] - 1s 1ms/step - loss: 2.3269 - accuracy: 0.5192\n",
      "Epoch 26/50\n",
      "563/563 [==============================] - 1s 1ms/step - loss: 2.2818 - accuracy: 0.5244\n",
      "Epoch 27/50\n",
      "563/563 [==============================] - 1s 1ms/step - loss: 2.2389 - accuracy: 0.5332\n",
      "Epoch 28/50\n",
      "563/563 [==============================] - 1s 1ms/step - loss: 2.1981 - accuracy: 0.5409\n",
      "Epoch 29/50\n",
      "563/563 [==============================] - 1s 1ms/step - loss: 2.1588 - accuracy: 0.5479\n",
      "Epoch 30/50\n",
      "563/563 [==============================] - 1s 1ms/step - loss: 2.1214 - accuracy: 0.5519\n",
      "Epoch 31/50\n",
      "563/563 [==============================] - 1s 2ms/step - loss: 2.0856 - accuracy: 0.5604\n",
      "Epoch 32/50\n",
      "563/563 [==============================] - 1s 1ms/step - loss: 2.0514 - accuracy: 0.5650\n",
      "Epoch 33/50\n",
      "563/563 [==============================] - 1s 1ms/step - loss: 2.0188 - accuracy: 0.5680\n",
      "Epoch 34/50\n",
      "563/563 [==============================] - 1s 1ms/step - loss: 1.9877 - accuracy: 0.5752\n",
      "Epoch 35/50\n",
      "563/563 [==============================] - 1s 1000us/step - loss: 1.9581 - accuracy: 0.5797\n",
      "Epoch 36/50\n",
      "563/563 [==============================] - 1s 941us/step - loss: 1.9300 - accuracy: 0.5860\n",
      "Epoch 37/50\n",
      "563/563 [==============================] - 1s 925us/step - loss: 1.9028 - accuracy: 0.5910\n",
      "Epoch 38/50\n",
      "563/563 [==============================] - 1s 918us/step - loss: 1.8765 - accuracy: 0.5940\n",
      "Epoch 39/50\n",
      "563/563 [==============================] - 1s 954us/step - loss: 1.8518 - accuracy: 0.5986\n",
      "Epoch 40/50\n",
      "563/563 [==============================] - 1s 943us/step - loss: 1.8278 - accuracy: 0.6037\n",
      "Epoch 41/50\n",
      "563/563 [==============================] - 1s 924us/step - loss: 1.8048 - accuracy: 0.6072\n",
      "Epoch 42/50\n",
      "563/563 [==============================] - 1s 923us/step - loss: 1.7829 - accuracy: 0.6119\n",
      "Epoch 43/50\n",
      "563/563 [==============================] - 1s 931us/step - loss: 1.7614 - accuracy: 0.6172\n",
      "Epoch 44/50\n",
      "563/563 [==============================] - 1s 996us/step - loss: 1.7415 - accuracy: 0.6180\n",
      "Epoch 45/50\n",
      "563/563 [==============================] - 1s 1ms/step - loss: 1.7215 - accuracy: 0.6267\n",
      "Epoch 46/50\n",
      "563/563 [==============================] - 1s 935us/step - loss: 1.7029 - accuracy: 0.6293\n",
      "Epoch 47/50\n",
      "563/563 [==============================] - 1s 940us/step - loss: 1.6847 - accuracy: 0.6316\n",
      "Epoch 48/50\n",
      "563/563 [==============================] - 1s 1ms/step - loss: 1.6675 - accuracy: 0.6362\n",
      "Epoch 49/50\n",
      "563/563 [==============================] - 1s 1ms/step - loss: 1.6504 - accuracy: 0.6358\n",
      "Epoch 50/50\n",
      "563/563 [==============================] - 1s 1ms/step - loss: 1.6340 - accuracy: 0.6424\n"
     ]
    },
    {
     "data": {
      "text/plain": [
       "<keras.callbacks.History at 0x169aec61d90>"
      ]
     },
     "execution_count": 34,
     "metadata": {},
     "output_type": "execute_result"
    }
   ],
   "source": [
    "NeuralNetwork.fit(x_train_f,y_train, batch_size = 50, epochs=50)"
   ]
  },
  {
   "cell_type": "code",
   "execution_count": 35,
   "id": "954f020b",
   "metadata": {},
   "outputs": [
    {
     "name": "stdout",
     "output_type": "stream",
     "text": [
      "377/377 [==============================] - 0s 698us/step - loss: 1.6486 - accuracy: 0.6318\n",
      "1.6485649347305298 0.6317842602729797\n"
     ]
    }
   ],
   "source": [
    "(loss, acc) = NeuralNetwork.evaluate(x_test_f,y_test)\n",
    "print(loss,acc)"
   ]
  },
  {
   "cell_type": "code",
   "execution_count": 36,
   "id": "3be3cc34",
   "metadata": {},
   "outputs": [],
   "source": [
    "NeuralNetwork = tf.keras.models.Sequential()\n",
    "NeuralNetwork.add(tf.keras.layers.Flatten())\n",
    "NeuralNetwork.add(tf.keras.layers.Dense(500, activation = tf.nn.relu))\n",
    "NeuralNetwork.add(tf.keras.layers.Dense(33, activation = tf.nn.softmax))\n",
    "NeuralNetwork.compile(optimizer='sgd',loss = 'sparse_categorical_crossentropy', metrics = ['accuracy'])"
   ]
  },
  {
   "cell_type": "code",
   "execution_count": 37,
   "id": "efecb0c0",
   "metadata": {},
   "outputs": [
    {
     "name": "stdout",
     "output_type": "stream",
     "text": [
      "Epoch 1/50\n",
      "563/563 [==============================] - 2s 3ms/step - loss: 3.4082 - accuracy: 0.1380\n",
      "Epoch 2/50\n",
      "563/563 [==============================] - 1s 3ms/step - loss: 3.1985 - accuracy: 0.3521\n",
      "Epoch 3/50\n",
      "563/563 [==============================] - 1s 3ms/step - loss: 2.9521 - accuracy: 0.4307\n",
      "Epoch 4/50\n",
      "563/563 [==============================] - 1s 2ms/step - loss: 2.6869 - accuracy: 0.4724\n",
      "Epoch 5/50\n",
      "563/563 [==============================] - 1s 3ms/step - loss: 2.4406 - accuracy: 0.5106\n",
      "Epoch 6/50\n",
      "563/563 [==============================] - 1s 3ms/step - loss: 2.2334 - accuracy: 0.5409\n",
      "Epoch 7/50\n",
      "563/563 [==============================] - 1s 2ms/step - loss: 2.0651 - accuracy: 0.5673\n",
      "Epoch 8/50\n",
      "563/563 [==============================] - 1s 2ms/step - loss: 1.9286 - accuracy: 0.5902\n",
      "Epoch 9/50\n",
      "563/563 [==============================] - 1s 2ms/step - loss: 1.8159 - accuracy: 0.6099\n",
      "Epoch 10/50\n",
      "563/563 [==============================] - 1s 2ms/step - loss: 1.7211 - accuracy: 0.6289\n",
      "Epoch 11/50\n",
      "563/563 [==============================] - 1s 2ms/step - loss: 1.6401 - accuracy: 0.6492\n",
      "Epoch 12/50\n",
      "563/563 [==============================] - 1s 2ms/step - loss: 1.5699 - accuracy: 0.6633\n",
      "Epoch 13/50\n",
      "563/563 [==============================] - 1s 2ms/step - loss: 1.5085 - accuracy: 0.6764\n",
      "Epoch 14/50\n",
      "563/563 [==============================] - 1s 2ms/step - loss: 1.4544 - accuracy: 0.6847\n",
      "Epoch 15/50\n",
      "563/563 [==============================] - 1s 2ms/step - loss: 1.4061 - accuracy: 0.6973\n",
      "Epoch 16/50\n",
      "563/563 [==============================] - 1s 2ms/step - loss: 1.3626 - accuracy: 0.7059\n",
      "Epoch 17/50\n",
      "563/563 [==============================] - 1s 2ms/step - loss: 1.3232 - accuracy: 0.7169\n",
      "Epoch 18/50\n",
      "563/563 [==============================] - 1s 2ms/step - loss: 1.2874 - accuracy: 0.7245\n",
      "Epoch 19/50\n",
      "563/563 [==============================] - 1s 2ms/step - loss: 1.2548 - accuracy: 0.7333\n",
      "Epoch 20/50\n",
      "563/563 [==============================] - 1s 2ms/step - loss: 1.2247 - accuracy: 0.7411\n",
      "Epoch 21/50\n",
      "563/563 [==============================] - 1s 2ms/step - loss: 1.1967 - accuracy: 0.7472\n",
      "Epoch 22/50\n",
      "563/563 [==============================] - 1s 2ms/step - loss: 1.1709 - accuracy: 0.7535\n",
      "Epoch 23/50\n",
      "563/563 [==============================] - 1s 3ms/step - loss: 1.1471 - accuracy: 0.7589\n",
      "Epoch 24/50\n",
      "563/563 [==============================] - 2s 3ms/step - loss: 1.1247 - accuracy: 0.7626\n",
      "Epoch 25/50\n",
      "563/563 [==============================] - 1s 2ms/step - loss: 1.1037 - accuracy: 0.7687\n",
      "Epoch 26/50\n",
      "563/563 [==============================] - 1s 2ms/step - loss: 1.0840 - accuracy: 0.7710\n",
      "Epoch 27/50\n",
      "563/563 [==============================] - 1s 2ms/step - loss: 1.0654 - accuracy: 0.7753\n",
      "Epoch 28/50\n",
      "563/563 [==============================] - 1s 2ms/step - loss: 1.0480 - accuracy: 0.7793\n",
      "Epoch 29/50\n",
      "563/563 [==============================] - 1s 2ms/step - loss: 1.0314 - accuracy: 0.7819\n",
      "Epoch 30/50\n",
      "563/563 [==============================] - 1s 2ms/step - loss: 1.0158 - accuracy: 0.7851\n",
      "Epoch 31/50\n",
      "563/563 [==============================] - 1s 2ms/step - loss: 1.0009 - accuracy: 0.7880\n",
      "Epoch 32/50\n",
      "563/563 [==============================] - 1s 2ms/step - loss: 0.9866 - accuracy: 0.7900\n",
      "Epoch 33/50\n",
      "563/563 [==============================] - 1s 2ms/step - loss: 0.9731 - accuracy: 0.7926\n",
      "Epoch 34/50\n",
      "563/563 [==============================] - 1s 2ms/step - loss: 0.9602 - accuracy: 0.7959\n",
      "Epoch 35/50\n",
      "563/563 [==============================] - 1s 3ms/step - loss: 0.9478 - accuracy: 0.7982\n",
      "Epoch 36/50\n",
      "563/563 [==============================] - 1s 3ms/step - loss: 0.9358 - accuracy: 0.8007\n",
      "Epoch 37/50\n",
      "563/563 [==============================] - 1s 2ms/step - loss: 0.9243 - accuracy: 0.8016\n",
      "Epoch 38/50\n",
      "563/563 [==============================] - 1s 2ms/step - loss: 0.9133 - accuracy: 0.8038\n",
      "Epoch 39/50\n",
      "563/563 [==============================] - 1s 2ms/step - loss: 0.9028 - accuracy: 0.8066\n",
      "Epoch 40/50\n",
      "563/563 [==============================] - 1s 3ms/step - loss: 0.8924 - accuracy: 0.8082\n",
      "Epoch 41/50\n",
      "563/563 [==============================] - 1s 2ms/step - loss: 0.8826 - accuracy: 0.8100\n",
      "Epoch 42/50\n",
      "563/563 [==============================] - 1s 2ms/step - loss: 0.8729 - accuracy: 0.8111\n",
      "Epoch 43/50\n",
      "563/563 [==============================] - 1s 2ms/step - loss: 0.8636 - accuracy: 0.8125\n",
      "Epoch 44/50\n",
      "563/563 [==============================] - 1s 2ms/step - loss: 0.8545 - accuracy: 0.8148\n",
      "Epoch 45/50\n",
      "563/563 [==============================] - 1s 2ms/step - loss: 0.8458 - accuracy: 0.8159\n",
      "Epoch 46/50\n",
      "563/563 [==============================] - 1s 2ms/step - loss: 0.8373 - accuracy: 0.8173\n",
      "Epoch 47/50\n",
      "563/563 [==============================] - 1s 2ms/step - loss: 0.8290 - accuracy: 0.8190\n",
      "Epoch 48/50\n",
      "563/563 [==============================] - 1s 2ms/step - loss: 0.8210 - accuracy: 0.8208\n",
      "Epoch 49/50\n",
      "563/563 [==============================] - 1s 2ms/step - loss: 0.8132 - accuracy: 0.8223\n",
      "Epoch 50/50\n",
      "563/563 [==============================] - 1s 2ms/step - loss: 0.8056 - accuracy: 0.8241\n"
     ]
    },
    {
     "data": {
      "text/plain": [
       "<keras.callbacks.History at 0x169aed2c670>"
      ]
     },
     "execution_count": 37,
     "metadata": {},
     "output_type": "execute_result"
    }
   ],
   "source": [
    "NeuralNetwork.fit(x_train_f,y_train, batch_size = 50, epochs=50)"
   ]
  },
  {
   "cell_type": "code",
   "execution_count": 38,
   "id": "cf2ebce7",
   "metadata": {},
   "outputs": [
    {
     "name": "stdout",
     "output_type": "stream",
     "text": [
      "377/377 [==============================] - 1s 1ms/step - loss: 0.8862 - accuracy: 0.8017\n",
      "0.8861677646636963 0.8017427325248718\n"
     ]
    }
   ],
   "source": [
    "(loss, acc) = NeuralNetwork.evaluate(x_test_f,y_test)\n",
    "print(loss,acc)"
   ]
  },
  {
   "cell_type": "code",
   "execution_count": 39,
   "id": "be1f54f5",
   "metadata": {},
   "outputs": [],
   "source": [
    "NeuralNetwork = tf.keras.models.Sequential()\n",
    "NeuralNetwork.add(tf.keras.layers.Flatten())\n",
    "NeuralNetwork.add(tf.keras.layers.Dense(500, activation = tf.nn.sigmoid))\n",
    "NeuralNetwork.add(tf.keras.layers.Dense(33, activation = tf.nn.softmax))\n",
    "NeuralNetwork.compile(optimizer='sgd',loss = 'sparse_categorical_crossentropy', metrics = ['accuracy'])"
   ]
  },
  {
   "cell_type": "code",
   "execution_count": 40,
   "id": "01e77bf5",
   "metadata": {},
   "outputs": [
    {
     "name": "stdout",
     "output_type": "stream",
     "text": [
      "Epoch 1/50\n",
      "563/563 [==============================] - 1s 2ms/step - loss: 3.4897 - accuracy: 0.0439\n",
      "Epoch 2/50\n",
      "563/563 [==============================] - 1s 2ms/step - loss: 3.4493 - accuracy: 0.0747\n",
      "Epoch 3/50\n",
      "563/563 [==============================] - 1s 2ms/step - loss: 3.4139 - accuracy: 0.1196\n",
      "Epoch 4/50\n",
      "563/563 [==============================] - 1s 2ms/step - loss: 3.3762 - accuracy: 0.1656\n",
      "Epoch 5/50\n",
      "563/563 [==============================] - 1s 2ms/step - loss: 3.3365 - accuracy: 0.2086\n",
      "Epoch 6/50\n",
      "563/563 [==============================] - 1s 2ms/step - loss: 3.2938 - accuracy: 0.2519\n",
      "Epoch 7/50\n",
      "563/563 [==============================] - 1s 2ms/step - loss: 3.2479 - accuracy: 0.2911\n",
      "Epoch 8/50\n",
      "563/563 [==============================] - 1s 2ms/step - loss: 3.1979 - accuracy: 0.3210\n",
      "Epoch 9/50\n",
      "563/563 [==============================] - 1s 2ms/step - loss: 3.1431 - accuracy: 0.3462\n",
      "Epoch 10/50\n",
      "563/563 [==============================] - 1s 2ms/step - loss: 3.0850 - accuracy: 0.3621\n",
      "Epoch 11/50\n",
      "563/563 [==============================] - 1s 2ms/step - loss: 3.0235 - accuracy: 0.3820\n",
      "Epoch 12/50\n",
      "563/563 [==============================] - 1s 2ms/step - loss: 2.9597 - accuracy: 0.3982\n",
      "Epoch 13/50\n",
      "563/563 [==============================] - 1s 2ms/step - loss: 2.8936 - accuracy: 0.4083\n",
      "Epoch 14/50\n",
      "563/563 [==============================] - 1s 2ms/step - loss: 2.8280 - accuracy: 0.4232\n",
      "Epoch 15/50\n",
      "563/563 [==============================] - 1s 2ms/step - loss: 2.7616 - accuracy: 0.4394\n",
      "Epoch 16/50\n",
      "563/563 [==============================] - 1s 2ms/step - loss: 2.6967 - accuracy: 0.4511\n",
      "Epoch 17/50\n",
      "563/563 [==============================] - 1s 2ms/step - loss: 2.6330 - accuracy: 0.4598\n",
      "Epoch 18/50\n",
      "563/563 [==============================] - 1s 2ms/step - loss: 2.5715 - accuracy: 0.4696\n",
      "Epoch 19/50\n",
      "563/563 [==============================] - 1s 2ms/step - loss: 2.5122 - accuracy: 0.4815\n",
      "Epoch 20/50\n",
      "563/563 [==============================] - 1s 2ms/step - loss: 2.4567 - accuracy: 0.4863\n",
      "Epoch 21/50\n",
      "563/563 [==============================] - 1s 2ms/step - loss: 2.4021 - accuracy: 0.4996\n",
      "Epoch 22/50\n",
      "563/563 [==============================] - 1s 2ms/step - loss: 2.3509 - accuracy: 0.5058\n",
      "Epoch 23/50\n",
      "563/563 [==============================] - 1s 2ms/step - loss: 2.3016 - accuracy: 0.5119\n",
      "Epoch 24/50\n",
      "563/563 [==============================] - 1s 2ms/step - loss: 2.2548 - accuracy: 0.5174\n",
      "Epoch 25/50\n",
      "563/563 [==============================] - 1s 2ms/step - loss: 2.2103 - accuracy: 0.5303\n",
      "Epoch 26/50\n",
      "563/563 [==============================] - 1s 2ms/step - loss: 2.1685 - accuracy: 0.5325\n",
      "Epoch 27/50\n",
      "563/563 [==============================] - 1s 2ms/step - loss: 2.1285 - accuracy: 0.5424\n",
      "Epoch 28/50\n",
      "563/563 [==============================] - 1s 2ms/step - loss: 2.0904 - accuracy: 0.5474\n",
      "Epoch 29/50\n",
      "563/563 [==============================] - 1s 3ms/step - loss: 2.0543 - accuracy: 0.5547\n",
      "Epoch 30/50\n",
      "563/563 [==============================] - 1s 2ms/step - loss: 2.0197 - accuracy: 0.5599\n",
      "Epoch 31/50\n",
      "563/563 [==============================] - 1s 2ms/step - loss: 1.9869 - accuracy: 0.5685\n",
      "Epoch 32/50\n",
      "563/563 [==============================] - 1s 2ms/step - loss: 1.9557 - accuracy: 0.5735\n",
      "Epoch 33/50\n",
      "563/563 [==============================] - 1s 2ms/step - loss: 1.9260 - accuracy: 0.5773\n",
      "Epoch 34/50\n",
      "563/563 [==============================] - 1s 2ms/step - loss: 1.8978 - accuracy: 0.5825\n",
      "Epoch 35/50\n",
      "563/563 [==============================] - 1s 2ms/step - loss: 1.8706 - accuracy: 0.5898\n",
      "Epoch 36/50\n",
      "563/563 [==============================] - 1s 2ms/step - loss: 1.8451 - accuracy: 0.5926\n",
      "Epoch 37/50\n",
      "563/563 [==============================] - 1s 2ms/step - loss: 1.8202 - accuracy: 0.5975\n",
      "Epoch 38/50\n",
      "563/563 [==============================] - 1s 2ms/step - loss: 1.7969 - accuracy: 0.6014\n",
      "Epoch 39/50\n",
      "563/563 [==============================] - 1s 2ms/step - loss: 1.7743 - accuracy: 0.6088\n",
      "Epoch 40/50\n",
      "563/563 [==============================] - 1s 2ms/step - loss: 1.7528 - accuracy: 0.6136\n",
      "Epoch 41/50\n",
      "563/563 [==============================] - 1s 2ms/step - loss: 1.7321 - accuracy: 0.6160\n",
      "Epoch 42/50\n",
      "563/563 [==============================] - 1s 2ms/step - loss: 1.7118 - accuracy: 0.6208\n",
      "Epoch 43/50\n",
      "563/563 [==============================] - 1s 2ms/step - loss: 1.6930 - accuracy: 0.6266\n",
      "Epoch 44/50\n",
      "563/563 [==============================] - 1s 2ms/step - loss: 1.6743 - accuracy: 0.6284\n",
      "Epoch 45/50\n",
      "563/563 [==============================] - 1s 2ms/step - loss: 1.6567 - accuracy: 0.6290\n",
      "Epoch 46/50\n",
      "563/563 [==============================] - 1s 2ms/step - loss: 1.6394 - accuracy: 0.6340\n",
      "Epoch 47/50\n",
      "563/563 [==============================] - 1s 2ms/step - loss: 1.6233 - accuracy: 0.6389\n",
      "Epoch 48/50\n",
      "563/563 [==============================] - 1s 2ms/step - loss: 1.6071 - accuracy: 0.6425\n",
      "Epoch 49/50\n",
      "563/563 [==============================] - 1s 2ms/step - loss: 1.5919 - accuracy: 0.6475\n",
      "Epoch 50/50\n",
      "563/563 [==============================] - 1s 2ms/step - loss: 1.5772 - accuracy: 0.6502\n"
     ]
    },
    {
     "data": {
      "text/plain": [
       "<keras.callbacks.History at 0x169af0edca0>"
      ]
     },
     "execution_count": 40,
     "metadata": {},
     "output_type": "execute_result"
    }
   ],
   "source": [
    "NeuralNetwork.fit(x_train_f,y_train, batch_size = 50, epochs=50)"
   ]
  },
  {
   "cell_type": "code",
   "execution_count": 41,
   "id": "59872cef",
   "metadata": {},
   "outputs": [
    {
     "name": "stdout",
     "output_type": "stream",
     "text": [
      "377/377 [==============================] - 1s 1ms/step - loss: 1.5931 - accuracy: 0.6329\n",
      "1.5930582284927368 0.6329460740089417\n"
     ]
    }
   ],
   "source": [
    "(loss, acc) = NeuralNetwork.evaluate(x_test_f,y_test)\n",
    "print(loss,acc)"
   ]
  },
  {
   "cell_type": "markdown",
   "id": "618b77da",
   "metadata": {},
   "source": [
    "# For now, we're starting to realize that sigmoid function doesn't really work well for our case, so from now on, I'm not going to lose time on using it"
   ]
  },
  {
   "cell_type": "code",
   "execution_count": 42,
   "id": "353853bd",
   "metadata": {},
   "outputs": [],
   "source": [
    "NeuralNetwork = tf.keras.models.Sequential()\n",
    "NeuralNetwork.add(tf.keras.layers.Flatten())\n",
    "NeuralNetwork.add(tf.keras.layers.Dense(200, activation = tf.nn.relu))\n",
    "NeuralNetwork.add(tf.keras.layers.Dense(200, activation = tf.nn.relu))\n",
    "NeuralNetwork.add(tf.keras.layers.Dense(33, activation = tf.nn.softmax))\n",
    "NeuralNetwork.compile(optimizer='sgd',loss = 'sparse_categorical_crossentropy', metrics = ['accuracy'])"
   ]
  },
  {
   "cell_type": "code",
   "execution_count": 43,
   "id": "ba605469",
   "metadata": {},
   "outputs": [
    {
     "name": "stdout",
     "output_type": "stream",
     "text": [
      "Epoch 1/50\n",
      "563/563 [==============================] - 1s 2ms/step - loss: 3.4556 - accuracy: 0.0827\n",
      "Epoch 2/50\n",
      "563/563 [==============================] - 1s 1ms/step - loss: 3.3416 - accuracy: 0.2302\n",
      "Epoch 3/50\n",
      "563/563 [==============================] - 1s 1ms/step - loss: 3.1215 - accuracy: 0.3574\n",
      "Epoch 4/50\n",
      "563/563 [==============================] - 1s 1ms/step - loss: 2.7502 - accuracy: 0.4303\n",
      "Epoch 5/50\n",
      "563/563 [==============================] - 1s 1ms/step - loss: 2.3347 - accuracy: 0.4900\n",
      "Epoch 6/50\n",
      "563/563 [==============================] - 1s 1ms/step - loss: 2.0021 - accuracy: 0.5407\n",
      "Epoch 7/50\n",
      "563/563 [==============================] - 1s 1ms/step - loss: 1.7598 - accuracy: 0.5892\n",
      "Epoch 8/50\n",
      "563/563 [==============================] - 1s 1ms/step - loss: 1.5824 - accuracy: 0.6248\n",
      "Epoch 9/50\n",
      "563/563 [==============================] - 1s 1ms/step - loss: 1.4493 - accuracy: 0.6574\n",
      "Epoch 10/50\n",
      "563/563 [==============================] - 1s 1ms/step - loss: 1.3464 - accuracy: 0.6833\n",
      "Epoch 11/50\n",
      "563/563 [==============================] - 1s 1ms/step - loss: 1.2640 - accuracy: 0.7081\n",
      "Epoch 12/50\n",
      "563/563 [==============================] - 1s 1ms/step - loss: 1.1950 - accuracy: 0.7280\n",
      "Epoch 13/50\n",
      "563/563 [==============================] - 1s 1ms/step - loss: 1.1366 - accuracy: 0.7406\n",
      "Epoch 14/50\n",
      "563/563 [==============================] - 1s 1ms/step - loss: 1.0866 - accuracy: 0.7539\n",
      "Epoch 15/50\n",
      "563/563 [==============================] - 1s 1ms/step - loss: 1.0423 - accuracy: 0.7636\n",
      "Epoch 16/50\n",
      "563/563 [==============================] - 1s 1ms/step - loss: 1.0033 - accuracy: 0.7711\n",
      "Epoch 17/50\n",
      "563/563 [==============================] - 1s 1ms/step - loss: 0.9684 - accuracy: 0.7794\n",
      "Epoch 18/50\n",
      "563/563 [==============================] - 1s 1ms/step - loss: 0.9362 - accuracy: 0.7855\n",
      "Epoch 19/50\n",
      "563/563 [==============================] - 1s 1ms/step - loss: 0.9075 - accuracy: 0.7926\n",
      "Epoch 20/50\n",
      "563/563 [==============================] - 1s 1ms/step - loss: 0.8807 - accuracy: 0.7996\n",
      "Epoch 21/50\n",
      "563/563 [==============================] - 1s 1ms/step - loss: 0.8562 - accuracy: 0.8029\n",
      "Epoch 22/50\n",
      "563/563 [==============================] - 1s 1ms/step - loss: 0.8331 - accuracy: 0.8069\n",
      "Epoch 23/50\n",
      "563/563 [==============================] - 1s 1ms/step - loss: 0.8123 - accuracy: 0.8134\n",
      "Epoch 24/50\n",
      "563/563 [==============================] - 1s 1ms/step - loss: 0.7919 - accuracy: 0.8178\n",
      "Epoch 25/50\n",
      "563/563 [==============================] - 1s 1ms/step - loss: 0.7737 - accuracy: 0.8214\n",
      "Epoch 26/50\n",
      "563/563 [==============================] - 1s 1ms/step - loss: 0.7554 - accuracy: 0.8261\n",
      "Epoch 27/50\n",
      "563/563 [==============================] - 1s 1ms/step - loss: 0.7389 - accuracy: 0.8292\n",
      "Epoch 28/50\n",
      "563/563 [==============================] - 1s 1ms/step - loss: 0.7229 - accuracy: 0.8319\n",
      "Epoch 29/50\n",
      "563/563 [==============================] - 1s 1ms/step - loss: 0.7077 - accuracy: 0.8353\n",
      "Epoch 30/50\n",
      "563/563 [==============================] - 1s 1ms/step - loss: 0.6934 - accuracy: 0.8384\n",
      "Epoch 31/50\n",
      "563/563 [==============================] - 1s 1ms/step - loss: 0.6794 - accuracy: 0.8414\n",
      "Epoch 32/50\n",
      "563/563 [==============================] - 1s 1ms/step - loss: 0.6659 - accuracy: 0.8448\n",
      "Epoch 33/50\n",
      "563/563 [==============================] - 1s 1ms/step - loss: 0.6537 - accuracy: 0.8477\n",
      "Epoch 34/50\n",
      "563/563 [==============================] - 1s 2ms/step - loss: 0.6411 - accuracy: 0.8505\n",
      "Epoch 35/50\n",
      "563/563 [==============================] - 1s 1ms/step - loss: 0.6291 - accuracy: 0.8528\n",
      "Epoch 36/50\n",
      "563/563 [==============================] - 1s 1ms/step - loss: 0.6179 - accuracy: 0.8546\n",
      "Epoch 37/50\n",
      "563/563 [==============================] - 1s 1ms/step - loss: 0.6069 - accuracy: 0.8572\n",
      "Epoch 38/50\n",
      "563/563 [==============================] - 1s 1ms/step - loss: 0.5964 - accuracy: 0.8590\n",
      "Epoch 39/50\n",
      "563/563 [==============================] - 1s 2ms/step - loss: 0.5858 - accuracy: 0.8618\n",
      "Epoch 40/50\n",
      "563/563 [==============================] - 1s 1ms/step - loss: 0.5760 - accuracy: 0.8647\n",
      "Epoch 41/50\n",
      "563/563 [==============================] - 1s 1ms/step - loss: 0.5663 - accuracy: 0.8664\n",
      "Epoch 42/50\n",
      "563/563 [==============================] - 1s 1ms/step - loss: 0.5572 - accuracy: 0.8681\n",
      "Epoch 43/50\n",
      "563/563 [==============================] - 1s 1ms/step - loss: 0.5481 - accuracy: 0.8702\n",
      "Epoch 44/50\n",
      "563/563 [==============================] - 1s 1ms/step - loss: 0.5393 - accuracy: 0.8729\n",
      "Epoch 45/50\n",
      "563/563 [==============================] - 1s 1ms/step - loss: 0.5305 - accuracy: 0.8739\n",
      "Epoch 46/50\n",
      "563/563 [==============================] - 1s 1ms/step - loss: 0.5221 - accuracy: 0.8761\n",
      "Epoch 47/50\n",
      "563/563 [==============================] - 1s 1ms/step - loss: 0.5139 - accuracy: 0.8784\n",
      "Epoch 48/50\n",
      "563/563 [==============================] - 1s 1ms/step - loss: 0.5065 - accuracy: 0.8799\n",
      "Epoch 49/50\n",
      "563/563 [==============================] - 1s 1ms/step - loss: 0.4988 - accuracy: 0.8825\n",
      "Epoch 50/50\n",
      "563/563 [==============================] - 1s 1ms/step - loss: 0.4915 - accuracy: 0.8840\n"
     ]
    },
    {
     "data": {
      "text/plain": [
       "<keras.callbacks.History at 0x169aeec9fa0>"
      ]
     },
     "execution_count": 43,
     "metadata": {},
     "output_type": "execute_result"
    }
   ],
   "source": [
    "NeuralNetwork.fit(x_train_f,y_train, batch_size = 50, epochs=50)"
   ]
  },
  {
   "cell_type": "code",
   "execution_count": 44,
   "id": "6ec48778",
   "metadata": {},
   "outputs": [
    {
     "name": "stdout",
     "output_type": "stream",
     "text": [
      "377/377 [==============================] - 0s 879us/step - loss: 0.6265 - accuracy: 0.8518\n",
      "0.6264773607254028 0.8517842292785645\n"
     ]
    }
   ],
   "source": [
    "(loss, acc) = NeuralNetwork.evaluate(x_test_f,y_test)\n",
    "print(loss,acc)"
   ]
  },
  {
   "cell_type": "code",
   "execution_count": 45,
   "id": "9c7f0c13",
   "metadata": {},
   "outputs": [],
   "source": [
    "NeuralNetwork = tf.keras.models.Sequential()\n",
    "NeuralNetwork.add(tf.keras.layers.Flatten())\n",
    "NeuralNetwork.add(tf.keras.layers.Dense(500, activation = tf.nn.relu))\n",
    "NeuralNetwork.add(tf.keras.layers.Dense(500, activation = tf.nn.relu))\n",
    "NeuralNetwork.add(tf.keras.layers.Dense(33, activation = tf.nn.softmax))\n",
    "NeuralNetwork.compile(optimizer='sgd',loss = 'sparse_categorical_crossentropy', metrics = ['accuracy'])"
   ]
  },
  {
   "cell_type": "code",
   "execution_count": 46,
   "id": "8caf9da9",
   "metadata": {},
   "outputs": [
    {
     "name": "stdout",
     "output_type": "stream",
     "text": [
      "Epoch 1/50\n",
      "563/563 [==============================] - 2s 4ms/step - loss: 3.4495 - accuracy: 0.1092\n",
      "Epoch 2/50\n",
      "563/563 [==============================] - 2s 4ms/step - loss: 3.3025 - accuracy: 0.3144\n",
      "Epoch 3/50\n",
      "563/563 [==============================] - 2s 4ms/step - loss: 3.0243 - accuracy: 0.4250\n",
      "Epoch 4/50\n",
      "563/563 [==============================] - 2s 4ms/step - loss: 2.5919 - accuracy: 0.4827\n",
      "Epoch 5/50\n",
      "563/563 [==============================] - 2s 4ms/step - loss: 2.1726 - accuracy: 0.5309\n",
      "Epoch 6/50\n",
      "563/563 [==============================] - 2s 4ms/step - loss: 1.8618 - accuracy: 0.5777\n",
      "Epoch 7/50\n",
      "563/563 [==============================] - 2s 4ms/step - loss: 1.6408 - accuracy: 0.6245\n",
      "Epoch 8/50\n",
      "563/563 [==============================] - 2s 4ms/step - loss: 1.4800 - accuracy: 0.6621\n",
      "Epoch 9/50\n",
      "563/563 [==============================] - 2s 4ms/step - loss: 1.3576 - accuracy: 0.6924\n",
      "Epoch 10/50\n",
      "563/563 [==============================] - 2s 4ms/step - loss: 1.2618 - accuracy: 0.7154\n",
      "Epoch 11/50\n",
      "563/563 [==============================] - 2s 4ms/step - loss: 1.1843 - accuracy: 0.7335\n",
      "Epoch 12/50\n",
      "563/563 [==============================] - 2s 4ms/step - loss: 1.1202 - accuracy: 0.7495\n",
      "Epoch 13/50\n",
      "563/563 [==============================] - 2s 4ms/step - loss: 1.0666 - accuracy: 0.7591\n",
      "Epoch 14/50\n",
      "563/563 [==============================] - 2s 4ms/step - loss: 1.0206 - accuracy: 0.7709\n",
      "Epoch 15/50\n",
      "563/563 [==============================] - 2s 4ms/step - loss: 0.9803 - accuracy: 0.7775\n",
      "Epoch 16/50\n",
      "563/563 [==============================] - 2s 4ms/step - loss: 0.9447 - accuracy: 0.7874\n",
      "Epoch 17/50\n",
      "563/563 [==============================] - 2s 4ms/step - loss: 0.9130 - accuracy: 0.7925\n",
      "Epoch 18/50\n",
      "563/563 [==============================] - 2s 4ms/step - loss: 0.8841 - accuracy: 0.7987\n",
      "Epoch 19/50\n",
      "563/563 [==============================] - 2s 4ms/step - loss: 0.8570 - accuracy: 0.8056\n",
      "Epoch 20/50\n",
      "563/563 [==============================] - 2s 4ms/step - loss: 0.8325 - accuracy: 0.8095\n",
      "Epoch 21/50\n",
      "563/563 [==============================] - 2s 4ms/step - loss: 0.8100 - accuracy: 0.8148\n",
      "Epoch 22/50\n",
      "563/563 [==============================] - 2s 4ms/step - loss: 0.7888 - accuracy: 0.8187\n",
      "Epoch 23/50\n",
      "563/563 [==============================] - 2s 4ms/step - loss: 0.7690 - accuracy: 0.8229\n",
      "Epoch 24/50\n",
      "563/563 [==============================] - 2s 4ms/step - loss: 0.7500 - accuracy: 0.8280\n",
      "Epoch 25/50\n",
      "563/563 [==============================] - 2s 4ms/step - loss: 0.7319 - accuracy: 0.8303\n",
      "Epoch 26/50\n",
      "563/563 [==============================] - 2s 4ms/step - loss: 0.7149 - accuracy: 0.8339\n",
      "Epoch 27/50\n",
      "563/563 [==============================] - 2s 4ms/step - loss: 0.6993 - accuracy: 0.8388\n",
      "Epoch 28/50\n",
      "563/563 [==============================] - 2s 4ms/step - loss: 0.6840 - accuracy: 0.8417\n",
      "Epoch 29/50\n",
      "563/563 [==============================] - 2s 4ms/step - loss: 0.6687 - accuracy: 0.8439\n",
      "Epoch 30/50\n",
      "563/563 [==============================] - 2s 4ms/step - loss: 0.6552 - accuracy: 0.8488\n",
      "Epoch 31/50\n",
      "563/563 [==============================] - 2s 4ms/step - loss: 0.6412 - accuracy: 0.8502\n",
      "Epoch 32/50\n",
      "563/563 [==============================] - 2s 4ms/step - loss: 0.6291 - accuracy: 0.8525\n",
      "Epoch 33/50\n",
      "563/563 [==============================] - 2s 4ms/step - loss: 0.6160 - accuracy: 0.8562\n",
      "Epoch 34/50\n",
      "563/563 [==============================] - 2s 4ms/step - loss: 0.6043 - accuracy: 0.8588\n",
      "Epoch 35/50\n",
      "563/563 [==============================] - 2s 4ms/step - loss: 0.5927 - accuracy: 0.8613\n",
      "Epoch 36/50\n",
      "563/563 [==============================] - 2s 4ms/step - loss: 0.5819 - accuracy: 0.8639\n",
      "Epoch 37/50\n",
      "563/563 [==============================] - 2s 4ms/step - loss: 0.5711 - accuracy: 0.8660\n",
      "Epoch 38/50\n",
      "563/563 [==============================] - 2s 4ms/step - loss: 0.5607 - accuracy: 0.8682\n",
      "Epoch 39/50\n",
      "563/563 [==============================] - 2s 4ms/step - loss: 0.5506 - accuracy: 0.8705\n",
      "Epoch 40/50\n",
      "563/563 [==============================] - 2s 4ms/step - loss: 0.5408 - accuracy: 0.8720\n",
      "Epoch 41/50\n",
      "563/563 [==============================] - 2s 4ms/step - loss: 0.5313 - accuracy: 0.8747\n",
      "Epoch 42/50\n",
      "563/563 [==============================] - 2s 4ms/step - loss: 0.5220 - accuracy: 0.8765\n",
      "Epoch 43/50\n",
      "563/563 [==============================] - 2s 4ms/step - loss: 0.5131 - accuracy: 0.8785\n",
      "Epoch 44/50\n",
      "563/563 [==============================] - 2s 4ms/step - loss: 0.5044 - accuracy: 0.8802\n",
      "Epoch 45/50\n",
      "563/563 [==============================] - 2s 4ms/step - loss: 0.4961 - accuracy: 0.8839\n",
      "Epoch 46/50\n",
      "563/563 [==============================] - 2s 4ms/step - loss: 0.4879 - accuracy: 0.8851\n",
      "Epoch 47/50\n",
      "563/563 [==============================] - 2s 4ms/step - loss: 0.4799 - accuracy: 0.8871\n",
      "Epoch 48/50\n",
      "563/563 [==============================] - 2s 4ms/step - loss: 0.4722 - accuracy: 0.8890\n",
      "Epoch 49/50\n",
      "563/563 [==============================] - 2s 4ms/step - loss: 0.4644 - accuracy: 0.8901\n",
      "Epoch 50/50\n",
      "563/563 [==============================] - 2s 4ms/step - loss: 0.4570 - accuracy: 0.8921\n"
     ]
    },
    {
     "data": {
      "text/plain": [
       "<keras.callbacks.History at 0x169aefa4ca0>"
      ]
     },
     "execution_count": 46,
     "metadata": {},
     "output_type": "execute_result"
    }
   ],
   "source": [
    "NeuralNetwork.fit(x_train_f,y_train, batch_size = 50, epochs=50)"
   ]
  },
  {
   "cell_type": "code",
   "execution_count": 47,
   "id": "033d2faf",
   "metadata": {},
   "outputs": [
    {
     "name": "stdout",
     "output_type": "stream",
     "text": [
      "377/377 [==============================] - 1s 2ms/step - loss: 0.5978 - accuracy: 0.8575\n",
      "0.5978134870529175 0.8575103878974915\n"
     ]
    }
   ],
   "source": [
    "(loss, acc) = NeuralNetwork.evaluate(x_test_f,y_test)\n",
    "print(loss,acc)"
   ]
  },
  {
   "cell_type": "code",
   "execution_count": 48,
   "id": "25c96465",
   "metadata": {},
   "outputs": [],
   "source": [
    "NeuralNetwork = tf.keras.models.Sequential()\n",
    "NeuralNetwork.add(tf.keras.layers.Flatten())\n",
    "NeuralNetwork.add(tf.keras.layers.Dense(1500, activation = tf.nn.relu))\n",
    "NeuralNetwork.add(tf.keras.layers.Dense(33, activation = tf.nn.softmax))\n",
    "NeuralNetwork.compile(optimizer='sgd',loss = 'sparse_categorical_crossentropy', metrics = ['accuracy'])"
   ]
  },
  {
   "cell_type": "code",
   "execution_count": 49,
   "id": "40cd72d7",
   "metadata": {},
   "outputs": [
    {
     "name": "stdout",
     "output_type": "stream",
     "text": [
      "Epoch 1/50\n",
      "563/563 [==============================] - 3s 6ms/step - loss: 3.3893 - accuracy: 0.2001\n",
      "Epoch 2/50\n",
      "563/563 [==============================] - 3s 5ms/step - loss: 3.1530 - accuracy: 0.4086\n",
      "Epoch 3/50\n",
      "563/563 [==============================] - 3s 5ms/step - loss: 2.8876 - accuracy: 0.4689\n",
      "Epoch 4/50\n",
      "563/563 [==============================] - 3s 5ms/step - loss: 2.6137 - accuracy: 0.5072\n",
      "Epoch 5/50\n",
      "563/563 [==============================] - 3s 5ms/step - loss: 2.3690 - accuracy: 0.5373\n",
      "Epoch 6/50\n",
      "563/563 [==============================] - 3s 5ms/step - loss: 2.1683 - accuracy: 0.5594\n",
      "Epoch 7/50\n",
      "563/563 [==============================] - 3s 5ms/step - loss: 2.0074 - accuracy: 0.5876\n",
      "Epoch 8/50\n",
      "563/563 [==============================] - 3s 5ms/step - loss: 1.8770 - accuracy: 0.6073\n",
      "Epoch 9/50\n",
      "563/563 [==============================] - 3s 6ms/step - loss: 1.7687 - accuracy: 0.6304\n",
      "Epoch 10/50\n",
      "563/563 [==============================] - 3s 6ms/step - loss: 1.6776 - accuracy: 0.6466\n",
      "Epoch 11/50\n",
      "563/563 [==============================] - 3s 5ms/step - loss: 1.5991 - accuracy: 0.6626\n",
      "Epoch 12/50\n",
      "563/563 [==============================] - 3s 5ms/step - loss: 1.5308 - accuracy: 0.6787\n",
      "Epoch 13/50\n",
      "563/563 [==============================] - 3s 5ms/step - loss: 1.4707 - accuracy: 0.6880\n",
      "Epoch 14/50\n",
      "563/563 [==============================] - 3s 5ms/step - loss: 1.4175 - accuracy: 0.7003\n",
      "Epoch 15/50\n",
      "563/563 [==============================] - 3s 5ms/step - loss: 1.3699 - accuracy: 0.7117\n",
      "Epoch 16/50\n",
      "563/563 [==============================] - 3s 5ms/step - loss: 1.3271 - accuracy: 0.7217\n",
      "Epoch 17/50\n",
      "563/563 [==============================] - 3s 5ms/step - loss: 1.2883 - accuracy: 0.7292\n",
      "Epoch 18/50\n",
      "563/563 [==============================] - 3s 5ms/step - loss: 1.2532 - accuracy: 0.7357\n",
      "Epoch 19/50\n",
      "563/563 [==============================] - 3s 5ms/step - loss: 1.2209 - accuracy: 0.7451\n",
      "Epoch 20/50\n",
      "563/563 [==============================] - 3s 5ms/step - loss: 1.1913 - accuracy: 0.7496\n",
      "Epoch 21/50\n",
      "563/563 [==============================] - 3s 5ms/step - loss: 1.1638 - accuracy: 0.7569\n",
      "Epoch 22/50\n",
      "563/563 [==============================] - 3s 5ms/step - loss: 1.1385 - accuracy: 0.7599\n",
      "Epoch 23/50\n",
      "563/563 [==============================] - 3s 5ms/step - loss: 1.1151 - accuracy: 0.7653\n",
      "Epoch 24/50\n",
      "563/563 [==============================] - 3s 6ms/step - loss: 1.0932 - accuracy: 0.7699\n",
      "Epoch 25/50\n",
      "563/563 [==============================] - 3s 6ms/step - loss: 1.0725 - accuracy: 0.7750\n",
      "Epoch 26/50\n",
      "563/563 [==============================] - 3s 5ms/step - loss: 1.0533 - accuracy: 0.7770\n",
      "Epoch 27/50\n",
      "563/563 [==============================] - 3s 6ms/step - loss: 1.0353 - accuracy: 0.7819\n",
      "Epoch 28/50\n",
      "563/563 [==============================] - 3s 5ms/step - loss: 1.0181 - accuracy: 0.7842\n",
      "Epoch 29/50\n",
      "563/563 [==============================] - 3s 6ms/step - loss: 1.0019 - accuracy: 0.7890\n",
      "Epoch 30/50\n",
      "563/563 [==============================] - 3s 5ms/step - loss: 0.9865 - accuracy: 0.7905\n",
      "Epoch 31/50\n",
      "563/563 [==============================] - 3s 5ms/step - loss: 0.9719 - accuracy: 0.7953\n",
      "Epoch 32/50\n",
      "563/563 [==============================] - 3s 5ms/step - loss: 0.9580 - accuracy: 0.7971\n",
      "Epoch 33/50\n",
      "563/563 [==============================] - 3s 5ms/step - loss: 0.9447 - accuracy: 0.7995\n",
      "Epoch 34/50\n",
      "563/563 [==============================] - 3s 5ms/step - loss: 0.9319 - accuracy: 0.8032\n",
      "Epoch 35/50\n",
      "563/563 [==============================] - 3s 5ms/step - loss: 0.9196 - accuracy: 0.8036\n",
      "Epoch 36/50\n",
      "563/563 [==============================] - 3s 5ms/step - loss: 0.9080 - accuracy: 0.8063\n",
      "Epoch 37/50\n",
      "563/563 [==============================] - 3s 5ms/step - loss: 0.8966 - accuracy: 0.8083\n",
      "Epoch 38/50\n",
      "563/563 [==============================] - 3s 5ms/step - loss: 0.8857 - accuracy: 0.8107\n",
      "Epoch 39/50\n",
      "563/563 [==============================] - 3s 5ms/step - loss: 0.8751 - accuracy: 0.8124\n",
      "Epoch 40/50\n",
      "563/563 [==============================] - 3s 5ms/step - loss: 0.8651 - accuracy: 0.8144\n",
      "Epoch 41/50\n",
      "563/563 [==============================] - 3s 5ms/step - loss: 0.8554 - accuracy: 0.8156\n",
      "Epoch 42/50\n",
      "563/563 [==============================] - 3s 5ms/step - loss: 0.8459 - accuracy: 0.8169\n",
      "Epoch 43/50\n",
      "563/563 [==============================] - 3s 5ms/step - loss: 0.8367 - accuracy: 0.8187\n",
      "Epoch 44/50\n",
      "563/563 [==============================] - 3s 5ms/step - loss: 0.8277 - accuracy: 0.8206\n",
      "Epoch 45/50\n",
      "563/563 [==============================] - 3s 5ms/step - loss: 0.8191 - accuracy: 0.8220\n",
      "Epoch 46/50\n",
      "563/563 [==============================] - 3s 5ms/step - loss: 0.8107 - accuracy: 0.8241\n",
      "Epoch 47/50\n",
      "563/563 [==============================] - 3s 5ms/step - loss: 0.8025 - accuracy: 0.8256\n",
      "Epoch 48/50\n",
      "563/563 [==============================] - 3s 5ms/step - loss: 0.7946 - accuracy: 0.8271\n",
      "Epoch 49/50\n",
      "563/563 [==============================] - 3s 5ms/step - loss: 0.7868 - accuracy: 0.8288\n",
      "Epoch 50/50\n",
      "563/563 [==============================] - 3s 6ms/step - loss: 0.7792 - accuracy: 0.8304\n"
     ]
    },
    {
     "data": {
      "text/plain": [
       "<keras.callbacks.History at 0x169af170fd0>"
      ]
     },
     "execution_count": 49,
     "metadata": {},
     "output_type": "execute_result"
    }
   ],
   "source": [
    "NeuralNetwork.fit(x_train_f,y_train, batch_size = 50, epochs=50)"
   ]
  },
  {
   "cell_type": "code",
   "execution_count": 50,
   "id": "b86b9b55",
   "metadata": {},
   "outputs": [
    {
     "name": "stdout",
     "output_type": "stream",
     "text": [
      "377/377 [==============================] - 2s 2ms/step - loss: 0.8608 - accuracy: 0.8050\n",
      "0.860824704170227 0.8049792647361755\n"
     ]
    }
   ],
   "source": [
    "(loss, acc) = NeuralNetwork.evaluate(x_test_f,y_test)\n",
    "print(loss,acc)"
   ]
  },
  {
   "cell_type": "code",
   "execution_count": 51,
   "id": "36e1ca5e",
   "metadata": {},
   "outputs": [],
   "source": [
    "NeuralNetwork = tf.keras.models.Sequential()\n",
    "NeuralNetwork.add(tf.keras.layers.Flatten())\n",
    "NeuralNetwork.add(tf.keras.layers.Dense(2000, activation = tf.nn.relu))\n",
    "NeuralNetwork.add(tf.keras.layers.Dense(33, activation = tf.nn.softmax))\n",
    "NeuralNetwork.compile(optimizer='sgd',loss = 'sparse_categorical_crossentropy', metrics = ['accuracy'])"
   ]
  },
  {
   "cell_type": "code",
   "execution_count": 52,
   "id": "aa7af656",
   "metadata": {},
   "outputs": [
    {
     "name": "stdout",
     "output_type": "stream",
     "text": [
      "Epoch 1/50\n",
      "563/563 [==============================] - 4s 7ms/step - loss: 3.3924 - accuracy: 0.2012\n",
      "Epoch 2/50\n",
      "563/563 [==============================] - 4s 7ms/step - loss: 3.1475 - accuracy: 0.4233\n",
      "Epoch 3/50\n",
      "563/563 [==============================] - 4s 7ms/step - loss: 2.8767 - accuracy: 0.4766\n",
      "Epoch 4/50\n",
      "563/563 [==============================] - 4s 7ms/step - loss: 2.6006 - accuracy: 0.5104\n",
      "Epoch 5/50\n",
      "563/563 [==============================] - 4s 7ms/step - loss: 2.3554 - accuracy: 0.5413\n",
      "Epoch 6/50\n",
      "563/563 [==============================] - 4s 7ms/step - loss: 2.1549 - accuracy: 0.5659\n",
      "Epoch 7/50\n",
      "563/563 [==============================] - 4s 7ms/step - loss: 1.9945 - accuracy: 0.5917\n",
      "Epoch 8/50\n",
      "563/563 [==============================] - 4s 8ms/step - loss: 1.8646 - accuracy: 0.6115\n",
      "Epoch 9/50\n",
      "563/563 [==============================] - 4s 7ms/step - loss: 1.7572 - accuracy: 0.6326\n",
      "Epoch 10/50\n",
      "563/563 [==============================] - 4s 7ms/step - loss: 1.6668 - accuracy: 0.6473\n",
      "Epoch 11/50\n",
      "563/563 [==============================] - 4s 7ms/step - loss: 1.5893 - accuracy: 0.6635\n",
      "Epoch 12/50\n",
      "563/563 [==============================] - 4s 7ms/step - loss: 1.5221 - accuracy: 0.6758\n",
      "Epoch 13/50\n",
      "563/563 [==============================] - 4s 7ms/step - loss: 1.4630 - accuracy: 0.6880\n",
      "Epoch 14/50\n",
      "563/563 [==============================] - 4s 7ms/step - loss: 1.4106 - accuracy: 0.6991\n",
      "Epoch 15/50\n",
      "563/563 [==============================] - 4s 7ms/step - loss: 1.3638 - accuracy: 0.7094\n",
      "Epoch 16/50\n",
      "563/563 [==============================] - 4s 7ms/step - loss: 1.3215 - accuracy: 0.7193\n",
      "Epoch 17/50\n",
      "563/563 [==============================] - 4s 7ms/step - loss: 1.2832 - accuracy: 0.7287\n",
      "Epoch 18/50\n",
      "563/563 [==============================] - 4s 7ms/step - loss: 1.2484 - accuracy: 0.7358\n",
      "Epoch 19/50\n",
      "563/563 [==============================] - 4s 7ms/step - loss: 1.2164 - accuracy: 0.7462\n",
      "Epoch 20/50\n",
      "563/563 [==============================] - 4s 7ms/step - loss: 1.1873 - accuracy: 0.7492\n",
      "Epoch 21/50\n",
      "563/563 [==============================] - 4s 7ms/step - loss: 1.1600 - accuracy: 0.7572\n",
      "Epoch 22/50\n",
      "563/563 [==============================] - 4s 7ms/step - loss: 1.1350 - accuracy: 0.7618\n",
      "Epoch 23/50\n",
      "563/563 [==============================] - 4s 7ms/step - loss: 1.1116 - accuracy: 0.7668\n",
      "Epoch 24/50\n",
      "563/563 [==============================] - 4s 7ms/step - loss: 1.0897 - accuracy: 0.7720\n",
      "Epoch 25/50\n",
      "563/563 [==============================] - 4s 7ms/step - loss: 1.0693 - accuracy: 0.7752\n",
      "Epoch 26/50\n",
      "563/563 [==============================] - 4s 7ms/step - loss: 1.0500 - accuracy: 0.7791\n",
      "Epoch 27/50\n",
      "563/563 [==============================] - 4s 7ms/step - loss: 1.0319 - accuracy: 0.7834\n",
      "Epoch 28/50\n",
      "563/563 [==============================] - 4s 7ms/step - loss: 1.0148 - accuracy: 0.7867\n",
      "Epoch 29/50\n",
      "563/563 [==============================] - 4s 7ms/step - loss: 0.9985 - accuracy: 0.7907\n",
      "Epoch 30/50\n",
      "563/563 [==============================] - 4s 7ms/step - loss: 0.9832 - accuracy: 0.7936\n",
      "Epoch 31/50\n",
      "563/563 [==============================] - 4s 7ms/step - loss: 0.9685 - accuracy: 0.7956\n",
      "Epoch 32/50\n",
      "563/563 [==============================] - 4s 7ms/step - loss: 0.9545 - accuracy: 0.7990\n",
      "Epoch 33/50\n",
      "563/563 [==============================] - 4s 7ms/step - loss: 0.9411 - accuracy: 0.8011\n",
      "Epoch 34/50\n",
      "563/563 [==============================] - 4s 7ms/step - loss: 0.9284 - accuracy: 0.8032\n",
      "Epoch 35/50\n",
      "563/563 [==============================] - 4s 7ms/step - loss: 0.9161 - accuracy: 0.8056\n",
      "Epoch 36/50\n",
      "563/563 [==============================] - 4s 7ms/step - loss: 0.9043 - accuracy: 0.8076\n",
      "Epoch 37/50\n",
      "563/563 [==============================] - 4s 7ms/step - loss: 0.8930 - accuracy: 0.8101\n",
      "Epoch 38/50\n",
      "563/563 [==============================] - 4s 7ms/step - loss: 0.8821 - accuracy: 0.8116\n",
      "Epoch 39/50\n",
      "563/563 [==============================] - 4s 7ms/step - loss: 0.8715 - accuracy: 0.8141\n",
      "Epoch 40/50\n",
      "563/563 [==============================] - 4s 7ms/step - loss: 0.8614 - accuracy: 0.8154\n",
      "Epoch 41/50\n",
      "563/563 [==============================] - 4s 7ms/step - loss: 0.8515 - accuracy: 0.8172\n",
      "Epoch 42/50\n",
      "563/563 [==============================] - 4s 7ms/step - loss: 0.8421 - accuracy: 0.8177\n",
      "Epoch 43/50\n",
      "563/563 [==============================] - 4s 7ms/step - loss: 0.8326 - accuracy: 0.8199\n",
      "Epoch 44/50\n",
      "563/563 [==============================] - 4s 7ms/step - loss: 0.8237 - accuracy: 0.8215\n",
      "Epoch 45/50\n",
      "563/563 [==============================] - 4s 7ms/step - loss: 0.8151 - accuracy: 0.8240\n",
      "Epoch 46/50\n",
      "563/563 [==============================] - 4s 7ms/step - loss: 0.8066 - accuracy: 0.8253\n",
      "Epoch 47/50\n",
      "563/563 [==============================] - 4s 7ms/step - loss: 0.7985 - accuracy: 0.8262\n",
      "Epoch 48/50\n",
      "563/563 [==============================] - 4s 7ms/step - loss: 0.7904 - accuracy: 0.8278\n",
      "Epoch 49/50\n",
      "563/563 [==============================] - 4s 7ms/step - loss: 0.7828 - accuracy: 0.8294\n",
      "Epoch 50/50\n",
      "563/563 [==============================] - 4s 7ms/step - loss: 0.7752 - accuracy: 0.8305\n"
     ]
    },
    {
     "data": {
      "text/plain": [
       "<keras.callbacks.History at 0x169aeefd100>"
      ]
     },
     "execution_count": 52,
     "metadata": {},
     "output_type": "execute_result"
    }
   ],
   "source": [
    "NeuralNetwork.fit(x_train_f,y_train, batch_size = 50, epochs=50)"
   ]
  },
  {
   "cell_type": "code",
   "execution_count": 53,
   "id": "8c3dbed9",
   "metadata": {},
   "outputs": [
    {
     "name": "stdout",
     "output_type": "stream",
     "text": [
      "377/377 [==============================] - 1s 3ms/step - loss: 0.8581 - accuracy: 0.8056\n",
      "0.8580532670021057 0.8056431412696838\n"
     ]
    }
   ],
   "source": [
    "(loss, acc) = NeuralNetwork.evaluate(x_test_f,y_test)\n",
    "print(loss,acc)"
   ]
  },
  {
   "cell_type": "code",
   "execution_count": 54,
   "id": "4b08ef91",
   "metadata": {},
   "outputs": [],
   "source": [
    "NeuralNetwork = tf.keras.models.Sequential()\n",
    "NeuralNetwork.add(tf.keras.layers.Flatten())\n",
    "NeuralNetwork.add(tf.keras.layers.Dense(700, activation = tf.nn.relu))\n",
    "NeuralNetwork.add(tf.keras.layers.Dense(33, activation = tf.nn.softmax))\n",
    "NeuralNetwork.compile(optimizer='sgd',loss = 'sparse_categorical_crossentropy', metrics = ['accuracy'])\n"
   ]
  },
  {
   "cell_type": "code",
   "execution_count": 55,
   "id": "437fc4e4",
   "metadata": {},
   "outputs": [
    {
     "name": "stdout",
     "output_type": "stream",
     "text": [
      "Epoch 1/50\n",
      "563/563 [==============================] - 2s 3ms/step - loss: 3.3975 - accuracy: 0.1516\n",
      "Epoch 2/50\n",
      "563/563 [==============================] - 2s 3ms/step - loss: 3.1793 - accuracy: 0.3591\n",
      "Epoch 3/50\n",
      "563/563 [==============================] - 2s 3ms/step - loss: 2.9272 - accuracy: 0.4366\n",
      "Epoch 4/50\n",
      "563/563 [==============================] - 2s 3ms/step - loss: 2.6612 - accuracy: 0.4831\n",
      "Epoch 5/50\n",
      "563/563 [==============================] - 2s 3ms/step - loss: 2.4181 - accuracy: 0.5147\n",
      "Epoch 6/50\n",
      "563/563 [==============================] - 2s 3ms/step - loss: 2.2140 - accuracy: 0.5480\n",
      "Epoch 7/50\n",
      "563/563 [==============================] - 2s 3ms/step - loss: 2.0483 - accuracy: 0.5717\n",
      "Epoch 8/50\n",
      "563/563 [==============================] - 2s 3ms/step - loss: 1.9132 - accuracy: 0.5979\n",
      "Epoch 9/50\n",
      "563/563 [==============================] - 2s 3ms/step - loss: 1.8012 - accuracy: 0.6164\n",
      "Epoch 10/50\n",
      "563/563 [==============================] - 2s 3ms/step - loss: 1.7069 - accuracy: 0.6362\n",
      "Epoch 11/50\n",
      "563/563 [==============================] - 2s 3ms/step - loss: 1.6262 - accuracy: 0.6524\n",
      "Epoch 12/50\n",
      "563/563 [==============================] - 2s 3ms/step - loss: 1.5565 - accuracy: 0.6659\n",
      "Epoch 13/50\n",
      "563/563 [==============================] - 2s 3ms/step - loss: 1.4954 - accuracy: 0.6786\n",
      "Epoch 14/50\n",
      "563/563 [==============================] - 2s 3ms/step - loss: 1.4413 - accuracy: 0.6886\n",
      "Epoch 15/50\n",
      "563/563 [==============================] - 2s 3ms/step - loss: 1.3931 - accuracy: 0.7006\n",
      "Epoch 16/50\n",
      "563/563 [==============================] - 2s 3ms/step - loss: 1.3499 - accuracy: 0.7097\n",
      "Epoch 17/50\n",
      "563/563 [==============================] - 2s 3ms/step - loss: 1.3107 - accuracy: 0.7193\n",
      "Epoch 18/50\n",
      "563/563 [==============================] - 2s 3ms/step - loss: 1.2749 - accuracy: 0.7269\n",
      "Epoch 19/50\n",
      "563/563 [==============================] - 2s 3ms/step - loss: 1.2422 - accuracy: 0.7361\n",
      "Epoch 20/50\n",
      "563/563 [==============================] - 2s 3ms/step - loss: 1.2123 - accuracy: 0.7421\n",
      "Epoch 21/50\n",
      "563/563 [==============================] - 2s 3ms/step - loss: 1.1846 - accuracy: 0.7500\n",
      "Epoch 22/50\n",
      "563/563 [==============================] - 2s 3ms/step - loss: 1.1590 - accuracy: 0.7538\n",
      "Epoch 23/50\n",
      "563/563 [==============================] - 2s 3ms/step - loss: 1.1351 - accuracy: 0.7598\n",
      "Epoch 24/50\n",
      "563/563 [==============================] - 2s 3ms/step - loss: 1.1129 - accuracy: 0.7646\n",
      "Epoch 25/50\n",
      "563/563 [==============================] - 2s 3ms/step - loss: 1.0921 - accuracy: 0.7697\n",
      "Epoch 26/50\n",
      "563/563 [==============================] - 2s 3ms/step - loss: 1.0726 - accuracy: 0.7729\n",
      "Epoch 27/50\n",
      "563/563 [==============================] - 2s 3ms/step - loss: 1.0543 - accuracy: 0.7768\n",
      "Epoch 28/50\n",
      "563/563 [==============================] - 2s 3ms/step - loss: 1.0370 - accuracy: 0.7809\n",
      "Epoch 29/50\n",
      "563/563 [==============================] - 2s 3ms/step - loss: 1.0206 - accuracy: 0.7831\n",
      "Epoch 30/50\n",
      "563/563 [==============================] - 2s 3ms/step - loss: 1.0049 - accuracy: 0.7877\n",
      "Epoch 31/50\n",
      "563/563 [==============================] - 2s 3ms/step - loss: 0.9902 - accuracy: 0.7900\n",
      "Epoch 32/50\n",
      "563/563 [==============================] - 2s 3ms/step - loss: 0.9761 - accuracy: 0.7931\n",
      "Epoch 33/50\n",
      "563/563 [==============================] - 2s 3ms/step - loss: 0.9626 - accuracy: 0.7947\n",
      "Epoch 34/50\n",
      "563/563 [==============================] - 2s 3ms/step - loss: 0.9498 - accuracy: 0.7974\n",
      "Epoch 35/50\n",
      "563/563 [==============================] - 2s 3ms/step - loss: 0.9375 - accuracy: 0.7999\n",
      "Epoch 36/50\n",
      "563/563 [==============================] - 2s 3ms/step - loss: 0.9256 - accuracy: 0.8012\n",
      "Epoch 37/50\n",
      "563/563 [==============================] - 2s 3ms/step - loss: 0.9141 - accuracy: 0.8031\n",
      "Epoch 38/50\n",
      "563/563 [==============================] - 2s 3ms/step - loss: 0.9033 - accuracy: 0.8058\n",
      "Epoch 39/50\n",
      "563/563 [==============================] - 2s 3ms/step - loss: 0.8927 - accuracy: 0.8072\n",
      "Epoch 40/50\n",
      "563/563 [==============================] - 2s 3ms/step - loss: 0.8825 - accuracy: 0.8094\n",
      "Epoch 41/50\n",
      "563/563 [==============================] - 2s 3ms/step - loss: 0.8726 - accuracy: 0.8125\n",
      "Epoch 42/50\n",
      "563/563 [==============================] - 2s 3ms/step - loss: 0.8631 - accuracy: 0.8133\n",
      "Epoch 43/50\n",
      "563/563 [==============================] - 2s 3ms/step - loss: 0.8538 - accuracy: 0.8154\n",
      "Epoch 44/50\n",
      "563/563 [==============================] - 2s 3ms/step - loss: 0.8449 - accuracy: 0.8165\n",
      "Epoch 45/50\n",
      "563/563 [==============================] - 2s 3ms/step - loss: 0.8362 - accuracy: 0.8177\n",
      "Epoch 46/50\n",
      "563/563 [==============================] - 2s 3ms/step - loss: 0.8277 - accuracy: 0.8195\n",
      "Epoch 47/50\n",
      "563/563 [==============================] - 2s 3ms/step - loss: 0.8194 - accuracy: 0.8217\n",
      "Epoch 48/50\n",
      "563/563 [==============================] - 2s 3ms/step - loss: 0.8113 - accuracy: 0.8222\n",
      "Epoch 49/50\n",
      "563/563 [==============================] - 2s 3ms/step - loss: 0.8037 - accuracy: 0.8242\n",
      "Epoch 50/50\n",
      "563/563 [==============================] - 2s 3ms/step - loss: 0.7961 - accuracy: 0.8255\n"
     ]
    },
    {
     "data": {
      "text/plain": [
       "<keras.callbacks.History at 0x169af249b50>"
      ]
     },
     "execution_count": 55,
     "metadata": {},
     "output_type": "execute_result"
    }
   ],
   "source": [
    "NeuralNetwork.fit(x_train_f,y_train, batch_size = 50, epochs=50)"
   ]
  },
  {
   "cell_type": "code",
   "execution_count": 56,
   "id": "33f271f4",
   "metadata": {},
   "outputs": [],
   "source": [
    "NeuralNetwork = tf.keras.models.Sequential()\n",
    "NeuralNetwork.add(tf.keras.layers.Flatten())\n",
    "NeuralNetwork.add(tf.keras.layers.Dense(700, activation = tf.nn.relu))\n",
    "NeuralNetwork.add(tf.keras.layers.Dense(700, activation = tf.nn.relu))\n",
    "NeuralNetwork.add(tf.keras.layers.Dense(33, activation = tf.nn.softmax))\n",
    "NeuralNetwork.compile(optimizer='sgd',loss = 'sparse_categorical_crossentropy', metrics = ['accuracy'])"
   ]
  },
  {
   "cell_type": "code",
   "execution_count": 57,
   "id": "b3f383fe",
   "metadata": {},
   "outputs": [
    {
     "name": "stdout",
     "output_type": "stream",
     "text": [
      "Epoch 1/50\n",
      "563/563 [==============================] - 3s 6ms/step - loss: 3.4394 - accuracy: 0.1351\n",
      "Epoch 2/50\n",
      "563/563 [==============================] - 3s 6ms/step - loss: 3.2668 - accuracy: 0.3353\n",
      "Epoch 3/50\n",
      "563/563 [==============================] - 3s 6ms/step - loss: 2.9526 - accuracy: 0.4247\n",
      "Epoch 4/50\n",
      "563/563 [==============================] - 3s 6ms/step - loss: 2.5124 - accuracy: 0.4901\n",
      "Epoch 5/50\n",
      "563/563 [==============================] - 3s 6ms/step - loss: 2.1115 - accuracy: 0.5469\n",
      "Epoch 6/50\n",
      "563/563 [==============================] - 3s 6ms/step - loss: 1.8178 - accuracy: 0.5921\n",
      "Epoch 7/50\n",
      "563/563 [==============================] - 3s 5ms/step - loss: 1.6077 - accuracy: 0.6331\n",
      "Epoch 8/50\n",
      "563/563 [==============================] - 3s 5ms/step - loss: 1.4524 - accuracy: 0.6684\n",
      "Epoch 9/50\n",
      "563/563 [==============================] - 3s 5ms/step - loss: 1.3340 - accuracy: 0.6972\n",
      "Epoch 10/50\n",
      "563/563 [==============================] - 3s 5ms/step - loss: 1.2411 - accuracy: 0.7227\n",
      "Epoch 11/50\n",
      "563/563 [==============================] - 3s 5ms/step - loss: 1.1657 - accuracy: 0.7423\n",
      "Epoch 12/50\n",
      "563/563 [==============================] - 3s 6ms/step - loss: 1.1027 - accuracy: 0.7562\n",
      "Epoch 13/50\n",
      "563/563 [==============================] - 3s 6ms/step - loss: 1.0491 - accuracy: 0.7671\n",
      "Epoch 14/50\n",
      "563/563 [==============================] - 3s 6ms/step - loss: 1.0030 - accuracy: 0.7763\n",
      "Epoch 15/50\n",
      "563/563 [==============================] - 3s 6ms/step - loss: 0.9623 - accuracy: 0.7849\n",
      "Epoch 16/50\n",
      "563/563 [==============================] - 3s 5ms/step - loss: 0.9261 - accuracy: 0.7935\n",
      "Epoch 17/50\n",
      "563/563 [==============================] - 3s 5ms/step - loss: 0.8944 - accuracy: 0.7994\n",
      "Epoch 18/50\n",
      "563/563 [==============================] - 3s 6ms/step - loss: 0.8650 - accuracy: 0.8044\n",
      "Epoch 19/50\n",
      "563/563 [==============================] - 3s 6ms/step - loss: 0.8381 - accuracy: 0.8105\n",
      "Epoch 20/50\n",
      "563/563 [==============================] - 3s 6ms/step - loss: 0.8136 - accuracy: 0.8153\n",
      "Epoch 21/50\n",
      "563/563 [==============================] - 3s 6ms/step - loss: 0.7903 - accuracy: 0.8206\n",
      "Epoch 22/50\n",
      "563/563 [==============================] - 3s 6ms/step - loss: 0.7690 - accuracy: 0.8234\n",
      "Epoch 23/50\n",
      "563/563 [==============================] - 3s 6ms/step - loss: 0.7492 - accuracy: 0.8292\n",
      "Epoch 24/50\n",
      "563/563 [==============================] - 3s 5ms/step - loss: 0.7303 - accuracy: 0.8324\n",
      "Epoch 25/50\n",
      "563/563 [==============================] - 3s 6ms/step - loss: 0.7125 - accuracy: 0.8365\n",
      "Epoch 26/50\n",
      "563/563 [==============================] - 3s 6ms/step - loss: 0.6956 - accuracy: 0.8404\n",
      "Epoch 27/50\n",
      "563/563 [==============================] - 3s 6ms/step - loss: 0.6797 - accuracy: 0.8427\n",
      "Epoch 28/50\n",
      "563/563 [==============================] - 3s 5ms/step - loss: 0.6644 - accuracy: 0.8457\n",
      "Epoch 29/50\n",
      "563/563 [==============================] - 3s 5ms/step - loss: 0.6499 - accuracy: 0.8495\n",
      "Epoch 30/50\n",
      "563/563 [==============================] - 3s 5ms/step - loss: 0.6359 - accuracy: 0.8517\n",
      "Epoch 31/50\n",
      "563/563 [==============================] - 3s 6ms/step - loss: 0.6230 - accuracy: 0.8555\n",
      "Epoch 32/50\n",
      "563/563 [==============================] - 3s 5ms/step - loss: 0.6101 - accuracy: 0.8574\n",
      "Epoch 33/50\n",
      "563/563 [==============================] - 3s 6ms/step - loss: 0.5975 - accuracy: 0.8612\n",
      "Epoch 34/50\n",
      "563/563 [==============================] - 3s 5ms/step - loss: 0.5861 - accuracy: 0.8632\n",
      "Epoch 35/50\n",
      "563/563 [==============================] - 3s 6ms/step - loss: 0.5743 - accuracy: 0.8659\n",
      "Epoch 36/50\n",
      "563/563 [==============================] - 3s 5ms/step - loss: 0.5637 - accuracy: 0.8684\n",
      "Epoch 37/50\n",
      "563/563 [==============================] - 3s 6ms/step - loss: 0.5532 - accuracy: 0.8711\n",
      "Epoch 38/50\n",
      "563/563 [==============================] - 3s 6ms/step - loss: 0.5426 - accuracy: 0.8724\n",
      "Epoch 39/50\n",
      "563/563 [==============================] - 3s 6ms/step - loss: 0.5326 - accuracy: 0.8752\n",
      "Epoch 40/50\n",
      "563/563 [==============================] - 3s 6ms/step - loss: 0.5229 - accuracy: 0.8759\n",
      "Epoch 41/50\n",
      "563/563 [==============================] - 3s 6ms/step - loss: 0.5138 - accuracy: 0.8788\n",
      "Epoch 42/50\n",
      "563/563 [==============================] - 3s 6ms/step - loss: 0.5045 - accuracy: 0.8812\n",
      "Epoch 43/50\n",
      "563/563 [==============================] - 3s 6ms/step - loss: 0.4959 - accuracy: 0.8821\n",
      "Epoch 44/50\n",
      "563/563 [==============================] - 3s 5ms/step - loss: 0.4871 - accuracy: 0.8856\n",
      "Epoch 45/50\n",
      "563/563 [==============================] - 3s 5ms/step - loss: 0.4787 - accuracy: 0.8876\n",
      "Epoch 46/50\n",
      "563/563 [==============================] - 3s 6ms/step - loss: 0.4707 - accuracy: 0.8894\n",
      "Epoch 47/50\n",
      "563/563 [==============================] - 3s 5ms/step - loss: 0.4627 - accuracy: 0.8909\n",
      "Epoch 48/50\n",
      "563/563 [==============================] - 3s 5ms/step - loss: 0.4550 - accuracy: 0.8925\n",
      "Epoch 49/50\n",
      "563/563 [==============================] - 3s 5ms/step - loss: 0.4475 - accuracy: 0.8946\n",
      "Epoch 50/50\n",
      "563/563 [==============================] - 3s 6ms/step - loss: 0.4401 - accuracy: 0.8956\n"
     ]
    },
    {
     "data": {
      "text/plain": [
       "<keras.callbacks.History at 0x169af2c6ee0>"
      ]
     },
     "execution_count": 57,
     "metadata": {},
     "output_type": "execute_result"
    }
   ],
   "source": [
    "NeuralNetwork.fit(x_train_f,y_train, batch_size = 50, epochs=50)"
   ]
  },
  {
   "cell_type": "code",
   "execution_count": 58,
   "id": "8542c4bd",
   "metadata": {},
   "outputs": [
    {
     "name": "stdout",
     "output_type": "stream",
     "text": [
      "377/377 [==============================] - 1s 2ms/step - loss: 0.5838 - accuracy: 0.8608\n",
      "0.5838114023208618 0.8608298897743225\n"
     ]
    }
   ],
   "source": [
    "(loss, acc) = NeuralNetwork.evaluate(x_test_f,y_test)\n",
    "print(loss,acc)"
   ]
  },
  {
   "cell_type": "code",
   "execution_count": 59,
   "id": "853de2c2",
   "metadata": {},
   "outputs": [],
   "source": [
    "NeuralNetwork = tf.keras.models.Sequential()\n",
    "NeuralNetwork.add(tf.keras.layers.Flatten())\n",
    "NeuralNetwork.add(tf.keras.layers.Dense(800, activation = tf.nn.relu))\n",
    "NeuralNetwork.add(tf.keras.layers.Dense(33, activation = tf.nn.softmax))\n",
    "NeuralNetwork.compile(optimizer='sgd',loss = 'sparse_categorical_crossentropy', metrics = ['accuracy'])"
   ]
  },
  {
   "cell_type": "code",
   "execution_count": 60,
   "id": "3fd0dd24",
   "metadata": {},
   "outputs": [
    {
     "name": "stdout",
     "output_type": "stream",
     "text": [
      "Epoch 1/50\n",
      "563/563 [==============================] - 2s 3ms/step - loss: 3.3909 - accuracy: 0.1779\n",
      "Epoch 2/50\n",
      "563/563 [==============================] - 2s 3ms/step - loss: 3.1656 - accuracy: 0.3751\n",
      "Epoch 3/50\n",
      "563/563 [==============================] - 2s 3ms/step - loss: 2.9057 - accuracy: 0.4433\n",
      "Epoch 4/50\n",
      "563/563 [==============================] - 2s 3ms/step - loss: 2.6322 - accuracy: 0.4856\n",
      "Epoch 5/50\n",
      "563/563 [==============================] - 2s 3ms/step - loss: 2.3863 - accuracy: 0.5172\n",
      "Epoch 6/50\n",
      "563/563 [==============================] - 2s 3ms/step - loss: 2.1851 - accuracy: 0.5460\n",
      "Epoch 7/50\n",
      "563/563 [==============================] - 2s 3ms/step - loss: 2.0239 - accuracy: 0.5724\n",
      "Epoch 8/50\n",
      "563/563 [==============================] - 2s 3ms/step - loss: 1.8934 - accuracy: 0.5959\n",
      "Epoch 9/50\n",
      "563/563 [==============================] - 2s 3ms/step - loss: 1.7852 - accuracy: 0.6193\n",
      "Epoch 10/50\n",
      "563/563 [==============================] - 2s 3ms/step - loss: 1.6939 - accuracy: 0.6365\n",
      "Epoch 11/50\n",
      "563/563 [==============================] - 2s 3ms/step - loss: 1.6153 - accuracy: 0.6518\n",
      "Epoch 12/50\n",
      "563/563 [==============================] - 2s 3ms/step - loss: 1.5470 - accuracy: 0.6662\n",
      "Epoch 13/50\n",
      "563/563 [==============================] - 2s 3ms/step - loss: 1.4869 - accuracy: 0.6786\n",
      "Epoch 14/50\n",
      "563/563 [==============================] - 2s 3ms/step - loss: 1.4337 - accuracy: 0.6897\n",
      "Epoch 15/50\n",
      "563/563 [==============================] - 2s 3ms/step - loss: 1.3859 - accuracy: 0.7013\n",
      "Epoch 16/50\n",
      "563/563 [==============================] - 2s 3ms/step - loss: 1.3429 - accuracy: 0.7141\n",
      "Epoch 17/50\n",
      "563/563 [==============================] - 2s 3ms/step - loss: 1.3040 - accuracy: 0.7237\n",
      "Epoch 18/50\n",
      "563/563 [==============================] - 2s 3ms/step - loss: 1.2685 - accuracy: 0.7307\n",
      "Epoch 19/50\n",
      "563/563 [==============================] - 2s 3ms/step - loss: 1.2361 - accuracy: 0.7391\n",
      "Epoch 20/50\n",
      "563/563 [==============================] - 2s 3ms/step - loss: 1.2062 - accuracy: 0.7445\n",
      "Epoch 21/50\n",
      "563/563 [==============================] - 2s 3ms/step - loss: 1.1785 - accuracy: 0.7515\n",
      "Epoch 22/50\n",
      "563/563 [==============================] - 2s 3ms/step - loss: 1.1530 - accuracy: 0.7564\n",
      "Epoch 23/50\n",
      "563/563 [==============================] - 2s 3ms/step - loss: 1.1291 - accuracy: 0.7629\n",
      "Epoch 24/50\n",
      "563/563 [==============================] - 2s 3ms/step - loss: 1.1069 - accuracy: 0.7662\n",
      "Epoch 25/50\n",
      "563/563 [==============================] - 2s 3ms/step - loss: 1.0861 - accuracy: 0.7719\n",
      "Epoch 26/50\n",
      "563/563 [==============================] - 2s 3ms/step - loss: 1.0667 - accuracy: 0.7759\n",
      "Epoch 27/50\n",
      "563/563 [==============================] - 2s 3ms/step - loss: 1.0482 - accuracy: 0.7806\n",
      "Epoch 28/50\n",
      "563/563 [==============================] - 2s 3ms/step - loss: 1.0309 - accuracy: 0.7837\n",
      "Epoch 29/50\n",
      "563/563 [==============================] - 2s 3ms/step - loss: 1.0144 - accuracy: 0.7875\n",
      "Epoch 30/50\n",
      "563/563 [==============================] - 2s 3ms/step - loss: 0.9988 - accuracy: 0.7886\n",
      "Epoch 31/50\n",
      "563/563 [==============================] - 2s 3ms/step - loss: 0.9840 - accuracy: 0.7927\n",
      "Epoch 32/50\n",
      "563/563 [==============================] - 2s 3ms/step - loss: 0.9699 - accuracy: 0.7939\n",
      "Epoch 33/50\n",
      "563/563 [==============================] - 2s 3ms/step - loss: 0.9564 - accuracy: 0.7978\n",
      "Epoch 34/50\n",
      "563/563 [==============================] - 2s 3ms/step - loss: 0.9433 - accuracy: 0.7995\n",
      "Epoch 35/50\n",
      "563/563 [==============================] - 2s 3ms/step - loss: 0.9310 - accuracy: 0.8013\n",
      "Epoch 36/50\n",
      "563/563 [==============================] - 2s 3ms/step - loss: 0.9189 - accuracy: 0.8043\n",
      "Epoch 37/50\n",
      "563/563 [==============================] - 2s 3ms/step - loss: 0.9076 - accuracy: 0.8055\n",
      "Epoch 38/50\n",
      "563/563 [==============================] - 2s 3ms/step - loss: 0.8964 - accuracy: 0.8079\n",
      "Epoch 39/50\n",
      "563/563 [==============================] - 2s 3ms/step - loss: 0.8858 - accuracy: 0.8099\n",
      "Epoch 40/50\n",
      "563/563 [==============================] - 2s 3ms/step - loss: 0.8756 - accuracy: 0.8113\n",
      "Epoch 41/50\n",
      "563/563 [==============================] - 2s 3ms/step - loss: 0.8657 - accuracy: 0.8139\n",
      "Epoch 42/50\n",
      "563/563 [==============================] - 2s 3ms/step - loss: 0.8560 - accuracy: 0.8148\n",
      "Epoch 43/50\n",
      "563/563 [==============================] - 2s 3ms/step - loss: 0.8466 - accuracy: 0.8165\n",
      "Epoch 44/50\n",
      "563/563 [==============================] - 2s 3ms/step - loss: 0.8378 - accuracy: 0.8188\n",
      "Epoch 45/50\n",
      "563/563 [==============================] - 2s 3ms/step - loss: 0.8289 - accuracy: 0.8190\n",
      "Epoch 46/50\n",
      "563/563 [==============================] - 2s 3ms/step - loss: 0.8204 - accuracy: 0.8219\n",
      "Epoch 47/50\n",
      "563/563 [==============================] - 2s 3ms/step - loss: 0.8120 - accuracy: 0.8225\n",
      "Epoch 48/50\n",
      "563/563 [==============================] - 2s 3ms/step - loss: 0.8041 - accuracy: 0.8252\n",
      "Epoch 49/50\n",
      "563/563 [==============================] - 2s 3ms/step - loss: 0.7962 - accuracy: 0.8263\n",
      "Epoch 50/50\n",
      "563/563 [==============================] - 2s 3ms/step - loss: 0.7883 - accuracy: 0.8281\n"
     ]
    },
    {
     "data": {
      "text/plain": [
       "<keras.callbacks.History at 0x169af3a8e80>"
      ]
     },
     "execution_count": 60,
     "metadata": {},
     "output_type": "execute_result"
    }
   ],
   "source": [
    "NeuralNetwork.fit(x_train_f,y_train, batch_size = 50, epochs=50)"
   ]
  },
  {
   "cell_type": "code",
   "execution_count": 61,
   "id": "39099264",
   "metadata": {},
   "outputs": [
    {
     "name": "stdout",
     "output_type": "stream",
     "text": [
      "377/377 [==============================] - 1s 2ms/step - loss: 0.8700 - accuracy: 0.8044\n",
      "0.8699682950973511 0.8043983578681946\n"
     ]
    }
   ],
   "source": [
    "(loss, acc) = NeuralNetwork.evaluate(x_test_f,y_test)\n",
    "print(loss,acc)"
   ]
  },
  {
   "cell_type": "code",
   "execution_count": 62,
   "id": "115f4cf9",
   "metadata": {},
   "outputs": [],
   "source": [
    "NeuralNetwork = tf.keras.models.Sequential()\n",
    "NeuralNetwork.add(tf.keras.layers.Flatten())\n",
    "NeuralNetwork.add(tf.keras.layers.Dense(200, activation = tf.nn.relu))\n",
    "NeuralNetwork.add(tf.keras.layers.Dense(33, activation = tf.nn.softmax))\n",
    "NeuralNetwork.compile(optimizer='adam',loss = 'sparse_categorical_crossentropy', metrics = ['accuracy'])"
   ]
  },
  {
   "cell_type": "code",
   "execution_count": 63,
   "id": "a2a31235",
   "metadata": {},
   "outputs": [
    {
     "name": "stdout",
     "output_type": "stream",
     "text": [
      "Epoch 1/50\n",
      "563/563 [==============================] - 1s 1ms/step - loss: 1.8113 - accuracy: 0.6304\n",
      "Epoch 2/50\n",
      "563/563 [==============================] - 1s 1ms/step - loss: 0.7619 - accuracy: 0.8268\n",
      "Epoch 3/50\n",
      "563/563 [==============================] - 1s 1ms/step - loss: 0.5560 - accuracy: 0.8692\n",
      "Epoch 4/50\n",
      "563/563 [==============================] - 1s 1ms/step - loss: 0.4387 - accuracy: 0.8986\n",
      "Epoch 5/50\n",
      "563/563 [==============================] - 1s 1ms/step - loss: 0.3576 - accuracy: 0.9189\n",
      "Epoch 6/50\n",
      "563/563 [==============================] - 1s 1ms/step - loss: 0.2948 - accuracy: 0.9353\n",
      "Epoch 7/50\n",
      "563/563 [==============================] - 1s 1ms/step - loss: 0.2455 - accuracy: 0.9474\n",
      "Epoch 8/50\n",
      "563/563 [==============================] - 1s 1ms/step - loss: 0.2066 - accuracy: 0.9559\n",
      "Epoch 9/50\n",
      "563/563 [==============================] - 1s 1ms/step - loss: 0.1751 - accuracy: 0.9638\n",
      "Epoch 10/50\n",
      "563/563 [==============================] - 1s 1ms/step - loss: 0.1499 - accuracy: 0.9693\n",
      "Epoch 11/50\n",
      "563/563 [==============================] - 1s 1ms/step - loss: 0.1299 - accuracy: 0.9732\n",
      "Epoch 12/50\n",
      "563/563 [==============================] - 1s 1ms/step - loss: 0.1121 - accuracy: 0.9770\n",
      "Epoch 13/50\n",
      "563/563 [==============================] - 1s 1ms/step - loss: 0.0990 - accuracy: 0.9797\n",
      "Epoch 14/50\n",
      "563/563 [==============================] - 1s 1ms/step - loss: 0.0892 - accuracy: 0.9809\n",
      "Epoch 15/50\n",
      "563/563 [==============================] - 1s 1ms/step - loss: 0.0777 - accuracy: 0.9842\n",
      "Epoch 16/50\n",
      "563/563 [==============================] - 1s 1ms/step - loss: 0.0704 - accuracy: 0.9853\n",
      "Epoch 17/50\n",
      "563/563 [==============================] - 1s 1ms/step - loss: 0.0636 - accuracy: 0.9876\n",
      "Epoch 18/50\n",
      "563/563 [==============================] - 1s 1ms/step - loss: 0.0576 - accuracy: 0.9883\n",
      "Epoch 19/50\n",
      "563/563 [==============================] - 1s 1ms/step - loss: 0.0517 - accuracy: 0.9900\n",
      "Epoch 20/50\n",
      "563/563 [==============================] - 1s 1ms/step - loss: 0.0470 - accuracy: 0.9912\n",
      "Epoch 21/50\n",
      "563/563 [==============================] - 1s 1ms/step - loss: 0.0440 - accuracy: 0.9918\n",
      "Epoch 22/50\n",
      "563/563 [==============================] - 1s 1ms/step - loss: 0.0396 - accuracy: 0.9928\n",
      "Epoch 23/50\n",
      "563/563 [==============================] - 1s 1ms/step - loss: 0.0366 - accuracy: 0.9935\n",
      "Epoch 24/50\n",
      "563/563 [==============================] - 1s 1ms/step - loss: 0.0338 - accuracy: 0.9940\n",
      "Epoch 25/50\n",
      "563/563 [==============================] - 1s 1ms/step - loss: 0.0305 - accuracy: 0.9948\n",
      "Epoch 26/50\n",
      "563/563 [==============================] - 1s 1ms/step - loss: 0.0294 - accuracy: 0.9946\n",
      "Epoch 27/50\n",
      "563/563 [==============================] - 1s 1ms/step - loss: 0.0268 - accuracy: 0.9953\n",
      "Epoch 28/50\n",
      "563/563 [==============================] - 1s 1ms/step - loss: 0.0252 - accuracy: 0.9958\n",
      "Epoch 29/50\n",
      "563/563 [==============================] - 1s 1ms/step - loss: 0.0226 - accuracy: 0.9961\n",
      "Epoch 30/50\n",
      "563/563 [==============================] - 1s 1ms/step - loss: 0.0225 - accuracy: 0.9962\n",
      "Epoch 31/50\n",
      "563/563 [==============================] - 1s 1ms/step - loss: 0.0211 - accuracy: 0.9962\n",
      "Epoch 32/50\n",
      "563/563 [==============================] - 1s 1ms/step - loss: 0.0201 - accuracy: 0.9967\n",
      "Epoch 33/50\n",
      "563/563 [==============================] - 1s 1ms/step - loss: 0.0191 - accuracy: 0.9970\n",
      "Epoch 34/50\n",
      "563/563 [==============================] - 1s 1ms/step - loss: 0.0192 - accuracy: 0.9968\n",
      "Epoch 35/50\n",
      "563/563 [==============================] - 1s 1ms/step - loss: 0.0153 - accuracy: 0.9975\n",
      "Epoch 36/50\n",
      "563/563 [==============================] - 1s 2ms/step - loss: 0.0166 - accuracy: 0.9974\n",
      "Epoch 37/50\n",
      "563/563 [==============================] - 1s 2ms/step - loss: 0.0149 - accuracy: 0.9975\n",
      "Epoch 38/50\n",
      "563/563 [==============================] - 1s 1ms/step - loss: 0.0149 - accuracy: 0.9974\n",
      "Epoch 39/50\n",
      "563/563 [==============================] - 1s 1ms/step - loss: 0.0138 - accuracy: 0.9976\n",
      "Epoch 40/50\n",
      "563/563 [==============================] - 1s 1ms/step - loss: 0.0135 - accuracy: 0.9977\n",
      "Epoch 41/50\n",
      "563/563 [==============================] - 1s 1ms/step - loss: 0.0127 - accuracy: 0.9980\n",
      "Epoch 42/50\n",
      "563/563 [==============================] - 1s 1ms/step - loss: 0.0115 - accuracy: 0.9979\n",
      "Epoch 43/50\n",
      "563/563 [==============================] - 1s 2ms/step - loss: 0.0131 - accuracy: 0.9977\n",
      "Epoch 44/50\n",
      "563/563 [==============================] - 1s 1ms/step - loss: 0.0124 - accuracy: 0.9982\n",
      "Epoch 45/50\n",
      "563/563 [==============================] - 1s 1ms/step - loss: 0.0111 - accuracy: 0.9982\n",
      "Epoch 46/50\n",
      "563/563 [==============================] - 1s 1ms/step - loss: 0.0113 - accuracy: 0.9980\n",
      "Epoch 47/50\n",
      "563/563 [==============================] - 1s 1ms/step - loss: 0.0111 - accuracy: 0.9982\n",
      "Epoch 48/50\n",
      "563/563 [==============================] - 1s 1ms/step - loss: 0.0097 - accuracy: 0.9984\n",
      "Epoch 49/50\n",
      "563/563 [==============================] - 1s 1ms/step - loss: 0.0095 - accuracy: 0.9986\n",
      "Epoch 50/50\n",
      "563/563 [==============================] - 1s 1ms/step - loss: 0.0104 - accuracy: 0.9983\n"
     ]
    },
    {
     "data": {
      "text/plain": [
       "<keras.callbacks.History at 0x169af3a8580>"
      ]
     },
     "execution_count": 63,
     "metadata": {},
     "output_type": "execute_result"
    }
   ],
   "source": [
    "NeuralNetwork.fit(x_train_f,y_train, batch_size = 50, epochs=50)"
   ]
  },
  {
   "cell_type": "code",
   "execution_count": 64,
   "id": "1877d259",
   "metadata": {},
   "outputs": [
    {
     "name": "stdout",
     "output_type": "stream",
     "text": [
      "377/377 [==============================] - 0s 772us/step - loss: 1.0311 - accuracy: 0.8740\n",
      "1.031105637550354 0.8740248680114746\n"
     ]
    }
   ],
   "source": [
    "(loss, acc) = NeuralNetwork.evaluate(x_test_f,y_test)\n",
    "print(loss,acc)"
   ]
  },
  {
   "cell_type": "code",
   "execution_count": 65,
   "id": "04d93abb",
   "metadata": {},
   "outputs": [],
   "source": [
    "NeuralNetwork = tf.keras.models.Sequential()\n",
    "NeuralNetwork.add(tf.keras.layers.Flatten())\n",
    "NeuralNetwork.add(tf.keras.layers.Dense(100, activation = tf.nn.relu))\n",
    "NeuralNetwork.add(tf.keras.layers.Dense(33, activation = tf.nn.softmax))\n",
    "NeuralNetwork.compile(optimizer='adam',loss = 'sparse_categorical_crossentropy', metrics = ['accuracy'])"
   ]
  },
  {
   "cell_type": "code",
   "execution_count": 66,
   "id": "7d9ff9cd",
   "metadata": {},
   "outputs": [
    {
     "name": "stdout",
     "output_type": "stream",
     "text": [
      "Epoch 1/30\n",
      "563/563 [==============================] - 1s 1ms/step - loss: 2.0690 - accuracy: 0.5680\n",
      "Epoch 2/30\n",
      "563/563 [==============================] - 1s 1ms/step - loss: 0.9126 - accuracy: 0.8011\n",
      "Epoch 3/30\n",
      "563/563 [==============================] - 1s 1ms/step - loss: 0.6792 - accuracy: 0.8435\n",
      "Epoch 4/30\n",
      "563/563 [==============================] - 1s 1ms/step - loss: 0.5587 - accuracy: 0.8699\n",
      "Epoch 5/30\n",
      "563/563 [==============================] - 1s 1ms/step - loss: 0.4759 - accuracy: 0.8881\n",
      "Epoch 6/30\n",
      "563/563 [==============================] - 1s 1ms/step - loss: 0.4133 - accuracy: 0.9046\n",
      "Epoch 7/30\n",
      "563/563 [==============================] - 1s 1ms/step - loss: 0.3605 - accuracy: 0.9194\n",
      "Epoch 8/30\n",
      "563/563 [==============================] - 1s 1ms/step - loss: 0.3175 - accuracy: 0.9296\n",
      "Epoch 9/30\n",
      "563/563 [==============================] - 1s 1ms/step - loss: 0.2812 - accuracy: 0.9386\n",
      "Epoch 10/30\n",
      "563/563 [==============================] - 1s 1ms/step - loss: 0.2491 - accuracy: 0.9461\n",
      "Epoch 11/30\n",
      "563/563 [==============================] - 1s 1ms/step - loss: 0.2216 - accuracy: 0.9540\n",
      "Epoch 12/30\n",
      "563/563 [==============================] - 1s 1ms/step - loss: 0.1977 - accuracy: 0.9592\n",
      "Epoch 13/30\n",
      "563/563 [==============================] - 1s 1ms/step - loss: 0.1768 - accuracy: 0.9639\n",
      "Epoch 14/30\n",
      "563/563 [==============================] - 1s 1ms/step - loss: 0.1595 - accuracy: 0.9669\n",
      "Epoch 15/30\n",
      "563/563 [==============================] - 1s 1ms/step - loss: 0.1437 - accuracy: 0.9712\n",
      "Epoch 16/30\n",
      "563/563 [==============================] - 1s 1ms/step - loss: 0.1296 - accuracy: 0.9740\n",
      "Epoch 17/30\n",
      "563/563 [==============================] - 1s 1ms/step - loss: 0.1182 - accuracy: 0.9762\n",
      "Epoch 18/30\n",
      "563/563 [==============================] - 1s 1ms/step - loss: 0.1080 - accuracy: 0.9783\n",
      "Epoch 19/30\n",
      "563/563 [==============================] - 1s 1ms/step - loss: 0.0984 - accuracy: 0.9798\n",
      "Epoch 20/30\n",
      "563/563 [==============================] - 1s 1ms/step - loss: 0.0904 - accuracy: 0.9817\n",
      "Epoch 21/30\n",
      "563/563 [==============================] - 1s 1ms/step - loss: 0.0834 - accuracy: 0.9832\n",
      "Epoch 22/30\n",
      "563/563 [==============================] - 1s 1ms/step - loss: 0.0767 - accuracy: 0.9843\n",
      "Epoch 23/30\n",
      "563/563 [==============================] - 1s 1ms/step - loss: 0.0706 - accuracy: 0.9861\n",
      "Epoch 24/30\n",
      "563/563 [==============================] - 1s 1ms/step - loss: 0.0660 - accuracy: 0.9872\n",
      "Epoch 25/30\n",
      "563/563 [==============================] - 1s 1ms/step - loss: 0.0604 - accuracy: 0.9882\n",
      "Epoch 26/30\n",
      "563/563 [==============================] - 1s 1ms/step - loss: 0.0566 - accuracy: 0.9890\n",
      "Epoch 27/30\n",
      "563/563 [==============================] - 1s 1ms/step - loss: 0.0522 - accuracy: 0.9904\n",
      "Epoch 28/30\n",
      "563/563 [==============================] - 1s 1ms/step - loss: 0.0488 - accuracy: 0.9910\n",
      "Epoch 29/30\n",
      "563/563 [==============================] - 1s 1ms/step - loss: 0.0458 - accuracy: 0.9915\n",
      "Epoch 30/30\n",
      "563/563 [==============================] - 1s 1ms/step - loss: 0.0423 - accuracy: 0.9924\n"
     ]
    },
    {
     "data": {
      "text/plain": [
       "<keras.callbacks.History at 0x169b581a310>"
      ]
     },
     "execution_count": 66,
     "metadata": {},
     "output_type": "execute_result"
    }
   ],
   "source": [
    "NeuralNetwork.fit(x_train_f,y_train, batch_size = 50, epochs=30)"
   ]
  },
  {
   "cell_type": "code",
   "execution_count": 67,
   "id": "14627eef",
   "metadata": {},
   "outputs": [
    {
     "name": "stdout",
     "output_type": "stream",
     "text": [
      "377/377 [==============================] - 0s 698us/step - loss: 0.7905 - accuracy: 0.8683\n",
      "0.790524423122406 0.8682987689971924\n"
     ]
    }
   ],
   "source": [
    "(loss, acc) = NeuralNetwork.evaluate(x_test_f,y_test)\n",
    "print(loss,acc)"
   ]
  },
  {
   "cell_type": "code",
   "execution_count": 68,
   "id": "455b88d7",
   "metadata": {},
   "outputs": [],
   "source": [
    "NeuralNetwork = tf.keras.models.Sequential()\n",
    "NeuralNetwork.add(tf.keras.layers.Flatten())\n",
    "NeuralNetwork.add(tf.keras.layers.Dense(50, activation = tf.nn.relu))\n",
    "NeuralNetwork.add(tf.keras.layers.Dense(33, activation = tf.nn.softmax))\n",
    "NeuralNetwork.compile(optimizer='adam',loss = 'sparse_categorical_crossentropy', metrics = ['accuracy'])"
   ]
  },
  {
   "cell_type": "code",
   "execution_count": 69,
   "id": "8f17272e",
   "metadata": {},
   "outputs": [
    {
     "name": "stdout",
     "output_type": "stream",
     "text": [
      "Epoch 1/20\n",
      "282/282 [==============================] - 0s 1ms/step - loss: 2.8220 - accuracy: 0.4075\n",
      "Epoch 2/20\n",
      "282/282 [==============================] - 0s 1ms/step - loss: 1.4793 - accuracy: 0.7134\n",
      "Epoch 3/20\n",
      "282/282 [==============================] - 0s 1ms/step - loss: 1.0261 - accuracy: 0.7835\n",
      "Epoch 4/20\n",
      "282/282 [==============================] - 0s 1ms/step - loss: 0.8377 - accuracy: 0.8150\n",
      "Epoch 5/20\n",
      "282/282 [==============================] - 0s 1ms/step - loss: 0.7288 - accuracy: 0.8333\n",
      "Epoch 6/20\n",
      "282/282 [==============================] - 0s 1ms/step - loss: 0.6537 - accuracy: 0.8484\n",
      "Epoch 7/20\n",
      "282/282 [==============================] - 0s 1ms/step - loss: 0.5968 - accuracy: 0.8614\n",
      "Epoch 8/20\n",
      "282/282 [==============================] - 0s 1ms/step - loss: 0.5503 - accuracy: 0.8718\n",
      "Epoch 9/20\n",
      "282/282 [==============================] - 0s 1ms/step - loss: 0.5104 - accuracy: 0.8812\n",
      "Epoch 10/20\n",
      "282/282 [==============================] - 0s 1ms/step - loss: 0.4771 - accuracy: 0.8889\n",
      "Epoch 11/20\n",
      "282/282 [==============================] - 0s 1ms/step - loss: 0.4470 - accuracy: 0.8970\n",
      "Epoch 12/20\n",
      "282/282 [==============================] - 0s 1ms/step - loss: 0.4203 - accuracy: 0.9033\n",
      "Epoch 13/20\n",
      "282/282 [==============================] - 0s 1ms/step - loss: 0.3961 - accuracy: 0.9100\n",
      "Epoch 14/20\n",
      "282/282 [==============================] - 0s 1ms/step - loss: 0.3739 - accuracy: 0.9155\n",
      "Epoch 15/20\n",
      "282/282 [==============================] - 0s 1ms/step - loss: 0.3535 - accuracy: 0.9206\n",
      "Epoch 16/20\n",
      "282/282 [==============================] - 0s 1ms/step - loss: 0.3348 - accuracy: 0.9256\n",
      "Epoch 17/20\n",
      "282/282 [==============================] - 0s 1ms/step - loss: 0.3173 - accuracy: 0.9297\n",
      "Epoch 18/20\n",
      "282/282 [==============================] - 0s 1ms/step - loss: 0.3009 - accuracy: 0.9336\n",
      "Epoch 19/20\n",
      "282/282 [==============================] - 0s 1ms/step - loss: 0.2860 - accuracy: 0.9376\n",
      "Epoch 20/20\n",
      "282/282 [==============================] - 0s 1ms/step - loss: 0.2719 - accuracy: 0.9421\n"
     ]
    },
    {
     "data": {
      "text/plain": [
       "<keras.callbacks.History at 0x169b58fdd60>"
      ]
     },
     "execution_count": 69,
     "metadata": {},
     "output_type": "execute_result"
    }
   ],
   "source": [
    "NeuralNetwork.fit(x_train_f,y_train, batch_size = 100, epochs=20)"
   ]
  },
  {
   "cell_type": "code",
   "execution_count": 70,
   "id": "08263899",
   "metadata": {},
   "outputs": [
    {
     "name": "stdout",
     "output_type": "stream",
     "text": [
      "377/377 [==============================] - 0s 684us/step - loss: 0.6594 - accuracy: 0.8452\n",
      "0.6594264507293701 0.8452281951904297\n"
     ]
    }
   ],
   "source": [
    "(loss, acc) = NeuralNetwork.evaluate(x_test_f,y_test)\n",
    "print(loss,acc)"
   ]
  },
  {
   "cell_type": "markdown",
   "id": "5643c0e6",
   "metadata": {},
   "source": [
    "# Up until now, I've tried lots of different configurations of neural networks. I've started by using 'sgd' as optimizer, than switched to 'adam', which seemed to reach high accuracy on training data faster, but the problem was overfitting every single time, the accuracy indicators for training and test sets differed by 0.1-0.15."
   ]
  },
  {
   "cell_type": "markdown",
   "id": "d8bbfd56",
   "metadata": {},
   "source": [
    "# So I've decided to stick to the 'sgd' function as optimizer again, and chose my final network to have one hidden layer, in which there are 500 units"
   ]
  },
  {
   "cell_type": "code",
   "execution_count": 71,
   "id": "1bbda5ff",
   "metadata": {},
   "outputs": [],
   "source": [
    "NeuralNetwork = tf.keras.models.Sequential()\n",
    "NeuralNetwork.add(tf.keras.layers.Flatten())\n",
    "NeuralNetwork.add(tf.keras.layers.Dense(500, activation = tf.nn.relu))\n",
    "NeuralNetwork.add(tf.keras.layers.Dense(33, activation = tf.nn.softmax))\n",
    "NeuralNetwork.compile(optimizer='sgd',loss = 'sparse_categorical_crossentropy', metrics = ['accuracy'])"
   ]
  },
  {
   "cell_type": "code",
   "execution_count": 72,
   "id": "682ec9ab",
   "metadata": {},
   "outputs": [
    {
     "name": "stdout",
     "output_type": "stream",
     "text": [
      "Epoch 1/60\n",
      "1406/1406 [==============================] - 3s 2ms/step - loss: 3.2485 - accuracy: 0.2778\n",
      "Epoch 2/60\n",
      "1406/1406 [==============================] - 2s 2ms/step - loss: 2.6292 - accuracy: 0.4879\n",
      "Epoch 3/60\n",
      "1406/1406 [==============================] - 2s 2ms/step - loss: 2.1046 - accuracy: 0.5562\n",
      "Epoch 4/60\n",
      "1406/1406 [==============================] - 2s 2ms/step - loss: 1.7883 - accuracy: 0.6138\n",
      "Epoch 5/60\n",
      "1406/1406 [==============================] - 2s 2ms/step - loss: 1.5853 - accuracy: 0.6530\n",
      "Epoch 6/60\n",
      "1406/1406 [==============================] - 3s 2ms/step - loss: 1.4417 - accuracy: 0.6828\n",
      "Epoch 7/60\n",
      "1406/1406 [==============================] - 3s 2ms/step - loss: 1.3334 - accuracy: 0.7094\n",
      "Epoch 8/60\n",
      "1406/1406 [==============================] - 3s 2ms/step - loss: 1.2480 - accuracy: 0.7305\n",
      "Epoch 9/60\n",
      "1406/1406 [==============================] - 2s 2ms/step - loss: 1.1788 - accuracy: 0.7461\n",
      "Epoch 10/60\n",
      "1406/1406 [==============================] - 2s 2ms/step - loss: 1.1210 - accuracy: 0.7593\n",
      "Epoch 11/60\n",
      "1406/1406 [==============================] - 2s 2ms/step - loss: 1.0723 - accuracy: 0.7703\n",
      "Epoch 12/60\n",
      "1406/1406 [==============================] - 2s 2ms/step - loss: 1.0298 - accuracy: 0.7787\n",
      "Epoch 13/60\n",
      "1406/1406 [==============================] - 2s 2ms/step - loss: 0.9927 - accuracy: 0.7860\n",
      "Epoch 14/60\n",
      "1406/1406 [==============================] - 2s 2ms/step - loss: 0.9597 - accuracy: 0.7931\n",
      "Epoch 15/60\n",
      "1406/1406 [==============================] - 2s 2ms/step - loss: 0.9296 - accuracy: 0.8005\n",
      "Epoch 16/60\n",
      "1406/1406 [==============================] - 2s 2ms/step - loss: 0.9027 - accuracy: 0.8040\n",
      "Epoch 17/60\n",
      "1406/1406 [==============================] - 3s 2ms/step - loss: 0.8779 - accuracy: 0.8095\n",
      "Epoch 18/60\n",
      "1406/1406 [==============================] - 3s 2ms/step - loss: 0.8548 - accuracy: 0.8140\n",
      "Epoch 19/60\n",
      "1406/1406 [==============================] - 3s 2ms/step - loss: 0.8334 - accuracy: 0.8185\n",
      "Epoch 20/60\n",
      "1406/1406 [==============================] - 3s 2ms/step - loss: 0.8133 - accuracy: 0.8224\n",
      "Epoch 21/60\n",
      "1406/1406 [==============================] - 3s 2ms/step - loss: 0.7946 - accuracy: 0.8250\n",
      "Epoch 22/60\n",
      "1406/1406 [==============================] - 3s 2ms/step - loss: 0.7773 - accuracy: 0.8289\n",
      "Epoch 23/60\n",
      "1406/1406 [==============================] - 3s 2ms/step - loss: 0.7606 - accuracy: 0.8313\n",
      "Epoch 24/60\n",
      "1406/1406 [==============================] - 2s 2ms/step - loss: 0.7450 - accuracy: 0.8334\n",
      "Epoch 25/60\n",
      "1406/1406 [==============================] - 2s 2ms/step - loss: 0.7301 - accuracy: 0.8375\n",
      "Epoch 26/60\n",
      "1406/1406 [==============================] - 3s 2ms/step - loss: 0.7159 - accuracy: 0.8397\n",
      "Epoch 27/60\n",
      "1406/1406 [==============================] - 3s 2ms/step - loss: 0.7023 - accuracy: 0.8430\n",
      "Epoch 28/60\n",
      "1406/1406 [==============================] - 3s 2ms/step - loss: 0.6893 - accuracy: 0.8447\n",
      "Epoch 29/60\n",
      "1406/1406 [==============================] - 3s 2ms/step - loss: 0.6770 - accuracy: 0.8478\n",
      "Epoch 30/60\n",
      "1406/1406 [==============================] - 3s 2ms/step - loss: 0.6648 - accuracy: 0.8500\n",
      "Epoch 31/60\n",
      "1406/1406 [==============================] - 3s 2ms/step - loss: 0.6535 - accuracy: 0.8528\n",
      "Epoch 32/60\n",
      "1406/1406 [==============================] - 3s 2ms/step - loss: 0.6422 - accuracy: 0.8547\n",
      "Epoch 33/60\n",
      "1406/1406 [==============================] - 3s 2ms/step - loss: 0.6318 - accuracy: 0.8572\n",
      "Epoch 34/60\n",
      "1406/1406 [==============================] - 3s 2ms/step - loss: 0.6214 - accuracy: 0.8592\n",
      "Epoch 35/60\n",
      "1406/1406 [==============================] - 3s 2ms/step - loss: 0.6114 - accuracy: 0.8607\n",
      "Epoch 36/60\n",
      "1406/1406 [==============================] - 3s 2ms/step - loss: 0.6019 - accuracy: 0.8625\n",
      "Epoch 37/60\n",
      "1406/1406 [==============================] - 2s 2ms/step - loss: 0.5923 - accuracy: 0.8653\n",
      "Epoch 38/60\n",
      "1406/1406 [==============================] - 2s 2ms/step - loss: 0.5835 - accuracy: 0.8671\n",
      "Epoch 39/60\n",
      "1406/1406 [==============================] - 2s 2ms/step - loss: 0.5746 - accuracy: 0.8693\n",
      "Epoch 40/60\n",
      "1406/1406 [==============================] - 2s 2ms/step - loss: 0.5661 - accuracy: 0.8708\n",
      "Epoch 41/60\n",
      "1406/1406 [==============================] - 2s 2ms/step - loss: 0.5579 - accuracy: 0.8727\n",
      "Epoch 42/60\n",
      "1406/1406 [==============================] - 2s 2ms/step - loss: 0.5499 - accuracy: 0.8753\n",
      "Epoch 43/60\n",
      "1406/1406 [==============================] - 2s 2ms/step - loss: 0.5418 - accuracy: 0.8770\n",
      "Epoch 44/60\n",
      "1406/1406 [==============================] - 2s 2ms/step - loss: 0.5342 - accuracy: 0.8789\n",
      "Epoch 45/60\n",
      "1406/1406 [==============================] - 2s 2ms/step - loss: 0.5269 - accuracy: 0.8798\n",
      "Epoch 46/60\n",
      "1406/1406 [==============================] - 2s 2ms/step - loss: 0.5197 - accuracy: 0.8825\n",
      "Epoch 47/60\n",
      "1406/1406 [==============================] - 2s 2ms/step - loss: 0.5126 - accuracy: 0.8835\n",
      "Epoch 48/60\n",
      "1406/1406 [==============================] - 2s 2ms/step - loss: 0.5056 - accuracy: 0.8860\n",
      "Epoch 49/60\n",
      "1406/1406 [==============================] - 2s 2ms/step - loss: 0.4992 - accuracy: 0.8871\n",
      "Epoch 50/60\n",
      "1406/1406 [==============================] - 2s 2ms/step - loss: 0.4927 - accuracy: 0.8886\n",
      "Epoch 51/60\n",
      "1406/1406 [==============================] - 2s 2ms/step - loss: 0.4864 - accuracy: 0.8888\n",
      "Epoch 52/60\n",
      "1406/1406 [==============================] - 2s 2ms/step - loss: 0.4800 - accuracy: 0.8917\n",
      "Epoch 53/60\n",
      "1406/1406 [==============================] - 2s 2ms/step - loss: 0.4740 - accuracy: 0.8931\n",
      "Epoch 54/60\n",
      "1406/1406 [==============================] - 2s 2ms/step - loss: 0.4679 - accuracy: 0.8946\n",
      "Epoch 55/60\n",
      "1406/1406 [==============================] - 2s 2ms/step - loss: 0.4622 - accuracy: 0.8949\n",
      "Epoch 56/60\n",
      "1406/1406 [==============================] - 2s 2ms/step - loss: 0.4566 - accuracy: 0.8976\n",
      "Epoch 57/60\n",
      "1406/1406 [==============================] - 2s 2ms/step - loss: 0.4510 - accuracy: 0.8983\n",
      "Epoch 58/60\n",
      "1406/1406 [==============================] - 2s 2ms/step - loss: 0.4458 - accuracy: 0.8997\n",
      "Epoch 59/60\n",
      "1406/1406 [==============================] - 2s 2ms/step - loss: 0.4404 - accuracy: 0.9009\n",
      "Epoch 60/60\n",
      "1406/1406 [==============================] - 2s 2ms/step - loss: 0.4350 - accuracy: 0.9016\n"
     ]
    },
    {
     "data": {
      "text/plain": [
       "<keras.callbacks.History at 0x169b98ceb80>"
      ]
     },
     "execution_count": 72,
     "metadata": {},
     "output_type": "execute_result"
    }
   ],
   "source": [
    "NeuralNetwork.fit(x_train_f,y_train, batch_size = 20, epochs=60)"
   ]
  },
  {
   "cell_type": "code",
   "execution_count": 73,
   "id": "a0f76051",
   "metadata": {},
   "outputs": [
    {
     "name": "stdout",
     "output_type": "stream",
     "text": [
      "377/377 [==============================] - 1s 1ms/step - loss: 0.5967 - accuracy: 0.8595\n",
      "0.5966764092445374 0.8595020771026611\n"
     ]
    }
   ],
   "source": [
    "(loss, acc) = NeuralNetwork.evaluate(x_test_f,y_test)\n",
    "print(loss,acc)"
   ]
  },
  {
   "cell_type": "code",
   "execution_count": 74,
   "id": "e4ed31de",
   "metadata": {},
   "outputs": [
    {
     "name": "stdout",
     "output_type": "stream",
     "text": [
      "INFO:tensorflow:Assets written to: mynetwork_tsotneB\\assets\n"
     ]
    }
   ],
   "source": [
    "NeuralNetwork.save('mynetwork_tsotneB')"
   ]
  },
  {
   "cell_type": "code",
   "execution_count": 75,
   "id": "a1176b83",
   "metadata": {},
   "outputs": [],
   "source": [
    "import pickle as pk\n",
    "pk.dump(pca, open(\"pca_tsotneB.pkl\",\"wb\"))"
   ]
  }
 ],
 "metadata": {
  "kernelspec": {
   "display_name": "Python 3 (ipykernel)",
   "language": "python",
   "name": "python3"
  },
  "language_info": {
   "codemirror_mode": {
    "name": "ipython",
    "version": 3
   },
   "file_extension": ".py",
   "mimetype": "text/x-python",
   "name": "python",
   "nbconvert_exporter": "python",
   "pygments_lexer": "ipython3",
   "version": "3.8.8"
  }
 },
 "nbformat": 4,
 "nbformat_minor": 5
}

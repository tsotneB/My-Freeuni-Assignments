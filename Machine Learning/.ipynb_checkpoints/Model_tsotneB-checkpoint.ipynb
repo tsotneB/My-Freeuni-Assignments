{
 "cells": [
  {
   "cell_type": "code",
   "execution_count": 1,
   "id": "005211b8",
   "metadata": {},
   "outputs": [],
   "source": [
    "import tensorflow as tf\n",
    "import numpy as np\n",
    "import pandas as pd\n",
    "import os\n",
    "import glob\n",
    "from skimage import io\n",
    "import cv2\n",
    "import math\n",
    "from sklearn.decomposition import PCA"
   ]
  },
  {
   "cell_type": "markdown",
   "id": "f0707a75",
   "metadata": {},
   "source": [
    "# First of all, we need to read images in order to train our model on this data"
   ]
  },
  {
   "cell_type": "code",
   "execution_count": 2,
   "id": "d1fdf0ad",
   "metadata": {},
   "outputs": [],
   "source": [
    "dataRoot = \"DATA\\\\\"\n",
    "letters = ['ა', 'ბ', 'გ', 'დ', 'ე', 'ვ', 'ზ', 'თ', 'ი', 'კ',\n",
    "                   'ლ', 'მ', 'ნ', 'ო', 'პ', 'ჟ', 'რ', 'ს', 'ტ', 'უ', 'ფ', 'ქ', 'ღ',\n",
    "                   'ყ', 'შ', 'ჩ', 'ც', 'ძ', 'წ', 'ჭ', 'ხ', 'ჯ', 'ჰ']\n",
    "\n",
    "images = []\n",
    "answers = []\n",
    "for i in range(33):\n",
    "    img = os.path.join(dataRoot, str(i), '*')\n",
    "    img_path = glob.glob(img)\n",
    "    for path in img_path:\n",
    "        images.append(path)\n",
    "        answers.append(i)"
   ]
  },
  {
   "cell_type": "code",
   "execution_count": 3,
   "id": "4e714cd8",
   "metadata": {},
   "outputs": [
    {
     "data": {
      "text/html": [
       "<div>\n",
       "<style scoped>\n",
       "    .dataframe tbody tr th:only-of-type {\n",
       "        vertical-align: middle;\n",
       "    }\n",
       "\n",
       "    .dataframe tbody tr th {\n",
       "        vertical-align: top;\n",
       "    }\n",
       "\n",
       "    .dataframe thead th {\n",
       "        text-align: right;\n",
       "    }\n",
       "</style>\n",
       "<table border=\"1\" class=\"dataframe\">\n",
       "  <thead>\n",
       "    <tr style=\"text-align: right;\">\n",
       "      <th></th>\n",
       "      <th>Image</th>\n",
       "      <th>Letter</th>\n",
       "    </tr>\n",
       "  </thead>\n",
       "  <tbody>\n",
       "    <tr>\n",
       "      <th>0</th>\n",
       "      <td>DATA\\0\\a_!kolxeti_96.png</td>\n",
       "      <td>0</td>\n",
       "    </tr>\n",
       "    <tr>\n",
       "      <th>1</th>\n",
       "      <td>DATA\\0\\a_!kolxeti_96_15.png</td>\n",
       "      <td>0</td>\n",
       "    </tr>\n",
       "    <tr>\n",
       "      <th>2</th>\n",
       "      <td>DATA\\0\\a_!kolxeti_96_30.png</td>\n",
       "      <td>0</td>\n",
       "    </tr>\n",
       "    <tr>\n",
       "      <th>3</th>\n",
       "      <td>DATA\\0\\a_!kolxeti_bjg_96.png</td>\n",
       "      <td>0</td>\n",
       "    </tr>\n",
       "    <tr>\n",
       "      <th>4</th>\n",
       "      <td>DATA\\0\\a_!kolxeti_bjg_96_15.png</td>\n",
       "      <td>0</td>\n",
       "    </tr>\n",
       "    <tr>\n",
       "      <th>...</th>\n",
       "      <td>...</td>\n",
       "      <td>...</td>\n",
       "    </tr>\n",
       "    <tr>\n",
       "      <th>40159</th>\n",
       "      <td>DATA\\32\\h__kolkhety_15.png</td>\n",
       "      <td>32</td>\n",
       "    </tr>\n",
       "    <tr>\n",
       "      <th>40160</th>\n",
       "      <td>DATA\\32\\h__kolkhety_30.png</td>\n",
       "      <td>32</td>\n",
       "    </tr>\n",
       "    <tr>\n",
       "      <th>40161</th>\n",
       "      <td>DATA\\32\\h_~kolkhety_teletype.png</td>\n",
       "      <td>32</td>\n",
       "    </tr>\n",
       "    <tr>\n",
       "      <th>40162</th>\n",
       "      <td>DATA\\32\\h_~kolkhety_teletype_15.png</td>\n",
       "      <td>32</td>\n",
       "    </tr>\n",
       "    <tr>\n",
       "      <th>40163</th>\n",
       "      <td>DATA\\32\\h_~kolkhety_teletype_30.png</td>\n",
       "      <td>32</td>\n",
       "    </tr>\n",
       "  </tbody>\n",
       "</table>\n",
       "<p>40164 rows × 2 columns</p>\n",
       "</div>"
      ],
      "text/plain": [
       "                                     Image  Letter\n",
       "0                 DATA\\0\\a_!kolxeti_96.png       0\n",
       "1              DATA\\0\\a_!kolxeti_96_15.png       0\n",
       "2              DATA\\0\\a_!kolxeti_96_30.png       0\n",
       "3             DATA\\0\\a_!kolxeti_bjg_96.png       0\n",
       "4          DATA\\0\\a_!kolxeti_bjg_96_15.png       0\n",
       "...                                    ...     ...\n",
       "40159           DATA\\32\\h__kolkhety_15.png      32\n",
       "40160           DATA\\32\\h__kolkhety_30.png      32\n",
       "40161     DATA\\32\\h_~kolkhety_teletype.png      32\n",
       "40162  DATA\\32\\h_~kolkhety_teletype_15.png      32\n",
       "40163  DATA\\32\\h_~kolkhety_teletype_30.png      32\n",
       "\n",
       "[40164 rows x 2 columns]"
      ]
     },
     "execution_count": 3,
     "metadata": {},
     "output_type": "execute_result"
    }
   ],
   "source": [
    "trainingData = {\"Image\":images,\"Letter\": answers}\n",
    "trainingData = pd.DataFrame(trainingData)\n",
    "trainingData"
   ]
  },
  {
   "cell_type": "markdown",
   "id": "d6d2a583",
   "metadata": {},
   "source": [
    "# Dataframe above contains image path in the column 'Image' and the number of letter it corresponds to in Georgian alphabet"
   ]
  },
  {
   "cell_type": "markdown",
   "id": "80e7aba2",
   "metadata": {},
   "source": [
    "# For example, first one is photo of Georgian 'ა', so the value of this row in column 'Letter' is 0, as 'ა' is 0-th (actually 1-st, but I've enumerated from 0) letter in Georgian alphabet"
   ]
  },
  {
   "cell_type": "code",
   "execution_count": 4,
   "id": "b68dd490",
   "metadata": {},
   "outputs": [],
   "source": [
    "# This method just creates the representation array of the image where the letter is exactly in the center\n",
    "def center(img):\n",
    "    new_img = np.full((100, 100), 255)\n",
    "    maxX = -1\n",
    "    maxY = -1\n",
    "    minX = 101\n",
    "    minY = 101\n",
    "    for i in range(img.shape[0]):\n",
    "        for j in range(img.shape[1]):\n",
    "            if img[i][j] < 255:\n",
    "                maxX = max(maxX, i)\n",
    "                maxY = max(maxY, j)\n",
    "                minX = min(minX, i)\n",
    "                minY = min(minY, j)\n",
    "    letter = pd.DataFrame(img).iloc[minX:maxX+1,minY:maxY+1].to_numpy()\n",
    "    width = maxX-minX+1\n",
    "    height = maxY-minY+1\n",
    "    moveOnX = width//2\n",
    "    moveOnY = height//2\n",
    "    for i in range(width):\n",
    "        for j in range(height):\n",
    "            new_img[50-moveOnX+i][50-moveOnY+j] = letter[i][j]\n",
    "    return new_img"
   ]
  },
  {
   "cell_type": "code",
   "execution_count": 5,
   "id": "ee21297b",
   "metadata": {},
   "outputs": [],
   "source": [
    "# this method gets image path as parameter, resizes the picture so that all of them has same 100x100 dimensions and \n",
    "# returns it written as np.array of pixels\n",
    "def processImage(path):\n",
    "    image = cv2.imread(path,0)\n",
    "    image= cv2.resize(image, (100,100))\n",
    "    return center(np.array(image))"
   ]
  },
  {
   "cell_type": "code",
   "execution_count": 6,
   "id": "2d54cf29",
   "metadata": {},
   "outputs": [],
   "source": [
    "trainingData['Pixels'] = trainingData['Image'].map(processImage)"
   ]
  },
  {
   "cell_type": "code",
   "execution_count": 7,
   "id": "4184e0c0",
   "metadata": {},
   "outputs": [],
   "source": [
    "# I'm going to shuffle the data randomly, in order to split them into training and test set\n",
    "trainingData = trainingData.sample(frac=1).reset_index(drop=True)"
   ]
  },
  {
   "cell_type": "code",
   "execution_count": 8,
   "id": "10aa65e2",
   "metadata": {},
   "outputs": [
    {
     "data": {
      "text/html": [
       "<div>\n",
       "<style scoped>\n",
       "    .dataframe tbody tr th:only-of-type {\n",
       "        vertical-align: middle;\n",
       "    }\n",
       "\n",
       "    .dataframe tbody tr th {\n",
       "        vertical-align: top;\n",
       "    }\n",
       "\n",
       "    .dataframe thead th {\n",
       "        text-align: right;\n",
       "    }\n",
       "</style>\n",
       "<table border=\"1\" class=\"dataframe\">\n",
       "  <thead>\n",
       "    <tr style=\"text-align: right;\">\n",
       "      <th></th>\n",
       "      <th>Image</th>\n",
       "      <th>Letter</th>\n",
       "      <th>Pixels</th>\n",
       "    </tr>\n",
       "  </thead>\n",
       "  <tbody>\n",
       "    <tr>\n",
       "      <th>0</th>\n",
       "      <td>DATA\\4\\e_bpg_mrgvlovani_2009_15.png</td>\n",
       "      <td>4</td>\n",
       "      <td>[[255, 255, 255, 255, 255, 255, 255, 255, 255,...</td>\n",
       "    </tr>\n",
       "    <tr>\n",
       "      <th>1</th>\n",
       "      <td>DATA\\3\\d_agremyn_30.png</td>\n",
       "      <td>3</td>\n",
       "      <td>[[255, 255, 255, 255, 255, 255, 255, 255, 255,...</td>\n",
       "    </tr>\n",
       "    <tr>\n",
       "      <th>2</th>\n",
       "      <td>DATA\\13\\o_babuka_mtavruli.png</td>\n",
       "      <td>13</td>\n",
       "      <td>[[255, 255, 255, 255, 255, 255, 255, 255, 255,...</td>\n",
       "    </tr>\n",
       "    <tr>\n",
       "      <th>3</th>\n",
       "      <td>DATA\\12\\n_zarapxana.png</td>\n",
       "      <td>12</td>\n",
       "      <td>[[255, 255, 255, 255, 255, 255, 255, 255, 255,...</td>\n",
       "    </tr>\n",
       "    <tr>\n",
       "      <th>4</th>\n",
       "      <td>DATA\\28\\w_bpg_phone_sans_15.png</td>\n",
       "      <td>28</td>\n",
       "      <td>[[255, 255, 255, 255, 255, 255, 255, 255, 255,...</td>\n",
       "    </tr>\n",
       "    <tr>\n",
       "      <th>...</th>\n",
       "      <td>...</td>\n",
       "      <td>...</td>\n",
       "      <td>...</td>\n",
       "    </tr>\n",
       "    <tr>\n",
       "      <th>40159</th>\n",
       "      <td>DATA\\15\\jj_geo-dumbanusx.png</td>\n",
       "      <td>15</td>\n",
       "      <td>[[255, 255, 255, 255, 255, 255, 255, 255, 255,...</td>\n",
       "    </tr>\n",
       "    <tr>\n",
       "      <th>40160</th>\n",
       "      <td>DATA\\19\\u_geo_litermtavr_bold.png</td>\n",
       "      <td>19</td>\n",
       "      <td>[[255, 255, 255, 255, 255, 255, 255, 255, 255,...</td>\n",
       "    </tr>\n",
       "    <tr>\n",
       "      <th>40161</th>\n",
       "      <td>DATA\\9\\k_ghinuri.png</td>\n",
       "      <td>9</td>\n",
       "      <td>[[255, 255, 255, 255, 255, 255, 255, 255, 255,...</td>\n",
       "    </tr>\n",
       "    <tr>\n",
       "      <th>40162</th>\n",
       "      <td>DATA\\32\\h_archyedt-bold_30.png</td>\n",
       "      <td>32</td>\n",
       "      <td>[[255, 255, 255, 255, 255, 255, 255, 255, 255,...</td>\n",
       "    </tr>\n",
       "    <tr>\n",
       "      <th>40163</th>\n",
       "      <td>DATA\\16\\r_geo_arial_bold_30.png</td>\n",
       "      <td>16</td>\n",
       "      <td>[[255, 255, 255, 255, 255, 255, 255, 255, 255,...</td>\n",
       "    </tr>\n",
       "  </tbody>\n",
       "</table>\n",
       "<p>40164 rows × 3 columns</p>\n",
       "</div>"
      ],
      "text/plain": [
       "                                     Image  Letter  \\\n",
       "0      DATA\\4\\e_bpg_mrgvlovani_2009_15.png       4   \n",
       "1                  DATA\\3\\d_agremyn_30.png       3   \n",
       "2            DATA\\13\\o_babuka_mtavruli.png      13   \n",
       "3                  DATA\\12\\n_zarapxana.png      12   \n",
       "4          DATA\\28\\w_bpg_phone_sans_15.png      28   \n",
       "...                                    ...     ...   \n",
       "40159         DATA\\15\\jj_geo-dumbanusx.png      15   \n",
       "40160    DATA\\19\\u_geo_litermtavr_bold.png      19   \n",
       "40161                 DATA\\9\\k_ghinuri.png       9   \n",
       "40162       DATA\\32\\h_archyedt-bold_30.png      32   \n",
       "40163      DATA\\16\\r_geo_arial_bold_30.png      16   \n",
       "\n",
       "                                                  Pixels  \n",
       "0      [[255, 255, 255, 255, 255, 255, 255, 255, 255,...  \n",
       "1      [[255, 255, 255, 255, 255, 255, 255, 255, 255,...  \n",
       "2      [[255, 255, 255, 255, 255, 255, 255, 255, 255,...  \n",
       "3      [[255, 255, 255, 255, 255, 255, 255, 255, 255,...  \n",
       "4      [[255, 255, 255, 255, 255, 255, 255, 255, 255,...  \n",
       "...                                                  ...  \n",
       "40159  [[255, 255, 255, 255, 255, 255, 255, 255, 255,...  \n",
       "40160  [[255, 255, 255, 255, 255, 255, 255, 255, 255,...  \n",
       "40161  [[255, 255, 255, 255, 255, 255, 255, 255, 255,...  \n",
       "40162  [[255, 255, 255, 255, 255, 255, 255, 255, 255,...  \n",
       "40163  [[255, 255, 255, 255, 255, 255, 255, 255, 255,...  \n",
       "\n",
       "[40164 rows x 3 columns]"
      ]
     },
     "execution_count": 8,
     "metadata": {},
     "output_type": "execute_result"
    }
   ],
   "source": [
    "trainingData"
   ]
  },
  {
   "cell_type": "code",
   "execution_count": 9,
   "id": "b31ef97c",
   "metadata": {},
   "outputs": [],
   "source": [
    "trainingSet = trainingData.iloc[0:math.trunc(trainingData.shape[0]*0.7), 0:trainingData.shape[1]]\n",
    "testSet = trainingData.iloc[math.trunc(trainingData.shape[0]*0.7):trainingData.shape[0], 0: trainingData.shape[1]]"
   ]
  },
  {
   "cell_type": "code",
   "execution_count": 10,
   "id": "fa9f0528",
   "metadata": {},
   "outputs": [
    {
     "data": {
      "text/html": [
       "<div>\n",
       "<style scoped>\n",
       "    .dataframe tbody tr th:only-of-type {\n",
       "        vertical-align: middle;\n",
       "    }\n",
       "\n",
       "    .dataframe tbody tr th {\n",
       "        vertical-align: top;\n",
       "    }\n",
       "\n",
       "    .dataframe thead th {\n",
       "        text-align: right;\n",
       "    }\n",
       "</style>\n",
       "<table border=\"1\" class=\"dataframe\">\n",
       "  <thead>\n",
       "    <tr style=\"text-align: right;\">\n",
       "      <th></th>\n",
       "      <th>Image</th>\n",
       "      <th>Letter</th>\n",
       "      <th>Pixels</th>\n",
       "    </tr>\n",
       "  </thead>\n",
       "  <tbody>\n",
       "    <tr>\n",
       "      <th>0</th>\n",
       "      <td>DATA\\4\\e_bpg_mrgvlovani_2009_15.png</td>\n",
       "      <td>4</td>\n",
       "      <td>[[255, 255, 255, 255, 255, 255, 255, 255, 255,...</td>\n",
       "    </tr>\n",
       "    <tr>\n",
       "      <th>1</th>\n",
       "      <td>DATA\\3\\d_agremyn_30.png</td>\n",
       "      <td>3</td>\n",
       "      <td>[[255, 255, 255, 255, 255, 255, 255, 255, 255,...</td>\n",
       "    </tr>\n",
       "    <tr>\n",
       "      <th>2</th>\n",
       "      <td>DATA\\13\\o_babuka_mtavruli.png</td>\n",
       "      <td>13</td>\n",
       "      <td>[[255, 255, 255, 255, 255, 255, 255, 255, 255,...</td>\n",
       "    </tr>\n",
       "    <tr>\n",
       "      <th>3</th>\n",
       "      <td>DATA\\12\\n_zarapxana.png</td>\n",
       "      <td>12</td>\n",
       "      <td>[[255, 255, 255, 255, 255, 255, 255, 255, 255,...</td>\n",
       "    </tr>\n",
       "    <tr>\n",
       "      <th>4</th>\n",
       "      <td>DATA\\28\\w_bpg_phone_sans_15.png</td>\n",
       "      <td>28</td>\n",
       "      <td>[[255, 255, 255, 255, 255, 255, 255, 255, 255,...</td>\n",
       "    </tr>\n",
       "    <tr>\n",
       "      <th>...</th>\n",
       "      <td>...</td>\n",
       "      <td>...</td>\n",
       "      <td>...</td>\n",
       "    </tr>\n",
       "    <tr>\n",
       "      <th>28109</th>\n",
       "      <td>DATA\\9\\k_archyedt-bold_30.png</td>\n",
       "      <td>9</td>\n",
       "      <td>[[255, 255, 255, 255, 255, 255, 255, 255, 255,...</td>\n",
       "    </tr>\n",
       "    <tr>\n",
       "      <th>28110</th>\n",
       "      <td>DATA\\13\\o_bpg_nino_elite_cond_caps_30.png</td>\n",
       "      <td>13</td>\n",
       "      <td>[[255, 255, 255, 255, 255, 255, 255, 255, 255,...</td>\n",
       "    </tr>\n",
       "    <tr>\n",
       "      <th>28111</th>\n",
       "      <td>DATA\\13\\o_geo_mziur_mtavr_regular.png</td>\n",
       "      <td>13</td>\n",
       "      <td>[[255, 255, 255, 255, 255, 255, 255, 255, 255,...</td>\n",
       "    </tr>\n",
       "    <tr>\n",
       "      <th>28112</th>\n",
       "      <td>DATA\\27\\zz_geo_akademiuri_mt.png</td>\n",
       "      <td>27</td>\n",
       "      <td>[[255, 255, 255, 255, 255, 255, 255, 255, 255,...</td>\n",
       "    </tr>\n",
       "    <tr>\n",
       "      <th>28113</th>\n",
       "      <td>DATA\\30\\x_adumbadzehn_15.png</td>\n",
       "      <td>30</td>\n",
       "      <td>[[255, 255, 255, 255, 255, 255, 255, 255, 255,...</td>\n",
       "    </tr>\n",
       "  </tbody>\n",
       "</table>\n",
       "<p>28114 rows × 3 columns</p>\n",
       "</div>"
      ],
      "text/plain": [
       "                                           Image  Letter  \\\n",
       "0            DATA\\4\\e_bpg_mrgvlovani_2009_15.png       4   \n",
       "1                        DATA\\3\\d_agremyn_30.png       3   \n",
       "2                  DATA\\13\\o_babuka_mtavruli.png      13   \n",
       "3                        DATA\\12\\n_zarapxana.png      12   \n",
       "4                DATA\\28\\w_bpg_phone_sans_15.png      28   \n",
       "...                                          ...     ...   \n",
       "28109              DATA\\9\\k_archyedt-bold_30.png       9   \n",
       "28110  DATA\\13\\o_bpg_nino_elite_cond_caps_30.png      13   \n",
       "28111      DATA\\13\\o_geo_mziur_mtavr_regular.png      13   \n",
       "28112           DATA\\27\\zz_geo_akademiuri_mt.png      27   \n",
       "28113               DATA\\30\\x_adumbadzehn_15.png      30   \n",
       "\n",
       "                                                  Pixels  \n",
       "0      [[255, 255, 255, 255, 255, 255, 255, 255, 255,...  \n",
       "1      [[255, 255, 255, 255, 255, 255, 255, 255, 255,...  \n",
       "2      [[255, 255, 255, 255, 255, 255, 255, 255, 255,...  \n",
       "3      [[255, 255, 255, 255, 255, 255, 255, 255, 255,...  \n",
       "4      [[255, 255, 255, 255, 255, 255, 255, 255, 255,...  \n",
       "...                                                  ...  \n",
       "28109  [[255, 255, 255, 255, 255, 255, 255, 255, 255,...  \n",
       "28110  [[255, 255, 255, 255, 255, 255, 255, 255, 255,...  \n",
       "28111  [[255, 255, 255, 255, 255, 255, 255, 255, 255,...  \n",
       "28112  [[255, 255, 255, 255, 255, 255, 255, 255, 255,...  \n",
       "28113  [[255, 255, 255, 255, 255, 255, 255, 255, 255,...  \n",
       "\n",
       "[28114 rows x 3 columns]"
      ]
     },
     "execution_count": 10,
     "metadata": {},
     "output_type": "execute_result"
    }
   ],
   "source": [
    "trainingSet"
   ]
  },
  {
   "cell_type": "code",
   "execution_count": 11,
   "id": "cb3863d7",
   "metadata": {},
   "outputs": [],
   "source": [
    "# Here I just store the above mentioned arrays into the different type of array so that it will be compatible\n",
    "# for the model which we will use in later parts of the assignment will be compatible \n",
    "x_train = np.ones((trainingSet.shape[0],100,100),dtype=int)\n",
    "y_train = np.ones(trainingSet.shape[0],dtype=int)\n",
    "x_test = np.ones((testSet.shape[0],100,100),dtype=int) \n",
    "y_test = np.ones(testSet.shape[0],dtype=int)\n",
    "for i in range(trainingData.shape[0]):\n",
    "    if i<trainingSet.shape[0]:\n",
    "        x_train[i]=trainingData['Pixels'][i]\n",
    "        y_train[i]=trainingData['Letter'][i]\n",
    "    else:\n",
    "        x_test[i-trainingSet.shape[0]] = trainingData['Pixels'][i]\n",
    "        y_test[i-trainingSet.shape[0]] = trainingData['Letter'][i]"
   ]
  },
  {
   "cell_type": "code",
   "execution_count": 12,
   "id": "762702ec",
   "metadata": {},
   "outputs": [
    {
     "data": {
      "text/plain": [
       "array([[[255, 255, 255, ..., 255, 255, 255],\n",
       "        [255, 255, 255, ..., 255, 255, 255],\n",
       "        [255, 255, 255, ..., 255, 255, 255],\n",
       "        ...,\n",
       "        [255, 255, 255, ..., 255, 255, 255],\n",
       "        [255, 255, 255, ..., 255, 255, 255],\n",
       "        [255, 255, 255, ..., 255, 255, 255]],\n",
       "\n",
       "       [[255, 255, 255, ..., 255, 255, 255],\n",
       "        [255, 255, 255, ..., 255, 255, 255],\n",
       "        [255, 255, 255, ..., 255, 255, 255],\n",
       "        ...,\n",
       "        [255, 255, 255, ..., 255, 255, 255],\n",
       "        [255, 255, 255, ..., 255, 255, 255],\n",
       "        [255, 255, 255, ..., 255, 255, 255]],\n",
       "\n",
       "       [[255, 255, 255, ..., 255, 255, 255],\n",
       "        [255, 255, 255, ..., 255, 255, 255],\n",
       "        [255, 255, 255, ..., 255, 255, 255],\n",
       "        ...,\n",
       "        [255, 255, 255, ..., 255, 255, 255],\n",
       "        [255, 255, 255, ..., 255, 255, 255],\n",
       "        [255, 255, 255, ..., 255, 255, 255]],\n",
       "\n",
       "       ...,\n",
       "\n",
       "       [[255, 255, 255, ..., 255, 255, 255],\n",
       "        [255, 255, 255, ..., 255, 255, 255],\n",
       "        [255, 255, 255, ..., 255, 255, 255],\n",
       "        ...,\n",
       "        [255, 255, 255, ..., 255, 255, 255],\n",
       "        [255, 255, 255, ..., 255, 255, 255],\n",
       "        [255, 255, 255, ..., 255, 255, 255]],\n",
       "\n",
       "       [[255, 255, 255, ..., 255, 255, 255],\n",
       "        [255, 255, 255, ..., 255, 255, 255],\n",
       "        [255, 255, 255, ..., 255, 255, 255],\n",
       "        ...,\n",
       "        [255, 255, 255, ..., 255, 255, 255],\n",
       "        [255, 255, 255, ..., 255, 255, 255],\n",
       "        [255, 255, 255, ..., 255, 255, 255]],\n",
       "\n",
       "       [[255, 255, 255, ..., 255, 255, 255],\n",
       "        [255, 255, 255, ..., 255, 255, 255],\n",
       "        [255, 255, 255, ..., 255, 255, 255],\n",
       "        ...,\n",
       "        [255, 255, 255, ..., 255, 255, 255],\n",
       "        [255, 255, 255, ..., 255, 255, 255],\n",
       "        [255, 255, 255, ..., 255, 255, 255]]])"
      ]
     },
     "execution_count": 12,
     "metadata": {},
     "output_type": "execute_result"
    }
   ],
   "source": [
    "x_train"
   ]
  },
  {
   "cell_type": "code",
   "execution_count": 13,
   "id": "d860112e",
   "metadata": {},
   "outputs": [
    {
     "data": {
      "text/plain": [
       "(28114, 100, 100)"
      ]
     },
     "execution_count": 13,
     "metadata": {},
     "output_type": "execute_result"
    }
   ],
   "source": [
    "x_train.shape"
   ]
  },
  {
   "cell_type": "code",
   "execution_count": 14,
   "id": "b2135ce1",
   "metadata": {
    "scrolled": true
   },
   "outputs": [
    {
     "data": {
      "text/plain": [
       "(28114,)"
      ]
     },
     "execution_count": 14,
     "metadata": {},
     "output_type": "execute_result"
    }
   ],
   "source": [
    "y_train.shape"
   ]
  },
  {
   "cell_type": "markdown",
   "id": "3e0b538d",
   "metadata": {},
   "source": [
    "# In this project, I've used tenserflow.keras library for constructing neural network, but also here I use tf.keras.utils.normalize method to normalize the arrays of pixels"
   ]
  },
  {
   "cell_type": "code",
   "execution_count": 15,
   "id": "e8043ca0",
   "metadata": {},
   "outputs": [],
   "source": [
    "x_train = tf.keras.utils.normalize(x_train, axis = 1)\n",
    "x_test = tf.keras.utils.normalize(x_test,axis = 1)"
   ]
  },
  {
   "cell_type": "code",
   "execution_count": 16,
   "id": "1baaf4ef",
   "metadata": {},
   "outputs": [
    {
     "data": {
      "text/plain": [
       "array([[[0.1, 0.1, 0.1, ..., 0.1, 0.1, 0.1],\n",
       "        [0.1, 0.1, 0.1, ..., 0.1, 0.1, 0.1],\n",
       "        [0.1, 0.1, 0.1, ..., 0.1, 0.1, 0.1],\n",
       "        ...,\n",
       "        [0.1, 0.1, 0.1, ..., 0.1, 0.1, 0.1],\n",
       "        [0.1, 0.1, 0.1, ..., 0.1, 0.1, 0.1],\n",
       "        [0.1, 0.1, 0.1, ..., 0.1, 0.1, 0.1]],\n",
       "\n",
       "       [[0.1, 0.1, 0.1, ..., 0.1, 0.1, 0.1],\n",
       "        [0.1, 0.1, 0.1, ..., 0.1, 0.1, 0.1],\n",
       "        [0.1, 0.1, 0.1, ..., 0.1, 0.1, 0.1],\n",
       "        ...,\n",
       "        [0.1, 0.1, 0.1, ..., 0.1, 0.1, 0.1],\n",
       "        [0.1, 0.1, 0.1, ..., 0.1, 0.1, 0.1],\n",
       "        [0.1, 0.1, 0.1, ..., 0.1, 0.1, 0.1]],\n",
       "\n",
       "       [[0.1, 0.1, 0.1, ..., 0.1, 0.1, 0.1],\n",
       "        [0.1, 0.1, 0.1, ..., 0.1, 0.1, 0.1],\n",
       "        [0.1, 0.1, 0.1, ..., 0.1, 0.1, 0.1],\n",
       "        ...,\n",
       "        [0.1, 0.1, 0.1, ..., 0.1, 0.1, 0.1],\n",
       "        [0.1, 0.1, 0.1, ..., 0.1, 0.1, 0.1],\n",
       "        [0.1, 0.1, 0.1, ..., 0.1, 0.1, 0.1]],\n",
       "\n",
       "       ...,\n",
       "\n",
       "       [[0.1, 0.1, 0.1, ..., 0.1, 0.1, 0.1],\n",
       "        [0.1, 0.1, 0.1, ..., 0.1, 0.1, 0.1],\n",
       "        [0.1, 0.1, 0.1, ..., 0.1, 0.1, 0.1],\n",
       "        ...,\n",
       "        [0.1, 0.1, 0.1, ..., 0.1, 0.1, 0.1],\n",
       "        [0.1, 0.1, 0.1, ..., 0.1, 0.1, 0.1],\n",
       "        [0.1, 0.1, 0.1, ..., 0.1, 0.1, 0.1]],\n",
       "\n",
       "       [[0.1, 0.1, 0.1, ..., 0.1, 0.1, 0.1],\n",
       "        [0.1, 0.1, 0.1, ..., 0.1, 0.1, 0.1],\n",
       "        [0.1, 0.1, 0.1, ..., 0.1, 0.1, 0.1],\n",
       "        ...,\n",
       "        [0.1, 0.1, 0.1, ..., 0.1, 0.1, 0.1],\n",
       "        [0.1, 0.1, 0.1, ..., 0.1, 0.1, 0.1],\n",
       "        [0.1, 0.1, 0.1, ..., 0.1, 0.1, 0.1]],\n",
       "\n",
       "       [[0.1, 0.1, 0.1, ..., 0.1, 0.1, 0.1],\n",
       "        [0.1, 0.1, 0.1, ..., 0.1, 0.1, 0.1],\n",
       "        [0.1, 0.1, 0.1, ..., 0.1, 0.1, 0.1],\n",
       "        ...,\n",
       "        [0.1, 0.1, 0.1, ..., 0.1, 0.1, 0.1],\n",
       "        [0.1, 0.1, 0.1, ..., 0.1, 0.1, 0.1],\n",
       "        [0.1, 0.1, 0.1, ..., 0.1, 0.1, 0.1]]])"
      ]
     },
     "execution_count": 16,
     "metadata": {},
     "output_type": "execute_result"
    }
   ],
   "source": [
    "x_train"
   ]
  },
  {
   "cell_type": "code",
   "execution_count": 17,
   "id": "423e5f4b",
   "metadata": {},
   "outputs": [
    {
     "data": {
      "text/plain": [
       "array([[[0.1, 0.1, 0.1, ..., 0.1, 0.1, 0.1],\n",
       "        [0.1, 0.1, 0.1, ..., 0.1, 0.1, 0.1],\n",
       "        [0.1, 0.1, 0.1, ..., 0.1, 0.1, 0.1],\n",
       "        ...,\n",
       "        [0.1, 0.1, 0.1, ..., 0.1, 0.1, 0.1],\n",
       "        [0.1, 0.1, 0.1, ..., 0.1, 0.1, 0.1],\n",
       "        [0.1, 0.1, 0.1, ..., 0.1, 0.1, 0.1]],\n",
       "\n",
       "       [[0.1, 0.1, 0.1, ..., 0.1, 0.1, 0.1],\n",
       "        [0.1, 0.1, 0.1, ..., 0.1, 0.1, 0.1],\n",
       "        [0.1, 0.1, 0.1, ..., 0.1, 0.1, 0.1],\n",
       "        ...,\n",
       "        [0.1, 0.1, 0.1, ..., 0.1, 0.1, 0.1],\n",
       "        [0.1, 0.1, 0.1, ..., 0.1, 0.1, 0.1],\n",
       "        [0.1, 0.1, 0.1, ..., 0.1, 0.1, 0.1]],\n",
       "\n",
       "       [[0.1, 0.1, 0.1, ..., 0.1, 0.1, 0.1],\n",
       "        [0.1, 0.1, 0.1, ..., 0.1, 0.1, 0.1],\n",
       "        [0.1, 0.1, 0.1, ..., 0.1, 0.1, 0.1],\n",
       "        ...,\n",
       "        [0.1, 0.1, 0.1, ..., 0.1, 0.1, 0.1],\n",
       "        [0.1, 0.1, 0.1, ..., 0.1, 0.1, 0.1],\n",
       "        [0.1, 0.1, 0.1, ..., 0.1, 0.1, 0.1]],\n",
       "\n",
       "       ...,\n",
       "\n",
       "       [[0.1, 0.1, 0.1, ..., 0.1, 0.1, 0.1],\n",
       "        [0.1, 0.1, 0.1, ..., 0.1, 0.1, 0.1],\n",
       "        [0.1, 0.1, 0.1, ..., 0.1, 0.1, 0.1],\n",
       "        ...,\n",
       "        [0.1, 0.1, 0.1, ..., 0.1, 0.1, 0.1],\n",
       "        [0.1, 0.1, 0.1, ..., 0.1, 0.1, 0.1],\n",
       "        [0.1, 0.1, 0.1, ..., 0.1, 0.1, 0.1]],\n",
       "\n",
       "       [[0.1, 0.1, 0.1, ..., 0.1, 0.1, 0.1],\n",
       "        [0.1, 0.1, 0.1, ..., 0.1, 0.1, 0.1],\n",
       "        [0.1, 0.1, 0.1, ..., 0.1, 0.1, 0.1],\n",
       "        ...,\n",
       "        [0.1, 0.1, 0.1, ..., 0.1, 0.1, 0.1],\n",
       "        [0.1, 0.1, 0.1, ..., 0.1, 0.1, 0.1],\n",
       "        [0.1, 0.1, 0.1, ..., 0.1, 0.1, 0.1]],\n",
       "\n",
       "       [[0.1, 0.1, 0.1, ..., 0.1, 0.1, 0.1],\n",
       "        [0.1, 0.1, 0.1, ..., 0.1, 0.1, 0.1],\n",
       "        [0.1, 0.1, 0.1, ..., 0.1, 0.1, 0.1],\n",
       "        ...,\n",
       "        [0.1, 0.1, 0.1, ..., 0.1, 0.1, 0.1],\n",
       "        [0.1, 0.1, 0.1, ..., 0.1, 0.1, 0.1],\n",
       "        [0.1, 0.1, 0.1, ..., 0.1, 0.1, 0.1]]])"
      ]
     },
     "execution_count": 17,
     "metadata": {},
     "output_type": "execute_result"
    }
   ],
   "source": [
    "x_test"
   ]
  },
  {
   "cell_type": "markdown",
   "id": "cd6616b7",
   "metadata": {},
   "source": [
    "# So far, each of our picture is represented as an 100x100 array of pixels, but we need them to be one-dimensional  "
   ]
  },
  {
   "cell_type": "code",
   "execution_count": 18,
   "id": "9a3c0fcf",
   "metadata": {},
   "outputs": [],
   "source": [
    "# x_train_f will be the array of length 100000\n",
    "x_train_f = np.ones((trainingSet.shape[0],10000),dtype=float)\n",
    "for i in range(len(x_train)):\n",
    "    x_train_f[i] = x_train[i].flatten()"
   ]
  },
  {
   "cell_type": "code",
   "execution_count": 19,
   "id": "2b4369d0",
   "metadata": {},
   "outputs": [
    {
     "data": {
      "text/plain": [
       "array([[0.1, 0.1, 0.1, ..., 0.1, 0.1, 0.1],\n",
       "       [0.1, 0.1, 0.1, ..., 0.1, 0.1, 0.1],\n",
       "       [0.1, 0.1, 0.1, ..., 0.1, 0.1, 0.1],\n",
       "       ...,\n",
       "       [0.1, 0.1, 0.1, ..., 0.1, 0.1, 0.1],\n",
       "       [0.1, 0.1, 0.1, ..., 0.1, 0.1, 0.1],\n",
       "       [0.1, 0.1, 0.1, ..., 0.1, 0.1, 0.1]])"
      ]
     },
     "execution_count": 19,
     "metadata": {},
     "output_type": "execute_result"
    }
   ],
   "source": [
    "x_train_f"
   ]
  },
  {
   "cell_type": "code",
   "execution_count": 20,
   "id": "89aeaccd",
   "metadata": {},
   "outputs": [],
   "source": [
    "# Here I do the same for test set\n",
    "x_test_f = np.ones((testSet.shape[0],10000),dtype=float)\n",
    "for i in range(len(x_test)):\n",
    "    x_test_f[i] = x_test[i].flatten()"
   ]
  },
  {
   "cell_type": "code",
   "execution_count": 21,
   "id": "1d3a10f3",
   "metadata": {},
   "outputs": [
    {
     "data": {
      "text/plain": [
       "array([[0.1, 0.1, 0.1, ..., 0.1, 0.1, 0.1],\n",
       "       [0.1, 0.1, 0.1, ..., 0.1, 0.1, 0.1],\n",
       "       [0.1, 0.1, 0.1, ..., 0.1, 0.1, 0.1],\n",
       "       ...,\n",
       "       [0.1, 0.1, 0.1, ..., 0.1, 0.1, 0.1],\n",
       "       [0.1, 0.1, 0.1, ..., 0.1, 0.1, 0.1],\n",
       "       [0.1, 0.1, 0.1, ..., 0.1, 0.1, 0.1]])"
      ]
     },
     "execution_count": 21,
     "metadata": {},
     "output_type": "execute_result"
    }
   ],
   "source": [
    "x_test_f"
   ]
  },
  {
   "cell_type": "markdown",
   "id": "2c44828e",
   "metadata": {},
   "source": [
    "# Here we start working with neural networks. I've used tensorflow.keras implementations for them"
   ]
  },
  {
   "cell_type": "markdown",
   "id": "e1f3e769",
   "metadata": {},
   "source": [
    "# Firstly, just out of curiosity, I tried fitting data without using pca. I don't have high expectations, as I think 10000 features are too many for the model to learn effectively"
   ]
  },
  {
   "cell_type": "markdown",
   "id": "5f278870",
   "metadata": {},
   "source": [
    "# Also, I've tried using really simple network for starters. This is the model without any hidden layers"
   ]
  },
  {
   "cell_type": "code",
   "execution_count": 22,
   "id": "6580d64f",
   "metadata": {},
   "outputs": [],
   "source": [
    "NeuralNetwork = tf.keras.models.Sequential()\n",
    "NeuralNetwork.add(tf.keras.layers.Flatten())\n",
    "NeuralNetwork.add(tf.keras.layers.Dense(33, activation = tf.nn.softmax))\n",
    "NeuralNetwork.compile(optimizer='sgd',loss = 'sparse_categorical_crossentropy', metrics = ['accuracy'])"
   ]
  },
  {
   "cell_type": "code",
   "execution_count": 23,
   "id": "5f5f9406",
   "metadata": {},
   "outputs": [
    {
     "name": "stdout",
     "output_type": "stream",
     "text": [
      "Epoch 1/50\n",
      "563/563 [==============================] - 3s 3ms/step - loss: 3.3940 - accuracy: 0.1631\n",
      "Epoch 2/50\n",
      "563/563 [==============================] - 2s 3ms/step - loss: 3.1976 - accuracy: 0.3434\n",
      "Epoch 3/50\n",
      "563/563 [==============================] - 2s 3ms/step - loss: 3.0283 - accuracy: 0.4174\n",
      "Epoch 4/50\n",
      "563/563 [==============================] - 2s 3ms/step - loss: 2.8832 - accuracy: 0.4485\n",
      "Epoch 5/50\n",
      "563/563 [==============================] - 2s 3ms/step - loss: 2.7578 - accuracy: 0.4654\n",
      "Epoch 6/50\n",
      "563/563 [==============================] - 2s 3ms/step - loss: 2.6512 - accuracy: 0.4826\n",
      "Epoch 7/50\n",
      "563/563 [==============================] - 2s 3ms/step - loss: 2.5580 - accuracy: 0.4921\n",
      "Epoch 8/50\n",
      "563/563 [==============================] - 2s 3ms/step - loss: 2.4778 - accuracy: 0.5071\n",
      "Epoch 9/50\n",
      "563/563 [==============================] - 2s 3ms/step - loss: 2.4080 - accuracy: 0.5140\n",
      "Epoch 10/50\n",
      "563/563 [==============================] - 2s 3ms/step - loss: 2.3457 - accuracy: 0.5239\n",
      "Epoch 11/50\n",
      "563/563 [==============================] - 2s 3ms/step - loss: 2.2907 - accuracy: 0.5301\n",
      "Epoch 12/50\n",
      "563/563 [==============================] - 2s 3ms/step - loss: 2.2419 - accuracy: 0.5410\n",
      "Epoch 13/50\n",
      "563/563 [==============================] - 2s 3ms/step - loss: 2.1976 - accuracy: 0.5474\n",
      "Epoch 14/50\n",
      "563/563 [==============================] - 2s 3ms/step - loss: 2.1577 - accuracy: 0.5525\n",
      "Epoch 15/50\n",
      "563/563 [==============================] - 2s 3ms/step - loss: 2.1207 - accuracy: 0.5610\n",
      "Epoch 16/50\n",
      "563/563 [==============================] - 2s 3ms/step - loss: 2.0874 - accuracy: 0.5654\n",
      "Epoch 17/50\n",
      "563/563 [==============================] - 2s 3ms/step - loss: 2.0567 - accuracy: 0.5729\n",
      "Epoch 18/50\n",
      "563/563 [==============================] - 2s 3ms/step - loss: 2.0279 - accuracy: 0.5775\n",
      "Epoch 19/50\n",
      "563/563 [==============================] - 2s 3ms/step - loss: 2.0015 - accuracy: 0.5844\n",
      "Epoch 20/50\n",
      "563/563 [==============================] - 2s 3ms/step - loss: 1.9768 - accuracy: 0.5870\n",
      "Epoch 21/50\n",
      "563/563 [==============================] - 2s 3ms/step - loss: 1.9533 - accuracy: 0.5926\n",
      "Epoch 22/50\n",
      "563/563 [==============================] - 2s 3ms/step - loss: 1.9312 - accuracy: 0.5983\n",
      "Epoch 23/50\n",
      "563/563 [==============================] - 2s 3ms/step - loss: 1.9107 - accuracy: 0.6035\n",
      "Epoch 24/50\n",
      "563/563 [==============================] - 2s 3ms/step - loss: 1.8913 - accuracy: 0.6072\n",
      "Epoch 25/50\n",
      "563/563 [==============================] - 2s 3ms/step - loss: 1.8726 - accuracy: 0.6108\n",
      "Epoch 26/50\n",
      "563/563 [==============================] - 2s 3ms/step - loss: 1.8545 - accuracy: 0.6121\n",
      "Epoch 27/50\n",
      "563/563 [==============================] - 2s 3ms/step - loss: 1.8380 - accuracy: 0.6178\n",
      "Epoch 28/50\n",
      "563/563 [==============================] - 2s 3ms/step - loss: 1.8221 - accuracy: 0.6192\n",
      "Epoch 29/50\n",
      "563/563 [==============================] - 2s 3ms/step - loss: 1.8070 - accuracy: 0.6253\n",
      "Epoch 30/50\n",
      "563/563 [==============================] - 2s 3ms/step - loss: 1.7926 - accuracy: 0.6285\n",
      "Epoch 31/50\n",
      "563/563 [==============================] - 2s 3ms/step - loss: 1.7780 - accuracy: 0.6308\n",
      "Epoch 32/50\n",
      "563/563 [==============================] - 2s 3ms/step - loss: 1.7646 - accuracy: 0.6335\n",
      "Epoch 33/50\n",
      "563/563 [==============================] - 2s 3ms/step - loss: 1.7517 - accuracy: 0.6358\n",
      "Epoch 34/50\n",
      "563/563 [==============================] - 2s 3ms/step - loss: 1.7392 - accuracy: 0.6398\n",
      "Epoch 35/50\n",
      "563/563 [==============================] - 2s 3ms/step - loss: 1.7274 - accuracy: 0.6428\n",
      "Epoch 36/50\n",
      "563/563 [==============================] - 2s 3ms/step - loss: 1.7152 - accuracy: 0.6453\n",
      "Epoch 37/50\n",
      "563/563 [==============================] - 2s 3ms/step - loss: 1.7044 - accuracy: 0.6457\n",
      "Epoch 38/50\n",
      "563/563 [==============================] - 2s 3ms/step - loss: 1.6930 - accuracy: 0.6508\n",
      "Epoch 39/50\n",
      "563/563 [==============================] - 2s 3ms/step - loss: 1.6829 - accuracy: 0.6505\n",
      "Epoch 40/50\n",
      "563/563 [==============================] - 2s 3ms/step - loss: 1.6722 - accuracy: 0.6571\n",
      "Epoch 41/50\n",
      "563/563 [==============================] - 2s 3ms/step - loss: 1.6626 - accuracy: 0.6571\n",
      "Epoch 42/50\n",
      "563/563 [==============================] - 2s 3ms/step - loss: 1.6529 - accuracy: 0.6591\n",
      "Epoch 43/50\n",
      "563/563 [==============================] - 2s 4ms/step - loss: 1.6437 - accuracy: 0.6628\n",
      "Epoch 44/50\n",
      "563/563 [==============================] - 2s 4ms/step - loss: 1.6345 - accuracy: 0.6637\n",
      "Epoch 45/50\n",
      "563/563 [==============================] - 2s 3ms/step - loss: 1.6253 - accuracy: 0.6650\n",
      "Epoch 46/50\n",
      "563/563 [==============================] - 2s 3ms/step - loss: 1.6170 - accuracy: 0.6681\n",
      "Epoch 47/50\n",
      "563/563 [==============================] - 2s 3ms/step - loss: 1.6084 - accuracy: 0.6671\n",
      "Epoch 48/50\n",
      "563/563 [==============================] - 2s 3ms/step - loss: 1.6002 - accuracy: 0.6719\n",
      "Epoch 49/50\n",
      "563/563 [==============================] - 2s 3ms/step - loss: 1.5925 - accuracy: 0.6722\n",
      "Epoch 50/50\n",
      "563/563 [==============================] - 2s 3ms/step - loss: 1.5849 - accuracy: 0.6742\n"
     ]
    },
    {
     "data": {
      "text/plain": [
       "<keras.callbacks.History at 0x16b6ac17f70>"
      ]
     },
     "execution_count": 23,
     "metadata": {},
     "output_type": "execute_result"
    }
   ],
   "source": [
    "NeuralNetwork.fit(x_train_f,y_train, batch_size = 50, epochs=50)"
   ]
  },
  {
   "cell_type": "code",
   "execution_count": 24,
   "id": "6441c06a",
   "metadata": {},
   "outputs": [
    {
     "name": "stdout",
     "output_type": "stream",
     "text": [
      "377/377 [==============================] - 1s 1ms/step - loss: 1.6139 - accuracy: 0.6664\n",
      "1.6138688325881958 0.666390061378479\n"
     ]
    }
   ],
   "source": [
    "(loss, acc) = NeuralNetwork.evaluate(x_test_f,y_test)\n",
    "print(loss,acc)"
   ]
  },
  {
   "cell_type": "markdown",
   "id": "bc1b5b7c",
   "metadata": {},
   "source": [
    "# Now I'm starting to use pca to reduce the dimensions for our data"
   ]
  },
  {
   "cell_type": "markdown",
   "id": "d3272db8",
   "metadata": {},
   "source": [
    "# I'm reducing data dimensions to 1000 features"
   ]
  },
  {
   "cell_type": "code",
   "execution_count": 25,
   "id": "57538601",
   "metadata": {},
   "outputs": [],
   "source": [
    "pca = PCA(n_components = 1000)\n",
    "pca.fit(x_train_f)\n",
    "x_train_f = pca.transform(x_train_f)"
   ]
  },
  {
   "cell_type": "code",
   "execution_count": 26,
   "id": "4920b504",
   "metadata": {},
   "outputs": [],
   "source": [
    "x_test_f = pca.transform(x_test_f)"
   ]
  },
  {
   "cell_type": "code",
   "execution_count": 27,
   "id": "f55b73e6",
   "metadata": {},
   "outputs": [],
   "source": [
    "NeuralNetwork = tf.keras.models.Sequential()\n",
    "NeuralNetwork.add(tf.keras.layers.Flatten())\n",
    "NeuralNetwork.add(tf.keras.layers.Dense(33, activation = tf.nn.softmax))\n",
    "NeuralNetwork.compile(optimizer='sgd',loss = 'sparse_categorical_crossentropy', metrics = ['accuracy'])"
   ]
  },
  {
   "cell_type": "code",
   "execution_count": 28,
   "id": "8628f7f1",
   "metadata": {},
   "outputs": [
    {
     "name": "stdout",
     "output_type": "stream",
     "text": [
      "Epoch 1/50\n",
      "563/563 [==============================] - 1s 928us/step - loss: 3.3860 - accuracy: 0.1428\n",
      "Epoch 2/50\n",
      "563/563 [==============================] - 1s 972us/step - loss: 3.1890 - accuracy: 0.3146\n",
      "Epoch 3/50\n",
      "563/563 [==============================] - 1s 976us/step - loss: 3.0197 - accuracy: 0.3907\n",
      "Epoch 4/50\n",
      "563/563 [==============================] - 1s 935us/step - loss: 2.8744 - accuracy: 0.4319\n",
      "Epoch 5/50\n",
      "563/563 [==============================] - 1s 946us/step - loss: 2.7501 - accuracy: 0.4569\n",
      "Epoch 6/50\n",
      "563/563 [==============================] - 1s 973us/step - loss: 2.6434 - accuracy: 0.4773\n",
      "Epoch 7/50\n",
      "563/563 [==============================] - 1s 958us/step - loss: 2.5515 - accuracy: 0.4940\n",
      "Epoch 8/50\n",
      "563/563 [==============================] - 1s 968us/step - loss: 2.4717 - accuracy: 0.5052\n",
      "Epoch 9/50\n",
      "563/563 [==============================] - 1s 936us/step - loss: 2.4020 - accuracy: 0.5146\n",
      "Epoch 10/50\n",
      "563/563 [==============================] - 1s 976us/step - loss: 2.3407 - accuracy: 0.5235\n",
      "Epoch 11/50\n",
      "563/563 [==============================] - 1s 952us/step - loss: 2.2862 - accuracy: 0.5316\n",
      "Epoch 12/50\n",
      "563/563 [==============================] - 1s 942us/step - loss: 2.2375 - accuracy: 0.5392\n",
      "Epoch 13/50\n",
      "563/563 [==============================] - 1s 981us/step - loss: 2.1936 - accuracy: 0.5457\n",
      "Epoch 14/50\n",
      "563/563 [==============================] - 1s 953us/step - loss: 2.1538 - accuracy: 0.5534\n",
      "Epoch 15/50\n",
      "563/563 [==============================] - 1s 957us/step - loss: 2.1175 - accuracy: 0.5593\n",
      "Epoch 16/50\n",
      "563/563 [==============================] - 1s 940us/step - loss: 2.0842 - accuracy: 0.5650\n",
      "Epoch 17/50\n",
      "563/563 [==============================] - 1s 957us/step - loss: 2.0536 - accuracy: 0.5708\n",
      "Epoch 18/50\n",
      "563/563 [==============================] - 1s 939us/step - loss: 2.0251 - accuracy: 0.5764\n",
      "Epoch 19/50\n",
      "563/563 [==============================] - 1s 942us/step - loss: 1.9986 - accuracy: 0.5819\n",
      "Epoch 20/50\n",
      "563/563 [==============================] - 1s 943us/step - loss: 1.9739 - accuracy: 0.5885\n",
      "Epoch 21/50\n",
      "563/563 [==============================] - 1s 929us/step - loss: 1.9507 - accuracy: 0.5933\n",
      "Epoch 22/50\n",
      "563/563 [==============================] - 1s 1ms/step - loss: 1.9290 - accuracy: 0.5982\n",
      "Epoch 23/50\n",
      "563/563 [==============================] - 1s 916us/step - loss: 1.9084 - accuracy: 0.6019\n",
      "Epoch 24/50\n",
      "563/563 [==============================] - 1s 995us/step - loss: 1.8889 - accuracy: 0.6067\n",
      "Epoch 25/50\n",
      "563/563 [==============================] - 1s 970us/step - loss: 1.8705 - accuracy: 0.6109\n",
      "Epoch 26/50\n",
      "563/563 [==============================] - 1s 960us/step - loss: 1.8529 - accuracy: 0.6148\n",
      "Epoch 27/50\n",
      "563/563 [==============================] - 1s 975us/step - loss: 1.8362 - accuracy: 0.6184\n",
      "Epoch 28/50\n",
      "563/563 [==============================] - 1s 1ms/step - loss: 1.8203 - accuracy: 0.6212\n",
      "Epoch 29/50\n",
      "563/563 [==============================] - 1s 1ms/step - loss: 1.8051 - accuracy: 0.6252\n",
      "Epoch 30/50\n",
      "563/563 [==============================] - 1s 1ms/step - loss: 1.7905 - accuracy: 0.6285\n",
      "Epoch 31/50\n",
      "563/563 [==============================] - 1s 1ms/step - loss: 1.7765 - accuracy: 0.6310\n",
      "Epoch 32/50\n",
      "563/563 [==============================] - 1s 1ms/step - loss: 1.7630 - accuracy: 0.6345\n",
      "Epoch 33/50\n",
      "563/563 [==============================] - 1s 978us/step - loss: 1.7501 - accuracy: 0.6378\n",
      "Epoch 34/50\n",
      "563/563 [==============================] - 1s 998us/step - loss: 1.7376 - accuracy: 0.6403\n",
      "Epoch 35/50\n",
      "563/563 [==============================] - 1s 1ms/step - loss: 1.7256 - accuracy: 0.6430\n",
      "Epoch 36/50\n",
      "563/563 [==============================] - 1s 1ms/step - loss: 1.7139 - accuracy: 0.6454\n",
      "Epoch 37/50\n",
      "563/563 [==============================] - 1s 1ms/step - loss: 1.7027 - accuracy: 0.6479\n",
      "Epoch 38/50\n",
      "563/563 [==============================] - 1s 1ms/step - loss: 1.6919 - accuracy: 0.6506\n",
      "Epoch 39/50\n",
      "563/563 [==============================] - 1s 1ms/step - loss: 1.6814 - accuracy: 0.6529\n",
      "Epoch 40/50\n",
      "563/563 [==============================] - 1s 1ms/step - loss: 1.6712 - accuracy: 0.6547\n",
      "Epoch 41/50\n",
      "563/563 [==============================] - 1s 1ms/step - loss: 1.6613 - accuracy: 0.6568\n",
      "Epoch 42/50\n",
      "563/563 [==============================] - 1s 1ms/step - loss: 1.6517 - accuracy: 0.6587\n",
      "Epoch 43/50\n",
      "563/563 [==============================] - 1s 1ms/step - loss: 1.6423 - accuracy: 0.6609\n",
      "Epoch 44/50\n",
      "563/563 [==============================] - 1s 979us/step - loss: 1.6333 - accuracy: 0.6630\n",
      "Epoch 45/50\n",
      "563/563 [==============================] - 1s 1ms/step - loss: 1.6245 - accuracy: 0.6653\n",
      "Epoch 46/50\n",
      "563/563 [==============================] - 1s 1ms/step - loss: 1.6159 - accuracy: 0.6670\n",
      "Epoch 47/50\n",
      "563/563 [==============================] - 1s 1ms/step - loss: 1.6075 - accuracy: 0.6684\n",
      "Epoch 48/50\n",
      "563/563 [==============================] - 1s 1ms/step - loss: 1.5993 - accuracy: 0.6711\n",
      "Epoch 49/50\n",
      "563/563 [==============================] - 1s 955us/step - loss: 1.5914 - accuracy: 0.6720\n",
      "Epoch 50/50\n",
      "563/563 [==============================] - 1s 1ms/step - loss: 1.5836 - accuracy: 0.6741\n"
     ]
    },
    {
     "data": {
      "text/plain": [
       "<keras.callbacks.History at 0x16b6afa6b50>"
      ]
     },
     "execution_count": 28,
     "metadata": {},
     "output_type": "execute_result"
    }
   ],
   "source": [
    "NeuralNetwork.fit(x_train_f,y_train, batch_size = 50, epochs=50)"
   ]
  },
  {
   "cell_type": "code",
   "execution_count": 29,
   "id": "864824c6",
   "metadata": {},
   "outputs": [
    {
     "name": "stdout",
     "output_type": "stream",
     "text": [
      "377/377 [==============================] - 0s 787us/step - loss: 1.6131 - accuracy: 0.6620\n",
      "1.6130658388137817 0.6619917154312134\n"
     ]
    }
   ],
   "source": [
    "(loss, acc) = NeuralNetwork.evaluate(x_test_f,y_test)\n",
    "print(loss,acc)"
   ]
  },
  {
   "cell_type": "markdown",
   "id": "85c91f89",
   "metadata": {},
   "source": [
    "# Now I'm going to try different approaches for our model. e.g. using different activation functions, number of hidden layers, and also vary the number of units in them"
   ]
  },
  {
   "cell_type": "markdown",
   "id": "16507b6f",
   "metadata": {},
   "source": [
    "# But the activation function for the last layer (activation layer) should be softmax, as our problem is multiclass, also I'm going to use sparse_categorical_crossentropy for loss function and accuracy as metric"
   ]
  },
  {
   "cell_type": "code",
   "execution_count": 30,
   "id": "716195b2",
   "metadata": {},
   "outputs": [],
   "source": [
    "NeuralNetwork = tf.keras.models.Sequential()\n",
    "NeuralNetwork.add(tf.keras.layers.Flatten())\n",
    "NeuralNetwork.add(tf.keras.layers.Dense(200, activation = tf.nn.relu))\n",
    "NeuralNetwork.add(tf.keras.layers.Dense(33, activation = tf.nn.softmax))\n",
    "NeuralNetwork.compile(optimizer='sgd',loss = 'sparse_categorical_crossentropy', metrics = ['accuracy'])"
   ]
  },
  {
   "cell_type": "code",
   "execution_count": 31,
   "id": "54bae043",
   "metadata": {},
   "outputs": [
    {
     "name": "stdout",
     "output_type": "stream",
     "text": [
      "Epoch 1/50\n",
      "563/563 [==============================] - 1s 1ms/step - loss: 3.4221 - accuracy: 0.1093\n",
      "Epoch 2/50\n",
      "563/563 [==============================] - 1s 2ms/step - loss: 3.2537 - accuracy: 0.2834\n",
      "Epoch 3/50\n",
      "563/563 [==============================] - 1s 2ms/step - loss: 3.0394 - accuracy: 0.3844\n",
      "Epoch 4/50\n",
      "563/563 [==============================] - 1s 2ms/step - loss: 2.7895 - accuracy: 0.4426\n",
      "Epoch 5/50\n",
      "563/563 [==============================] - 1s 2ms/step - loss: 2.5407 - accuracy: 0.4845\n",
      "Epoch 6/50\n",
      "563/563 [==============================] - 1s 2ms/step - loss: 2.3211 - accuracy: 0.5198\n",
      "Epoch 7/50\n",
      "563/563 [==============================] - 1s 2ms/step - loss: 2.1399 - accuracy: 0.5442\n",
      "Epoch 8/50\n",
      "563/563 [==============================] - 1s 1ms/step - loss: 1.9930 - accuracy: 0.5681\n",
      "Epoch 9/50\n",
      "563/563 [==============================] - 1s 2ms/step - loss: 1.8728 - accuracy: 0.5914\n",
      "Epoch 10/50\n",
      "563/563 [==============================] - 1s 2ms/step - loss: 1.7728 - accuracy: 0.6130\n",
      "Epoch 11/50\n",
      "563/563 [==============================] - 1s 2ms/step - loss: 1.6878 - accuracy: 0.6326\n",
      "Epoch 12/50\n",
      "563/563 [==============================] - 1s 2ms/step - loss: 1.6148 - accuracy: 0.6500\n",
      "Epoch 13/50\n",
      "563/563 [==============================] - 1s 2ms/step - loss: 1.5511 - accuracy: 0.6648\n",
      "Epoch 14/50\n",
      "563/563 [==============================] - 1s 2ms/step - loss: 1.4950 - accuracy: 0.6778\n",
      "Epoch 15/50\n",
      "563/563 [==============================] - 1s 2ms/step - loss: 1.4450 - accuracy: 0.6891\n",
      "Epoch 16/50\n",
      "563/563 [==============================] - 1s 2ms/step - loss: 1.4001 - accuracy: 0.6985\n",
      "Epoch 17/50\n",
      "563/563 [==============================] - 1s 1ms/step - loss: 1.3597 - accuracy: 0.7070\n",
      "Epoch 18/50\n",
      "563/563 [==============================] - 1s 2ms/step - loss: 1.3229 - accuracy: 0.7151\n",
      "Epoch 19/50\n",
      "563/563 [==============================] - 1s 2ms/step - loss: 1.2895 - accuracy: 0.7232\n",
      "Epoch 20/50\n",
      "563/563 [==============================] - 1s 1ms/step - loss: 1.2586 - accuracy: 0.7291\n",
      "Epoch 21/50\n",
      "563/563 [==============================] - 1s 1ms/step - loss: 1.2301 - accuracy: 0.7348\n",
      "Epoch 22/50\n",
      "563/563 [==============================] - 1s 1ms/step - loss: 1.2037 - accuracy: 0.7407\n",
      "Epoch 23/50\n",
      "563/563 [==============================] - 1s 1ms/step - loss: 1.1793 - accuracy: 0.7446\n",
      "Epoch 24/50\n",
      "563/563 [==============================] - 1s 1ms/step - loss: 1.1563 - accuracy: 0.7491\n",
      "Epoch 25/50\n",
      "563/563 [==============================] - 1s 1ms/step - loss: 1.1350 - accuracy: 0.7541\n",
      "Epoch 26/50\n",
      "563/563 [==============================] - 1s 1ms/step - loss: 1.1147 - accuracy: 0.7578\n",
      "Epoch 27/50\n",
      "563/563 [==============================] - 1s 1ms/step - loss: 1.0958 - accuracy: 0.7616\n",
      "Epoch 28/50\n",
      "563/563 [==============================] - 1s 1ms/step - loss: 1.0779 - accuracy: 0.7647\n",
      "Epoch 29/50\n",
      "563/563 [==============================] - 1s 1ms/step - loss: 1.0609 - accuracy: 0.7692\n",
      "Epoch 30/50\n",
      "563/563 [==============================] - 1s 1ms/step - loss: 1.0449 - accuracy: 0.7715\n",
      "Epoch 31/50\n",
      "563/563 [==============================] - 1s 1ms/step - loss: 1.0295 - accuracy: 0.7753\n",
      "Epoch 32/50\n",
      "563/563 [==============================] - 1s 1ms/step - loss: 1.0148 - accuracy: 0.7789\n",
      "Epoch 33/50\n",
      "563/563 [==============================] - 1s 1ms/step - loss: 1.0011 - accuracy: 0.7819\n",
      "Epoch 34/50\n",
      "563/563 [==============================] - 1s 1ms/step - loss: 0.9877 - accuracy: 0.7854\n",
      "Epoch 35/50\n",
      "563/563 [==============================] - 1s 1ms/step - loss: 0.9749 - accuracy: 0.7877\n",
      "Epoch 36/50\n",
      "563/563 [==============================] - 1s 1ms/step - loss: 0.9627 - accuracy: 0.7898\n",
      "Epoch 37/50\n",
      "563/563 [==============================] - 1s 1ms/step - loss: 0.9509 - accuracy: 0.7916\n",
      "Epoch 38/50\n",
      "563/563 [==============================] - 1s 1ms/step - loss: 0.9396 - accuracy: 0.7952\n",
      "Epoch 39/50\n",
      "563/563 [==============================] - 1s 1ms/step - loss: 0.9287 - accuracy: 0.7963\n",
      "Epoch 40/50\n",
      "563/563 [==============================] - 1s 1ms/step - loss: 0.9180 - accuracy: 0.7990\n",
      "Epoch 41/50\n",
      "563/563 [==============================] - 1s 1ms/step - loss: 0.9079 - accuracy: 0.8016\n",
      "Epoch 42/50\n",
      "563/563 [==============================] - 1s 1ms/step - loss: 0.8981 - accuracy: 0.8019\n",
      "Epoch 43/50\n",
      "563/563 [==============================] - 1s 1ms/step - loss: 0.8886 - accuracy: 0.8052\n",
      "Epoch 44/50\n",
      "563/563 [==============================] - 1s 1ms/step - loss: 0.8794 - accuracy: 0.8052\n",
      "Epoch 45/50\n",
      "563/563 [==============================] - 1s 1ms/step - loss: 0.8704 - accuracy: 0.8085\n",
      "Epoch 46/50\n",
      "563/563 [==============================] - 1s 1ms/step - loss: 0.8617 - accuracy: 0.8102\n",
      "Epoch 47/50\n",
      "563/563 [==============================] - 1s 1ms/step - loss: 0.8533 - accuracy: 0.8105\n",
      "Epoch 48/50\n",
      "563/563 [==============================] - 1s 2ms/step - loss: 0.8450 - accuracy: 0.8135\n",
      "Epoch 49/50\n",
      "563/563 [==============================] - 1s 1ms/step - loss: 0.8372 - accuracy: 0.8141\n",
      "Epoch 50/50\n",
      "563/563 [==============================] - 1s 2ms/step - loss: 0.8292 - accuracy: 0.8159\n"
     ]
    },
    {
     "data": {
      "text/plain": [
       "<keras.callbacks.History at 0x16b6cea2eb0>"
      ]
     },
     "execution_count": 31,
     "metadata": {},
     "output_type": "execute_result"
    }
   ],
   "source": [
    "NeuralNetwork.fit(x_train_f,y_train, batch_size = 50, epochs=50)"
   ]
  },
  {
   "cell_type": "code",
   "execution_count": 32,
   "id": "79eced05",
   "metadata": {},
   "outputs": [
    {
     "name": "stdout",
     "output_type": "stream",
     "text": [
      "377/377 [==============================] - 0s 935us/step - loss: 0.8945 - accuracy: 0.8020\n",
      "0.8945406675338745 0.8019917011260986\n"
     ]
    }
   ],
   "source": [
    "(loss, acc) = NeuralNetwork.evaluate(x_test_f,y_test)\n",
    "print(loss,acc)"
   ]
  },
  {
   "cell_type": "code",
   "execution_count": 33,
   "id": "7618eff2",
   "metadata": {},
   "outputs": [],
   "source": [
    "NeuralNetwork = tf.keras.models.Sequential()\n",
    "NeuralNetwork.add(tf.keras.layers.Flatten())\n",
    "NeuralNetwork.add(tf.keras.layers.Dense(200, activation = tf.nn.sigmoid))\n",
    "NeuralNetwork.add(tf.keras.layers.Dense(33, activation = tf.nn.softmax))\n",
    "NeuralNetwork.compile(optimizer='sgd',loss = 'sparse_categorical_crossentropy', metrics = ['accuracy'])"
   ]
  },
  {
   "cell_type": "code",
   "execution_count": 34,
   "id": "a191895e",
   "metadata": {},
   "outputs": [
    {
     "name": "stdout",
     "output_type": "stream",
     "text": [
      "Epoch 1/50\n",
      "563/563 [==============================] - 1s 1ms/step - loss: 3.4992 - accuracy: 0.0467\n",
      "Epoch 2/50\n",
      "563/563 [==============================] - 1s 1ms/step - loss: 3.4511 - accuracy: 0.0922\n",
      "Epoch 3/50\n",
      "563/563 [==============================] - 1s 2ms/step - loss: 3.4197 - accuracy: 0.1319\n",
      "Epoch 4/50\n",
      "563/563 [==============================] - 1s 1ms/step - loss: 3.3872 - accuracy: 0.1821\n",
      "Epoch 5/50\n",
      "563/563 [==============================] - 1s 2ms/step - loss: 3.3528 - accuracy: 0.2191\n",
      "Epoch 6/50\n",
      "563/563 [==============================] - 1s 1ms/step - loss: 3.3153 - accuracy: 0.2541\n",
      "Epoch 7/50\n",
      "563/563 [==============================] - 1s 1ms/step - loss: 3.2747 - accuracy: 0.3001\n",
      "Epoch 8/50\n",
      "563/563 [==============================] - 1s 2ms/step - loss: 3.2307 - accuracy: 0.3197\n",
      "Epoch 9/50\n",
      "563/563 [==============================] - 1s 1ms/step - loss: 3.1828 - accuracy: 0.3451\n",
      "Epoch 10/50\n",
      "563/563 [==============================] - 1s 1ms/step - loss: 3.1313 - accuracy: 0.3595\n",
      "Epoch 11/50\n",
      "563/563 [==============================] - 1s 1ms/step - loss: 3.0761 - accuracy: 0.3633\n",
      "Epoch 12/50\n",
      "563/563 [==============================] - 1s 1ms/step - loss: 3.0193 - accuracy: 0.3873\n",
      "Epoch 13/50\n",
      "563/563 [==============================] - 1s 1ms/step - loss: 2.9600 - accuracy: 0.3990\n",
      "Epoch 14/50\n",
      "563/563 [==============================] - 1s 2ms/step - loss: 2.8995 - accuracy: 0.4039\n",
      "Epoch 15/50\n",
      "563/563 [==============================] - 1s 2ms/step - loss: 2.8380 - accuracy: 0.4167\n",
      "Epoch 16/50\n",
      "563/563 [==============================] - 1s 1ms/step - loss: 2.7779 - accuracy: 0.4264\n",
      "Epoch 17/50\n",
      "563/563 [==============================] - 1s 2ms/step - loss: 2.7183 - accuracy: 0.4383\n",
      "Epoch 18/50\n",
      "563/563 [==============================] - 1s 2ms/step - loss: 2.6600 - accuracy: 0.4450\n",
      "Epoch 19/50\n",
      "563/563 [==============================] - 1s 1ms/step - loss: 2.6036 - accuracy: 0.4537\n",
      "Epoch 20/50\n",
      "563/563 [==============================] - 1s 2ms/step - loss: 2.5491 - accuracy: 0.4648\n",
      "Epoch 21/50\n",
      "563/563 [==============================] - 1s 2ms/step - loss: 2.4963 - accuracy: 0.4734\n",
      "Epoch 22/50\n",
      "563/563 [==============================] - 1s 2ms/step - loss: 2.4458 - accuracy: 0.4801\n",
      "Epoch 23/50\n",
      "563/563 [==============================] - 1s 2ms/step - loss: 2.3972 - accuracy: 0.4899\n",
      "Epoch 24/50\n",
      "563/563 [==============================] - 1s 2ms/step - loss: 2.3508 - accuracy: 0.4959\n",
      "Epoch 25/50\n",
      "563/563 [==============================] - 1s 2ms/step - loss: 2.3063 - accuracy: 0.5063\n",
      "Epoch 26/50\n",
      "563/563 [==============================] - 1s 2ms/step - loss: 2.2637 - accuracy: 0.5128\n",
      "Epoch 27/50\n",
      "563/563 [==============================] - 1s 2ms/step - loss: 2.2233 - accuracy: 0.5234\n",
      "Epoch 28/50\n",
      "563/563 [==============================] - 1s 2ms/step - loss: 2.1842 - accuracy: 0.5273\n",
      "Epoch 29/50\n",
      "563/563 [==============================] - 1s 2ms/step - loss: 2.1470 - accuracy: 0.5333\n",
      "Epoch 30/50\n",
      "563/563 [==============================] - 1s 2ms/step - loss: 2.1116 - accuracy: 0.5404\n",
      "Epoch 31/50\n",
      "563/563 [==============================] - 1s 2ms/step - loss: 2.0779 - accuracy: 0.5503\n",
      "Epoch 32/50\n",
      "563/563 [==============================] - 1s 2ms/step - loss: 2.0453 - accuracy: 0.5545\n",
      "Epoch 33/50\n",
      "563/563 [==============================] - 1s 2ms/step - loss: 2.0139 - accuracy: 0.5610\n",
      "Epoch 34/50\n",
      "563/563 [==============================] - 1s 2ms/step - loss: 1.9844 - accuracy: 0.5682\n",
      "Epoch 35/50\n",
      "563/563 [==============================] - 1s 2ms/step - loss: 1.9562 - accuracy: 0.5719\n",
      "Epoch 36/50\n",
      "563/563 [==============================] - 1s 2ms/step - loss: 1.9289 - accuracy: 0.5771\n",
      "Epoch 37/50\n",
      "563/563 [==============================] - 1s 2ms/step - loss: 1.9025 - accuracy: 0.5826\n",
      "Epoch 38/50\n",
      "563/563 [==============================] - 1s 2ms/step - loss: 1.8775 - accuracy: 0.5879\n",
      "Epoch 39/50\n",
      "563/563 [==============================] - 1s 2ms/step - loss: 1.8532 - accuracy: 0.5919\n",
      "Epoch 40/50\n",
      "563/563 [==============================] - 1s 2ms/step - loss: 1.8301 - accuracy: 0.5968\n",
      "Epoch 41/50\n",
      "563/563 [==============================] - 1s 2ms/step - loss: 1.8081 - accuracy: 0.6004\n",
      "Epoch 42/50\n",
      "563/563 [==============================] - 1s 2ms/step - loss: 1.7867 - accuracy: 0.6066\n",
      "Epoch 43/50\n",
      "563/563 [==============================] - 1s 2ms/step - loss: 1.7660 - accuracy: 0.6089\n",
      "Epoch 44/50\n",
      "563/563 [==============================] - 1s 2ms/step - loss: 1.7464 - accuracy: 0.6131\n",
      "Epoch 45/50\n",
      "563/563 [==============================] - 1s 2ms/step - loss: 1.7271 - accuracy: 0.6187\n",
      "Epoch 46/50\n",
      "563/563 [==============================] - 1s 2ms/step - loss: 1.7085 - accuracy: 0.6199\n",
      "Epoch 47/50\n",
      "563/563 [==============================] - 1s 2ms/step - loss: 1.6907 - accuracy: 0.6247\n",
      "Epoch 48/50\n",
      "563/563 [==============================] - 1s 2ms/step - loss: 1.6734 - accuracy: 0.6265\n",
      "Epoch 49/50\n",
      "563/563 [==============================] - 1s 2ms/step - loss: 1.6571 - accuracy: 0.6340\n",
      "Epoch 50/50\n",
      "563/563 [==============================] - 1s 2ms/step - loss: 1.6408 - accuracy: 0.6334\n"
     ]
    },
    {
     "data": {
      "text/plain": [
       "<keras.callbacks.History at 0x16b6cd92d90>"
      ]
     },
     "execution_count": 34,
     "metadata": {},
     "output_type": "execute_result"
    }
   ],
   "source": [
    "NeuralNetwork.fit(x_train_f,y_train, batch_size = 50, epochs=50)"
   ]
  },
  {
   "cell_type": "code",
   "execution_count": 35,
   "id": "954f020b",
   "metadata": {},
   "outputs": [
    {
     "name": "stdout",
     "output_type": "stream",
     "text": [
      "377/377 [==============================] - 0s 912us/step - loss: 1.6504 - accuracy: 0.6334\n",
      "1.6504168510437012 0.6333609819412231\n"
     ]
    }
   ],
   "source": [
    "(loss, acc) = NeuralNetwork.evaluate(x_test_f,y_test)\n",
    "print(loss,acc)"
   ]
  },
  {
   "cell_type": "code",
   "execution_count": 36,
   "id": "3be3cc34",
   "metadata": {},
   "outputs": [],
   "source": [
    "NeuralNetwork = tf.keras.models.Sequential()\n",
    "NeuralNetwork.add(tf.keras.layers.Flatten())\n",
    "NeuralNetwork.add(tf.keras.layers.Dense(500, activation = tf.nn.relu))\n",
    "NeuralNetwork.add(tf.keras.layers.Dense(33, activation = tf.nn.softmax))\n",
    "NeuralNetwork.compile(optimizer='sgd',loss = 'sparse_categorical_crossentropy', metrics = ['accuracy'])"
   ]
  },
  {
   "cell_type": "code",
   "execution_count": 37,
   "id": "efecb0c0",
   "metadata": {},
   "outputs": [
    {
     "name": "stdout",
     "output_type": "stream",
     "text": [
      "Epoch 1/50\n",
      "563/563 [==============================] - 2s 3ms/step - loss: 3.4039 - accuracy: 0.1458\n",
      "Epoch 2/50\n",
      "563/563 [==============================] - 2s 3ms/step - loss: 3.1969 - accuracy: 0.3611\n",
      "Epoch 3/50\n",
      "563/563 [==============================] - 2s 3ms/step - loss: 2.9504 - accuracy: 0.4439\n",
      "Epoch 4/50\n",
      "563/563 [==============================] - 2s 3ms/step - loss: 2.6817 - accuracy: 0.4902\n",
      "Epoch 5/50\n",
      "563/563 [==============================] - 2s 3ms/step - loss: 2.4317 - accuracy: 0.5175\n",
      "Epoch 6/50\n",
      "563/563 [==============================] - 2s 3ms/step - loss: 2.2223 - accuracy: 0.5461\n",
      "Epoch 7/50\n",
      "563/563 [==============================] - 2s 3ms/step - loss: 2.0538 - accuracy: 0.5678\n",
      "Epoch 8/50\n",
      "563/563 [==============================] - 2s 3ms/step - loss: 1.9181 - accuracy: 0.5904\n",
      "Epoch 9/50\n",
      "563/563 [==============================] - 2s 3ms/step - loss: 1.8068 - accuracy: 0.6115\n",
      "Epoch 10/50\n",
      "563/563 [==============================] - 2s 3ms/step - loss: 1.7136 - accuracy: 0.6280\n",
      "Epoch 11/50\n",
      "563/563 [==============================] - 2s 3ms/step - loss: 1.6343 - accuracy: 0.6448\n",
      "Epoch 12/50\n",
      "563/563 [==============================] - 2s 3ms/step - loss: 1.5656 - accuracy: 0.6629\n",
      "Epoch 13/50\n",
      "563/563 [==============================] - 2s 3ms/step - loss: 1.5055 - accuracy: 0.6750\n",
      "Epoch 14/50\n",
      "563/563 [==============================] - 2s 3ms/step - loss: 1.4520 - accuracy: 0.6882\n",
      "Epoch 15/50\n",
      "563/563 [==============================] - 2s 3ms/step - loss: 1.4044 - accuracy: 0.6969\n",
      "Epoch 16/50\n",
      "563/563 [==============================] - 2s 3ms/step - loss: 1.3618 - accuracy: 0.7082\n",
      "Epoch 17/50\n",
      "563/563 [==============================] - 2s 3ms/step - loss: 1.3230 - accuracy: 0.7174\n",
      "Epoch 18/50\n",
      "563/563 [==============================] - 2s 3ms/step - loss: 1.2878 - accuracy: 0.7252\n",
      "Epoch 19/50\n",
      "563/563 [==============================] - 2s 3ms/step - loss: 1.2554 - accuracy: 0.7333\n",
      "Epoch 20/50\n",
      "563/563 [==============================] - 2s 3ms/step - loss: 1.2257 - accuracy: 0.7389\n",
      "Epoch 21/50\n",
      "563/563 [==============================] - 2s 3ms/step - loss: 1.1981 - accuracy: 0.7442\n",
      "Epoch 22/50\n",
      "563/563 [==============================] - 2s 3ms/step - loss: 1.1724 - accuracy: 0.7492\n",
      "Epoch 23/50\n",
      "563/563 [==============================] - 2s 3ms/step - loss: 1.1486 - accuracy: 0.7551\n",
      "Epoch 24/50\n",
      "563/563 [==============================] - 2s 3ms/step - loss: 1.1262 - accuracy: 0.7609\n",
      "Epoch 25/50\n",
      "563/563 [==============================] - 2s 3ms/step - loss: 1.1054 - accuracy: 0.7655\n",
      "Epoch 26/50\n",
      "563/563 [==============================] - 2s 3ms/step - loss: 1.0857 - accuracy: 0.7684\n",
      "Epoch 27/50\n",
      "563/563 [==============================] - 2s 3ms/step - loss: 1.0671 - accuracy: 0.7721\n",
      "Epoch 28/50\n",
      "563/563 [==============================] - 2s 3ms/step - loss: 1.0496 - accuracy: 0.7762\n",
      "Epoch 29/50\n",
      "563/563 [==============================] - 2s 3ms/step - loss: 1.0331 - accuracy: 0.7793\n",
      "Epoch 30/50\n",
      "563/563 [==============================] - 2s 3ms/step - loss: 1.0172 - accuracy: 0.7836\n",
      "Epoch 31/50\n",
      "563/563 [==============================] - 2s 3ms/step - loss: 1.0023 - accuracy: 0.7859\n",
      "Epoch 32/50\n",
      "563/563 [==============================] - 2s 3ms/step - loss: 0.9880 - accuracy: 0.7879\n",
      "Epoch 33/50\n",
      "563/563 [==============================] - 2s 3ms/step - loss: 0.9742 - accuracy: 0.7914\n",
      "Epoch 34/50\n",
      "563/563 [==============================] - 2s 3ms/step - loss: 0.9611 - accuracy: 0.7944\n",
      "Epoch 35/50\n",
      "563/563 [==============================] - 2s 3ms/step - loss: 0.9486 - accuracy: 0.7962\n",
      "Epoch 36/50\n",
      "563/563 [==============================] - 2s 3ms/step - loss: 0.9365 - accuracy: 0.7982\n",
      "Epoch 37/50\n",
      "563/563 [==============================] - 2s 3ms/step - loss: 0.9250 - accuracy: 0.8001\n",
      "Epoch 38/50\n",
      "563/563 [==============================] - 2s 3ms/step - loss: 0.9138 - accuracy: 0.8027\n",
      "Epoch 39/50\n",
      "563/563 [==============================] - 2s 3ms/step - loss: 0.9030 - accuracy: 0.8039\n",
      "Epoch 40/50\n",
      "563/563 [==============================] - 2s 3ms/step - loss: 0.8927 - accuracy: 0.8066\n",
      "Epoch 41/50\n",
      "563/563 [==============================] - 2s 3ms/step - loss: 0.8825 - accuracy: 0.8074\n",
      "Epoch 42/50\n",
      "563/563 [==============================] - 2s 3ms/step - loss: 0.8728 - accuracy: 0.8103\n",
      "Epoch 43/50\n",
      "563/563 [==============================] - 2s 3ms/step - loss: 0.8635 - accuracy: 0.8120\n",
      "Epoch 44/50\n",
      "563/563 [==============================] - 2s 3ms/step - loss: 0.8544 - accuracy: 0.8127\n",
      "Epoch 45/50\n",
      "563/563 [==============================] - 2s 3ms/step - loss: 0.8454 - accuracy: 0.8145\n",
      "Epoch 46/50\n",
      "563/563 [==============================] - 2s 3ms/step - loss: 0.8368 - accuracy: 0.8165\n",
      "Epoch 47/50\n",
      "563/563 [==============================] - 2s 3ms/step - loss: 0.8284 - accuracy: 0.8187\n",
      "Epoch 48/50\n",
      "563/563 [==============================] - 2s 3ms/step - loss: 0.8203 - accuracy: 0.8198\n",
      "Epoch 49/50\n",
      "563/563 [==============================] - 2s 3ms/step - loss: 0.8123 - accuracy: 0.8211\n",
      "Epoch 50/50\n",
      "563/563 [==============================] - 2s 3ms/step - loss: 0.8047 - accuracy: 0.8221\n"
     ]
    },
    {
     "data": {
      "text/plain": [
       "<keras.callbacks.History at 0x16b6ce5d670>"
      ]
     },
     "execution_count": 37,
     "metadata": {},
     "output_type": "execute_result"
    }
   ],
   "source": [
    "NeuralNetwork.fit(x_train_f,y_train, batch_size = 50, epochs=50)"
   ]
  },
  {
   "cell_type": "code",
   "execution_count": 38,
   "id": "cf2ebce7",
   "metadata": {},
   "outputs": [
    {
     "name": "stdout",
     "output_type": "stream",
     "text": [
      "377/377 [==============================] - 1s 2ms/step - loss: 0.8768 - accuracy: 0.8066\n",
      "0.8768413662910461 0.8065560460090637\n"
     ]
    }
   ],
   "source": [
    "(loss, acc) = NeuralNetwork.evaluate(x_test_f,y_test)\n",
    "print(loss,acc)"
   ]
  },
  {
   "cell_type": "code",
   "execution_count": 39,
   "id": "be1f54f5",
   "metadata": {},
   "outputs": [],
   "source": [
    "NeuralNetwork = tf.keras.models.Sequential()\n",
    "NeuralNetwork.add(tf.keras.layers.Flatten())\n",
    "NeuralNetwork.add(tf.keras.layers.Dense(500, activation = tf.nn.sigmoid))\n",
    "NeuralNetwork.add(tf.keras.layers.Dense(33, activation = tf.nn.softmax))\n",
    "NeuralNetwork.compile(optimizer='sgd',loss = 'sparse_categorical_crossentropy', metrics = ['accuracy'])"
   ]
  },
  {
   "cell_type": "code",
   "execution_count": 40,
   "id": "01e77bf5",
   "metadata": {},
   "outputs": [
    {
     "name": "stdout",
     "output_type": "stream",
     "text": [
      "Epoch 1/50\n",
      "563/563 [==============================] - 2s 3ms/step - loss: 3.4895 - accuracy: 0.0423\n",
      "Epoch 2/50\n",
      "563/563 [==============================] - 2s 3ms/step - loss: 3.4486 - accuracy: 0.0769\n",
      "Epoch 3/50\n",
      "563/563 [==============================] - 2s 3ms/step - loss: 3.4111 - accuracy: 0.1177\n",
      "Epoch 4/50\n",
      "563/563 [==============================] - 2s 3ms/step - loss: 3.3728 - accuracy: 0.1612\n",
      "Epoch 5/50\n",
      "563/563 [==============================] - 2s 3ms/step - loss: 3.3323 - accuracy: 0.2092\n",
      "Epoch 6/50\n",
      "563/563 [==============================] - 2s 3ms/step - loss: 3.2884 - accuracy: 0.2509\n",
      "Epoch 7/50\n",
      "563/563 [==============================] - 2s 3ms/step - loss: 3.2410 - accuracy: 0.2878\n",
      "Epoch 8/50\n",
      "563/563 [==============================] - 2s 3ms/step - loss: 3.1899 - accuracy: 0.3183\n",
      "Epoch 9/50\n",
      "563/563 [==============================] - 2s 3ms/step - loss: 3.1342 - accuracy: 0.3427\n",
      "Epoch 10/50\n",
      "563/563 [==============================] - 2s 3ms/step - loss: 3.0756 - accuracy: 0.3663\n",
      "Epoch 11/50\n",
      "563/563 [==============================] - 2s 3ms/step - loss: 3.0133 - accuracy: 0.3867\n",
      "Epoch 12/50\n",
      "563/563 [==============================] - 2s 3ms/step - loss: 2.9481 - accuracy: 0.3954\n",
      "Epoch 13/50\n",
      "563/563 [==============================] - 2s 3ms/step - loss: 2.8826 - accuracy: 0.4165\n",
      "Epoch 14/50\n",
      "563/563 [==============================] - 2s 3ms/step - loss: 2.8159 - accuracy: 0.4268\n",
      "Epoch 15/50\n",
      "563/563 [==============================] - 2s 3ms/step - loss: 2.7498 - accuracy: 0.4380\n",
      "Epoch 16/50\n",
      "563/563 [==============================] - 2s 3ms/step - loss: 2.6841 - accuracy: 0.4480\n",
      "Epoch 17/50\n",
      "563/563 [==============================] - 2s 3ms/step - loss: 2.6212 - accuracy: 0.4574\n",
      "Epoch 18/50\n",
      "563/563 [==============================] - 2s 3ms/step - loss: 2.5605 - accuracy: 0.4688\n",
      "Epoch 19/50\n",
      "563/563 [==============================] - 2s 3ms/step - loss: 2.5016 - accuracy: 0.4787\n",
      "Epoch 20/50\n",
      "563/563 [==============================] - 2s 4ms/step - loss: 2.4456 - accuracy: 0.4859\n",
      "Epoch 21/50\n",
      "563/563 [==============================] - 2s 3ms/step - loss: 2.3919 - accuracy: 0.4913\n",
      "Epoch 22/50\n",
      "563/563 [==============================] - 2s 3ms/step - loss: 2.3415 - accuracy: 0.5015\n",
      "Epoch 23/50\n",
      "563/563 [==============================] - 2s 3ms/step - loss: 2.2929 - accuracy: 0.5062\n",
      "Epoch 24/50\n",
      "563/563 [==============================] - 2s 3ms/step - loss: 2.2465 - accuracy: 0.5132\n",
      "Epoch 25/50\n",
      "563/563 [==============================] - 2s 3ms/step - loss: 2.2032 - accuracy: 0.5212\n",
      "Epoch 26/50\n",
      "563/563 [==============================] - 2s 3ms/step - loss: 2.1614 - accuracy: 0.5258\n",
      "Epoch 27/50\n",
      "563/563 [==============================] - 2s 3ms/step - loss: 2.1229 - accuracy: 0.5341\n",
      "Epoch 28/50\n",
      "563/563 [==============================] - 2s 3ms/step - loss: 2.0849 - accuracy: 0.5428\n",
      "Epoch 29/50\n",
      "563/563 [==============================] - 2s 3ms/step - loss: 2.0501 - accuracy: 0.5483\n",
      "Epoch 30/50\n",
      "563/563 [==============================] - 2s 3ms/step - loss: 2.0164 - accuracy: 0.5562\n",
      "Epoch 31/50\n",
      "563/563 [==============================] - 2s 3ms/step - loss: 1.9846 - accuracy: 0.5612\n",
      "Epoch 32/50\n",
      "563/563 [==============================] - 2s 3ms/step - loss: 1.9541 - accuracy: 0.5679\n",
      "Epoch 33/50\n",
      "563/563 [==============================] - 2s 3ms/step - loss: 1.9251 - accuracy: 0.5739\n",
      "Epoch 34/50\n",
      "563/563 [==============================] - 2s 3ms/step - loss: 1.8975 - accuracy: 0.5782\n",
      "Epoch 35/50\n",
      "563/563 [==============================] - 2s 3ms/step - loss: 1.8714 - accuracy: 0.5852\n",
      "Epoch 36/50\n",
      "563/563 [==============================] - 2s 3ms/step - loss: 1.8463 - accuracy: 0.5910\n",
      "Epoch 37/50\n",
      "563/563 [==============================] - 2s 3ms/step - loss: 1.8214 - accuracy: 0.5929\n",
      "Epoch 38/50\n",
      "563/563 [==============================] - 2s 3ms/step - loss: 1.7988 - accuracy: 0.6003\n",
      "Epoch 39/50\n",
      "563/563 [==============================] - 2s 3ms/step - loss: 1.7765 - accuracy: 0.6037\n",
      "Epoch 40/50\n",
      "563/563 [==============================] - 2s 3ms/step - loss: 1.7554 - accuracy: 0.6071\n",
      "Epoch 41/50\n",
      "563/563 [==============================] - 2s 3ms/step - loss: 1.7354 - accuracy: 0.6134\n",
      "Epoch 42/50\n",
      "563/563 [==============================] - 2s 3ms/step - loss: 1.7159 - accuracy: 0.6175\n",
      "Epoch 43/50\n",
      "563/563 [==============================] - 2s 3ms/step - loss: 1.6966 - accuracy: 0.6202\n",
      "Epoch 44/50\n",
      "563/563 [==============================] - 2s 3ms/step - loss: 1.6790 - accuracy: 0.6247\n",
      "Epoch 45/50\n",
      "563/563 [==============================] - 2s 3ms/step - loss: 1.6615 - accuracy: 0.6283\n",
      "Epoch 46/50\n",
      "563/563 [==============================] - 2s 3ms/step - loss: 1.6443 - accuracy: 0.6329\n",
      "Epoch 47/50\n",
      "563/563 [==============================] - 2s 3ms/step - loss: 1.6288 - accuracy: 0.6337\n",
      "Epoch 48/50\n",
      "563/563 [==============================] - 2s 3ms/step - loss: 1.6130 - accuracy: 0.6383\n",
      "Epoch 49/50\n",
      "563/563 [==============================] - 2s 3ms/step - loss: 1.5978 - accuracy: 0.6416\n",
      "Epoch 50/50\n",
      "563/563 [==============================] - 2s 3ms/step - loss: 1.5831 - accuracy: 0.6441\n"
     ]
    },
    {
     "data": {
      "text/plain": [
       "<keras.callbacks.History at 0x16b6cf46cd0>"
      ]
     },
     "execution_count": 40,
     "metadata": {},
     "output_type": "execute_result"
    }
   ],
   "source": [
    "NeuralNetwork.fit(x_train_f,y_train, batch_size = 50, epochs=50)"
   ]
  },
  {
   "cell_type": "code",
   "execution_count": 41,
   "id": "59872cef",
   "metadata": {},
   "outputs": [
    {
     "name": "stdout",
     "output_type": "stream",
     "text": [
      "377/377 [==============================] - 1s 2ms/step - loss: 1.5957 - accuracy: 0.6413\n",
      "1.5957005023956299 0.6413277983665466\n"
     ]
    }
   ],
   "source": [
    "(loss, acc) = NeuralNetwork.evaluate(x_test_f,y_test)\n",
    "print(loss,acc)"
   ]
  },
  {
   "cell_type": "markdown",
   "id": "618b77da",
   "metadata": {},
   "source": [
    "# For now, we're starting to realize that sigmoid function doesn't really work well for our case, so from now on, I'm not going to lose time on using it"
   ]
  },
  {
   "cell_type": "code",
   "execution_count": 42,
   "id": "353853bd",
   "metadata": {},
   "outputs": [],
   "source": [
    "NeuralNetwork = tf.keras.models.Sequential()\n",
    "NeuralNetwork.add(tf.keras.layers.Flatten())\n",
    "NeuralNetwork.add(tf.keras.layers.Dense(200, activation = tf.nn.relu))\n",
    "NeuralNetwork.add(tf.keras.layers.Dense(200, activation = tf.nn.relu))\n",
    "NeuralNetwork.add(tf.keras.layers.Dense(33, activation = tf.nn.softmax))\n",
    "NeuralNetwork.compile(optimizer='sgd',loss = 'sparse_categorical_crossentropy', metrics = ['accuracy'])"
   ]
  },
  {
   "cell_type": "code",
   "execution_count": 43,
   "id": "ba605469",
   "metadata": {},
   "outputs": [
    {
     "name": "stdout",
     "output_type": "stream",
     "text": [
      "Epoch 1/50\n",
      "563/563 [==============================] - 1s 2ms/step - loss: 3.4639 - accuracy: 0.0729\n",
      "Epoch 2/50\n",
      "563/563 [==============================] - 1s 2ms/step - loss: 3.3614 - accuracy: 0.2223\n",
      "Epoch 3/50\n",
      "563/563 [==============================] - 1s 2ms/step - loss: 3.1679 - accuracy: 0.3143\n",
      "Epoch 4/50\n",
      "563/563 [==============================] - 1s 2ms/step - loss: 2.8177 - accuracy: 0.3991\n",
      "Epoch 5/50\n",
      "563/563 [==============================] - 1s 2ms/step - loss: 2.3902 - accuracy: 0.4719\n",
      "Epoch 6/50\n",
      "563/563 [==============================] - 1s 2ms/step - loss: 2.0394 - accuracy: 0.5272\n",
      "Epoch 7/50\n",
      "563/563 [==============================] - 1s 2ms/step - loss: 1.7877 - accuracy: 0.5834\n",
      "Epoch 8/50\n",
      "563/563 [==============================] - 1s 2ms/step - loss: 1.6065 - accuracy: 0.6214\n",
      "Epoch 9/50\n",
      "563/563 [==============================] - 1s 2ms/step - loss: 1.4704 - accuracy: 0.6552\n",
      "Epoch 10/50\n",
      "563/563 [==============================] - 1s 2ms/step - loss: 1.3640 - accuracy: 0.6820\n",
      "Epoch 11/50\n",
      "563/563 [==============================] - 1s 2ms/step - loss: 1.2785 - accuracy: 0.7049\n",
      "Epoch 12/50\n",
      "563/563 [==============================] - 1s 2ms/step - loss: 1.2068 - accuracy: 0.7223\n",
      "Epoch 13/50\n",
      "563/563 [==============================] - 1s 2ms/step - loss: 1.1459 - accuracy: 0.7372\n",
      "Epoch 14/50\n",
      "563/563 [==============================] - 1s 2ms/step - loss: 1.0938 - accuracy: 0.7477\n",
      "Epoch 15/50\n",
      "563/563 [==============================] - 1s 2ms/step - loss: 1.0479 - accuracy: 0.7583\n",
      "Epoch 16/50\n",
      "563/563 [==============================] - 1s 2ms/step - loss: 1.0075 - accuracy: 0.7672\n",
      "Epoch 17/50\n",
      "563/563 [==============================] - 1s 2ms/step - loss: 0.9715 - accuracy: 0.7731\n",
      "Epoch 18/50\n",
      "563/563 [==============================] - 1s 2ms/step - loss: 0.9394 - accuracy: 0.7824\n",
      "Epoch 19/50\n",
      "563/563 [==============================] - 1s 2ms/step - loss: 0.9093 - accuracy: 0.7884\n",
      "Epoch 20/50\n",
      "563/563 [==============================] - 1s 2ms/step - loss: 0.8827 - accuracy: 0.7943\n",
      "Epoch 21/50\n",
      "563/563 [==============================] - 1s 2ms/step - loss: 0.8573 - accuracy: 0.8009\n",
      "Epoch 22/50\n",
      "563/563 [==============================] - 1s 2ms/step - loss: 0.8339 - accuracy: 0.8053\n",
      "Epoch 23/50\n",
      "563/563 [==============================] - 1s 2ms/step - loss: 0.8122 - accuracy: 0.8092\n",
      "Epoch 24/50\n",
      "563/563 [==============================] - 1s 2ms/step - loss: 0.7917 - accuracy: 0.8146\n",
      "Epoch 25/50\n",
      "563/563 [==============================] - 1s 2ms/step - loss: 0.7722 - accuracy: 0.8177\n",
      "Epoch 26/50\n",
      "563/563 [==============================] - 1s 2ms/step - loss: 0.7547 - accuracy: 0.8219\n",
      "Epoch 27/50\n",
      "563/563 [==============================] - 1s 2ms/step - loss: 0.7373 - accuracy: 0.8256\n",
      "Epoch 28/50\n",
      "563/563 [==============================] - 1s 2ms/step - loss: 0.7211 - accuracy: 0.8297\n",
      "Epoch 29/50\n",
      "563/563 [==============================] - 1s 2ms/step - loss: 0.7056 - accuracy: 0.8331\n",
      "Epoch 30/50\n",
      "563/563 [==============================] - 1s 2ms/step - loss: 0.6912 - accuracy: 0.8366\n",
      "Epoch 31/50\n",
      "563/563 [==============================] - 1s 2ms/step - loss: 0.6767 - accuracy: 0.8398\n",
      "Epoch 32/50\n",
      "563/563 [==============================] - 1s 2ms/step - loss: 0.6631 - accuracy: 0.8412\n",
      "Epoch 33/50\n",
      "563/563 [==============================] - 1s 2ms/step - loss: 0.6502 - accuracy: 0.8451\n",
      "Epoch 34/50\n",
      "563/563 [==============================] - 1s 2ms/step - loss: 0.6378 - accuracy: 0.8477\n",
      "Epoch 35/50\n",
      "563/563 [==============================] - 1s 2ms/step - loss: 0.6256 - accuracy: 0.8497\n",
      "Epoch 36/50\n",
      "563/563 [==============================] - 1s 2ms/step - loss: 0.6141 - accuracy: 0.8540\n",
      "Epoch 37/50\n",
      "563/563 [==============================] - 1s 2ms/step - loss: 0.6031 - accuracy: 0.8573\n",
      "Epoch 38/50\n",
      "563/563 [==============================] - 1s 2ms/step - loss: 0.5921 - accuracy: 0.8586\n",
      "Epoch 39/50\n",
      "563/563 [==============================] - 1s 2ms/step - loss: 0.5815 - accuracy: 0.8610\n",
      "Epoch 40/50\n",
      "563/563 [==============================] - 1s 2ms/step - loss: 0.5718 - accuracy: 0.8654\n",
      "Epoch 41/50\n",
      "563/563 [==============================] - 1s 2ms/step - loss: 0.5618 - accuracy: 0.8660\n",
      "Epoch 42/50\n",
      "563/563 [==============================] - 1s 2ms/step - loss: 0.5526 - accuracy: 0.8695\n",
      "Epoch 43/50\n",
      "563/563 [==============================] - 1s 2ms/step - loss: 0.5432 - accuracy: 0.8710\n",
      "Epoch 44/50\n",
      "563/563 [==============================] - 1s 2ms/step - loss: 0.5348 - accuracy: 0.8727\n",
      "Epoch 45/50\n",
      "563/563 [==============================] - 1s 2ms/step - loss: 0.5259 - accuracy: 0.8743\n",
      "Epoch 46/50\n",
      "563/563 [==============================] - 1s 2ms/step - loss: 0.5176 - accuracy: 0.8780\n",
      "Epoch 47/50\n",
      "563/563 [==============================] - 1s 2ms/step - loss: 0.5094 - accuracy: 0.8780\n",
      "Epoch 48/50\n",
      "563/563 [==============================] - 1s 2ms/step - loss: 0.5015 - accuracy: 0.8811\n",
      "Epoch 49/50\n",
      "563/563 [==============================] - 1s 2ms/step - loss: 0.4936 - accuracy: 0.8814\n",
      "Epoch 50/50\n",
      "563/563 [==============================] - 1s 2ms/step - loss: 0.4862 - accuracy: 0.8842\n"
     ]
    },
    {
     "data": {
      "text/plain": [
       "<keras.callbacks.History at 0x16b6cffcb80>"
      ]
     },
     "execution_count": 43,
     "metadata": {},
     "output_type": "execute_result"
    }
   ],
   "source": [
    "NeuralNetwork.fit(x_train_f,y_train, batch_size = 50, epochs=50)"
   ]
  },
  {
   "cell_type": "code",
   "execution_count": 44,
   "id": "6ec48778",
   "metadata": {},
   "outputs": [
    {
     "name": "stdout",
     "output_type": "stream",
     "text": [
      "377/377 [==============================] - 0s 1ms/step - loss: 0.6243 - accuracy: 0.8507\n",
      "0.6243413090705872 0.8507053852081299\n"
     ]
    }
   ],
   "source": [
    "(loss, acc) = NeuralNetwork.evaluate(x_test_f,y_test)\n",
    "print(loss,acc)"
   ]
  },
  {
   "cell_type": "code",
   "execution_count": 45,
   "id": "9c7f0c13",
   "metadata": {},
   "outputs": [],
   "source": [
    "NeuralNetwork = tf.keras.models.Sequential()\n",
    "NeuralNetwork.add(tf.keras.layers.Flatten())\n",
    "NeuralNetwork.add(tf.keras.layers.Dense(500, activation = tf.nn.relu))\n",
    "NeuralNetwork.add(tf.keras.layers.Dense(500, activation = tf.nn.relu))\n",
    "NeuralNetwork.add(tf.keras.layers.Dense(33, activation = tf.nn.softmax))\n",
    "NeuralNetwork.compile(optimizer='sgd',loss = 'sparse_categorical_crossentropy', metrics = ['accuracy'])"
   ]
  },
  {
   "cell_type": "code",
   "execution_count": 46,
   "id": "8caf9da9",
   "metadata": {},
   "outputs": [
    {
     "name": "stdout",
     "output_type": "stream",
     "text": [
      "Epoch 1/50\n",
      "563/563 [==============================] - 3s 4ms/step - loss: 3.4497 - accuracy: 0.1168\n",
      "Epoch 2/50\n",
      "563/563 [==============================] - 2s 4ms/step - loss: 3.3014 - accuracy: 0.3172\n",
      "Epoch 3/50\n",
      "563/563 [==============================] - 3s 5ms/step - loss: 3.0215 - accuracy: 0.4168\n",
      "Epoch 4/50\n",
      "563/563 [==============================] - 2s 4ms/step - loss: 2.5894 - accuracy: 0.4737\n",
      "Epoch 5/50\n",
      "563/563 [==============================] - 3s 5ms/step - loss: 2.1758 - accuracy: 0.5274\n",
      "Epoch 6/50\n",
      "563/563 [==============================] - 2s 4ms/step - loss: 1.8708 - accuracy: 0.5762\n",
      "Epoch 7/50\n",
      "563/563 [==============================] - 2s 4ms/step - loss: 1.6524 - accuracy: 0.6254\n",
      "Epoch 8/50\n",
      "563/563 [==============================] - 2s 4ms/step - loss: 1.4915 - accuracy: 0.6605\n",
      "Epoch 9/50\n",
      "563/563 [==============================] - 3s 5ms/step - loss: 1.3686 - accuracy: 0.6904\n",
      "Epoch 10/50\n",
      "563/563 [==============================] - 3s 5ms/step - loss: 1.2711 - accuracy: 0.7108\n",
      "Epoch 11/50\n",
      "563/563 [==============================] - 3s 5ms/step - loss: 1.1929 - accuracy: 0.7266\n",
      "Epoch 12/50\n",
      "563/563 [==============================] - 3s 5ms/step - loss: 1.1274 - accuracy: 0.7410\n",
      "Epoch 13/50\n",
      "563/563 [==============================] - 3s 5ms/step - loss: 1.0719 - accuracy: 0.7535\n",
      "Epoch 14/50\n",
      "563/563 [==============================] - 3s 5ms/step - loss: 1.0246 - accuracy: 0.7647\n",
      "Epoch 15/50\n",
      "563/563 [==============================] - 3s 4ms/step - loss: 0.9831 - accuracy: 0.7737\n",
      "Epoch 16/50\n",
      "563/563 [==============================] - 2s 4ms/step - loss: 0.9463 - accuracy: 0.7836\n",
      "Epoch 17/50\n",
      "563/563 [==============================] - 2s 4ms/step - loss: 0.9135 - accuracy: 0.7897\n",
      "Epoch 18/50\n",
      "563/563 [==============================] - 3s 4ms/step - loss: 0.8838 - accuracy: 0.7961\n",
      "Epoch 19/50\n",
      "563/563 [==============================] - 2s 4ms/step - loss: 0.8568 - accuracy: 0.8019\n",
      "Epoch 20/50\n",
      "563/563 [==============================] - 3s 4ms/step - loss: 0.8317 - accuracy: 0.8084\n",
      "Epoch 21/50\n",
      "563/563 [==============================] - 2s 4ms/step - loss: 0.8086 - accuracy: 0.8127\n",
      "Epoch 22/50\n",
      "563/563 [==============================] - 3s 5ms/step - loss: 0.7861 - accuracy: 0.8185\n",
      "Epoch 23/50\n",
      "563/563 [==============================] - 3s 5ms/step - loss: 0.7662 - accuracy: 0.8220\n",
      "Epoch 24/50\n",
      "563/563 [==============================] - 3s 5ms/step - loss: 0.7471 - accuracy: 0.8262\n",
      "Epoch 25/50\n",
      "563/563 [==============================] - 3s 5ms/step - loss: 0.7292 - accuracy: 0.8294\n",
      "Epoch 26/50\n",
      "563/563 [==============================] - 3s 5ms/step - loss: 0.7121 - accuracy: 0.8333\n",
      "Epoch 27/50\n",
      "563/563 [==============================] - 3s 5ms/step - loss: 0.6955 - accuracy: 0.8366\n",
      "Epoch 28/50\n",
      "563/563 [==============================] - 3s 5ms/step - loss: 0.6805 - accuracy: 0.8402\n",
      "Epoch 29/50\n",
      "563/563 [==============================] - 3s 5ms/step - loss: 0.6656 - accuracy: 0.8435\n",
      "Epoch 30/50\n",
      "563/563 [==============================] - 3s 5ms/step - loss: 0.6510 - accuracy: 0.8473\n",
      "Epoch 31/50\n",
      "563/563 [==============================] - 3s 5ms/step - loss: 0.6381 - accuracy: 0.8502\n",
      "Epoch 32/50\n",
      "563/563 [==============================] - 3s 5ms/step - loss: 0.6245 - accuracy: 0.8532\n",
      "Epoch 33/50\n",
      "563/563 [==============================] - 3s 5ms/step - loss: 0.6121 - accuracy: 0.8560\n",
      "Epoch 34/50\n",
      "563/563 [==============================] - 3s 5ms/step - loss: 0.6002 - accuracy: 0.8591\n",
      "Epoch 35/50\n",
      "563/563 [==============================] - 2s 4ms/step - loss: 0.5887 - accuracy: 0.8604\n",
      "Epoch 36/50\n",
      "563/563 [==============================] - 3s 5ms/step - loss: 0.5775 - accuracy: 0.8650\n",
      "Epoch 37/50\n",
      "563/563 [==============================] - 3s 5ms/step - loss: 0.5663 - accuracy: 0.8667\n",
      "Epoch 38/50\n",
      "563/563 [==============================] - 3s 5ms/step - loss: 0.5560 - accuracy: 0.8694\n",
      "Epoch 39/50\n",
      "563/563 [==============================] - 3s 5ms/step - loss: 0.5457 - accuracy: 0.8723\n",
      "Epoch 40/50\n",
      "563/563 [==============================] - 3s 5ms/step - loss: 0.5356 - accuracy: 0.8743\n",
      "Epoch 41/50\n",
      "563/563 [==============================] - 3s 5ms/step - loss: 0.5260 - accuracy: 0.8762\n",
      "Epoch 42/50\n",
      "563/563 [==============================] - 3s 5ms/step - loss: 0.5169 - accuracy: 0.8788\n",
      "Epoch 43/50\n",
      "563/563 [==============================] - 3s 5ms/step - loss: 0.5079 - accuracy: 0.8805\n",
      "Epoch 44/50\n",
      "563/563 [==============================] - 3s 5ms/step - loss: 0.4991 - accuracy: 0.8828\n",
      "Epoch 45/50\n",
      "563/563 [==============================] - 3s 5ms/step - loss: 0.4906 - accuracy: 0.8853\n",
      "Epoch 46/50\n",
      "563/563 [==============================] - 3s 4ms/step - loss: 0.4823 - accuracy: 0.8881\n",
      "Epoch 47/50\n",
      "563/563 [==============================] - 2s 4ms/step - loss: 0.4743 - accuracy: 0.8887\n",
      "Epoch 48/50\n",
      "563/563 [==============================] - 2s 4ms/step - loss: 0.4666 - accuracy: 0.8904\n",
      "Epoch 49/50\n",
      "563/563 [==============================] - 2s 4ms/step - loss: 0.4588 - accuracy: 0.8927\n",
      "Epoch 50/50\n",
      "563/563 [==============================] - 2s 4ms/step - loss: 0.4514 - accuracy: 0.8942\n"
     ]
    },
    {
     "data": {
      "text/plain": [
       "<keras.callbacks.History at 0x16b6d0d6cd0>"
      ]
     },
     "execution_count": 46,
     "metadata": {},
     "output_type": "execute_result"
    }
   ],
   "source": [
    "NeuralNetwork.fit(x_train_f,y_train, batch_size = 50, epochs=50)"
   ]
  },
  {
   "cell_type": "code",
   "execution_count": 47,
   "id": "033d2faf",
   "metadata": {},
   "outputs": [
    {
     "name": "stdout",
     "output_type": "stream",
     "text": [
      "377/377 [==============================] - 1s 2ms/step - loss: 0.5953 - accuracy: 0.8592\n",
      "0.5952847599983215 0.859170138835907\n"
     ]
    }
   ],
   "source": [
    "(loss, acc) = NeuralNetwork.evaluate(x_test_f,y_test)\n",
    "print(loss,acc)"
   ]
  },
  {
   "cell_type": "code",
   "execution_count": 48,
   "id": "25c96465",
   "metadata": {},
   "outputs": [],
   "source": [
    "NeuralNetwork = tf.keras.models.Sequential()\n",
    "NeuralNetwork.add(tf.keras.layers.Flatten())\n",
    "NeuralNetwork.add(tf.keras.layers.Dense(1500, activation = tf.nn.relu))\n",
    "NeuralNetwork.add(tf.keras.layers.Dense(33, activation = tf.nn.softmax))\n",
    "NeuralNetwork.compile(optimizer='sgd',loss = 'sparse_categorical_crossentropy', metrics = ['accuracy'])"
   ]
  },
  {
   "cell_type": "code",
   "execution_count": 49,
   "id": "40cd72d7",
   "metadata": {},
   "outputs": [
    {
     "name": "stdout",
     "output_type": "stream",
     "text": [
      "Epoch 1/50\n",
      "563/563 [==============================] - 4s 6ms/step - loss: 3.3944 - accuracy: 0.1791\n",
      "Epoch 2/50\n",
      "563/563 [==============================] - 3s 6ms/step - loss: 3.1566 - accuracy: 0.4062\n",
      "Epoch 3/50\n",
      "563/563 [==============================] - 3s 6ms/step - loss: 2.8906 - accuracy: 0.4739\n",
      "Epoch 4/50\n",
      "563/563 [==============================] - 4s 6ms/step - loss: 2.6164 - accuracy: 0.5125\n",
      "Epoch 5/50\n",
      "563/563 [==============================] - 3s 6ms/step - loss: 2.3719 - accuracy: 0.5375\n",
      "Epoch 6/50\n",
      "563/563 [==============================] - 3s 6ms/step - loss: 2.1717 - accuracy: 0.5607\n",
      "Epoch 7/50\n",
      "563/563 [==============================] - 3s 6ms/step - loss: 2.0113 - accuracy: 0.5838\n",
      "Epoch 8/50\n",
      "563/563 [==============================] - 3s 6ms/step - loss: 1.8813 - accuracy: 0.6091\n",
      "Epoch 9/50\n",
      "563/563 [==============================] - 3s 6ms/step - loss: 1.7735 - accuracy: 0.6293\n",
      "Epoch 10/50\n",
      "563/563 [==============================] - 3s 6ms/step - loss: 1.6827 - accuracy: 0.6483\n",
      "Epoch 11/50\n",
      "563/563 [==============================] - 3s 6ms/step - loss: 1.6047 - accuracy: 0.6649\n",
      "Epoch 12/50\n",
      "563/563 [==============================] - 3s 6ms/step - loss: 1.5370 - accuracy: 0.6760\n",
      "Epoch 13/50\n",
      "563/563 [==============================] - 3s 6ms/step - loss: 1.4774 - accuracy: 0.6883\n",
      "Epoch 14/50\n",
      "563/563 [==============================] - 3s 6ms/step - loss: 1.4245 - accuracy: 0.6994\n",
      "Epoch 15/50\n",
      "563/563 [==============================] - 3s 6ms/step - loss: 1.3771 - accuracy: 0.7081\n",
      "Epoch 16/50\n",
      "563/563 [==============================] - 4s 7ms/step - loss: 1.3344 - accuracy: 0.7176\n",
      "Epoch 17/50\n",
      "563/563 [==============================] - 4s 7ms/step - loss: 1.2958 - accuracy: 0.7239\n",
      "Epoch 18/50\n",
      "563/563 [==============================] - 4s 6ms/step - loss: 1.2604 - accuracy: 0.7316\n",
      "Epoch 19/50\n",
      "563/563 [==============================] - 3s 6ms/step - loss: 1.2283 - accuracy: 0.7383\n",
      "Epoch 20/50\n",
      "563/563 [==============================] - 3s 6ms/step - loss: 1.1985 - accuracy: 0.7449\n",
      "Epoch 21/50\n",
      "563/563 [==============================] - 3s 6ms/step - loss: 1.1711 - accuracy: 0.7515\n",
      "Epoch 22/50\n",
      "563/563 [==============================] - 3s 6ms/step - loss: 1.1457 - accuracy: 0.7561\n",
      "Epoch 23/50\n",
      "563/563 [==============================] - 3s 6ms/step - loss: 1.1220 - accuracy: 0.7601\n",
      "Epoch 24/50\n",
      "563/563 [==============================] - 3s 6ms/step - loss: 1.0999 - accuracy: 0.7653\n",
      "Epoch 25/50\n",
      "563/563 [==============================] - 3s 6ms/step - loss: 1.0792 - accuracy: 0.7700\n",
      "Epoch 26/50\n",
      "563/563 [==============================] - 3s 6ms/step - loss: 1.0598 - accuracy: 0.7740\n",
      "Epoch 27/50\n",
      "563/563 [==============================] - 3s 6ms/step - loss: 1.0413 - accuracy: 0.7789\n",
      "Epoch 28/50\n",
      "563/563 [==============================] - 4s 7ms/step - loss: 1.0240 - accuracy: 0.7811\n",
      "Epoch 29/50\n",
      "563/563 [==============================] - 4s 7ms/step - loss: 1.0076 - accuracy: 0.7836\n",
      "Epoch 30/50\n",
      "563/563 [==============================] - 3s 6ms/step - loss: 0.9921 - accuracy: 0.7875\n",
      "Epoch 31/50\n",
      "563/563 [==============================] - 4s 6ms/step - loss: 0.9772 - accuracy: 0.7906\n",
      "Epoch 32/50\n",
      "563/563 [==============================] - 4s 6ms/step - loss: 0.9631 - accuracy: 0.7938\n",
      "Epoch 33/50\n",
      "563/563 [==============================] - 3s 6ms/step - loss: 0.9495 - accuracy: 0.7974\n",
      "Epoch 34/50\n",
      "563/563 [==============================] - 4s 7ms/step - loss: 0.9364 - accuracy: 0.7997\n",
      "Epoch 35/50\n",
      "563/563 [==============================] - 3s 6ms/step - loss: 0.9241 - accuracy: 0.8009\n",
      "Epoch 36/50\n",
      "563/563 [==============================] - 3s 6ms/step - loss: 0.9121 - accuracy: 0.8030\n",
      "Epoch 37/50\n",
      "563/563 [==============================] - 4s 6ms/step - loss: 0.9007 - accuracy: 0.8054\n",
      "Epoch 38/50\n",
      "563/563 [==============================] - 4s 6ms/step - loss: 0.8897 - accuracy: 0.8075\n",
      "Epoch 39/50\n",
      "563/563 [==============================] - 3s 6ms/step - loss: 0.8791 - accuracy: 0.8096\n",
      "Epoch 40/50\n",
      "563/563 [==============================] - 3s 6ms/step - loss: 0.8688 - accuracy: 0.8121\n",
      "Epoch 41/50\n",
      "563/563 [==============================] - 3s 6ms/step - loss: 0.8587 - accuracy: 0.8130\n",
      "Epoch 42/50\n",
      "563/563 [==============================] - 4s 6ms/step - loss: 0.8492 - accuracy: 0.8144\n",
      "Epoch 43/50\n",
      "563/563 [==============================] - 4s 6ms/step - loss: 0.8398 - accuracy: 0.8167\n",
      "Epoch 44/50\n",
      "563/563 [==============================] - 4s 6ms/step - loss: 0.8308 - accuracy: 0.8184\n",
      "Epoch 45/50\n",
      "563/563 [==============================] - 4s 6ms/step - loss: 0.8220 - accuracy: 0.8200\n",
      "Epoch 46/50\n",
      "563/563 [==============================] - 4s 6ms/step - loss: 0.8134 - accuracy: 0.8219\n",
      "Epoch 47/50\n",
      "563/563 [==============================] - 4s 6ms/step - loss: 0.8053 - accuracy: 0.8228\n",
      "Epoch 48/50\n",
      "563/563 [==============================] - 4s 6ms/step - loss: 0.7970 - accuracy: 0.8255\n",
      "Epoch 49/50\n",
      "563/563 [==============================] - 4s 6ms/step - loss: 0.7892 - accuracy: 0.8265\n",
      "Epoch 50/50\n",
      "563/563 [==============================] - 4s 6ms/step - loss: 0.7815 - accuracy: 0.8284\n"
     ]
    },
    {
     "data": {
      "text/plain": [
       "<keras.callbacks.History at 0x16b6d2b8760>"
      ]
     },
     "execution_count": 49,
     "metadata": {},
     "output_type": "execute_result"
    }
   ],
   "source": [
    "NeuralNetwork.fit(x_train_f,y_train, batch_size = 50, epochs=50)"
   ]
  },
  {
   "cell_type": "code",
   "execution_count": 50,
   "id": "b86b9b55",
   "metadata": {},
   "outputs": [
    {
     "name": "stdout",
     "output_type": "stream",
     "text": [
      "377/377 [==============================] - 1s 3ms/step - loss: 0.8568 - accuracy: 0.8105\n",
      "0.8567501902580261 0.8105394244194031\n"
     ]
    }
   ],
   "source": [
    "(loss, acc) = NeuralNetwork.evaluate(x_test_f,y_test)\n",
    "print(loss,acc)"
   ]
  },
  {
   "cell_type": "code",
   "execution_count": 51,
   "id": "36e1ca5e",
   "metadata": {},
   "outputs": [],
   "source": [
    "NeuralNetwork = tf.keras.models.Sequential()\n",
    "NeuralNetwork.add(tf.keras.layers.Flatten())\n",
    "NeuralNetwork.add(tf.keras.layers.Dense(2000, activation = tf.nn.relu))\n",
    "NeuralNetwork.add(tf.keras.layers.Dense(33, activation = tf.nn.softmax))\n",
    "NeuralNetwork.compile(optimizer='sgd',loss = 'sparse_categorical_crossentropy', metrics = ['accuracy'])"
   ]
  },
  {
   "cell_type": "code",
   "execution_count": 52,
   "id": "aa7af656",
   "metadata": {},
   "outputs": [
    {
     "name": "stdout",
     "output_type": "stream",
     "text": [
      "Epoch 1/50\n",
      "563/563 [==============================] - 5s 8ms/step - loss: 3.3810 - accuracy: 0.2103\n",
      "Epoch 2/50\n",
      "563/563 [==============================] - 4s 8ms/step - loss: 3.1348 - accuracy: 0.4235\n",
      "Epoch 3/50\n",
      "563/563 [==============================] - 5s 9ms/step - loss: 2.8623 - accuracy: 0.4712\n",
      "Epoch 4/50\n",
      "563/563 [==============================] - 5s 9ms/step - loss: 2.5865 - accuracy: 0.5129\n",
      "Epoch 5/50\n",
      "563/563 [==============================] - 5s 9ms/step - loss: 2.3435 - accuracy: 0.5392\n",
      "Epoch 6/50\n",
      "563/563 [==============================] - 5s 9ms/step - loss: 2.1462 - accuracy: 0.5627\n",
      "Epoch 7/50\n",
      "563/563 [==============================] - 4s 8ms/step - loss: 1.9890 - accuracy: 0.5857\n",
      "Epoch 8/50\n",
      "563/563 [==============================] - 4s 8ms/step - loss: 1.8617 - accuracy: 0.6090\n",
      "Epoch 9/50\n",
      "563/563 [==============================] - 4s 8ms/step - loss: 1.7562 - accuracy: 0.6329\n",
      "Epoch 10/50\n",
      "563/563 [==============================] - 4s 8ms/step - loss: 1.6670 - accuracy: 0.6480\n",
      "Epoch 11/50\n",
      "563/563 [==============================] - 4s 8ms/step - loss: 1.5903 - accuracy: 0.6636\n",
      "Epoch 12/50\n",
      "563/563 [==============================] - 4s 8ms/step - loss: 1.5234 - accuracy: 0.6775\n",
      "Epoch 13/50\n",
      "563/563 [==============================] - 4s 8ms/step - loss: 1.4645 - accuracy: 0.6913\n",
      "Epoch 14/50\n",
      "563/563 [==============================] - 4s 8ms/step - loss: 1.4123 - accuracy: 0.7026\n",
      "Epoch 15/50\n",
      "563/563 [==============================] - 5s 8ms/step - loss: 1.3654 - accuracy: 0.7112\n",
      "Epoch 16/50\n",
      "563/563 [==============================] - 5s 8ms/step - loss: 1.3233 - accuracy: 0.7212\n",
      "Epoch 17/50\n",
      "563/563 [==============================] - 4s 8ms/step - loss: 1.2848 - accuracy: 0.7275\n",
      "Epoch 18/50\n",
      "563/563 [==============================] - 4s 8ms/step - loss: 1.2502 - accuracy: 0.7381\n",
      "Epoch 19/50\n",
      "563/563 [==============================] - 4s 8ms/step - loss: 1.2181 - accuracy: 0.7446\n",
      "Epoch 20/50\n",
      "563/563 [==============================] - 4s 8ms/step - loss: 1.1888 - accuracy: 0.7501\n",
      "Epoch 21/50\n",
      "563/563 [==============================] - 4s 8ms/step - loss: 1.1615 - accuracy: 0.7543\n",
      "Epoch 22/50\n",
      "563/563 [==============================] - 4s 8ms/step - loss: 1.1364 - accuracy: 0.7592\n",
      "Epoch 23/50\n",
      "563/563 [==============================] - 4s 8ms/step - loss: 1.1126 - accuracy: 0.7656\n",
      "Epoch 24/50\n",
      "563/563 [==============================] - 4s 8ms/step - loss: 1.0906 - accuracy: 0.7689\n",
      "Epoch 25/50\n",
      "563/563 [==============================] - 4s 8ms/step - loss: 1.0702 - accuracy: 0.7732\n",
      "Epoch 26/50\n",
      "563/563 [==============================] - 4s 8ms/step - loss: 1.0509 - accuracy: 0.7765\n",
      "Epoch 27/50\n",
      "563/563 [==============================] - 4s 8ms/step - loss: 1.0324 - accuracy: 0.7817\n",
      "Epoch 28/50\n",
      "563/563 [==============================] - 4s 8ms/step - loss: 1.0152 - accuracy: 0.7842\n",
      "Epoch 29/50\n",
      "563/563 [==============================] - 4s 8ms/step - loss: 0.9989 - accuracy: 0.7863\n",
      "Epoch 30/50\n",
      "563/563 [==============================] - 4s 8ms/step - loss: 0.9833 - accuracy: 0.7918\n",
      "Epoch 31/50\n",
      "563/563 [==============================] - 4s 8ms/step - loss: 0.9687 - accuracy: 0.7935\n",
      "Epoch 32/50\n",
      "563/563 [==============================] - 4s 8ms/step - loss: 0.9545 - accuracy: 0.7961\n",
      "Epoch 33/50\n",
      "563/563 [==============================] - 5s 8ms/step - loss: 0.9412 - accuracy: 0.7985\n",
      "Epoch 34/50\n",
      "563/563 [==============================] - 5s 9ms/step - loss: 0.9282 - accuracy: 0.8007\n",
      "Epoch 35/50\n",
      "563/563 [==============================] - 5s 9ms/step - loss: 0.9158 - accuracy: 0.8029\n",
      "Epoch 36/50\n",
      "563/563 [==============================] - 4s 8ms/step - loss: 0.9040 - accuracy: 0.8048\n",
      "Epoch 37/50\n",
      "563/563 [==============================] - 4s 8ms/step - loss: 0.8925 - accuracy: 0.8073\n",
      "Epoch 38/50\n",
      "563/563 [==============================] - 4s 8ms/step - loss: 0.8815 - accuracy: 0.8084\n",
      "Epoch 39/50\n",
      "563/563 [==============================] - 4s 8ms/step - loss: 0.8711 - accuracy: 0.8115\n",
      "Epoch 40/50\n",
      "563/563 [==============================] - 4s 8ms/step - loss: 0.8608 - accuracy: 0.8125\n",
      "Epoch 41/50\n",
      "563/563 [==============================] - 4s 8ms/step - loss: 0.8510 - accuracy: 0.8140\n",
      "Epoch 42/50\n",
      "563/563 [==============================] - 4s 8ms/step - loss: 0.8414 - accuracy: 0.8164\n",
      "Epoch 43/50\n",
      "563/563 [==============================] - 4s 8ms/step - loss: 0.8321 - accuracy: 0.8175\n",
      "Epoch 44/50\n",
      "563/563 [==============================] - 4s 8ms/step - loss: 0.8231 - accuracy: 0.8190\n",
      "Epoch 45/50\n",
      "563/563 [==============================] - 5s 8ms/step - loss: 0.8144 - accuracy: 0.8222\n",
      "Epoch 46/50\n",
      "563/563 [==============================] - 4s 8ms/step - loss: 0.8059 - accuracy: 0.8233\n",
      "Epoch 47/50\n",
      "563/563 [==============================] - 4s 8ms/step - loss: 0.7977 - accuracy: 0.8256\n",
      "Epoch 48/50\n",
      "563/563 [==============================] - 4s 8ms/step - loss: 0.7897 - accuracy: 0.8269\n",
      "Epoch 49/50\n",
      "563/563 [==============================] - 4s 8ms/step - loss: 0.7820 - accuracy: 0.8296\n",
      "Epoch 50/50\n",
      "563/563 [==============================] - 4s 8ms/step - loss: 0.7743 - accuracy: 0.8297\n"
     ]
    },
    {
     "data": {
      "text/plain": [
       "<keras.callbacks.History at 0x16b6d0defa0>"
      ]
     },
     "execution_count": 52,
     "metadata": {},
     "output_type": "execute_result"
    }
   ],
   "source": [
    "NeuralNetwork.fit(x_train_f,y_train, batch_size = 50, epochs=50)"
   ]
  },
  {
   "cell_type": "code",
   "execution_count": 53,
   "id": "8c3dbed9",
   "metadata": {},
   "outputs": [
    {
     "name": "stdout",
     "output_type": "stream",
     "text": [
      "377/377 [==============================] - 1s 4ms/step - loss: 0.8513 - accuracy: 0.8111\n",
      "0.8512668013572693 0.811120331287384\n"
     ]
    }
   ],
   "source": [
    "(loss, acc) = NeuralNetwork.evaluate(x_test_f,y_test)\n",
    "print(loss,acc)"
   ]
  },
  {
   "cell_type": "code",
   "execution_count": 54,
   "id": "4b08ef91",
   "metadata": {},
   "outputs": [],
   "source": [
    "NeuralNetwork = tf.keras.models.Sequential()\n",
    "NeuralNetwork.add(tf.keras.layers.Flatten())\n",
    "NeuralNetwork.add(tf.keras.layers.Dense(700, activation = tf.nn.relu))\n",
    "NeuralNetwork.add(tf.keras.layers.Dense(33, activation = tf.nn.softmax))\n",
    "NeuralNetwork.compile(optimizer='sgd',loss = 'sparse_categorical_crossentropy', metrics = ['accuracy'])\n"
   ]
  },
  {
   "cell_type": "code",
   "execution_count": 55,
   "id": "437fc4e4",
   "metadata": {},
   "outputs": [
    {
     "name": "stdout",
     "output_type": "stream",
     "text": [
      "Epoch 1/50\n",
      "563/563 [==============================] - 2s 3ms/step - loss: 3.4031 - accuracy: 0.1520\n",
      "Epoch 2/50\n",
      "563/563 [==============================] - 2s 3ms/step - loss: 3.1877 - accuracy: 0.3612\n",
      "Epoch 3/50\n",
      "563/563 [==============================] - 2s 3ms/step - loss: 2.9368 - accuracy: 0.4542\n",
      "Epoch 4/50\n",
      "563/563 [==============================] - 2s 3ms/step - loss: 2.6669 - accuracy: 0.4972\n",
      "Epoch 5/50\n",
      "563/563 [==============================] - 2s 3ms/step - loss: 2.4169 - accuracy: 0.5290\n",
      "Epoch 6/50\n",
      "563/563 [==============================] - 2s 3ms/step - loss: 2.2085 - accuracy: 0.5542\n",
      "Epoch 7/50\n",
      "563/563 [==============================] - 2s 3ms/step - loss: 2.0414 - accuracy: 0.5751\n",
      "Epoch 8/50\n",
      "563/563 [==============================] - 2s 3ms/step - loss: 1.9067 - accuracy: 0.5981\n",
      "Epoch 9/50\n",
      "563/563 [==============================] - 2s 3ms/step - loss: 1.7962 - accuracy: 0.6182\n",
      "Epoch 10/50\n",
      "563/563 [==============================] - 2s 3ms/step - loss: 1.7038 - accuracy: 0.6362\n",
      "Epoch 11/50\n",
      "563/563 [==============================] - 2s 3ms/step - loss: 1.6249 - accuracy: 0.6529\n",
      "Epoch 12/50\n",
      "563/563 [==============================] - 2s 3ms/step - loss: 1.5565 - accuracy: 0.6654\n",
      "Epoch 13/50\n",
      "563/563 [==============================] - 2s 3ms/step - loss: 1.4965 - accuracy: 0.6783\n",
      "Epoch 14/50\n",
      "563/563 [==============================] - 2s 3ms/step - loss: 1.4435 - accuracy: 0.6893\n",
      "Epoch 15/50\n",
      "563/563 [==============================] - 2s 4ms/step - loss: 1.3960 - accuracy: 0.6997\n",
      "Epoch 16/50\n",
      "563/563 [==============================] - 2s 4ms/step - loss: 1.3532 - accuracy: 0.7097\n",
      "Epoch 17/50\n",
      "563/563 [==============================] - 2s 3ms/step - loss: 1.3145 - accuracy: 0.7190\n",
      "Epoch 18/50\n",
      "563/563 [==============================] - 2s 4ms/step - loss: 1.2791 - accuracy: 0.7255\n",
      "Epoch 19/50\n",
      "563/563 [==============================] - 2s 4ms/step - loss: 1.2468 - accuracy: 0.7302\n",
      "Epoch 20/50\n",
      "563/563 [==============================] - 2s 4ms/step - loss: 1.2169 - accuracy: 0.7397\n",
      "Epoch 21/50\n",
      "563/563 [==============================] - 2s 4ms/step - loss: 1.1893 - accuracy: 0.7459\n",
      "Epoch 22/50\n",
      "563/563 [==============================] - 2s 4ms/step - loss: 1.1638 - accuracy: 0.7497\n",
      "Epoch 23/50\n",
      "563/563 [==============================] - 2s 4ms/step - loss: 1.1399 - accuracy: 0.7579\n",
      "Epoch 24/50\n",
      "563/563 [==============================] - 2s 3ms/step - loss: 1.1176 - accuracy: 0.7605\n",
      "Epoch 25/50\n",
      "563/563 [==============================] - 2s 3ms/step - loss: 1.0967 - accuracy: 0.7664\n",
      "Epoch 26/50\n",
      "563/563 [==============================] - 2s 4ms/step - loss: 1.0770 - accuracy: 0.7699\n",
      "Epoch 27/50\n",
      "563/563 [==============================] - 2s 3ms/step - loss: 1.0585 - accuracy: 0.7732\n",
      "Epoch 28/50\n",
      "563/563 [==============================] - 2s 4ms/step - loss: 1.0409 - accuracy: 0.7777\n",
      "Epoch 29/50\n",
      "563/563 [==============================] - 2s 4ms/step - loss: 1.0243 - accuracy: 0.7821\n",
      "Epoch 30/50\n",
      "563/563 [==============================] - 2s 4ms/step - loss: 1.0085 - accuracy: 0.7845\n",
      "Epoch 31/50\n",
      "563/563 [==============================] - 2s 4ms/step - loss: 0.9935 - accuracy: 0.7880\n",
      "Epoch 32/50\n",
      "563/563 [==============================] - 2s 4ms/step - loss: 0.9792 - accuracy: 0.7903\n",
      "Epoch 33/50\n",
      "563/563 [==============================] - 2s 4ms/step - loss: 0.9654 - accuracy: 0.7930\n",
      "Epoch 34/50\n",
      "563/563 [==============================] - 2s 4ms/step - loss: 0.9523 - accuracy: 0.7965\n",
      "Epoch 35/50\n",
      "563/563 [==============================] - 2s 4ms/step - loss: 0.9398 - accuracy: 0.7994\n",
      "Epoch 36/50\n",
      "563/563 [==============================] - 2s 4ms/step - loss: 0.9278 - accuracy: 0.8017\n",
      "Epoch 37/50\n",
      "563/563 [==============================] - 2s 4ms/step - loss: 0.9160 - accuracy: 0.8022\n",
      "Epoch 38/50\n",
      "563/563 [==============================] - 2s 4ms/step - loss: 0.9049 - accuracy: 0.8052\n",
      "Epoch 39/50\n",
      "563/563 [==============================] - 2s 3ms/step - loss: 0.8941 - accuracy: 0.8079\n",
      "Epoch 40/50\n",
      "563/563 [==============================] - 2s 3ms/step - loss: 0.8838 - accuracy: 0.8095\n",
      "Epoch 41/50\n",
      "563/563 [==============================] - 2s 3ms/step - loss: 0.8736 - accuracy: 0.8109\n",
      "Epoch 42/50\n",
      "563/563 [==============================] - 2s 3ms/step - loss: 0.8639 - accuracy: 0.8124\n",
      "Epoch 43/50\n",
      "563/563 [==============================] - 2s 3ms/step - loss: 0.8544 - accuracy: 0.8142\n",
      "Epoch 44/50\n",
      "563/563 [==============================] - 2s 4ms/step - loss: 0.8453 - accuracy: 0.8158\n",
      "Epoch 45/50\n",
      "563/563 [==============================] - 3s 4ms/step - loss: 0.8363 - accuracy: 0.8171\n",
      "Epoch 46/50\n",
      "563/563 [==============================] - 2s 4ms/step - loss: 0.8277 - accuracy: 0.8196\n",
      "Epoch 47/50\n",
      "563/563 [==============================] - 3s 5ms/step - loss: 0.8193 - accuracy: 0.8215\n",
      "Epoch 48/50\n",
      "563/563 [==============================] - 3s 5ms/step - loss: 0.8111 - accuracy: 0.8230\n",
      "Epoch 49/50\n",
      "563/563 [==============================] - 3s 6ms/step - loss: 0.8032 - accuracy: 0.8236\n",
      "Epoch 50/50\n",
      "563/563 [==============================] - 3s 5ms/step - loss: 0.7952 - accuracy: 0.8266\n"
     ]
    },
    {
     "data": {
      "text/plain": [
       "<keras.callbacks.History at 0x16b7102e610>"
      ]
     },
     "execution_count": 55,
     "metadata": {},
     "output_type": "execute_result"
    }
   ],
   "source": [
    "NeuralNetwork.fit(x_train_f,y_train, batch_size = 50, epochs=50)"
   ]
  },
  {
   "cell_type": "code",
   "execution_count": 56,
   "id": "33f271f4",
   "metadata": {},
   "outputs": [],
   "source": [
    "NeuralNetwork = tf.keras.models.Sequential()\n",
    "NeuralNetwork.add(tf.keras.layers.Flatten())\n",
    "NeuralNetwork.add(tf.keras.layers.Dense(700, activation = tf.nn.relu))\n",
    "NeuralNetwork.add(tf.keras.layers.Dense(700, activation = tf.nn.relu))\n",
    "NeuralNetwork.add(tf.keras.layers.Dense(33, activation = tf.nn.softmax))\n",
    "NeuralNetwork.compile(optimizer='sgd',loss = 'sparse_categorical_crossentropy', metrics = ['accuracy'])"
   ]
  },
  {
   "cell_type": "code",
   "execution_count": 57,
   "id": "b3f383fe",
   "metadata": {},
   "outputs": [
    {
     "name": "stdout",
     "output_type": "stream",
     "text": [
      "Epoch 1/50\n",
      "563/563 [==============================] - 4s 6ms/step - loss: 3.4411 - accuracy: 0.1418\n",
      "Epoch 2/50\n",
      "563/563 [==============================] - 4s 6ms/step - loss: 3.2698 - accuracy: 0.3670\n",
      "Epoch 3/50\n",
      "563/563 [==============================] - 3s 6ms/step - loss: 2.9552 - accuracy: 0.4455\n",
      "Epoch 4/50\n",
      "563/563 [==============================] - 3s 6ms/step - loss: 2.5071 - accuracy: 0.5032\n",
      "Epoch 5/50\n",
      "563/563 [==============================] - 3s 6ms/step - loss: 2.1006 - accuracy: 0.5510\n",
      "Epoch 6/50\n",
      "563/563 [==============================] - 4s 6ms/step - loss: 1.8059 - accuracy: 0.5992\n",
      "Epoch 7/50\n",
      "563/563 [==============================] - 4s 7ms/step - loss: 1.5980 - accuracy: 0.6425\n",
      "Epoch 8/50\n",
      "563/563 [==============================] - 4s 7ms/step - loss: 1.4461 - accuracy: 0.6758\n",
      "Epoch 9/50\n",
      "563/563 [==============================] - 4s 7ms/step - loss: 1.3306 - accuracy: 0.7025\n",
      "Epoch 10/50\n",
      "563/563 [==============================] - 4s 7ms/step - loss: 1.2399 - accuracy: 0.7204\n",
      "Epoch 11/50\n",
      "563/563 [==============================] - 4s 7ms/step - loss: 1.1657 - accuracy: 0.7399\n",
      "Epoch 12/50\n",
      "563/563 [==============================] - 4s 7ms/step - loss: 1.1043 - accuracy: 0.7522\n",
      "Epoch 13/50\n",
      "563/563 [==============================] - 4s 7ms/step - loss: 1.0515 - accuracy: 0.7623\n",
      "Epoch 14/50\n",
      "563/563 [==============================] - 4s 7ms/step - loss: 1.0054 - accuracy: 0.7735\n",
      "Epoch 15/50\n",
      "563/563 [==============================] - 4s 7ms/step - loss: 0.9650 - accuracy: 0.7822\n",
      "Epoch 16/50\n",
      "563/563 [==============================] - 4s 7ms/step - loss: 0.9292 - accuracy: 0.7887\n",
      "Epoch 17/50\n",
      "563/563 [==============================] - 4s 7ms/step - loss: 0.8974 - accuracy: 0.7960\n",
      "Epoch 18/50\n",
      "563/563 [==============================] - 4s 6ms/step - loss: 0.8675 - accuracy: 0.8024\n",
      "Epoch 19/50\n",
      "563/563 [==============================] - 4s 6ms/step - loss: 0.8407 - accuracy: 0.8087\n",
      "Epoch 20/50\n",
      "563/563 [==============================] - 4s 6ms/step - loss: 0.8159 - accuracy: 0.8141\n",
      "Epoch 21/50\n",
      "563/563 [==============================] - 4s 7ms/step - loss: 0.7934 - accuracy: 0.8186\n",
      "Epoch 22/50\n",
      "563/563 [==============================] - 4s 6ms/step - loss: 0.7718 - accuracy: 0.8223\n",
      "Epoch 23/50\n",
      "563/563 [==============================] - 4s 6ms/step - loss: 0.7518 - accuracy: 0.8286\n",
      "Epoch 24/50\n",
      "563/563 [==============================] - 4s 7ms/step - loss: 0.7328 - accuracy: 0.8307\n",
      "Epoch 25/50\n",
      "563/563 [==============================] - 4s 7ms/step - loss: 0.7145 - accuracy: 0.8355\n",
      "Epoch 26/50\n",
      "563/563 [==============================] - 4s 6ms/step - loss: 0.6981 - accuracy: 0.8385\n",
      "Epoch 27/50\n",
      "563/563 [==============================] - 4s 7ms/step - loss: 0.6819 - accuracy: 0.8414\n",
      "Epoch 28/50\n",
      "563/563 [==============================] - 4s 7ms/step - loss: 0.6667 - accuracy: 0.8461\n",
      "Epoch 29/50\n",
      "563/563 [==============================] - 4s 7ms/step - loss: 0.6522 - accuracy: 0.8482\n",
      "Epoch 30/50\n",
      "563/563 [==============================] - 4s 7ms/step - loss: 0.6385 - accuracy: 0.8514\n",
      "Epoch 31/50\n",
      "563/563 [==============================] - 4s 6ms/step - loss: 0.6246 - accuracy: 0.8544\n",
      "Epoch 32/50\n",
      "563/563 [==============================] - 4s 7ms/step - loss: 0.6117 - accuracy: 0.8567\n",
      "Epoch 33/50\n",
      "563/563 [==============================] - 4s 7ms/step - loss: 0.5997 - accuracy: 0.8590\n",
      "Epoch 34/50\n",
      "563/563 [==============================] - 4s 6ms/step - loss: 0.5874 - accuracy: 0.8626\n",
      "Epoch 35/50\n",
      "563/563 [==============================] - 3s 6ms/step - loss: 0.5760 - accuracy: 0.8654\n",
      "Epoch 36/50\n",
      "563/563 [==============================] - 4s 6ms/step - loss: 0.5648 - accuracy: 0.8683\n",
      "Epoch 37/50\n",
      "563/563 [==============================] - 4s 6ms/step - loss: 0.5539 - accuracy: 0.8708\n",
      "Epoch 38/50\n",
      "563/563 [==============================] - 4s 6ms/step - loss: 0.5438 - accuracy: 0.8725\n",
      "Epoch 39/50\n",
      "563/563 [==============================] - 4s 6ms/step - loss: 0.5335 - accuracy: 0.8747\n",
      "Epoch 40/50\n",
      "563/563 [==============================] - 4s 6ms/step - loss: 0.5238 - accuracy: 0.8768\n",
      "Epoch 41/50\n",
      "563/563 [==============================] - 3s 6ms/step - loss: 0.5146 - accuracy: 0.8786\n",
      "Epoch 42/50\n",
      "563/563 [==============================] - 3s 6ms/step - loss: 0.5052 - accuracy: 0.8814\n",
      "Epoch 43/50\n",
      "563/563 [==============================] - 3s 6ms/step - loss: 0.4964 - accuracy: 0.8821\n",
      "Epoch 44/50\n",
      "563/563 [==============================] - 3s 6ms/step - loss: 0.4878 - accuracy: 0.8851\n",
      "Epoch 45/50\n",
      "563/563 [==============================] - 3s 6ms/step - loss: 0.4791 - accuracy: 0.8867\n",
      "Epoch 46/50\n",
      "563/563 [==============================] - 3s 6ms/step - loss: 0.4713 - accuracy: 0.8886\n",
      "Epoch 47/50\n",
      "563/563 [==============================] - 3s 6ms/step - loss: 0.4629 - accuracy: 0.8909\n",
      "Epoch 48/50\n",
      "563/563 [==============================] - 3s 6ms/step - loss: 0.4550 - accuracy: 0.8932\n",
      "Epoch 49/50\n",
      "563/563 [==============================] - 4s 6ms/step - loss: 0.4477 - accuracy: 0.8949\n",
      "Epoch 50/50\n",
      "563/563 [==============================] - 3s 6ms/step - loss: 0.4400 - accuracy: 0.8973\n"
     ]
    },
    {
     "data": {
      "text/plain": [
       "<keras.callbacks.History at 0x16b739e1f10>"
      ]
     },
     "execution_count": 57,
     "metadata": {},
     "output_type": "execute_result"
    }
   ],
   "source": [
    "NeuralNetwork.fit(x_train_f,y_train, batch_size = 50, epochs=50)"
   ]
  },
  {
   "cell_type": "code",
   "execution_count": 58,
   "id": "8542c4bd",
   "metadata": {},
   "outputs": [
    {
     "name": "stdout",
     "output_type": "stream",
     "text": [
      "377/377 [==============================] - 1s 3ms/step - loss: 0.5874 - accuracy: 0.8622\n",
      "0.5873585939407349 0.8622406721115112\n"
     ]
    }
   ],
   "source": [
    "(loss, acc) = NeuralNetwork.evaluate(x_test_f,y_test)\n",
    "print(loss,acc)"
   ]
  },
  {
   "cell_type": "code",
   "execution_count": 59,
   "id": "853de2c2",
   "metadata": {},
   "outputs": [],
   "source": [
    "NeuralNetwork = tf.keras.models.Sequential()\n",
    "NeuralNetwork.add(tf.keras.layers.Flatten())\n",
    "NeuralNetwork.add(tf.keras.layers.Dense(800, activation = tf.nn.relu))\n",
    "NeuralNetwork.add(tf.keras.layers.Dense(33, activation = tf.nn.softmax))\n",
    "NeuralNetwork.compile(optimizer='sgd',loss = 'sparse_categorical_crossentropy', metrics = ['accuracy'])"
   ]
  },
  {
   "cell_type": "code",
   "execution_count": 60,
   "id": "3fd0dd24",
   "metadata": {},
   "outputs": [
    {
     "name": "stdout",
     "output_type": "stream",
     "text": [
      "Epoch 1/50\n",
      "563/563 [==============================] - 2s 4ms/step - loss: 3.4067 - accuracy: 0.1494\n",
      "Epoch 2/50\n",
      "563/563 [==============================] - 2s 4ms/step - loss: 3.1869 - accuracy: 0.3854\n",
      "Epoch 3/50\n",
      "563/563 [==============================] - 2s 4ms/step - loss: 2.9332 - accuracy: 0.4619\n",
      "Epoch 4/50\n",
      "563/563 [==============================] - 2s 4ms/step - loss: 2.6614 - accuracy: 0.5015\n",
      "Epoch 5/50\n",
      "563/563 [==============================] - 2s 4ms/step - loss: 2.4110 - accuracy: 0.5295\n",
      "Epoch 6/50\n",
      "563/563 [==============================] - 2s 4ms/step - loss: 2.2030 - accuracy: 0.5544\n",
      "Epoch 7/50\n",
      "563/563 [==============================] - 2s 4ms/step - loss: 2.0364 - accuracy: 0.5780\n",
      "Epoch 8/50\n",
      "563/563 [==============================] - 2s 4ms/step - loss: 1.9021 - accuracy: 0.6004\n",
      "Epoch 9/50\n",
      "563/563 [==============================] - 2s 4ms/step - loss: 1.7916 - accuracy: 0.6200\n",
      "Epoch 10/50\n",
      "563/563 [==============================] - 2s 4ms/step - loss: 1.6989 - accuracy: 0.6371\n",
      "Epoch 11/50\n",
      "563/563 [==============================] - 2s 4ms/step - loss: 1.6198 - accuracy: 0.6532\n",
      "Epoch 12/50\n",
      "563/563 [==============================] - 2s 4ms/step - loss: 1.5512 - accuracy: 0.6679\n",
      "Epoch 13/50\n",
      "563/563 [==============================] - 2s 4ms/step - loss: 1.4912 - accuracy: 0.6792\n",
      "Epoch 14/50\n",
      "563/563 [==============================] - 2s 4ms/step - loss: 1.4380 - accuracy: 0.6921\n",
      "Epoch 15/50\n",
      "563/563 [==============================] - 2s 4ms/step - loss: 1.3906 - accuracy: 0.7025\n",
      "Epoch 16/50\n",
      "563/563 [==============================] - 2s 4ms/step - loss: 1.3478 - accuracy: 0.7128\n",
      "Epoch 17/50\n",
      "563/563 [==============================] - 2s 4ms/step - loss: 1.3092 - accuracy: 0.7195\n",
      "Epoch 18/50\n",
      "563/563 [==============================] - 2s 4ms/step - loss: 1.2738 - accuracy: 0.7292\n",
      "Epoch 19/50\n",
      "563/563 [==============================] - 2s 4ms/step - loss: 1.2416 - accuracy: 0.7374\n",
      "Epoch 20/50\n",
      "563/563 [==============================] - 2s 4ms/step - loss: 1.2117 - accuracy: 0.7427\n",
      "Epoch 21/50\n",
      "563/563 [==============================] - 2s 4ms/step - loss: 1.1841 - accuracy: 0.7486\n",
      "Epoch 22/50\n",
      "563/563 [==============================] - 2s 4ms/step - loss: 1.1587 - accuracy: 0.7535\n",
      "Epoch 23/50\n",
      "563/563 [==============================] - 2s 4ms/step - loss: 1.1347 - accuracy: 0.7599\n",
      "Epoch 24/50\n",
      "563/563 [==============================] - 2s 4ms/step - loss: 1.1126 - accuracy: 0.7627\n",
      "Epoch 25/50\n",
      "563/563 [==============================] - 2s 4ms/step - loss: 1.0917 - accuracy: 0.7673\n",
      "Epoch 26/50\n",
      "563/563 [==============================] - 2s 3ms/step - loss: 1.0720 - accuracy: 0.7708\n",
      "Epoch 27/50\n",
      "563/563 [==============================] - 2s 3ms/step - loss: 1.0537 - accuracy: 0.7755\n",
      "Epoch 28/50\n",
      "563/563 [==============================] - 2s 3ms/step - loss: 1.0362 - accuracy: 0.7780\n",
      "Epoch 29/50\n",
      "563/563 [==============================] - 2s 3ms/step - loss: 1.0196 - accuracy: 0.7812\n",
      "Epoch 30/50\n",
      "563/563 [==============================] - 2s 3ms/step - loss: 1.0039 - accuracy: 0.7854\n",
      "Epoch 31/50\n",
      "563/563 [==============================] - 2s 3ms/step - loss: 0.9891 - accuracy: 0.7865\n",
      "Epoch 32/50\n",
      "563/563 [==============================] - 2s 3ms/step - loss: 0.9747 - accuracy: 0.7904\n",
      "Epoch 33/50\n",
      "563/563 [==============================] - 2s 3ms/step - loss: 0.9611 - accuracy: 0.7915\n",
      "Epoch 34/50\n",
      "563/563 [==============================] - 2s 4ms/step - loss: 0.9481 - accuracy: 0.7947\n",
      "Epoch 35/50\n",
      "563/563 [==============================] - 2s 3ms/step - loss: 0.9356 - accuracy: 0.7963\n",
      "Epoch 36/50\n",
      "563/563 [==============================] - 2s 4ms/step - loss: 0.9237 - accuracy: 0.8003\n",
      "Epoch 37/50\n",
      "563/563 [==============================] - 2s 3ms/step - loss: 0.9120 - accuracy: 0.8014\n",
      "Epoch 38/50\n",
      "563/563 [==============================] - 2s 4ms/step - loss: 0.9010 - accuracy: 0.8048\n",
      "Epoch 39/50\n",
      "563/563 [==============================] - 2s 3ms/step - loss: 0.8902 - accuracy: 0.8060\n",
      "Epoch 40/50\n",
      "563/563 [==============================] - 2s 3ms/step - loss: 0.8798 - accuracy: 0.8084\n",
      "Epoch 41/50\n",
      "563/563 [==============================] - 2s 3ms/step - loss: 0.8700 - accuracy: 0.8102\n",
      "Epoch 42/50\n",
      "563/563 [==============================] - 2s 3ms/step - loss: 0.8602 - accuracy: 0.8124\n",
      "Epoch 43/50\n",
      "563/563 [==============================] - 2s 3ms/step - loss: 0.8509 - accuracy: 0.8138\n",
      "Epoch 44/50\n",
      "563/563 [==============================] - 2s 3ms/step - loss: 0.8417 - accuracy: 0.8157\n",
      "Epoch 45/50\n",
      "563/563 [==============================] - 2s 3ms/step - loss: 0.8330 - accuracy: 0.8175\n",
      "Epoch 46/50\n",
      "563/563 [==============================] - 2s 3ms/step - loss: 0.8242 - accuracy: 0.8190\n",
      "Epoch 47/50\n",
      "563/563 [==============================] - 2s 3ms/step - loss: 0.8160 - accuracy: 0.8206\n",
      "Epoch 48/50\n",
      "563/563 [==============================] - 2s 3ms/step - loss: 0.8079 - accuracy: 0.8224\n",
      "Epoch 49/50\n",
      "563/563 [==============================] - 2s 3ms/step - loss: 0.8000 - accuracy: 0.8241\n",
      "Epoch 50/50\n",
      "563/563 [==============================] - 2s 3ms/step - loss: 0.7923 - accuracy: 0.8256\n"
     ]
    },
    {
     "data": {
      "text/plain": [
       "<keras.callbacks.History at 0x16b73abae50>"
      ]
     },
     "execution_count": 60,
     "metadata": {},
     "output_type": "execute_result"
    }
   ],
   "source": [
    "NeuralNetwork.fit(x_train_f,y_train, batch_size = 50, epochs=50)"
   ]
  },
  {
   "cell_type": "code",
   "execution_count": 61,
   "id": "39099264",
   "metadata": {},
   "outputs": [
    {
     "name": "stdout",
     "output_type": "stream",
     "text": [
      "377/377 [==============================] - 1s 2ms/step - loss: 0.8640 - accuracy: 0.8085\n",
      "0.8640491962432861 0.8085477352142334\n"
     ]
    }
   ],
   "source": [
    "(loss, acc) = NeuralNetwork.evaluate(x_test_f,y_test)\n",
    "print(loss,acc)"
   ]
  },
  {
   "cell_type": "code",
   "execution_count": 62,
   "id": "115f4cf9",
   "metadata": {},
   "outputs": [],
   "source": [
    "NeuralNetwork = tf.keras.models.Sequential()\n",
    "NeuralNetwork.add(tf.keras.layers.Flatten())\n",
    "NeuralNetwork.add(tf.keras.layers.Dense(200, activation = tf.nn.relu))\n",
    "NeuralNetwork.add(tf.keras.layers.Dense(33, activation = tf.nn.softmax))\n",
    "NeuralNetwork.compile(optimizer='adam',loss = 'sparse_categorical_crossentropy', metrics = ['accuracy'])"
   ]
  },
  {
   "cell_type": "code",
   "execution_count": 63,
   "id": "a2a31235",
   "metadata": {},
   "outputs": [
    {
     "name": "stdout",
     "output_type": "stream",
     "text": [
      "Epoch 1/50\n",
      "563/563 [==============================] - 1s 1ms/step - loss: 1.8099 - accuracy: 0.6239\n",
      "Epoch 2/50\n",
      "563/563 [==============================] - 1s 1ms/step - loss: 0.7676 - accuracy: 0.8259\n",
      "Epoch 3/50\n",
      "563/563 [==============================] - 1s 1ms/step - loss: 0.5586 - accuracy: 0.8686\n",
      "Epoch 4/50\n",
      "563/563 [==============================] - 1s 1ms/step - loss: 0.4406 - accuracy: 0.8958\n",
      "Epoch 5/50\n",
      "563/563 [==============================] - 1s 2ms/step - loss: 0.3574 - accuracy: 0.9174\n",
      "Epoch 6/50\n",
      "563/563 [==============================] - 1s 1ms/step - loss: 0.2941 - accuracy: 0.9348\n",
      "Epoch 7/50\n",
      "563/563 [==============================] - 1s 1ms/step - loss: 0.2454 - accuracy: 0.9488\n",
      "Epoch 8/50\n",
      "563/563 [==============================] - 1s 1ms/step - loss: 0.2065 - accuracy: 0.9574\n",
      "Epoch 9/50\n",
      "563/563 [==============================] - 1s 1ms/step - loss: 0.1769 - accuracy: 0.9645\n",
      "Epoch 10/50\n",
      "563/563 [==============================] - 1s 1ms/step - loss: 0.1523 - accuracy: 0.9695\n",
      "Epoch 11/50\n",
      "563/563 [==============================] - 1s 1ms/step - loss: 0.1316 - accuracy: 0.9746\n",
      "Epoch 12/50\n",
      "563/563 [==============================] - 1s 2ms/step - loss: 0.1155 - accuracy: 0.9771\n",
      "Epoch 13/50\n",
      "563/563 [==============================] - 1s 1ms/step - loss: 0.1018 - accuracy: 0.9798\n",
      "Epoch 14/50\n",
      "563/563 [==============================] - 1s 2ms/step - loss: 0.0902 - accuracy: 0.9824\n",
      "Epoch 15/50\n",
      "563/563 [==============================] - 1s 1ms/step - loss: 0.0802 - accuracy: 0.9845\n",
      "Epoch 16/50\n",
      "563/563 [==============================] - 1s 1ms/step - loss: 0.0710 - accuracy: 0.9865\n",
      "Epoch 17/50\n",
      "563/563 [==============================] - 1s 1ms/step - loss: 0.0639 - accuracy: 0.9877\n",
      "Epoch 18/50\n",
      "563/563 [==============================] - 1s 2ms/step - loss: 0.0574 - accuracy: 0.9889\n",
      "Epoch 19/50\n",
      "563/563 [==============================] - 1s 2ms/step - loss: 0.0523 - accuracy: 0.9901\n",
      "Epoch 20/50\n",
      "563/563 [==============================] - 1s 2ms/step - loss: 0.0483 - accuracy: 0.9907\n",
      "Epoch 21/50\n",
      "563/563 [==============================] - 1s 1ms/step - loss: 0.0431 - accuracy: 0.9921\n",
      "Epoch 22/50\n",
      "563/563 [==============================] - 1s 1ms/step - loss: 0.0388 - accuracy: 0.9931\n",
      "Epoch 23/50\n",
      "563/563 [==============================] - 1s 2ms/step - loss: 0.0353 - accuracy: 0.9937\n",
      "Epoch 24/50\n",
      "563/563 [==============================] - 1s 1ms/step - loss: 0.0323 - accuracy: 0.9940\n",
      "Epoch 25/50\n",
      "563/563 [==============================] - 1s 1ms/step - loss: 0.0296 - accuracy: 0.9948\n",
      "Epoch 26/50\n",
      "563/563 [==============================] - 1s 1ms/step - loss: 0.0279 - accuracy: 0.9954\n",
      "Epoch 27/50\n",
      "563/563 [==============================] - 1s 1ms/step - loss: 0.0258 - accuracy: 0.9956\n",
      "Epoch 28/50\n",
      "563/563 [==============================] - 1s 1ms/step - loss: 0.0243 - accuracy: 0.9958\n",
      "Epoch 29/50\n",
      "563/563 [==============================] - 1s 1ms/step - loss: 0.0235 - accuracy: 0.9962\n",
      "Epoch 30/50\n",
      "563/563 [==============================] - 1s 1ms/step - loss: 0.0221 - accuracy: 0.9964\n",
      "Epoch 31/50\n",
      "563/563 [==============================] - 1s 2ms/step - loss: 0.0196 - accuracy: 0.9968\n",
      "Epoch 32/50\n",
      "563/563 [==============================] - 1s 2ms/step - loss: 0.0176 - accuracy: 0.9971\n",
      "Epoch 33/50\n",
      "563/563 [==============================] - 1s 1ms/step - loss: 0.0187 - accuracy: 0.9969\n",
      "Epoch 34/50\n",
      "563/563 [==============================] - 1s 1ms/step - loss: 0.0165 - accuracy: 0.9972\n",
      "Epoch 35/50\n",
      "563/563 [==============================] - 1s 2ms/step - loss: 0.0166 - accuracy: 0.9972\n",
      "Epoch 36/50\n",
      "563/563 [==============================] - 1s 1ms/step - loss: 0.0144 - accuracy: 0.9975\n",
      "Epoch 37/50\n",
      "563/563 [==============================] - 1s 1ms/step - loss: 0.0148 - accuracy: 0.9975\n",
      "Epoch 38/50\n",
      "563/563 [==============================] - 1s 1ms/step - loss: 0.0147 - accuracy: 0.9975\n",
      "Epoch 39/50\n",
      "563/563 [==============================] - 1s 1ms/step - loss: 0.0138 - accuracy: 0.9977\n",
      "Epoch 40/50\n",
      "563/563 [==============================] - 1s 1ms/step - loss: 0.0127 - accuracy: 0.9981\n",
      "Epoch 41/50\n",
      "563/563 [==============================] - 1s 2ms/step - loss: 0.0108 - accuracy: 0.9981\n",
      "Epoch 42/50\n",
      "563/563 [==============================] - 1s 1ms/step - loss: 0.0132 - accuracy: 0.9980\n",
      "Epoch 43/50\n",
      "563/563 [==============================] - 1s 1ms/step - loss: 0.0114 - accuracy: 0.9979\n",
      "Epoch 44/50\n",
      "563/563 [==============================] - 1s 1ms/step - loss: 0.0120 - accuracy: 0.9981\n",
      "Epoch 45/50\n",
      "563/563 [==============================] - 1s 1ms/step - loss: 0.0115 - accuracy: 0.9978\n",
      "Epoch 46/50\n",
      "563/563 [==============================] - 1s 2ms/step - loss: 0.0116 - accuracy: 0.9982\n",
      "Epoch 47/50\n",
      "563/563 [==============================] - 1s 1ms/step - loss: 0.0109 - accuracy: 0.9983\n",
      "Epoch 48/50\n",
      "563/563 [==============================] - 1s 1ms/step - loss: 0.0101 - accuracy: 0.9982\n",
      "Epoch 49/50\n",
      "563/563 [==============================] - 1s 2ms/step - loss: 0.0101 - accuracy: 0.9982\n",
      "Epoch 50/50\n",
      "563/563 [==============================] - 1s 1ms/step - loss: 0.0088 - accuracy: 0.9982\n"
     ]
    },
    {
     "data": {
      "text/plain": [
       "<keras.callbacks.History at 0x16b73b97040>"
      ]
     },
     "execution_count": 63,
     "metadata": {},
     "output_type": "execute_result"
    }
   ],
   "source": [
    "NeuralNetwork.fit(x_train_f,y_train, batch_size = 50, epochs=50)"
   ]
  },
  {
   "cell_type": "code",
   "execution_count": 64,
   "id": "1877d259",
   "metadata": {},
   "outputs": [
    {
     "name": "stdout",
     "output_type": "stream",
     "text": [
      "377/377 [==============================] - 0s 971us/step - loss: 1.0481 - accuracy: 0.8724\n",
      "1.0480625629425049 0.8724481463432312\n"
     ]
    }
   ],
   "source": [
    "(loss, acc) = NeuralNetwork.evaluate(x_test_f,y_test)\n",
    "print(loss,acc)"
   ]
  },
  {
   "cell_type": "code",
   "execution_count": 65,
   "id": "04d93abb",
   "metadata": {},
   "outputs": [],
   "source": [
    "NeuralNetwork = tf.keras.models.Sequential()\n",
    "NeuralNetwork.add(tf.keras.layers.Flatten())\n",
    "NeuralNetwork.add(tf.keras.layers.Dense(100, activation = tf.nn.relu))\n",
    "NeuralNetwork.add(tf.keras.layers.Dense(33, activation = tf.nn.softmax))\n",
    "NeuralNetwork.compile(optimizer='adam',loss = 'sparse_categorical_crossentropy', metrics = ['accuracy'])"
   ]
  },
  {
   "cell_type": "code",
   "execution_count": 66,
   "id": "7d9ff9cd",
   "metadata": {},
   "outputs": [
    {
     "name": "stdout",
     "output_type": "stream",
     "text": [
      "Epoch 1/30\n",
      "563/563 [==============================] - 1s 1ms/step - loss: 2.0774 - accuracy: 0.5713\n",
      "Epoch 2/30\n",
      "563/563 [==============================] - 1s 1ms/step - loss: 0.9125 - accuracy: 0.7979\n",
      "Epoch 3/30\n",
      "563/563 [==============================] - 1s 1ms/step - loss: 0.6747 - accuracy: 0.8431\n",
      "Epoch 4/30\n",
      "563/563 [==============================] - 1s 1ms/step - loss: 0.5527 - accuracy: 0.8699\n",
      "Epoch 5/30\n",
      "563/563 [==============================] - 1s 1ms/step - loss: 0.4698 - accuracy: 0.8905\n",
      "Epoch 6/30\n",
      "563/563 [==============================] - 1s 1ms/step - loss: 0.4051 - accuracy: 0.9065\n",
      "Epoch 7/30\n",
      "563/563 [==============================] - 1s 1ms/step - loss: 0.3540 - accuracy: 0.9192\n",
      "Epoch 8/30\n",
      "563/563 [==============================] - 1s 1ms/step - loss: 0.3114 - accuracy: 0.9304\n",
      "Epoch 9/30\n",
      "563/563 [==============================] - 1s 1ms/step - loss: 0.2756 - accuracy: 0.9400\n",
      "Epoch 10/30\n",
      "563/563 [==============================] - 1s 1ms/step - loss: 0.2454 - accuracy: 0.9476\n",
      "Epoch 11/30\n",
      "563/563 [==============================] - 1s 1ms/step - loss: 0.2190 - accuracy: 0.9537\n",
      "Epoch 12/30\n",
      "563/563 [==============================] - 1s 1ms/step - loss: 0.1968 - accuracy: 0.9591\n",
      "Epoch 13/30\n",
      "563/563 [==============================] - 1s 1ms/step - loss: 0.1770 - accuracy: 0.9636\n",
      "Epoch 14/30\n",
      "563/563 [==============================] - 1s 1ms/step - loss: 0.1606 - accuracy: 0.9680\n",
      "Epoch 15/30\n",
      "563/563 [==============================] - 1s 1ms/step - loss: 0.1453 - accuracy: 0.9720\n",
      "Epoch 16/30\n",
      "563/563 [==============================] - 1s 1ms/step - loss: 0.1319 - accuracy: 0.9750\n",
      "Epoch 17/30\n",
      "563/563 [==============================] - 1s 1ms/step - loss: 0.1203 - accuracy: 0.9765\n",
      "Epoch 18/30\n",
      "563/563 [==============================] - 1s 1ms/step - loss: 0.1103 - accuracy: 0.9790\n",
      "Epoch 19/30\n",
      "563/563 [==============================] - 1s 1ms/step - loss: 0.1017 - accuracy: 0.9805\n",
      "Epoch 20/30\n",
      "563/563 [==============================] - 1s 1ms/step - loss: 0.0934 - accuracy: 0.9821\n",
      "Epoch 21/30\n",
      "563/563 [==============================] - 1s 1ms/step - loss: 0.0861 - accuracy: 0.9831\n",
      "Epoch 22/30\n",
      "563/563 [==============================] - 1s 1ms/step - loss: 0.0805 - accuracy: 0.9851\n",
      "Epoch 23/30\n",
      "563/563 [==============================] - 1s 1ms/step - loss: 0.0738 - accuracy: 0.9859\n",
      "Epoch 24/30\n",
      "563/563 [==============================] - 1s 1ms/step - loss: 0.0681 - accuracy: 0.9879\n",
      "Epoch 25/30\n",
      "563/563 [==============================] - 1s 1ms/step - loss: 0.0650 - accuracy: 0.9881\n",
      "Epoch 26/30\n",
      "563/563 [==============================] - 1s 1ms/step - loss: 0.0594 - accuracy: 0.9891\n",
      "Epoch 27/30\n",
      "563/563 [==============================] - 1s 1ms/step - loss: 0.0557 - accuracy: 0.9898\n",
      "Epoch 28/30\n",
      "563/563 [==============================] - 1s 1ms/step - loss: 0.0524 - accuracy: 0.9903\n",
      "Epoch 29/30\n",
      "563/563 [==============================] - 1s 1ms/step - loss: 0.0487 - accuracy: 0.9912\n",
      "Epoch 30/30\n",
      "563/563 [==============================] - 1s 1ms/step - loss: 0.0463 - accuracy: 0.9916\n"
     ]
    },
    {
     "data": {
      "text/plain": [
       "<keras.callbacks.History at 0x16b7648c520>"
      ]
     },
     "execution_count": 66,
     "metadata": {},
     "output_type": "execute_result"
    }
   ],
   "source": [
    "NeuralNetwork.fit(x_train_f,y_train, batch_size = 50, epochs=30)"
   ]
  },
  {
   "cell_type": "code",
   "execution_count": 67,
   "id": "14627eef",
   "metadata": {},
   "outputs": [
    {
     "name": "stdout",
     "output_type": "stream",
     "text": [
      "377/377 [==============================] - 0s 767us/step - loss: 0.7843 - accuracy: 0.8673\n",
      "0.7842779159545898 0.8673028945922852\n"
     ]
    }
   ],
   "source": [
    "(loss, acc) = NeuralNetwork.evaluate(x_test_f,y_test)\n",
    "print(loss,acc)"
   ]
  },
  {
   "cell_type": "code",
   "execution_count": 68,
   "id": "455b88d7",
   "metadata": {},
   "outputs": [],
   "source": [
    "NeuralNetwork = tf.keras.models.Sequential()\n",
    "NeuralNetwork.add(tf.keras.layers.Flatten())\n",
    "NeuralNetwork.add(tf.keras.layers.Dense(50, activation = tf.nn.relu))\n",
    "NeuralNetwork.add(tf.keras.layers.Dense(33, activation = tf.nn.softmax))\n",
    "NeuralNetwork.compile(optimizer='adam',loss = 'sparse_categorical_crossentropy', metrics = ['accuracy'])"
   ]
  },
  {
   "cell_type": "code",
   "execution_count": 69,
   "id": "8f17272e",
   "metadata": {},
   "outputs": [
    {
     "name": "stdout",
     "output_type": "stream",
     "text": [
      "Epoch 1/20\n",
      "282/282 [==============================] - 1s 1ms/step - loss: 2.8208 - accuracy: 0.3961\n",
      "Epoch 2/20\n",
      "282/282 [==============================] - 0s 1ms/step - loss: 1.4708 - accuracy: 0.7075\n",
      "Epoch 3/20\n",
      "282/282 [==============================] - 0s 2ms/step - loss: 1.0260 - accuracy: 0.7815\n",
      "Epoch 4/20\n",
      "282/282 [==============================] - 0s 1ms/step - loss: 0.8384 - accuracy: 0.8125\n",
      "Epoch 5/20\n",
      "282/282 [==============================] - 0s 1ms/step - loss: 0.7298 - accuracy: 0.8325\n",
      "Epoch 6/20\n",
      "282/282 [==============================] - 0s 1ms/step - loss: 0.6544 - accuracy: 0.8497\n",
      "Epoch 7/20\n",
      "282/282 [==============================] - 0s 1ms/step - loss: 0.5969 - accuracy: 0.8611\n",
      "Epoch 8/20\n",
      "282/282 [==============================] - 0s 1ms/step - loss: 0.5504 - accuracy: 0.8712\n",
      "Epoch 9/20\n",
      "282/282 [==============================] - 0s 1ms/step - loss: 0.5116 - accuracy: 0.8814\n",
      "Epoch 10/20\n",
      "282/282 [==============================] - 0s 1ms/step - loss: 0.4778 - accuracy: 0.8892\n",
      "Epoch 11/20\n",
      "282/282 [==============================] - 0s 1ms/step - loss: 0.4476 - accuracy: 0.8971\n",
      "Epoch 12/20\n",
      "282/282 [==============================] - 0s 1ms/step - loss: 0.4208 - accuracy: 0.9033\n",
      "Epoch 13/20\n",
      "282/282 [==============================] - 0s 1ms/step - loss: 0.3967 - accuracy: 0.9095\n",
      "Epoch 14/20\n",
      "282/282 [==============================] - 0s 1ms/step - loss: 0.3751 - accuracy: 0.9151\n",
      "Epoch 15/20\n",
      "282/282 [==============================] - 0s 1ms/step - loss: 0.3549 - accuracy: 0.9201\n",
      "Epoch 16/20\n",
      "282/282 [==============================] - 0s 1ms/step - loss: 0.3365 - accuracy: 0.9259\n",
      "Epoch 17/20\n",
      "282/282 [==============================] - 0s 1ms/step - loss: 0.3197 - accuracy: 0.9286\n",
      "Epoch 18/20\n",
      "282/282 [==============================] - 0s 1ms/step - loss: 0.3035 - accuracy: 0.9323\n",
      "Epoch 19/20\n",
      "282/282 [==============================] - 0s 1ms/step - loss: 0.2887 - accuracy: 0.9371\n",
      "Epoch 20/20\n",
      "282/282 [==============================] - 0s 2ms/step - loss: 0.2754 - accuracy: 0.9400\n"
     ]
    },
    {
     "data": {
      "text/plain": [
       "<keras.callbacks.History at 0x16b76588c70>"
      ]
     },
     "execution_count": 69,
     "metadata": {},
     "output_type": "execute_result"
    }
   ],
   "source": [
    "NeuralNetwork.fit(x_train_f,y_train, batch_size = 100, epochs=20)"
   ]
  },
  {
   "cell_type": "code",
   "execution_count": 70,
   "id": "08263899",
   "metadata": {},
   "outputs": [
    {
     "name": "stdout",
     "output_type": "stream",
     "text": [
      "377/377 [==============================] - 0s 793us/step - loss: 0.6615 - accuracy: 0.8478\n",
      "0.6615206599235535 0.8478008508682251\n"
     ]
    }
   ],
   "source": [
    "(loss, acc) = NeuralNetwork.evaluate(x_test_f,y_test)\n",
    "print(loss,acc)"
   ]
  },
  {
   "cell_type": "markdown",
   "id": "5643c0e6",
   "metadata": {},
   "source": [
    "# Up until now, I've tried lots of different configurations of neural networks. I've started by using 'sgd' as optimizer, than switched to 'adam', which seemed to reach high accuracy on training data faster, but the problem was overfitting every single time, the accuracy indicators for training and test sets differed by 0.1-0.15."
   ]
  },
  {
   "cell_type": "markdown",
   "id": "d8bbfd56",
   "metadata": {},
   "source": [
    "# So I've decided to stick to the 'sgd' function as optimizer again, and chose my final network to have one hidden layer, in which there are 500 units"
   ]
  },
  {
   "cell_type": "code",
   "execution_count": 71,
   "id": "1bbda5ff",
   "metadata": {},
   "outputs": [],
   "source": [
    "NeuralNetwork = tf.keras.models.Sequential()\n",
    "NeuralNetwork.add(tf.keras.layers.Flatten())\n",
    "NeuralNetwork.add(tf.keras.layers.Dense(500, activation = tf.nn.relu))\n",
    "NeuralNetwork.add(tf.keras.layers.Dense(33, activation = tf.nn.softmax))\n",
    "NeuralNetwork.compile(optimizer='sgd',loss = 'sparse_categorical_crossentropy', metrics = ['accuracy'])"
   ]
  },
  {
   "cell_type": "code",
   "execution_count": 72,
   "id": "682ec9ab",
   "metadata": {},
   "outputs": [
    {
     "name": "stdout",
     "output_type": "stream",
     "text": [
      "Epoch 1/60\n",
      "1406/1406 [==============================] - 3s 2ms/step - loss: 3.2560 - accuracy: 0.2738\n",
      "Epoch 2/60\n",
      "1406/1406 [==============================] - 3s 2ms/step - loss: 2.6397 - accuracy: 0.4734\n",
      "Epoch 3/60\n",
      "1406/1406 [==============================] - 3s 2ms/step - loss: 2.1137 - accuracy: 0.5582\n",
      "Epoch 4/60\n",
      "1406/1406 [==============================] - 3s 2ms/step - loss: 1.7930 - accuracy: 0.6108\n",
      "Epoch 5/60\n",
      "1406/1406 [==============================] - 3s 2ms/step - loss: 1.5867 - accuracy: 0.6538\n",
      "Epoch 6/60\n",
      "1406/1406 [==============================] - 3s 2ms/step - loss: 1.4418 - accuracy: 0.6869\n",
      "Epoch 7/60\n",
      "1406/1406 [==============================] - 3s 2ms/step - loss: 1.3330 - accuracy: 0.7111\n",
      "Epoch 8/60\n",
      "1406/1406 [==============================] - 3s 2ms/step - loss: 1.2478 - accuracy: 0.7317\n",
      "Epoch 9/60\n",
      "1406/1406 [==============================] - 3s 2ms/step - loss: 1.1784 - accuracy: 0.7458\n",
      "Epoch 10/60\n",
      "1406/1406 [==============================] - 3s 2ms/step - loss: 1.1210 - accuracy: 0.7577\n",
      "Epoch 11/60\n",
      "1406/1406 [==============================] - 3s 2ms/step - loss: 1.0719 - accuracy: 0.7689\n",
      "Epoch 12/60\n",
      "1406/1406 [==============================] - 3s 2ms/step - loss: 1.0295 - accuracy: 0.7773\n",
      "Epoch 13/60\n",
      "1406/1406 [==============================] - 3s 2ms/step - loss: 0.9922 - accuracy: 0.7856\n",
      "Epoch 14/60\n",
      "1406/1406 [==============================] - 3s 2ms/step - loss: 0.9589 - accuracy: 0.7922\n",
      "Epoch 15/60\n",
      "1406/1406 [==============================] - 3s 2ms/step - loss: 0.9289 - accuracy: 0.7979\n",
      "Epoch 16/60\n",
      "1406/1406 [==============================] - 3s 2ms/step - loss: 0.9015 - accuracy: 0.8025\n",
      "Epoch 17/60\n",
      "1406/1406 [==============================] - 3s 2ms/step - loss: 0.8766 - accuracy: 0.8079\n",
      "Epoch 18/60\n",
      "1406/1406 [==============================] - 3s 2ms/step - loss: 0.8534 - accuracy: 0.8125\n",
      "Epoch 19/60\n",
      "1406/1406 [==============================] - 3s 2ms/step - loss: 0.8320 - accuracy: 0.8169\n",
      "Epoch 20/60\n",
      "1406/1406 [==============================] - 3s 2ms/step - loss: 0.8122 - accuracy: 0.8205\n",
      "Epoch 21/60\n",
      "1406/1406 [==============================] - 3s 2ms/step - loss: 0.7933 - accuracy: 0.8237\n",
      "Epoch 22/60\n",
      "1406/1406 [==============================] - 3s 2ms/step - loss: 0.7758 - accuracy: 0.8266\n",
      "Epoch 23/60\n",
      "1406/1406 [==============================] - 3s 2ms/step - loss: 0.7588 - accuracy: 0.8305\n",
      "Epoch 24/60\n",
      "1406/1406 [==============================] - 3s 2ms/step - loss: 0.7434 - accuracy: 0.8326\n",
      "Epoch 25/60\n",
      "1406/1406 [==============================] - 3s 2ms/step - loss: 0.7281 - accuracy: 0.8366\n",
      "Epoch 26/60\n",
      "1406/1406 [==============================] - 2s 2ms/step - loss: 0.7139 - accuracy: 0.8388\n",
      "Epoch 27/60\n",
      "1406/1406 [==============================] - 3s 2ms/step - loss: 0.7004 - accuracy: 0.8409\n",
      "Epoch 28/60\n",
      "1406/1406 [==============================] - 3s 2ms/step - loss: 0.6874 - accuracy: 0.8438\n",
      "Epoch 29/60\n",
      "1406/1406 [==============================] - 3s 2ms/step - loss: 0.6747 - accuracy: 0.8461\n",
      "Epoch 30/60\n",
      "1406/1406 [==============================] - 3s 2ms/step - loss: 0.6629 - accuracy: 0.8493\n",
      "Epoch 31/60\n",
      "1406/1406 [==============================] - 3s 2ms/step - loss: 0.6511 - accuracy: 0.8525\n",
      "Epoch 32/60\n",
      "1406/1406 [==============================] - 3s 2ms/step - loss: 0.6400 - accuracy: 0.8545\n",
      "Epoch 33/60\n",
      "1406/1406 [==============================] - 3s 2ms/step - loss: 0.6291 - accuracy: 0.8568\n",
      "Epoch 34/60\n",
      "1406/1406 [==============================] - 3s 2ms/step - loss: 0.6189 - accuracy: 0.8600\n",
      "Epoch 35/60\n",
      "1406/1406 [==============================] - 3s 2ms/step - loss: 0.6089 - accuracy: 0.8613\n",
      "Epoch 36/60\n",
      "1406/1406 [==============================] - 3s 2ms/step - loss: 0.5994 - accuracy: 0.8637\n",
      "Epoch 37/60\n",
      "1406/1406 [==============================] - 3s 2ms/step - loss: 0.5898 - accuracy: 0.8658\n",
      "Epoch 38/60\n",
      "1406/1406 [==============================] - 3s 2ms/step - loss: 0.5809 - accuracy: 0.8674\n",
      "Epoch 39/60\n",
      "1406/1406 [==============================] - 3s 2ms/step - loss: 0.5721 - accuracy: 0.8713\n",
      "Epoch 40/60\n",
      "1406/1406 [==============================] - 3s 2ms/step - loss: 0.5636 - accuracy: 0.8720\n",
      "Epoch 41/60\n",
      "1406/1406 [==============================] - 3s 2ms/step - loss: 0.5555 - accuracy: 0.8741\n",
      "Epoch 42/60\n",
      "1406/1406 [==============================] - 3s 2ms/step - loss: 0.5474 - accuracy: 0.8759\n",
      "Epoch 43/60\n",
      "1406/1406 [==============================] - 3s 2ms/step - loss: 0.5396 - accuracy: 0.8776\n",
      "Epoch 44/60\n",
      "1406/1406 [==============================] - 3s 2ms/step - loss: 0.5318 - accuracy: 0.8797\n",
      "Epoch 45/60\n",
      "1406/1406 [==============================] - 3s 2ms/step - loss: 0.5246 - accuracy: 0.8813\n",
      "Epoch 46/60\n",
      "1406/1406 [==============================] - 3s 2ms/step - loss: 0.5174 - accuracy: 0.8826\n",
      "Epoch 47/60\n",
      "1406/1406 [==============================] - 3s 2ms/step - loss: 0.5104 - accuracy: 0.8835\n",
      "Epoch 48/60\n",
      "1406/1406 [==============================] - 3s 2ms/step - loss: 0.5034 - accuracy: 0.8861\n",
      "Epoch 49/60\n",
      "1406/1406 [==============================] - 3s 2ms/step - loss: 0.4968 - accuracy: 0.8885\n",
      "Epoch 50/60\n",
      "1406/1406 [==============================] - 3s 2ms/step - loss: 0.4903 - accuracy: 0.8890\n",
      "Epoch 51/60\n",
      "1406/1406 [==============================] - 3s 2ms/step - loss: 0.4839 - accuracy: 0.8905\n",
      "Epoch 52/60\n",
      "1406/1406 [==============================] - 3s 2ms/step - loss: 0.4778 - accuracy: 0.8923\n",
      "Epoch 53/60\n",
      "1406/1406 [==============================] - 3s 2ms/step - loss: 0.4717 - accuracy: 0.8934\n",
      "Epoch 54/60\n",
      "1406/1406 [==============================] - 3s 2ms/step - loss: 0.4658 - accuracy: 0.8946\n",
      "Epoch 55/60\n",
      "1406/1406 [==============================] - 3s 2ms/step - loss: 0.4600 - accuracy: 0.8970\n",
      "Epoch 56/60\n",
      "1406/1406 [==============================] - 3s 2ms/step - loss: 0.4543 - accuracy: 0.8971\n",
      "Epoch 57/60\n",
      "1406/1406 [==============================] - 3s 2ms/step - loss: 0.4488 - accuracy: 0.8989\n",
      "Epoch 58/60\n",
      "1406/1406 [==============================] - 3s 2ms/step - loss: 0.4433 - accuracy: 0.9004\n",
      "Epoch 59/60\n",
      "1406/1406 [==============================] - 3s 2ms/step - loss: 0.4382 - accuracy: 0.9012\n",
      "Epoch 60/60\n",
      "1406/1406 [==============================] - 3s 2ms/step - loss: 0.4328 - accuracy: 0.9030\n"
     ]
    },
    {
     "data": {
      "text/plain": [
       "<keras.callbacks.History at 0x16b76670e50>"
      ]
     },
     "execution_count": 72,
     "metadata": {},
     "output_type": "execute_result"
    }
   ],
   "source": [
    "NeuralNetwork.fit(x_train_f,y_train, batch_size = 20, epochs=60)"
   ]
  },
  {
   "cell_type": "code",
   "execution_count": 73,
   "id": "a0f76051",
   "metadata": {},
   "outputs": [
    {
     "name": "stdout",
     "output_type": "stream",
     "text": [
      "377/377 [==============================] - 1s 1ms/step - loss: 0.6003 - accuracy: 0.8581\n",
      "0.6002553701400757 0.8580912947654724\n"
     ]
    }
   ],
   "source": [
    "(loss, acc) = NeuralNetwork.evaluate(x_test_f,y_test)\n",
    "print(loss,acc)"
   ]
  },
  {
   "cell_type": "code",
   "execution_count": 74,
   "id": "e4ed31de",
   "metadata": {},
   "outputs": [
    {
     "name": "stdout",
     "output_type": "stream",
     "text": [
      "INFO:tensorflow:Assets written to: mynetwork\\assets\n"
     ]
    }
   ],
   "source": [
    "NeuralNetwork.save('mynetwork_tsotneB')"
   ]
  },
  {
   "cell_type": "code",
   "execution_count": 75,
   "id": "a1176b83",
   "metadata": {},
   "outputs": [],
   "source": [
    "import pickle as pk\n",
    "pk.dump(pca, open(\"pca_tsotneB.pkl\",\"wb\"))"
   ]
  }
 ],
 "metadata": {
  "kernelspec": {
   "display_name": "Python 3 (ipykernel)",
   "language": "python",
   "name": "python3"
  },
  "language_info": {
   "codemirror_mode": {
    "name": "ipython",
    "version": 3
   },
   "file_extension": ".py",
   "mimetype": "text/x-python",
   "name": "python",
   "nbconvert_exporter": "python",
   "pygments_lexer": "ipython3",
   "version": "3.8.8"
  }
 },
 "nbformat": 4,
 "nbformat_minor": 5
}

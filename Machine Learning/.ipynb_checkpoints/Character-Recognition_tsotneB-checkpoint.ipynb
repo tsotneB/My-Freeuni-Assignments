{
 "cells": [
  {
   "cell_type": "code",
   "execution_count": 1,
   "id": "fa03e5da",
   "metadata": {},
   "outputs": [],
   "source": [
    "import pickle as pk\n",
    "import pandas as pd\n",
    "import numpy as np\n",
    "import os\n",
    "import cv2\n",
    "import glob\n",
    "from tensorflow.keras.models import load_model\n",
    "from skimage import io\n",
    "from skimage import color\n",
    "import tensorflow as tf"
   ]
  },
  {
   "cell_type": "code",
   "execution_count": 2,
   "id": "b84f28cf",
   "metadata": {},
   "outputs": [],
   "source": [
    "pca = pk.load(open(\"pca_tsotneB.pkl\",'rb'))\n",
    "model = load_model('mynetwork_tsotneB')\n",
    "\n",
    "data = \"DATA\\\\\"\n",
    "img = os.path.join(data, '*')\n",
    "img_path = glob.glob(img)\n",
    "images = []\n",
    "for path in img_path:\n",
    "    images.append(path)\n",
    "\n",
    "test = {\"Image\":images}\n",
    "test = pd.DataFrame(test)"
   ]
  },
  {
   "cell_type": "code",
   "execution_count": 3,
   "id": "36ecd6cc",
   "metadata": {},
   "outputs": [],
   "source": [
    "def center(img):\n",
    "    new_img = np.full((100, 100), 255)\n",
    "    maxX = -1\n",
    "    maxY = -1\n",
    "    minX = 101\n",
    "    minY = 101\n",
    "    for i in range(img.shape[0]):\n",
    "        for j in range(img.shape[1]):\n",
    "            if img[i][j] < 255:\n",
    "                maxX = max(maxX, i)\n",
    "                maxY = max(maxY, j)\n",
    "                minX = min(minX, i)\n",
    "                minY = min(minY, j)\n",
    "    letter = pd.DataFrame(img).iloc[minX:maxX+1,minY:maxY+1].to_numpy()\n",
    "    width = maxX-minX+1\n",
    "    height = maxY-minY+1\n",
    "    moveOnX = width//2\n",
    "    moveOnY = height//2\n",
    "    for i in range(width):\n",
    "        for j in range(height):\n",
    "            new_img[50-moveOnX+i][50-moveOnY+j] = letter[i][j]\n",
    "    return new_img"
   ]
  },
  {
   "cell_type": "code",
   "execution_count": 4,
   "id": "961270d4",
   "metadata": {},
   "outputs": [],
   "source": [
    "def processImage(path):\n",
    "    image = cv2.imread(path,0)\n",
    "    image= cv2.resize(image, (100,100))\n",
    "    return center(np.array(image))\n"
   ]
  },
  {
   "cell_type": "code",
   "execution_count": 5,
   "id": "9fdacbd7",
   "metadata": {},
   "outputs": [],
   "source": [
    "test['Pixels'] = test['Image'].map(processImage)\n",
    "x_test = np.ones((test.shape[0],100,100),dtype=int)"
   ]
  },
  {
   "cell_type": "code",
   "execution_count": 6,
   "id": "0116fa67",
   "metadata": {},
   "outputs": [
    {
     "data": {
      "text/html": [
       "<div>\n",
       "<style scoped>\n",
       "    .dataframe tbody tr th:only-of-type {\n",
       "        vertical-align: middle;\n",
       "    }\n",
       "\n",
       "    .dataframe tbody tr th {\n",
       "        vertical-align: top;\n",
       "    }\n",
       "\n",
       "    .dataframe thead th {\n",
       "        text-align: right;\n",
       "    }\n",
       "</style>\n",
       "<table border=\"1\" class=\"dataframe\">\n",
       "  <thead>\n",
       "    <tr style=\"text-align: right;\">\n",
       "      <th></th>\n",
       "      <th>Image</th>\n",
       "      <th>Pixels</th>\n",
       "    </tr>\n",
       "  </thead>\n",
       "  <tbody>\n",
       "    <tr>\n",
       "      <th>0</th>\n",
       "      <td>DATA1\\f1.jpg</td>\n",
       "      <td>[[255, 255, 255, 255, 255, 255, 255, 255, 255,...</td>\n",
       "    </tr>\n",
       "    <tr>\n",
       "      <th>1</th>\n",
       "      <td>DATA1\\f2.jpg</td>\n",
       "      <td>[[255, 255, 255, 255, 255, 255, 255, 255, 255,...</td>\n",
       "    </tr>\n",
       "    <tr>\n",
       "      <th>2</th>\n",
       "      <td>DATA1\\f3.png</td>\n",
       "      <td>[[255, 255, 255, 255, 255, 255, 255, 255, 255,...</td>\n",
       "    </tr>\n",
       "    <tr>\n",
       "      <th>3</th>\n",
       "      <td>DATA1\\f4.jpg</td>\n",
       "      <td>[[255, 255, 255, 255, 255, 255, 255, 255, 255,...</td>\n",
       "    </tr>\n",
       "  </tbody>\n",
       "</table>\n",
       "</div>"
      ],
      "text/plain": [
       "          Image                                             Pixels\n",
       "0  DATA1\\f1.jpg  [[255, 255, 255, 255, 255, 255, 255, 255, 255,...\n",
       "1  DATA1\\f2.jpg  [[255, 255, 255, 255, 255, 255, 255, 255, 255,...\n",
       "2  DATA1\\f3.png  [[255, 255, 255, 255, 255, 255, 255, 255, 255,...\n",
       "3  DATA1\\f4.jpg  [[255, 255, 255, 255, 255, 255, 255, 255, 255,..."
      ]
     },
     "execution_count": 6,
     "metadata": {},
     "output_type": "execute_result"
    }
   ],
   "source": [
    "test"
   ]
  },
  {
   "cell_type": "code",
   "execution_count": 7,
   "id": "8864d1cd",
   "metadata": {},
   "outputs": [],
   "source": [
    "for i in range(test.shape[0]):\n",
    "    x_test[i] = test['Pixels'][i]"
   ]
  },
  {
   "cell_type": "code",
   "execution_count": 8,
   "id": "4af5770c",
   "metadata": {},
   "outputs": [],
   "source": [
    "x_test = tf.keras.utils.normalize(x_test,axis = 1)\n",
    "x_test_f = np.ones((test.shape[0],10000),dtype=float)\n",
    "for i in range(len(x_test)):\n",
    "    x_test_f[i] = x_test[i].flatten()\n"
   ]
  },
  {
   "cell_type": "code",
   "execution_count": 9,
   "id": "d3aab109",
   "metadata": {},
   "outputs": [],
   "source": [
    "x_test_f = pca.transform(x_test_f)\n",
    "outputs = model.predict(x_test_f)\n",
    "answers = []\n",
    "for i in range(outputs.shape[0]):\n",
    "    answers.append(str(images[i])+\" : \" + str(np.argmax(outputs[i])+1))\n",
    "\n",
    "with open(\"output.txt\",\"a\",encoding=\"utf-8\") as file:\n",
    "    for text in answers:\n",
    "        file.write(text)\n",
    "        file.write(\"\\n\")"
   ]
  }
 ],
 "metadata": {
  "kernelspec": {
   "display_name": "Python 3 (ipykernel)",
   "language": "python",
   "name": "python3"
  },
  "language_info": {
   "codemirror_mode": {
    "name": "ipython",
    "version": 3
   },
   "file_extension": ".py",
   "mimetype": "text/x-python",
   "name": "python",
   "nbconvert_exporter": "python",
   "pygments_lexer": "ipython3",
   "version": "3.8.8"
  }
 },
 "nbformat": 4,
 "nbformat_minor": 5
}

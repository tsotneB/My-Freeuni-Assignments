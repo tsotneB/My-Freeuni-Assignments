{
 "cells": [
  {
   "cell_type": "markdown",
   "id": "b3b2ab1d",
   "metadata": {},
   "source": [
    "#  Train word2vec"
   ]
  },
  {
   "cell_type": "markdown",
   "id": "0d6f52dc",
   "metadata": {},
   "source": [
    "## Imports"
   ]
  },
  {
   "cell_type": "code",
   "execution_count": 1,
   "id": "6799dd4c",
   "metadata": {},
   "outputs": [
    {
     "name": "stdout",
     "output_type": "stream",
     "text": [
      "Requirement already satisfied: gensim in c:\\users\\besik.kapanadze\\anaconda3\\lib\\site-packages (4.2.0)\n",
      "Requirement already satisfied: Cython==0.29.28 in c:\\users\\besik.kapanadze\\anaconda3\\lib\\site-packages (from gensim) (0.29.28)\n",
      "Requirement already satisfied: smart-open>=1.8.1 in c:\\users\\besik.kapanadze\\anaconda3\\lib\\site-packages (from gensim) (6.0.0)\n",
      "Requirement already satisfied: numpy>=1.17.0 in c:\\users\\besik.kapanadze\\anaconda3\\lib\\site-packages (from gensim) (1.20.3)\n",
      "Requirement already satisfied: scipy>=0.18.1 in c:\\users\\besik.kapanadze\\anaconda3\\lib\\site-packages (from gensim) (1.7.1)\n"
     ]
    }
   ],
   "source": [
    "!pip install -U gensim"
   ]
  },
  {
   "cell_type": "code",
   "execution_count": 2,
   "id": "ca19c89d",
   "metadata": {},
   "outputs": [],
   "source": [
    "import pandas as pd\n",
    "from gensim.models import Word2Vec"
   ]
  },
  {
   "cell_type": "markdown",
   "id": "14739538",
   "metadata": {},
   "source": [
    "## Read data"
   ]
  },
  {
   "cell_type": "code",
   "execution_count": 3,
   "id": "b1571196",
   "metadata": {},
   "outputs": [
    {
     "data": {
      "text/html": [
       "<div>\n",
       "<style scoped>\n",
       "    .dataframe tbody tr th:only-of-type {\n",
       "        vertical-align: middle;\n",
       "    }\n",
       "\n",
       "    .dataframe tbody tr th {\n",
       "        vertical-align: top;\n",
       "    }\n",
       "\n",
       "    .dataframe thead th {\n",
       "        text-align: right;\n",
       "    }\n",
       "</style>\n",
       "<table border=\"1\" class=\"dataframe\">\n",
       "  <thead>\n",
       "    <tr style=\"text-align: right;\">\n",
       "      <th></th>\n",
       "      <th>sentence</th>\n",
       "    </tr>\n",
       "  </thead>\n",
       "  <tbody>\n",
       "    <tr>\n",
       "      <th>0</th>\n",
       "      <td>ძეგლთა დაცვის ეროვნულ სააგენტოში აცხადებენ  რო...</td>\n",
       "    </tr>\n",
       "    <tr>\n",
       "      <th>1</th>\n",
       "      <td>საქართველოს კულტურული მემკვიდრეობისა და ძეგლთა...</td>\n",
       "    </tr>\n",
       "    <tr>\n",
       "      <th>2</th>\n",
       "      <td>გაირკვა  რომ აქ არც მეჩეთი და არც ეკლესია არ ...</td>\n",
       "    </tr>\n",
       "    <tr>\n",
       "      <th>3</th>\n",
       "      <td>კვლევის ავტორი არ გამორიცხავს  რომ აქ სამხედრო...</td>\n",
       "    </tr>\n",
       "    <tr>\n",
       "      <th>4</th>\n",
       "      <td>შეკითხვაზე  რამდენად შესაძლებელია რომ ეს რელიგ...</td>\n",
       "    </tr>\n",
       "  </tbody>\n",
       "</table>\n",
       "</div>"
      ],
      "text/plain": [
       "                                            sentence\n",
       "0  ძეგლთა დაცვის ეროვნულ სააგენტოში აცხადებენ  რო...\n",
       "1  საქართველოს კულტურული მემკვიდრეობისა და ძეგლთა...\n",
       "2   გაირკვა  რომ აქ არც მეჩეთი და არც ეკლესია არ ...\n",
       "3  კვლევის ავტორი არ გამორიცხავს  რომ აქ სამხედრო...\n",
       "4  შეკითხვაზე  რამდენად შესაძლებელია რომ ეს რელიგ..."
      ]
     },
     "execution_count": 3,
     "metadata": {},
     "output_type": "execute_result"
    }
   ],
   "source": [
    "data = pd.read_csv(r'..\\data\\data.csv')\n",
    "data.head()"
   ]
  },
  {
   "cell_type": "code",
   "execution_count": 4,
   "id": "1cd43431",
   "metadata": {},
   "outputs": [],
   "source": [
    "sentences = data['sentence'].tolist()"
   ]
  },
  {
   "cell_type": "markdown",
   "id": "3340a102",
   "metadata": {},
   "source": [
    "# Tokenize sentences"
   ]
  },
  {
   "cell_type": "code",
   "execution_count": 5,
   "id": "83b78f84",
   "metadata": {},
   "outputs": [
    {
     "data": {
      "text/plain": [
       "859124"
      ]
     },
     "execution_count": 5,
     "metadata": {},
     "output_type": "execute_result"
    }
   ],
   "source": [
    "tokenized_sentences = [i.split() for i in sentences]\n",
    "len(tokenized_sentences)"
   ]
  },
  {
   "cell_type": "code",
   "execution_count": 6,
   "id": "758c3bcc",
   "metadata": {},
   "outputs": [
    {
     "data": {
      "text/plain": [
       "['ძეგლთა',\n",
       " 'დაცვის',\n",
       " 'ეროვნულ',\n",
       " 'სააგენტოში',\n",
       " 'აცხადებენ',\n",
       " 'რომ',\n",
       " 'მათ',\n",
       " 'მიერ',\n",
       " 'სამხრეთის',\n",
       " 'კარიბჭესთვის',\n",
       " 'მოწოდებული',\n",
       " 'ინფორმაცია',\n",
       " 'იმის',\n",
       " 'შესახებ',\n",
       " 'რომ',\n",
       " 'ახალციხის',\n",
       " 'არქივის',\n",
       " 'ეზოში',\n",
       " 'აღმოჩენილი',\n",
       " 'შენობა',\n",
       " 'საკულტო',\n",
       " 'ნაგებობა',\n",
       " 'იყო',\n",
       " 'არასწორია',\n",
       " 'და',\n",
       " 'საბოლოოდ',\n",
       " 'დადგინდა',\n",
       " 'რომ',\n",
       " 'აქ',\n",
       " 'ტრადიციული',\n",
       " 'მესხური',\n",
       " 'საცხოვრებელი',\n",
       " 'იყო']"
      ]
     },
     "execution_count": 6,
     "metadata": {},
     "output_type": "execute_result"
    }
   ],
   "source": [
    "tokenized_sentences[0]"
   ]
  },
  {
   "cell_type": "markdown",
   "id": "1eea0844",
   "metadata": {},
   "source": [
    "# Build word2vec"
   ]
  },
  {
   "cell_type": "code",
   "execution_count": 7,
   "id": "007e691d",
   "metadata": {},
   "outputs": [],
   "source": [
    "model = Word2Vec(tokenized_sentences, window=5, min_count=10, workers=4)"
   ]
  },
  {
   "cell_type": "markdown",
   "id": "f839ac5a",
   "metadata": {},
   "source": [
    "# Save model"
   ]
  },
  {
   "cell_type": "code",
   "execution_count": 8,
   "id": "606d90a1",
   "metadata": {},
   "outputs": [],
   "source": [
    "model.save(r'..\\resources\\georgian_word2vec.model')"
   ]
  }
 ],
 "metadata": {
  "kernelspec": {
   "display_name": "Python 3 (ipykernel)",
   "language": "python",
   "name": "python3"
  },
  "language_info": {
   "codemirror_mode": {
    "name": "ipython",
    "version": 3
   },
   "file_extension": ".py",
   "mimetype": "text/x-python",
   "name": "python",
   "nbconvert_exporter": "python",
   "pygments_lexer": "ipython3",
   "version": "3.9.7"
  }
 },
 "nbformat": 4,
 "nbformat_minor": 5
}

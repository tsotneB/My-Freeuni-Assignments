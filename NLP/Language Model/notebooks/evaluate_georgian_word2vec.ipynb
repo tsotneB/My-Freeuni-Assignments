{
 "cells": [
  {
   "cell_type": "markdown",
   "id": "2891d24a",
   "metadata": {},
   "source": [
    "<center><h2>Evaluate Word2vec</h2></center>\n",
    "</br>\n",
    "<center><h3>Part I - Pretrained Word2vec</h3></center>"
   ]
  },
  {
   "cell_type": "markdown",
   "id": "5a7b4251",
   "metadata": {},
   "source": [
    "<h4>Imports</h4>"
   ]
  },
  {
   "cell_type": "code",
   "execution_count": 1,
   "id": "9387efb0",
   "metadata": {},
   "outputs": [],
   "source": [
    "from sklearn.decomposition import TruncatedSVD\n",
    "from sklearn.decomposition import PCA\n",
    "\n",
    "from gensim.test.utils import common_texts\n",
    "from gensim.models import Word2Vec\n",
    "from gensim.models import KeyedVectors\n",
    "import matplotlib.pyplot as plt\n",
    "import numpy as np"
   ]
  },
  {
   "cell_type": "markdown",
   "id": "d820ce0f",
   "metadata": {},
   "source": [
    "<h4>Load Pretrained word2vec</h4>"
   ]
  },
  {
   "cell_type": "code",
   "execution_count": 2,
   "id": "df89e725",
   "metadata": {},
   "outputs": [],
   "source": [
    "trained_model = Word2Vec.load('../resources/georgian_word2vec.model')"
   ]
  },
  {
   "cell_type": "markdown",
   "id": "319b1e8a",
   "metadata": {},
   "source": [
    "<center><h3>Evaluation</h3></center>\n",
    "<center><h4>Synonyms</h4></center>\n"
   ]
  },
  {
   "cell_type": "code",
   "execution_count": 3,
   "id": "3fb1d931",
   "metadata": {},
   "outputs": [
    {
     "data": {
      "text/plain": [
       "[('ავტომობილი', 0.7522153258323669),\n",
       " ('მანქანით', 0.6987831592559814),\n",
       " ('მანქანის', 0.6920327544212341),\n",
       " ('ავტომანქანა', 0.645092785358429),\n",
       " ('სარეცხი', 0.6296919584274292),\n",
       " ('თვითმფრინავი', 0.6293297410011292),\n",
       " ('ყუთი', 0.6292032599449158),\n",
       " ('გემი', 0.6288377046585083),\n",
       " ('საყიდლად', 0.624182939529419),\n",
       " ('ტრაქტორი', 0.6215299367904663)]"
      ]
     },
     "execution_count": 3,
     "metadata": {},
     "output_type": "execute_result"
    }
   ],
   "source": [
    "trained_model.wv.most_similar('მანქანა')"
   ]
  },
  {
   "cell_type": "markdown",
   "id": "140a44d1",
   "metadata": {},
   "source": [
    "მანქანის სინონიმები ჩვენმა მოდელმა იპოვა. ამასთან ერთად იპოვა მასთან კონტექსტში მყოფი სიტყვტებიც: სარეცხი, საყიდლად. ერთადერთი ყუთი არის შეცდომით მოხვედრილი ამ სიაში."
   ]
  },
  {
   "cell_type": "code",
   "execution_count": 4,
   "id": "a1543ed9",
   "metadata": {},
   "outputs": [
    {
     "data": {
      "text/plain": [
       "[('ბიჭი', 0.7449254393577576),\n",
       " ('ქალი', 0.7345260977745056),\n",
       " ('გოგო', 0.7147159576416016),\n",
       " ('ადამიანი', 0.6961709856987),\n",
       " ('კაცს', 0.6548382043838501),\n",
       " ('ყმაწვილი', 0.6544623970985413),\n",
       " ('ქალია', 0.653546154499054),\n",
       " ('პოლიციელი', 0.6484518647193909),\n",
       " ('ბავშვი', 0.6388466954231262),\n",
       " ('მგელი', 0.6374099850654602)]"
      ]
     },
     "execution_count": 4,
     "metadata": {},
     "output_type": "execute_result"
    }
   ],
   "source": [
    "trained_model.wv.most_similar('კაცი')"
   ]
  },
  {
   "cell_type": "markdown",
   "id": "b615de4d",
   "metadata": {},
   "source": [
    "აქაც, ანალოგიურად, გვაქვს არაერთი სინონიმი. თუმცა 1 შეცდომა მაინც არის - მგელი."
   ]
  },
  {
   "cell_type": "markdown",
   "id": "e734945d",
   "metadata": {},
   "source": [
    "<center><h4>Antonyms</h4></center>"
   ]
  },
  {
   "cell_type": "markdown",
   "id": "c6578ae2",
   "metadata": {},
   "source": [
    "შევეცდები ისეთი სიტყვების შეყვანას, რომლებიც ხშირად გვხვდება წინადადებებში თავის ანტონიმებთან ერთად."
   ]
  },
  {
   "cell_type": "code",
   "execution_count": 5,
   "id": "681a05ce",
   "metadata": {},
   "outputs": [
    {
     "data": {
      "text/plain": [
       "[('მდიდარი', 0.7816330790519714),\n",
       " ('შეძლებული', 0.7591644525527954),\n",
       " ('გაჭირვებული', 0.7345767021179199),\n",
       " ('კეთილშობილი', 0.7162554860115051),\n",
       " ('ხანდაზმული', 0.6996287703514099),\n",
       " ('გონიერი', 0.6984087228775024),\n",
       " ('მშრომელი', 0.6934995055198669),\n",
       " ('განათლებული', 0.688368558883667),\n",
       " ('ცნობისმოყვარე', 0.6784718036651611),\n",
       " ('ბრძენი', 0.6778247356414795)]"
      ]
     },
     "execution_count": 5,
     "metadata": {},
     "output_type": "execute_result"
    }
   ],
   "source": [
    "trained_model.wv.most_similar('ღარიბი')"
   ]
  },
  {
   "cell_type": "markdown",
   "id": "a2d3fb24",
   "metadata": {},
   "source": [
    "მოიძებნა ღარიბის ანტონიმები: მდიდარი, შეძებული. "
   ]
  },
  {
   "cell_type": "code",
   "execution_count": 6,
   "id": "8d9ef173",
   "metadata": {},
   "outputs": [
    {
     "data": {
      "text/plain": [
       "[('ძლიერი', 0.7174825072288513),\n",
       " ('მგრძნობიარე', 0.6905461549758911),\n",
       " ('მტკივნეული', 0.6603599786758423),\n",
       " ('მომთხოვნი', 0.6579460501670837),\n",
       " ('სუსტად', 0.6538094282150269),\n",
       " ('მიმზიდველი', 0.650567352771759),\n",
       " ('დაბალი', 0.6433855295181274),\n",
       " ('უმნიშვნელო', 0.6414738893508911),\n",
       " ('მკაცრი', 0.6333898901939392),\n",
       " ('რთულად', 0.6301956176757812)]"
      ]
     },
     "execution_count": 6,
     "metadata": {},
     "output_type": "execute_result"
    }
   ],
   "source": [
    "trained_model.wv.most_similar('სუსტი')"
   ]
  },
  {
   "cell_type": "markdown",
   "id": "9324fe74",
   "metadata": {},
   "source": [
    "მოიძებნა სუსტის ანტონიმი: ძლიერი. "
   ]
  },
  {
   "cell_type": "code",
   "execution_count": 7,
   "id": "6657328c",
   "metadata": {},
   "outputs": [
    {
     "data": {
      "text/plain": [
       "[('სქელი', 0.9130292534828186),\n",
       " ('მშრალი', 0.8902937173843384),\n",
       " ('რბილი', 0.8827632665634155),\n",
       " ('წვრილი', 0.8825744986534119),\n",
       " ('მუქი', 0.8775029182434082),\n",
       " ('გლუვი', 0.8735173940658569),\n",
       " ('არომატული', 0.873369574546814),\n",
       " ('მკვრივი', 0.8717475533485413),\n",
       " ('ფხვნილი', 0.8534653782844543),\n",
       " ('მჟავე', 0.8516365885734558)]"
      ]
     },
     "execution_count": 7,
     "metadata": {},
     "output_type": "execute_result"
    }
   ],
   "source": [
    "trained_model.wv.most_similar('თხელი')"
   ]
  },
  {
   "cell_type": "markdown",
   "id": "4a81daca",
   "metadata": {},
   "source": [
    "მოიძებნა თხელის ანტონიმი: სქელი. "
   ]
  },
  {
   "cell_type": "markdown",
   "id": "1bb27d46",
   "metadata": {},
   "source": [
    "<center><h4>Analogies</h4></center>"
   ]
  },
  {
   "cell_type": "code",
   "execution_count": 8,
   "id": "9acf1ad9",
   "metadata": {},
   "outputs": [
    {
     "data": {
      "text/plain": [
       "[('ბებია', 0.7487496137619019),\n",
       " ('ქალიშვილი', 0.727142333984375),\n",
       " ('შეყვარებული', 0.7100287675857544),\n",
       " ('რძალი', 0.7087268233299255),\n",
       " ('უსაყვარლესი', 0.6974164247512817),\n",
       " ('ტრანსგენდერი', 0.6903185844421387),\n",
       " ('ქმარი', 0.6896628141403198),\n",
       " ('ცოლი', 0.6744663715362549),\n",
       " ('ორსული', 0.6640662550926208),\n",
       " ('მოახლე', 0.662255048751831)]"
      ]
     },
     "execution_count": 8,
     "metadata": {},
     "output_type": "execute_result"
    }
   ],
   "source": [
    "trained_model.wv.most_similar(positive=['ქალი', 'ბაბუა'], negative=['კაცი'])"
   ]
  },
  {
   "cell_type": "markdown",
   "id": "48ec2add",
   "metadata": {},
   "source": [
    "მივიღეთ მართებული ანალოგია - ბებია."
   ]
  },
  {
   "cell_type": "code",
   "execution_count": 9,
   "id": "4b42610e",
   "metadata": {},
   "outputs": [
    {
     "data": {
      "text/plain": [
       "[('პოინტერი', 0.7386651635169983),\n",
       " ('ლეკვი', 0.7290614247322083),\n",
       " ('ჭორიკანა', 0.7255305051803589),\n",
       " ('ნიანგი', 0.7215019464492798),\n",
       " ('ბიძაჩემს', 0.7109699845314026),\n",
       " ('დაიკო', 0.7071511149406433),\n",
       " ('დუქანი', 0.7054640054702759),\n",
       " ('გოგოც', 0.7035065293312073),\n",
       " ('კიბეებზე', 0.7030999660491943),\n",
       " ('ავტობუსში', 0.7019286155700684)]"
      ]
     },
     "execution_count": 9,
     "metadata": {},
     "output_type": "execute_result"
    }
   ],
   "source": [
    "trained_model.wv.most_similar(positive=['კნუტი', 'ძაღლი'], negative=['კატა'])"
   ]
  },
  {
   "cell_type": "markdown",
   "id": "4df5e0fa",
   "metadata": {},
   "source": [
    "სავარაუდოდ წინასთან შედარებით რთული ანალოგიაა და მაგიტომ არის მეორე ადგილზე ლეკვი. "
   ]
  },
  {
   "cell_type": "code",
   "execution_count": 10,
   "id": "bac8256b",
   "metadata": {},
   "outputs": [
    {
     "data": {
      "text/plain": [
       "[('ცოლი', 0.7789820432662964),\n",
       " ('ქალიშვილი', 0.7553595900535583),\n",
       " ('რძალი', 0.7385657429695129),\n",
       " ('მეუღლე', 0.7276098132133484),\n",
       " ('შეყვარებული', 0.7209930419921875),\n",
       " ('შვილი', 0.6959812045097351),\n",
       " ('დედა', 0.6902757287025452),\n",
       " ('ქმრის', 0.6884753108024597),\n",
       " ('ბებია', 0.6877948045730591),\n",
       " ('ცოლად', 0.6872512102127075)]"
      ]
     },
     "execution_count": 10,
     "metadata": {},
     "output_type": "execute_result"
    }
   ],
   "source": [
    "trained_model.wv.most_similar(positive=['ქმარი', 'ქალი'], negative=['კაცი'])"
   ]
  },
  {
   "cell_type": "code",
   "execution_count": 11,
   "id": "a933891c",
   "metadata": {},
   "outputs": [
    {
     "data": {
      "text/plain": [
       "[('მამა', 0.6933765411376953),\n",
       " ('ძმა', 0.683352530002594),\n",
       " ('მღვდელი', 0.6812272667884827),\n",
       " ('თომა', 0.6649253368377686),\n",
       " ('დედ', 0.6635918617248535),\n",
       " ('დედაკაცი', 0.6585877537727356),\n",
       " ('ყრმა', 0.6568779349327087),\n",
       " ('დეიდა', 0.6475726366043091),\n",
       " ('მწყემსი', 0.6463674902915955),\n",
       " ('დავითი', 0.6364963054656982)]"
      ]
     },
     "execution_count": 11,
     "metadata": {},
     "output_type": "execute_result"
    }
   ],
   "source": [
    "trained_model.wv.most_similar(positive=['კაცი', 'დედა'], negative =['ქალი'])"
   ]
  },
  {
   "cell_type": "markdown",
   "id": "4be6ff66",
   "metadata": {},
   "source": [
    "მარტივ ანალოგიებზე ისევ მართებული პასუხი აქვს მოდელს."
   ]
  },
  {
   "cell_type": "markdown",
   "id": "51294d80",
   "metadata": {},
   "source": [
    "<center><h4>Wrong Answers on Simple Query</h4></center>"
   ]
  },
  {
   "cell_type": "code",
   "execution_count": 12,
   "id": "a3e0ad54",
   "metadata": {},
   "outputs": [
    {
     "data": {
      "text/plain": [
       "[('უსაყვარლესი', 0.7731815576553345),\n",
       " ('რძალი', 0.7600052952766418),\n",
       " ('დაქალი', 0.7334937453269958),\n",
       " ('დაიკო', 0.7259625792503357),\n",
       " ('შეყვარებული', 0.7232053875923157),\n",
       " ('კლასელი', 0.7097568511962891),\n",
       " ('ქალიშვილი', 0.7033992409706116),\n",
       " ('საცოლე', 0.7033064365386963),\n",
       " ('შვილიც', 0.6981222033500671),\n",
       " ('ქმარი', 0.6976770162582397)]"
      ]
     },
     "execution_count": 12,
     "metadata": {},
     "output_type": "execute_result"
    }
   ],
   "source": [
    "trained_model.wv.most_similar(positive=['ძმაკაცი', 'ქალი'], negative=['კაცი'])"
   ]
  },
  {
   "cell_type": "markdown",
   "id": "cf4d3fbc",
   "metadata": {},
   "source": [
    "მარტივი ანალოგიის მიუხედავათ პირველ ადგილას არ არის სიტყვა \"დაქალი\" და გვაქვს უკონტექსტო სიტყვა \"უსაყვარლესი\"."
   ]
  },
  {
   "cell_type": "markdown",
   "id": "ddd738ed",
   "metadata": {},
   "source": [
    "<center><h4>Wrong Answer on Simple Query</h4></center>"
   ]
  },
  {
   "cell_type": "code",
   "execution_count": 13,
   "id": "2a21c0b0",
   "metadata": {},
   "outputs": [
    {
     "data": {
      "text/plain": [
       "[('მათხოვარი', 0.7229001522064209),\n",
       " ('ლოთი', 0.7155242562294006),\n",
       " ('მამიდა', 0.6963827610015869),\n",
       " ('ვაჟკაცი', 0.6925016641616821),\n",
       " ('მარტოსული', 0.685178279876709),\n",
       " ('მთვრალი', 0.6822971701622009),\n",
       " ('დამპალი', 0.6822889447212219),\n",
       " ('მონადირე', 0.6811962127685547),\n",
       " ('მესაიდუმლე', 0.6804308295249939),\n",
       " ('ნათლია', 0.6794002056121826)]"
      ]
     },
     "execution_count": 13,
     "metadata": {},
     "output_type": "execute_result"
    }
   ],
   "source": [
    "trained_model.wv.most_similar(positive=['კაცი', 'დიასახლისი'], negative =['ქალი'])"
   ]
  },
  {
   "cell_type": "markdown",
   "id": "b94a424c",
   "metadata": {},
   "source": [
    "მოდელი არის დატრენინგებული ქართულ \"კონტექსტზე\", შესაბამისად არის georgian-biased და კაცები ვართ ლოთები და მათხოვრები. "
   ]
  },
  {
   "cell_type": "markdown",
   "id": "93b817e5",
   "metadata": {},
   "source": [
    "<center><h4>Clusters Plotting</h4></center>"
   ]
  },
  {
   "cell_type": "code",
   "execution_count": 14,
   "id": "61fa2eb7",
   "metadata": {},
   "outputs": [],
   "source": [
    "from sklearn.preprocessing import normalize\n",
    "\n",
    "words = ['მაგიდა', 'სკამი', 'სახლი', 'ადამიანი', 'კაცი', 'ქალი', 'ცხოველი', 'ძაღლი', 'მანქანა']\n",
    "word_2_vecs = []\n",
    "for word in words :  \n",
    "    word_2_vecs.append(trained_model.wv.get_vector(word))\n",
    "    \n",
    "vecs_normalized = normalize(word_2_vecs)"
   ]
  },
  {
   "cell_type": "markdown",
   "id": "9ad498c8",
   "metadata": {},
   "source": [
    "გავაკეთეთ საჭირო სიტყვების ვექტორების ამოღება და ნორმალიზაცია"
   ]
  },
  {
   "cell_type": "code",
   "execution_count": 15,
   "id": "9e69ddf8",
   "metadata": {},
   "outputs": [],
   "source": [
    "from sklearn.decomposition import PCA\n",
    "\n",
    "pca = PCA(n_components=2)\n",
    "vecs_2d = pca.fit_transform(vecs_normalized)"
   ]
  },
  {
   "cell_type": "markdown",
   "id": "5eaea2f5",
   "metadata": {},
   "source": [
    "შევამცირეთ განხომილება PCA-ს მეშვეობით"
   ]
  },
  {
   "cell_type": "code",
   "execution_count": 16,
   "id": "842a6519",
   "metadata": {},
   "outputs": [
    {
     "data": {
      "image/png": "[encoded data removed]",
      "text/plain": [
       "<Figure size 432x288 with 1 Axes>"
      ]
     },
     "metadata": {
      "needs_background": "light"
     },
     "output_type": "display_data"
    }
   ],
   "source": [
    "import matplotlib.pyplot as plt\n",
    "\n",
    "for txt, (x, y) in zip(words, vecs_2d):\n",
    "    plt.plot(x, y, 'rx')\n",
    "    plt.text(x, y, txt, fontsize=9)\n",
    "        \n",
    "plt.show()"
   ]
  },
  {
   "cell_type": "markdown",
   "id": "6c5106ea",
   "metadata": {},
   "source": [
    "გამოიკვეთა 4 ლოგიკური კლასტერი: \n",
    "</br>1) ქალი, კაცი, ადამიანი\n",
    "</br>2) ცხოველი, ძაღლი\n",
    "</br>3) სკამი, მაგიდა\n",
    "</br>4) მანქანა, სახლი"
   ]
  },
  {
   "cell_type": "markdown",
   "id": "95f2448c",
   "metadata": {},
   "source": [
    "<center><h3>Part II - LSTM Model Trained Embeddings Loaded into Word2Vec</h3></center>"
   ]
  },
  {
   "cell_type": "code",
   "execution_count": 17,
   "id": "8a397e43",
   "metadata": {},
   "outputs": [],
   "source": [
    "lstm_trained_embedding_word2vec = KeyedVectors.load_word2vec_format(\"../resources/trained_word2vec_embeddings\", binary=False)"
   ]
  },
  {
   "cell_type": "markdown",
   "id": "5bfd909e",
   "metadata": {},
   "source": [
    "<center><h3>Evaluation</h3></center>\n",
    "<center><h4>Synonyms</h4></center>\n"
   ]
  },
  {
   "cell_type": "code",
   "execution_count": 18,
   "id": "08fc1c39",
   "metadata": {},
   "outputs": [
    {
     "name": "stderr",
     "output_type": "stream",
     "text": [
      "C:\\Users\\besik.kapanadze\\Anaconda3\\lib\\site-packages\\gensim\\models\\keyedvectors.py:850: RuntimeWarning: invalid value encountered in true_divide\n",
      "  dists = dot(self.vectors[clip_start:clip_end], mean) / self.norms[clip_start:clip_end]\n"
     ]
    },
    {
     "data": {
      "text/plain": [
       "[('ავტომობილი', 0.7495384216308594),\n",
       " ('მანქანით', 0.696967601776123),\n",
       " ('მანქანის', 0.6814539432525635),\n",
       " ('ავტომანქანა', 0.6434352397918701),\n",
       " ('ყუთი', 0.6389243006706238),\n",
       " ('გემი', 0.6305728554725647),\n",
       " ('თვითმფრინავი', 0.6298761963844299),\n",
       " ('კარები', 0.6153647899627686),\n",
       " ('სარეცხი', 0.6118815541267395),\n",
       " ('სარეცხის', 0.6110800504684448)]"
      ]
     },
     "execution_count": 18,
     "metadata": {},
     "output_type": "execute_result"
    }
   ],
   "source": [
    "lstm_trained_embedding_word2vec.most_similar('მანქანა')"
   ]
  },
  {
   "cell_type": "code",
   "execution_count": 19,
   "id": "935168b1",
   "metadata": {},
   "outputs": [
    {
     "data": {
      "text/plain": [
       "[('ბიჭი', 0.7427014112472534),\n",
       " ('ქალი', 0.7313578128814697),\n",
       " ('ადამიანი', 0.7084077596664429),\n",
       " ('გოგო', 0.7048305869102478),\n",
       " ('პოლიციელი', 0.6688650250434875),\n",
       " ('კაცს', 0.6588519811630249),\n",
       " ('კაციც', 0.6536153554916382),\n",
       " ('ყმაწვილი', 0.6511042714118958),\n",
       " ('ქალია', 0.6386712789535522),\n",
       " ('გოგონა', 0.6384297609329224)]"
      ]
     },
     "execution_count": 19,
     "metadata": {},
     "output_type": "execute_result"
    }
   ],
   "source": [
    "lstm_trained_embedding_word2vec.most_similar('კაცი')"
   ]
  },
  {
   "cell_type": "markdown",
   "id": "d62faccc",
   "metadata": {},
   "source": [
    "სინონიმებზე თითქმის იდენტური შედეგი გვაქვს."
   ]
  },
  {
   "cell_type": "markdown",
   "id": "47ff35d5",
   "metadata": {},
   "source": [
    "<center><h4>Antonyms</h4></center>"
   ]
  },
  {
   "cell_type": "code",
   "execution_count": 20,
   "id": "6adf2729",
   "metadata": {},
   "outputs": [
    {
     "data": {
      "text/plain": [
       "[('მდიდარი', 0.7786048054695129),\n",
       " ('კეთილშობილი', 0.7134513854980469),\n",
       " ('გაჭირვებული', 0.711959183216095),\n",
       " ('გონიერი', 0.7021375894546509),\n",
       " ('ხანდაზმული', 0.6860806941986084),\n",
       " ('განებივრებული', 0.6853086948394775),\n",
       " ('განათლებული', 0.6784356236457825),\n",
       " ('მოსიყვარულე', 0.6737260222434998),\n",
       " ('მიმზიდველი', 0.6729462742805481),\n",
       " ('ასაკოვანი', 0.6720113158226013)]"
      ]
     },
     "execution_count": 20,
     "metadata": {},
     "output_type": "execute_result"
    }
   ],
   "source": [
    "lstm_trained_embedding_word2vec.most_similar('ღარიბი')"
   ]
  },
  {
   "cell_type": "code",
   "execution_count": 21,
   "id": "0238808b",
   "metadata": {},
   "outputs": [
    {
     "data": {
      "text/plain": [
       "[('ძლიერი', 0.7172658443450928),\n",
       " ('მგრძნობიარე', 0.7061609625816345),\n",
       " ('სუსტად', 0.6878873705863953),\n",
       " ('მომთხოვნი', 0.6765154600143433),\n",
       " ('მიმზიდველი', 0.6722279787063599),\n",
       " ('მტკივნეული', 0.6672211289405823),\n",
       " ('მკაცრი', 0.6665281653404236),\n",
       " ('დამღუპველი', 0.6653798818588257),\n",
       " ('უმნიშვნელო', 0.6601188778877258),\n",
       " ('დაბალი', 0.6579921245574951)]"
      ]
     },
     "execution_count": 21,
     "metadata": {},
     "output_type": "execute_result"
    }
   ],
   "source": [
    "lstm_trained_embedding_word2vec.most_similar('სუსტი')"
   ]
  },
  {
   "cell_type": "code",
   "execution_count": 22,
   "id": "0beb091d",
   "metadata": {},
   "outputs": [
    {
     "data": {
      "text/plain": [
       "[('სქელი', 0.9076801538467407),\n",
       " ('წვრილი', 0.8908844590187073),\n",
       " ('არომატული', 0.8826086521148682),\n",
       " ('მშრალი', 0.8805038332939148),\n",
       " ('გლუვი', 0.8803940415382385),\n",
       " ('მუქი', 0.8757079243659973),\n",
       " ('რბილი', 0.8694708943367004),\n",
       " ('მკვრივი', 0.8649117946624756),\n",
       " ('სურნელოვანი', 0.8512817621231079),\n",
       " ('ფხვნილი', 0.8416090607643127)]"
      ]
     },
     "execution_count": 22,
     "metadata": {},
     "output_type": "execute_result"
    }
   ],
   "source": [
    "lstm_trained_embedding_word2vec.most_similar('თხელი')"
   ]
  },
  {
   "cell_type": "markdown",
   "id": "7e7a21dc",
   "metadata": {},
   "source": [
    "აქაც, ანალოგიური შედეგი მივიღეთ."
   ]
  },
  {
   "cell_type": "markdown",
   "id": "b0e00dcf",
   "metadata": {},
   "source": [
    "<center><h4>Analogies</h4></center>"
   ]
  },
  {
   "cell_type": "code",
   "execution_count": 23,
   "id": "775b1692",
   "metadata": {},
   "outputs": [
    {
     "data": {
      "text/plain": [
       "[('ბებია', 0.7615781426429749),\n",
       " ('ქალიშვილი', 0.7355223298072815),\n",
       " ('რძალი', 0.7130419611930847),\n",
       " ('შეყვარებული', 0.7039543986320496),\n",
       " ('ქმარი', 0.6929221749305725),\n",
       " ('უსაყვარლესი', 0.6868669390678406),\n",
       " ('ინდოელი', 0.6825085282325745),\n",
       " ('ცოლი', 0.6781370043754578),\n",
       " ('ტრანსგენდერი', 0.6654087901115417),\n",
       " ('ორსული', 0.6621125936508179)]"
      ]
     },
     "execution_count": 23,
     "metadata": {},
     "output_type": "execute_result"
    }
   ],
   "source": [
    "lstm_trained_embedding_word2vec.most_similar(positive=['ქალი', 'ბაბუა'], negative=['კაცი'])"
   ]
  },
  {
   "cell_type": "code",
   "execution_count": 24,
   "id": "3d971daf",
   "metadata": {},
   "outputs": [
    {
     "data": {
      "text/plain": [
       "[('ცოლი', 0.7714178562164307),\n",
       " ('ქალიშვილი', 0.7632574439048767),\n",
       " ('რძალი', 0.7275955677032471),\n",
       " ('მეუღლე', 0.7255292534828186),\n",
       " ('შეყვარებული', 0.7049375176429749),\n",
       " ('ბებია', 0.6956550478935242),\n",
       " ('შვილი', 0.6943869590759277),\n",
       " ('დედა', 0.6885172128677368),\n",
       " ('ქალბატონი', 0.6710808873176575),\n",
       " ('მამაკაცი', 0.6689496636390686)]"
      ]
     },
     "execution_count": 24,
     "metadata": {},
     "output_type": "execute_result"
    }
   ],
   "source": [
    "lstm_trained_embedding_word2vec.most_similar(positive=['ქმარი', 'ქალი'], negative=['კაცი'])"
   ]
  },
  {
   "cell_type": "code",
   "execution_count": 25,
   "id": "124d8bb3",
   "metadata": {},
   "outputs": [
    {
     "data": {
      "text/plain": [
       "[('მამა', 0.6966497898101807),\n",
       " ('ძმა', 0.6835110783576965),\n",
       " ('მღვდელი', 0.6759638786315918),\n",
       " ('ყრმა', 0.6744189262390137),\n",
       " ('მწყემსი', 0.6697568893432617),\n",
       " ('დედ', 0.6549163460731506),\n",
       " ('კაციც', 0.6480010151863098),\n",
       " ('დეიდა', 0.646030068397522),\n",
       " ('დედაკაცი', 0.6448473930358887),\n",
       " ('დავითი', 0.644156813621521)]"
      ]
     },
     "execution_count": 25,
     "metadata": {},
     "output_type": "execute_result"
    }
   ],
   "source": [
    "lstm_trained_embedding_word2vec.most_similar(positive=['კაცი', 'დედა'], negative =['ქალი'])"
   ]
  },
  {
   "cell_type": "markdown",
   "id": "4a6fe4f0",
   "metadata": {},
   "source": [
    "ანალოგიების დროსაც იდენტური შედეგი გვაქვს."
   ]
  },
  {
   "cell_type": "markdown",
   "id": "35d68a8f",
   "metadata": {},
   "source": [
    "<center><h4>Wrong Answer on Simple Query</h4></center>"
   ]
  },
  {
   "cell_type": "code",
   "execution_count": 26,
   "id": "bc897449",
   "metadata": {},
   "outputs": [
    {
     "data": {
      "text/plain": [
       "[('რძალი', 0.7526870369911194),\n",
       " ('უსაყვარლესი', 0.7524978518486023),\n",
       " ('შეყვარებული', 0.7212784290313721),\n",
       " ('ქალიშვილი', 0.7014584541320801),\n",
       " ('ქმარი', 0.6968770623207092),\n",
       " ('ცოლი', 0.6897458434104919),\n",
       " ('დაქალი', 0.6808561682701111),\n",
       " ('მუზა', 0.672867476940155),\n",
       " ('კლასელი', 0.6710400581359863),\n",
       " ('ბებია', 0.6649258732795715)]"
      ]
     },
     "execution_count": 26,
     "metadata": {},
     "output_type": "execute_result"
    }
   ],
   "source": [
    "lstm_trained_embedding_word2vec.most_similar(positive=['ძმაკაცი', 'ქალი'], negative=['კაცი'])"
   ]
  },
  {
   "cell_type": "markdown",
   "id": "40f908af",
   "metadata": {},
   "source": [
    "ამ შემთხვევაში გვაქვს გაუარესება, რადგან სწორი პასუხის პოზიციამ გადაინაცვლა ქვემოთ."
   ]
  },
  {
   "cell_type": "markdown",
   "id": "04876545",
   "metadata": {},
   "source": [
    "<center><h4>Clusters Plotting</h4></center>"
   ]
  },
  {
   "cell_type": "code",
   "execution_count": 27,
   "id": "3eb6ebd3",
   "metadata": {},
   "outputs": [],
   "source": [
    "words = ['მაგიდა', 'სკამი', 'სახლი', 'ადამიანი', 'კაცი', 'ქალი', 'ცხოველი', 'ძაღლი', 'მანქანა']\n",
    "word_2_vecs = []\n",
    "for word in words :  \n",
    "    word_2_vecs.append(lstm_trained_embedding_word2vec.get_vector(word))\n",
    "    \n",
    "vecs_normalized = normalize(word_2_vecs)\n",
    "\n",
    "pca = PCA(n_components=2)\n",
    "vecs_2d = pca.fit_transform(vecs_normalized)"
   ]
  },
  {
   "cell_type": "code",
   "execution_count": 28,
   "id": "8d950563",
   "metadata": {},
   "outputs": [
    {
     "data": {
      "image/png": "[encoded data removed]",
      "text/plain": [
       "<Figure size 432x288 with 1 Axes>"
      ]
     },
     "metadata": {
      "needs_background": "light"
     },
     "output_type": "display_data"
    }
   ],
   "source": [
    "import matplotlib.pyplot as plt\n",
    "\n",
    "for txt, (x, y) in zip(words, vecs_2d):\n",
    "    plt.plot(x, y, 'rx')\n",
    "    plt.text(x, y, txt, fontsize=9)\n",
    "        \n",
    "plt.show()"
   ]
  },
  {
   "cell_type": "markdown",
   "id": "a3f38fee",
   "metadata": {},
   "source": [
    "რათქმაუნდა, აქაც ანალოგიური შედეგი მივიღეთ."
   ]
  },
  {
   "cell_type": "markdown",
   "id": "03ff5270",
   "metadata": {},
   "source": [
    "<center><h4>Conclusion</h4></center>"
   ]
  },
  {
   "cell_type": "markdown",
   "id": "a5a8095d",
   "metadata": {},
   "source": [
    "ჩატარებული ექსპერიმენტიდან, ჩანს რომ ემბედინგების დასწავლამ მიზერული სხვაობა მოგვცა, ზოგ შემთვევაში კი გაგვიუარესა მოდელი. სავარაუდოდ კონკრეტულ მაგალითებში არ გამოჩნდა გაუმჯობესებული შედეგი. უარყოფითი წარმადობა კი, ალბათ, გამოწვეულია lstm მოდელის bias-ით."
   ]
  }
 ],
 "metadata": {
  "kernelspec": {
   "display_name": "Python 3 (ipykernel)",
   "language": "python",
   "name": "python3"
  },
  "language_info": {
   "codemirror_mode": {
    "name": "ipython",
    "version": 3
   },
   "file_extension": ".py",
   "mimetype": "text/x-python",
   "name": "python",
   "nbconvert_exporter": "python",
   "pygments_lexer": "ipython3",
   "version": "3.9.7"
  }
 },
 "nbformat": 4,
 "nbformat_minor": 5
}

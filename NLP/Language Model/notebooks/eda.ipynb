{
 "cells": [
  {
   "cell_type": "markdown",
   "id": "ea0ee6ec-d8c7-4110-be08-e892f06571b2",
   "metadata": {},
   "source": [
    "## Imports\n"
   ]
  },
  {
   "cell_type": "code",
   "execution_count": 1,
   "id": "1f07c369-3454-467c-b6d6-7fd84b4a7da3",
   "metadata": {},
   "outputs": [
    {
     "name": "stdout",
     "output_type": "stream",
     "text": [
      "Requirement already satisfied: plotly in c:\\users\\besik.kapanadze\\anaconda3\\lib\\site-packages (5.9.0)\n",
      "Requirement already satisfied: tenacity>=6.2.0 in c:\\users\\besik.kapanadze\\anaconda3\\lib\\site-packages (from plotly) (8.0.1)\n",
      "Note: you may need to restart the kernel to use updated packages.\n"
     ]
    }
   ],
   "source": [
    "%pip install plotly"
   ]
  },
  {
   "cell_type": "code",
   "execution_count": 2,
   "id": "7191d4db-544f-4c4e-82bf-d1bc9fd048f6",
   "metadata": {},
   "outputs": [],
   "source": [
    "import numpy as np # linear algebra\n",
    "import pandas as pd # data processing, CSV file I/O (e.g. pd.read_csv)\n",
    "import csv\n",
    "import matplotlib.pyplot as plt\n",
    "from collections import defaultdict\n",
    "import plotly.graph_objs as go\n",
    "from plotly import subplots\n",
    "import plotly.offline as py\n",
    "import functools"
   ]
  },
  {
   "cell_type": "markdown",
   "id": "16252c16-1834-4115-99c5-38f7216efb6c",
   "metadata": {},
   "source": [
    "## Read Data\n"
   ]
  },
  {
   "cell_type": "code",
   "execution_count": 3,
   "id": "a2daf938",
   "metadata": {},
   "outputs": [],
   "source": [
    "read_file = pd.read_excel(r'..\\data\\dataX.xlsx')\n",
    "headerList = ['sentence']\n",
    "read_file.to_csv (r'..\\data\\data.csv', header=headerList, index=False)\n",
    "data = pd.read_csv('..\\data\\data.csv')"
   ]
  },
  {
   "cell_type": "code",
   "execution_count": 4,
   "id": "87dddc16",
   "metadata": {},
   "outputs": [
    {
     "data": {
      "text/html": [
       "<div>\n",
       "<style scoped>\n",
       "    .dataframe tbody tr th:only-of-type {\n",
       "        vertical-align: middle;\n",
       "    }\n",
       "\n",
       "    .dataframe tbody tr th {\n",
       "        vertical-align: top;\n",
       "    }\n",
       "\n",
       "    .dataframe thead th {\n",
       "        text-align: right;\n",
       "    }\n",
       "</style>\n",
       "<table border=\"1\" class=\"dataframe\">\n",
       "  <thead>\n",
       "    <tr style=\"text-align: right;\">\n",
       "      <th></th>\n",
       "      <th>sentence</th>\n",
       "    </tr>\n",
       "  </thead>\n",
       "  <tbody>\n",
       "    <tr>\n",
       "      <th>0</th>\n",
       "      <td>ძეგლთა დაცვის ეროვნულ სააგენტოში აცხადებენ, რო...</td>\n",
       "    </tr>\n",
       "    <tr>\n",
       "      <th>1</th>\n",
       "      <td>საქართველოს კულტურული მემკვიდრეობისა და ძეგლთა...</td>\n",
       "    </tr>\n",
       "    <tr>\n",
       "      <th>2</th>\n",
       "      <td>„გაირკვა, რომ აქ არც მეჩეთი და არც ეკლესია არ ...</td>\n",
       "    </tr>\n",
       "    <tr>\n",
       "      <th>3</th>\n",
       "      <td>კვლევის ავტორი არ გამორიცხავს, რომ აქ სამხედრო...</td>\n",
       "    </tr>\n",
       "    <tr>\n",
       "      <th>4</th>\n",
       "      <td>შეკითხვაზე, რამდენად შესაძლებელია რომ ეს რელიგ...</td>\n",
       "    </tr>\n",
       "  </tbody>\n",
       "</table>\n",
       "</div>"
      ],
      "text/plain": [
       "                                            sentence\n",
       "0  ძეგლთა დაცვის ეროვნულ სააგენტოში აცხადებენ, რო...\n",
       "1  საქართველოს კულტურული მემკვიდრეობისა და ძეგლთა...\n",
       "2  „გაირკვა, რომ აქ არც მეჩეთი და არც ეკლესია არ ...\n",
       "3  კვლევის ავტორი არ გამორიცხავს, რომ აქ სამხედრო...\n",
       "4  შეკითხვაზე, რამდენად შესაძლებელია რომ ეს რელიგ..."
      ]
     },
     "execution_count": 4,
     "metadata": {},
     "output_type": "execute_result"
    }
   ],
   "source": [
    "data.head()"
   ]
  },
  {
   "cell_type": "markdown",
   "id": "d2f9fc91-0c15-453c-9457-c2ee4bea9cdd",
   "metadata": {},
   "source": [
    "## Filter/Clean Data\n"
   ]
  },
  {
   "cell_type": "code",
   "execution_count": 5,
   "id": "79d2cd2e",
   "metadata": {},
   "outputs": [],
   "source": [
    "# this method removes all extra symbols - every non georgian symbol, including digits\n",
    "import re\n",
    "def preprocess(sentences):\n",
    "    processed=[] \n",
    "    for text in sentences:\n",
    "        text=re.sub(r'[^ა-ჰ0-9]',\" \",text) \n",
    "        text=re.sub(r'[0-9]{1}',\"#\",text) \n",
    "        text=re.sub(r'[0-9]{2}','##',text)  \n",
    "        text=re.sub(r'[0-9]{3}','###',text)\n",
    "        text=re.sub(r'[0-9]{4}','####',text)\n",
    "        text=re.sub(r'[0-9]{5,}','#####',text)\n",
    "        num_words = len(re.findall(r'\\w+', text))\n",
    "        if num_words > 2:\n",
    "            processed.append(text)\n",
    "    return processed"
   ]
  },
  {
   "cell_type": "code",
   "execution_count": 6,
   "id": "a0ebd6f6",
   "metadata": {},
   "outputs": [],
   "source": [
    "data = preprocess(data['sentence'])"
   ]
  },
  {
   "cell_type": "code",
   "execution_count": 7,
   "id": "4e0fad59",
   "metadata": {},
   "outputs": [
    {
     "data": {
      "text/plain": [
       "['ძეგლთა დაცვის ეროვნულ სააგენტოში აცხადებენ  რომ მათ მიერ  სამხრეთის კარიბჭესთვის  მოწოდებული ინფორმაცია  იმის შესახებ რომ ახალციხის არქივის ეზოში აღმოჩენილი შენობა საკულტო ნაგებობა იყო არასწორია და საბოლოოდ დადგინდა  რომ აქ ტრადიციული მესხური საცხოვრებელი იყო',\n",
       " 'საქართველოს კულტურული მემკვიდრეობისა და ძეგლთა დაცვის ეროვნულ სააგენტოში აცხადებენ რომ მათ მიერ მოწოდებული პირველადი ინფორმაცია ახალციხის არქივის ეზოში აღმოჩენის შესახებ ნაჩქარევი იყო',\n",
       " ' გაირკვა  რომ აქ არც მეჩეთი და არც ეკლესია არ ყოფილა  ჩვეულებრივი საყოფაცხოვრებო დანიშნულების შენობა  ტრადიციული მესხური საცხოვრისი იყო     გვითხრეს კულტურული მემკვიდრეობისა და ძეგლთა დაცვის ეროვნული სააგენტოს საზოგადოებასთან ურთიერთობის სამსახურში',\n",
       " 'კვლევის ავტორი არ გამორიცხავს  რომ აქ სამხედრო  ან თუნდაც რელიგიური დანიშნულების ობიექტიც ყოფილიყო',\n",
       " 'შეკითხვაზე  რამდენად შესაძლებელია რომ ეს რელიგიური დანიშნულების ობიექტი მეჩეთი ყოფილიყო  რომლის ნანგრევებზეც ტაძარი აშენდა  ჩოხელი გვპასუხობს ',\n",
       " ' გადაჭრით თქმა ძალიან ძნელია  მანდ ისეთი მდგომარეობა იყო  რომ ძნელად დგინდება მისი დანიშნულება ',\n",
       " 'მისივე ანგარიშის მიხედვით  ახალციხის არქივის გაფართოების მიზნით ჩატარებული მიწის სამუშაოების დროს აღმოჩენილი ნაგებობის ადგილზე მე ## საუკუნის მეორე ნახევარში განთავსებული იყო კინოგაქირავება და გაზკანტორა    მალევე ეს შენობა დამწვარა და არქივის მშენებლობის დროს  როგორც ჩანს  სრულიად დაუნგრევიათ',\n",
       " 'არსებობს #### წლის ფოტო  თუმცა  ამ ფოტოზე შემორჩენილი შენობის ფორმა არ ემთხვევა აღმოჩენილი ნაგებობის საძირკველს ',\n",
       " 'შეგახსენებთ  რომ აღმოჩენილი ნაგებობა სავარაუდოდ მე ## მე ## საუკუნით თარიღდება',\n",
       " 'ათ მეტრზე მეტი სიგრძის კედლები კი ახალციხის არქივის ეზოში სამშენებლო სამუშაოების წარმოებისას აღმოაჩინეს',\n",
       " 'აქ საჯარო რეესტრის ეროვნული სააგენტოს მიერ გამოცხადებულ ტენდერის მიხედვით სამცხე ჯავახეთის არქივისთვის ახალი შენობა შენდებოდა',\n",
       " ' თამუნა უჩიძე  ახალციხე ',\n",
       " '#### აწყურის სკოლის მოსწავლე საუკეთესო ესსესთვის დააჯილდოვეს        ',\n",
       " '#### შშმ მშობელი ექსკურსიას ჩამორჩა  ამის შემდეგ სკოლაში მის შვილს დაუპირისპირდნენ',\n",
       " '#### საფეხური  რა უპირატესობით სარგებლობენ საქართველოს უნივერსიტეტის სტუდენტები    ',\n",
       " '#### ჯილეხისა და თურქულის ვაქცინაცია დაიწყო',\n",
       " '#### ასპინძის საავადმყოფოს ექიმებმა შპს  ადითს  სასამართლო მოუგეს',\n",
       " '#### რა იცვლება სასწრაფო სამედიცინო დახმარებაში',\n",
       " '####  სახლებს წვავდნენ და თან სელფებს იღებდნენ    რა მოხდა ფოკაში მკვლელობამდე და მკვლელობის შემდეგ',\n",
       " '#### სარაგბო კლუბმა  ტაომ  ქუთაისის  ბაგრატი  დაამარცხა',\n",
       " '#### ახალციხის პირველი საჯარო სკოლა  მხიარულ სტარტებში  საქართველოს ჩემპიონია',\n",
       " '#### ## დეკემბერს საქართველოში უნალექო ამინიდია მოსალოდნელი',\n",
       " '#### ბორჯომში ახალ წელს ერთი დღით ადრე იზეიმებენ',\n",
       " '#### ახალციხეში ანსამბლ  სეუს  კონცერტი მიმდინარეობს',\n",
       " '#### მთიდან მთაში წასვლამდე   რეპორტაჟი კიკიბოდან         ',\n",
       " '#### სკოლა ერთ ოთახში  ხუთი მოსწავლით              ',\n",
       " '#### ხმა სოფლიდან  სოფელ განძას მკვიდრების გატაცება        ',\n",
       " 'ეროვნული სააგენტო   ახალციხეში აღმოჩენილი შენობა მეჩეთის ნანგრევია და ზედ ე',\n",
       " 'ახალციხის არქივის ეზოს გათხრისას  მე ## მე ## საუკუნის შენობის კედლები აღ',\n",
       " 'ავტორის ავტორების მიერ საინფორმაციო მასალაში გამოთქმული მოსაზრება შესაძლოა არ გამოხატავდეს ფონდ  ღია საზოგადოება საქართველოს  პოზიციას',\n",
       " 'შესაბამისად  ფონდი არ არის პასუხისმგებელი მასალის შინაარსზე',\n",
       " 'ეს მცენარე ორქიდეათა ოჯახს ეკუთვნის და ონციდიუმისდა მილტონიას ჰიბრიდს წარმოადგენს',\n",
       " 'იგი სახლის პირობებისთვისაა შექმნილი და მშვენივრადეგუება ოთახს  მოსავლელადაც მარტივია',\n",
       " 'მას ფსევდობულბები აქვს წაგრძელებული ფორმის და კარგად გავითარებული',\n",
       " 'თითოეულზე # # ფოთოლია  ##სმ სიგრძის  განიერი  მუქი მწვანე მკვეთრად გამოყოფილი ცენტრალური ძარღვით',\n",
       " 'ბოლქვი ერთხელ ყვავილობს  ამოაქვს # საყვავილე ღერო მოყვავილების მერე მას აშორებენ',\n",
       " 'ყვავილი საკმაოდ დიდია  ## სმ დიამეტრის  უმეტესადწითელი  ღია ფერის ან თეთრი წინწკლებით',\n",
       " 'მოყვავილებული ფსევდობულბის მოშორების მერემცენარეს ახალი ამოაქვს და ისიც იკეთებს ახალ საყვავილე ღეროს',\n",
       " 'ყიდვისას სჯობს შეიძინოთმცენარე სამი ან მეტი ფესვდობულბით',\n",
       " 'ადგილის შერჩევა და განათება  მოსწონსგაბნეული  მაგრამ მკვეთრი განათება',\n",
       " 'ზაფხულში კარგადაა დას',\n",
       " 'მხარესკი შუადღეზე ჩამოფარება სჭირდება',\n",
       " 'თუ ზამთარში იგი ისვენებს  დამატებითი განათება არუნდა',\n",
       " 'თუ აქტიურ ზრდაშია  ## ## სთ იანი დამატებითი განათება სჭირდება',\n",
       " 'ტემპერატურა  არაპრეტენზიული მცენარეადა კარგად ყვავილობს ჩვეულებრივ ოთახის ტემპერატურაზეც  ოპტიმალურია ## ## გრ',\n",
       " 'მასარ სჭირდება დღე ღამური მკვეთრი ცვლილება ტემპერატურის და ესეც ერთერთი წინაპირობაამისი პოპულარობისთვის',\n",
       " 'ჰაერის ტენიანობა  არ სჭირდება მომატებულიტენიანობა  თუმცა ახალი საყვავილე ღეროს ფორმირებისას სჯობს პერიოდულად მცენარის გარშემოშესხურება  რომ ტენიანობა ## ## დან ## ##   მდე აიწიოს',\n",
       " 'ასე იგი ადვილად გადაიტანსსიცხეს',\n",
       " 'მორწყვა  სჭირდება ზომიერად  ოთახის ტემპერატურისნადგამი წყლით',\n",
       " 'ქოთანს მთლიანად დებენ წყლიან ჭურჭელში ## ## წთ']"
      ]
     },
     "execution_count": 7,
     "metadata": {},
     "output_type": "execute_result"
    }
   ],
   "source": [
    "data[:50]"
   ]
  },
  {
   "cell_type": "markdown",
   "id": "81f2d4aa-9284-44a5-b821-60da46f7832d",
   "metadata": {},
   "source": [
    "Here we can see that all sentences are clear"
   ]
  },
  {
   "cell_type": "code",
   "execution_count": 8,
   "id": "6d23a111",
   "metadata": {},
   "outputs": [
    {
     "name": "stdout",
     "output_type": "stream",
     "text": [
      "Total Rows - 859124\n"
     ]
    }
   ],
   "source": [
    "print(f'Total Rows - {len(data)}')"
   ]
  },
  {
   "cell_type": "markdown",
   "id": "5830a942-4230-4e6b-b3ba-1f50aea5b1b6",
   "metadata": {},
   "source": [
    "## Save Data\n"
   ]
  },
  {
   "cell_type": "code",
   "execution_count": 9,
   "id": "4f0e6709",
   "metadata": {},
   "outputs": [],
   "source": [
    "data_df = pd.DataFrame(data, columns =['sentence'])\n",
    "data_df.to_csv(r'..\\data\\data.csv', index=False, encoding='utf-8-sig')"
   ]
  },
  {
   "cell_type": "markdown",
   "id": "0eb698e6-0af1-4467-8713-40d82fa19a0d",
   "metadata": {},
   "source": [
    "## Analysis"
   ]
  },
  {
   "cell_type": "code",
   "execution_count": 10,
   "id": "4d73bd8a",
   "metadata": {},
   "outputs": [
    {
     "data": {
      "text/html": [
       "<div>\n",
       "<style scoped>\n",
       "    .dataframe tbody tr th:only-of-type {\n",
       "        vertical-align: middle;\n",
       "    }\n",
       "\n",
       "    .dataframe tbody tr th {\n",
       "        vertical-align: top;\n",
       "    }\n",
       "\n",
       "    .dataframe thead th {\n",
       "        text-align: right;\n",
       "    }\n",
       "</style>\n",
       "<table border=\"1\" class=\"dataframe\">\n",
       "  <thead>\n",
       "    <tr style=\"text-align: right;\">\n",
       "      <th></th>\n",
       "      <th>sentence</th>\n",
       "    </tr>\n",
       "  </thead>\n",
       "  <tbody>\n",
       "    <tr>\n",
       "      <th>0</th>\n",
       "      <td>ძეგლთა დაცვის ეროვნულ სააგენტოში აცხადებენ  რო...</td>\n",
       "    </tr>\n",
       "    <tr>\n",
       "      <th>1</th>\n",
       "      <td>საქართველოს კულტურული მემკვიდრეობისა და ძეგლთა...</td>\n",
       "    </tr>\n",
       "    <tr>\n",
       "      <th>2</th>\n",
       "      <td>გაირკვა  რომ აქ არც მეჩეთი და არც ეკლესია არ ...</td>\n",
       "    </tr>\n",
       "    <tr>\n",
       "      <th>3</th>\n",
       "      <td>კვლევის ავტორი არ გამორიცხავს  რომ აქ სამხედრო...</td>\n",
       "    </tr>\n",
       "    <tr>\n",
       "      <th>4</th>\n",
       "      <td>შეკითხვაზე  რამდენად შესაძლებელია რომ ეს რელიგ...</td>\n",
       "    </tr>\n",
       "  </tbody>\n",
       "</table>\n",
       "</div>"
      ],
      "text/plain": [
       "                                            sentence\n",
       "0  ძეგლთა დაცვის ეროვნულ სააგენტოში აცხადებენ  რო...\n",
       "1  საქართველოს კულტურული მემკვიდრეობისა და ძეგლთა...\n",
       "2   გაირკვა  რომ აქ არც მეჩეთი და არც ეკლესია არ ...\n",
       "3  კვლევის ავტორი არ გამორიცხავს  რომ აქ სამხედრო...\n",
       "4  შეკითხვაზე  რამდენად შესაძლებელია რომ ეს რელიგ..."
      ]
     },
     "execution_count": 10,
     "metadata": {},
     "output_type": "execute_result"
    }
   ],
   "source": [
    "data_df.head()"
   ]
  },
  {
   "cell_type": "markdown",
   "id": "1d2aeb20-ff72-4e8e-9036-c7d4bfab99d5",
   "metadata": {},
   "source": [
    "<h3>Sentence Length Distribution</h3>"
   ]
  },
  {
   "cell_type": "code",
   "execution_count": 11,
   "id": "90ee4cdd-22a1-4a9b-9770-03b93580d7cb",
   "metadata": {},
   "outputs": [
    {
     "data": {
      "image/png": "[encoded data removed]",
      "text/plain": [
       "<Figure size 432x288 with 1 Axes>"
      ]
     },
     "metadata": {
      "needs_background": "light"
     },
     "output_type": "display_data"
    }
   ],
   "source": [
    "sentence_word_count = [len(sentence.split()) for sentence in data_df['sentence']]\n",
    "_ =plt.hist(sentence_word_count, range=(0,60), bins=50)"
   ]
  },
  {
   "cell_type": "code",
   "execution_count": 12,
   "id": "40b804ff-ff4d-4907-ac45-d047098d9207",
   "metadata": {},
   "outputs": [
    {
     "name": "stdout",
     "output_type": "stream",
     "text": [
      "Average question word count - 10.880794856155806\n"
     ]
    }
   ],
   "source": [
    "print(f'Average question word count - {sum(sentence_word_count)/len(sentence_word_count)}')"
   ]
  },
  {
   "cell_type": "markdown",
   "id": "f911ac94-7118-4652-888b-8da4f4b4b99b",
   "metadata": {},
   "source": [
    "From the plot we can see that avg length of sentences is 8-13 words"
   ]
  },
  {
   "cell_type": "code",
   "execution_count": 13,
   "id": "61a282e4-d85b-4e29-9622-195d1b71debd",
   "metadata": {},
   "outputs": [
    {
     "data": {
      "image/png": "[encoded data removed]",
      "text/plain": [
       "<Figure size 432x288 with 1 Axes>"
      ]
     },
     "metadata": {
      "needs_background": "light"
     },
     "output_type": "display_data"
    }
   ],
   "source": [
    "sentence_char_length = [len(sentence) for sentence in data_df['sentence']]\n",
    "_ =plt.hist(sentence_char_length, range=(0,500), bins=50)"
   ]
  },
  {
   "cell_type": "code",
   "execution_count": 14,
   "id": "f3bb44e7-1ca7-4691-9343-f6d76bab3412",
   "metadata": {},
   "outputs": [
    {
     "name": "stdout",
     "output_type": "stream",
     "text": [
      "Average question char count - 87.19349360511404\n"
     ]
    }
   ],
   "source": [
    "print(f'Average question char count - {sum(sentence_char_length)/len(sentence_char_length)}')"
   ]
  },
  {
   "cell_type": "code",
   "execution_count": 15,
   "id": "5794385d-0236-4fad-8c06-0b4a33f91bd8",
   "metadata": {},
   "outputs": [
    {
     "data": {
      "image/png": "[encoded data removed]",
      "text/plain": [
       "<Figure size 432x288 with 1 Axes>"
      ]
     },
     "metadata": {
      "needs_background": "light"
     },
     "output_type": "display_data"
    }
   ],
   "source": [
    "def avg_word(sentence):\n",
    "    words = sentence.split()\n",
    "    return (sum(len(word) for word in words)/len(words))\n",
    "\n",
    "sentence_avg_word_length = [avg_word(sentence) for sentence in data_df['sentence']]\n",
    "_ =plt.hist(sentence_avg_word_length, range=(0,20), bins=50)"
   ]
  },
  {
   "cell_type": "code",
   "execution_count": 16,
   "id": "c635905d-2d58-4d0c-b415-149e84fa718c",
   "metadata": {},
   "outputs": [
    {
     "name": "stdout",
     "output_type": "stream",
     "text": [
      "Average question word count - 6.6454350064266565\n"
     ]
    }
   ],
   "source": [
    "print(f'Average question word count - {sum(sentence_avg_word_length)/len(sentence_avg_word_length)}')"
   ]
  },
  {
   "cell_type": "markdown",
   "id": "5b8684b3-21d3-4496-80a9-af03439b4ee9",
   "metadata": {},
   "source": [
    "<h3>Most Frequent Words </h3>\n"
   ]
  },
  {
   "cell_type": "code",
   "execution_count": 17,
   "id": "c39720da-3e25-4769-bc9a-5d89d0997406",
   "metadata": {},
   "outputs": [
    {
     "data": {
      "text/html": [
       "<div>\n",
       "<style scoped>\n",
       "    .dataframe tbody tr th:only-of-type {\n",
       "        vertical-align: middle;\n",
       "    }\n",
       "\n",
       "    .dataframe tbody tr th {\n",
       "        vertical-align: top;\n",
       "    }\n",
       "\n",
       "    .dataframe thead th {\n",
       "        text-align: right;\n",
       "    }\n",
       "</style>\n",
       "<table border=\"1\" class=\"dataframe\">\n",
       "  <thead>\n",
       "    <tr style=\"text-align: right;\">\n",
       "      <th></th>\n",
       "      <th>Word</th>\n",
       "      <th>Word Count</th>\n",
       "    </tr>\n",
       "  </thead>\n",
       "  <tbody>\n",
       "    <tr>\n",
       "      <th>0</th>\n",
       "      <td>ეს</td>\n",
       "      <td>48780</td>\n",
       "    </tr>\n",
       "    <tr>\n",
       "      <th>1</th>\n",
       "      <td>ამ</td>\n",
       "      <td>45270</td>\n",
       "    </tr>\n",
       "    <tr>\n",
       "      <th>2</th>\n",
       "      <td>ის</td>\n",
       "      <td>43746</td>\n",
       "    </tr>\n",
       "    <tr>\n",
       "      <th>3</th>\n",
       "      <td>არის</td>\n",
       "      <td>35337</td>\n",
       "    </tr>\n",
       "    <tr>\n",
       "      <th>4</th>\n",
       "      <td>იყო</td>\n",
       "      <td>30242</td>\n",
       "    </tr>\n",
       "    <tr>\n",
       "      <th>5</th>\n",
       "      <td>საქართველოს</td>\n",
       "      <td>29029</td>\n",
       "    </tr>\n",
       "    <tr>\n",
       "      <th>6</th>\n",
       "      <td>წლის</td>\n",
       "      <td>27792</td>\n",
       "    </tr>\n",
       "    <tr>\n",
       "      <th>7</th>\n",
       "      <td>რა</td>\n",
       "      <td>27336</td>\n",
       "    </tr>\n",
       "    <tr>\n",
       "      <th>8</th>\n",
       "      <td>მე</td>\n",
       "      <td>25129</td>\n",
       "    </tr>\n",
       "    <tr>\n",
       "      <th>9</th>\n",
       "      <td>მისი</td>\n",
       "      <td>22438</td>\n",
       "    </tr>\n",
       "    <tr>\n",
       "      <th>10</th>\n",
       "      <td>ერთი</td>\n",
       "      <td>22021</td>\n",
       "    </tr>\n",
       "    <tr>\n",
       "      <th>11</th>\n",
       "      <td>ახალი</td>\n",
       "      <td>16419</td>\n",
       "    </tr>\n",
       "    <tr>\n",
       "      <th>12</th>\n",
       "      <td>დიდი</td>\n",
       "      <td>16315</td>\n",
       "    </tr>\n",
       "    <tr>\n",
       "      <th>13</th>\n",
       "      <td>ერთ</td>\n",
       "      <td>16147</td>\n",
       "    </tr>\n",
       "    <tr>\n",
       "      <th>14</th>\n",
       "      <td>ს</td>\n",
       "      <td>15987</td>\n",
       "    </tr>\n",
       "    <tr>\n",
       "      <th>15</th>\n",
       "      <td>სხვა</td>\n",
       "      <td>15841</td>\n",
       "    </tr>\n",
       "    <tr>\n",
       "      <th>16</th>\n",
       "      <td>მათ</td>\n",
       "      <td>15575</td>\n",
       "    </tr>\n",
       "    <tr>\n",
       "      <th>17</th>\n",
       "      <td>ძალიან</td>\n",
       "      <td>15273</td>\n",
       "    </tr>\n",
       "    <tr>\n",
       "      <th>18</th>\n",
       "      <td>მას</td>\n",
       "      <td>14974</td>\n",
       "    </tr>\n",
       "    <tr>\n",
       "      <th>19</th>\n",
       "      <td>იმ</td>\n",
       "      <td>14388</td>\n",
       "    </tr>\n",
       "  </tbody>\n",
       "</table>\n",
       "</div>"
      ],
      "text/plain": [
       "           Word  Word Count\n",
       "0            ეს       48780\n",
       "1            ამ       45270\n",
       "2            ის       43746\n",
       "3          არის       35337\n",
       "4           იყო       30242\n",
       "5   საქართველოს       29029\n",
       "6          წლის       27792\n",
       "7            რა       27336\n",
       "8            მე       25129\n",
       "9          მისი       22438\n",
       "10         ერთი       22021\n",
       "11        ახალი       16419\n",
       "12         დიდი       16315\n",
       "13          ერთ       16147\n",
       "14            ს       15987\n",
       "15         სხვა       15841\n",
       "16          მათ       15575\n",
       "17       ძალიან       15273\n",
       "18          მას       14974\n",
       "19           იმ       14388"
      ]
     },
     "execution_count": 17,
     "metadata": {},
     "output_type": "execute_result"
    }
   ],
   "source": [
    "STOPWORDS =  list(pd.read_csv(\"https://raw.githubusercontent.com/rudolferemyan/georgian_nlp/master/stop_words/GEORGIAN_STOP_WORDS_LIST.txt\", header=None, nrows = 224)[0])\n",
    "STOPWORDS += ['#', '##', '###', '####']\n",
    "\n",
    "def generate_1_grams(text):\n",
    "    return [token for token in text.lower().split() if token not in STOPWORDS ] \n",
    "\n",
    "freq_dict = defaultdict(int)\n",
    "for sent in data_df[\"sentence\"]:\n",
    "    for word in generate_1_grams(sent):\n",
    "        freq_dict[word] += 1\n",
    "\n",
    "fd_sorted = pd.DataFrame(sorted(freq_dict.items(), key=lambda x: x[1])[::-1])\n",
    "fd_sorted.columns = [\"Word\", \"Word Count\"]\n",
    "fd_sorted.head(20)        "
   ]
  }
 ],
 "metadata": {
  "kernelspec": {
   "display_name": "Python 3 (ipykernel)",
   "language": "python",
   "name": "python3"
  },
  "language_info": {
   "codemirror_mode": {
    "name": "ipython",
    "version": 3
   },
   "file_extension": ".py",
   "mimetype": "text/x-python",
   "name": "python",
   "nbconvert_exporter": "python",
   "pygments_lexer": "ipython3",
   "version": "3.9.7"
  }
 },
 "nbformat": 4,
 "nbformat_minor": 5
}
